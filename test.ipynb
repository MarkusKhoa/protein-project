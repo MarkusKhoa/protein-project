{
 "cells": [
  {
   "cell_type": "code",
   "execution_count": 1,
   "metadata": {},
   "outputs": [],
   "source": [
    "import requests\n",
    "from selenium import webdriver\n",
    "from selenium.webdriver.chrome.service import Service\n",
    "from selenium.webdriver.chrome.options import Options\n",
    "from webdriver_manager.chrome import ChromeDriverManager\n",
    "from selenium.webdriver.common.by import By\n",
    "from selenium.webdriver.support.ui import WebDriverWait\n",
    "from selenium.webdriver.support import expected_conditions as EC"
   ]
  },
  {
   "cell_type": "code",
   "execution_count": null,
   "metadata": {},
   "outputs": [],
   "source": [
    "\n",
    "options = Options()\n",
    "options.add_argument(\"--headless\")\n",
    "driver = webdriver.Chrome(service=Service(ChromeDriverManager().install()), options=options)"
   ]
  },
  {
   "cell_type": "code",
   "execution_count": 3,
   "metadata": {},
   "outputs": [],
   "source": [
    "prot_id = \"Q3F0V8\"\n",
    "info_prot_url = f\"https://www.uniprot.org/uniprotkb/{prot_id}/entry#sequences\"\n",
    "\n",
    "response = requests.get(info_prot_url)"
   ]
  },
  {
   "cell_type": "code",
   "execution_count": 4,
   "metadata": {},
   "outputs": [
    {
     "name": "stdout",
     "output_type": "stream",
     "text": [
      "200\n"
     ]
    }
   ],
   "source": [
    "print(response.status_code)"
   ]
  },
  {
   "cell_type": "code",
   "execution_count": 7,
   "metadata": {},
   "outputs": [
    {
     "name": "stdout",
     "output_type": "stream",
     "text": [
      "Current URL: https://www.uniprot.org/uniprotkb/Q3F0V8/history\n",
      "This entry sequence is no longer annotated in UniProtKB\n",
      "No need to click the button 'Show sequence' \n"
     ]
    }
   ],
   "source": [
    "initial_url = info_prot_url\n",
    "driver.get(info_prot_url)\n",
    "driver.implicitly_wait(1)\n",
    "WebDriverWait(driver, 3).until(\n",
    "            lambda d: d.execute_script('return document.readyState') == 'complete'\n",
    "        )\n",
    "current_url = driver.current_url\n",
    "print(f\"Current URL: {current_url}\")\n",
    "if current_url != initial_url:\n",
    "    print(f\"This entry sequence is no longer annotated in UniProtKB\")\n",
    "try:\n",
    "    button = WebDriverWait(driver, 3).until(\n",
    "    EC.element_to_be_clickable((By.XPATH, \"//button[contains(text(), 'Show sequence')]\")))\n",
    "    button.click()\n",
    "except:\n",
    "    print(f\"No need to click the button 'Show sequence' \")\n",
    "\n",
    "driver.implicitly_wait(0.5)\n",
    "sequence_chunks = driver.find_elements(By.CLASS_NAME, \"sequence__chunk\")\n",
    "final_sequence = \"\".join(chunk.text for chunk in sequence_chunks)"
   ]
  },
  {
   "cell_type": "code",
   "execution_count": 6,
   "metadata": {},
   "outputs": [
    {
     "name": "stdout",
     "output_type": "stream",
     "text": [
      "\n"
     ]
    }
   ],
   "source": [
    "print(final_sequence)"
   ]
  },
  {
   "cell_type": "code",
   "execution_count": null,
   "metadata": {},
   "outputs": [],
   "source": []
  }
 ],
 "metadata": {
  "kernelspec": {
   "display_name": "protein-embed",
   "language": "python",
   "name": "python3"
  },
  "language_info": {
   "codemirror_mode": {
    "name": "ipython",
    "version": 3
   },
   "file_extension": ".py",
   "mimetype": "text/x-python",
   "name": "python",
   "nbconvert_exporter": "python",
   "pygments_lexer": "ipython3",
   "version": "3.9.21"
  }
 },
 "nbformat": 4,
 "nbformat_minor": 2
}
