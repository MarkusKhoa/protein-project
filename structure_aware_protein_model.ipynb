{
  "nbformat": 4,
  "nbformat_minor": 0,
  "metadata": {
    "colab": {
      "provenance": [],
      "machine_shape": "hm",
      "gpuType": "L4"
    },
    "kernelspec": {
      "name": "python3",
      "display_name": "Python 3"
    },
    "language_info": {
      "name": "python"
    },
    "accelerator": "GPU"
  },
  "cells": [
    {
      "cell_type": "code",
      "execution_count": 1,
      "metadata": {
        "colab": {
          "base_uri": "https://localhost:8080/"
        },
        "id": "LpevWvg0yTcU",
        "outputId": "f72bb9d7-a3c1-496f-8070-5ff200c41ce0"
      },
      "outputs": [
        {
          "output_type": "stream",
          "name": "stdout",
          "text": [
            "Drive already mounted at /content/drive; to attempt to forcibly remount, call drive.mount(\"/content/drive\", force_remount=True).\n"
          ]
        }
      ],
      "source": [
        "from google.colab import drive\n",
        "drive.mount(\"/content/drive\")"
      ]
    },
    {
      "cell_type": "code",
      "source": [
        "%pip install -r \"/content/drive/MyDrive/Protein-binding/requirements.txt\"\n",
        "%pip install datasets mdtraj dssp\n",
        "%pip install numpy --no-cache-dir\n",
        "%pip install pandas --no-cache-dir"
      ],
      "metadata": {
        "colab": {
          "base_uri": "https://localhost:8080/"
        },
        "id": "LprvaujJyYDK",
        "outputId": "d157db24-5be0-4ca8-d250-6cfa2f98a97d"
      },
      "execution_count": 2,
      "outputs": [
        {
          "output_type": "stream",
          "name": "stdout",
          "text": [
            "Requirement already satisfied: black in /usr/local/lib/python3.11/dist-packages (from -r /content/drive/MyDrive/Protein-binding/requirements.txt (line 1)) (25.1.0)\n",
            "Requirement already satisfied: flake8 in /usr/local/lib/python3.11/dist-packages (from -r /content/drive/MyDrive/Protein-binding/requirements.txt (line 2)) (7.2.0)\n",
            "Requirement already satisfied: pandas in /usr/local/lib/python3.11/dist-packages (from -r /content/drive/MyDrive/Protein-binding/requirements.txt (line 3)) (2.2.2)\n",
            "Requirement already satisfied: biopython in /usr/local/lib/python3.11/dist-packages (from -r /content/drive/MyDrive/Protein-binding/requirements.txt (line 4)) (1.85)\n",
            "Requirement already satisfied: scikit-learn in /usr/local/lib/python3.11/dist-packages (from -r /content/drive/MyDrive/Protein-binding/requirements.txt (line 5)) (1.6.1)\n",
            "Requirement already satisfied: torch in /usr/local/lib/python3.11/dist-packages (from -r /content/drive/MyDrive/Protein-binding/requirements.txt (line 6)) (2.6.0+cu124)\n",
            "Requirement already satisfied: torchtext in /usr/local/lib/python3.11/dist-packages (from -r /content/drive/MyDrive/Protein-binding/requirements.txt (line 7)) (0.18.0)\n",
            "Requirement already satisfied: seaborn in /usr/local/lib/python3.11/dist-packages (from -r /content/drive/MyDrive/Protein-binding/requirements.txt (line 8)) (0.13.2)\n",
            "Requirement already satisfied: fastparquet in /usr/local/lib/python3.11/dist-packages (from -r /content/drive/MyDrive/Protein-binding/requirements.txt (line 9)) (2024.11.0)\n",
            "Requirement already satisfied: numpy in /usr/local/lib/python3.11/dist-packages (from -r /content/drive/MyDrive/Protein-binding/requirements.txt (line 10)) (1.26.4)\n",
            "Requirement already satisfied: selenium in /usr/local/lib/python3.11/dist-packages (from -r /content/drive/MyDrive/Protein-binding/requirements.txt (line 11)) (4.31.0)\n",
            "Requirement already satisfied: loguru in /usr/local/lib/python3.11/dist-packages (from -r /content/drive/MyDrive/Protein-binding/requirements.txt (line 12)) (0.7.3)\n",
            "Requirement already satisfied: tf-keras in /usr/local/lib/python3.11/dist-packages (from -r /content/drive/MyDrive/Protein-binding/requirements.txt (line 13)) (2.18.0)\n",
            "Requirement already satisfied: accelerate>0.26.0 in /usr/local/lib/python3.11/dist-packages (from -r /content/drive/MyDrive/Protein-binding/requirements.txt (line 14)) (1.5.2)\n",
            "Requirement already satisfied: datasets in /usr/local/lib/python3.11/dist-packages (from -r /content/drive/MyDrive/Protein-binding/requirements.txt (line 15)) (3.5.0)\n",
            "Requirement already satisfied: transformers in /usr/local/lib/python3.11/dist-packages (from -r /content/drive/MyDrive/Protein-binding/requirements.txt (line 16)) (4.48.1)\n",
            "Requirement already satisfied: torch-geometric in /usr/local/lib/python3.11/dist-packages (from -r /content/drive/MyDrive/Protein-binding/requirements.txt (line 17)) (2.6.1)\n",
            "Requirement already satisfied: mdtraj in /usr/local/lib/python3.11/dist-packages (from -r /content/drive/MyDrive/Protein-binding/requirements.txt (line 18)) (1.10.3)\n",
            "Requirement already satisfied: esm in /usr/local/lib/python3.11/dist-packages (from -r /content/drive/MyDrive/Protein-binding/requirements.txt (line 19)) (3.1.6)\n",
            "Requirement already satisfied: click>=8.0.0 in /usr/local/lib/python3.11/dist-packages (from black->-r /content/drive/MyDrive/Protein-binding/requirements.txt (line 1)) (8.1.8)\n",
            "Requirement already satisfied: mypy-extensions>=0.4.3 in /usr/local/lib/python3.11/dist-packages (from black->-r /content/drive/MyDrive/Protein-binding/requirements.txt (line 1)) (1.0.0)\n",
            "Requirement already satisfied: packaging>=22.0 in /usr/local/lib/python3.11/dist-packages (from black->-r /content/drive/MyDrive/Protein-binding/requirements.txt (line 1)) (24.2)\n",
            "Requirement already satisfied: pathspec>=0.9.0 in /usr/local/lib/python3.11/dist-packages (from black->-r /content/drive/MyDrive/Protein-binding/requirements.txt (line 1)) (0.12.1)\n",
            "Requirement already satisfied: platformdirs>=2 in /usr/local/lib/python3.11/dist-packages (from black->-r /content/drive/MyDrive/Protein-binding/requirements.txt (line 1)) (4.3.7)\n",
            "Requirement already satisfied: mccabe<0.8.0,>=0.7.0 in /usr/local/lib/python3.11/dist-packages (from flake8->-r /content/drive/MyDrive/Protein-binding/requirements.txt (line 2)) (0.7.0)\n",
            "Requirement already satisfied: pycodestyle<2.14.0,>=2.13.0 in /usr/local/lib/python3.11/dist-packages (from flake8->-r /content/drive/MyDrive/Protein-binding/requirements.txt (line 2)) (2.13.0)\n",
            "Requirement already satisfied: pyflakes<3.4.0,>=3.3.0 in /usr/local/lib/python3.11/dist-packages (from flake8->-r /content/drive/MyDrive/Protein-binding/requirements.txt (line 2)) (3.3.2)\n",
            "Requirement already satisfied: python-dateutil>=2.8.2 in /usr/local/lib/python3.11/dist-packages (from pandas->-r /content/drive/MyDrive/Protein-binding/requirements.txt (line 3)) (2.8.2)\n",
            "Requirement already satisfied: pytz>=2020.1 in /usr/local/lib/python3.11/dist-packages (from pandas->-r /content/drive/MyDrive/Protein-binding/requirements.txt (line 3)) (2025.2)\n",
            "Requirement already satisfied: tzdata>=2022.7 in /usr/local/lib/python3.11/dist-packages (from pandas->-r /content/drive/MyDrive/Protein-binding/requirements.txt (line 3)) (2025.2)\n",
            "Requirement already satisfied: scipy>=1.6.0 in /usr/local/lib/python3.11/dist-packages (from scikit-learn->-r /content/drive/MyDrive/Protein-binding/requirements.txt (line 5)) (1.14.1)\n",
            "Requirement already satisfied: joblib>=1.2.0 in /usr/local/lib/python3.11/dist-packages (from scikit-learn->-r /content/drive/MyDrive/Protein-binding/requirements.txt (line 5)) (1.4.2)\n",
            "Requirement already satisfied: threadpoolctl>=3.1.0 in /usr/local/lib/python3.11/dist-packages (from scikit-learn->-r /content/drive/MyDrive/Protein-binding/requirements.txt (line 5)) (3.6.0)\n",
            "Requirement already satisfied: filelock in /usr/local/lib/python3.11/dist-packages (from torch->-r /content/drive/MyDrive/Protein-binding/requirements.txt (line 6)) (3.18.0)\n",
            "Requirement already satisfied: typing-extensions>=4.10.0 in /usr/local/lib/python3.11/dist-packages (from torch->-r /content/drive/MyDrive/Protein-binding/requirements.txt (line 6)) (4.13.1)\n",
            "Requirement already satisfied: networkx in /usr/local/lib/python3.11/dist-packages (from torch->-r /content/drive/MyDrive/Protein-binding/requirements.txt (line 6)) (3.4.2)\n",
            "Requirement already satisfied: jinja2 in /usr/local/lib/python3.11/dist-packages (from torch->-r /content/drive/MyDrive/Protein-binding/requirements.txt (line 6)) (3.1.6)\n",
            "Requirement already satisfied: fsspec in /usr/local/lib/python3.11/dist-packages (from torch->-r /content/drive/MyDrive/Protein-binding/requirements.txt (line 6)) (2024.12.0)\n",
            "Requirement already satisfied: nvidia-cuda-nvrtc-cu12==12.4.127 in /usr/local/lib/python3.11/dist-packages (from torch->-r /content/drive/MyDrive/Protein-binding/requirements.txt (line 6)) (12.4.127)\n",
            "Requirement already satisfied: nvidia-cuda-runtime-cu12==12.4.127 in /usr/local/lib/python3.11/dist-packages (from torch->-r /content/drive/MyDrive/Protein-binding/requirements.txt (line 6)) (12.4.127)\n",
            "Requirement already satisfied: nvidia-cuda-cupti-cu12==12.4.127 in /usr/local/lib/python3.11/dist-packages (from torch->-r /content/drive/MyDrive/Protein-binding/requirements.txt (line 6)) (12.4.127)\n",
            "Requirement already satisfied: nvidia-cudnn-cu12==9.1.0.70 in /usr/local/lib/python3.11/dist-packages (from torch->-r /content/drive/MyDrive/Protein-binding/requirements.txt (line 6)) (9.1.0.70)\n",
            "Requirement already satisfied: nvidia-cublas-cu12==12.4.5.8 in /usr/local/lib/python3.11/dist-packages (from torch->-r /content/drive/MyDrive/Protein-binding/requirements.txt (line 6)) (12.4.5.8)\n",
            "Requirement already satisfied: nvidia-cufft-cu12==11.2.1.3 in /usr/local/lib/python3.11/dist-packages (from torch->-r /content/drive/MyDrive/Protein-binding/requirements.txt (line 6)) (11.2.1.3)\n",
            "Requirement already satisfied: nvidia-curand-cu12==10.3.5.147 in /usr/local/lib/python3.11/dist-packages (from torch->-r /content/drive/MyDrive/Protein-binding/requirements.txt (line 6)) (10.3.5.147)\n",
            "Requirement already satisfied: nvidia-cusolver-cu12==11.6.1.9 in /usr/local/lib/python3.11/dist-packages (from torch->-r /content/drive/MyDrive/Protein-binding/requirements.txt (line 6)) (11.6.1.9)\n",
            "Requirement already satisfied: nvidia-cusparse-cu12==12.3.1.170 in /usr/local/lib/python3.11/dist-packages (from torch->-r /content/drive/MyDrive/Protein-binding/requirements.txt (line 6)) (12.3.1.170)\n",
            "Requirement already satisfied: nvidia-cusparselt-cu12==0.6.2 in /usr/local/lib/python3.11/dist-packages (from torch->-r /content/drive/MyDrive/Protein-binding/requirements.txt (line 6)) (0.6.2)\n",
            "Requirement already satisfied: nvidia-nccl-cu12==2.21.5 in /usr/local/lib/python3.11/dist-packages (from torch->-r /content/drive/MyDrive/Protein-binding/requirements.txt (line 6)) (2.21.5)\n",
            "Requirement already satisfied: nvidia-nvtx-cu12==12.4.127 in /usr/local/lib/python3.11/dist-packages (from torch->-r /content/drive/MyDrive/Protein-binding/requirements.txt (line 6)) (12.4.127)\n",
            "Requirement already satisfied: nvidia-nvjitlink-cu12==12.4.127 in /usr/local/lib/python3.11/dist-packages (from torch->-r /content/drive/MyDrive/Protein-binding/requirements.txt (line 6)) (12.4.127)\n",
            "Requirement already satisfied: triton==3.2.0 in /usr/local/lib/python3.11/dist-packages (from torch->-r /content/drive/MyDrive/Protein-binding/requirements.txt (line 6)) (3.2.0)\n",
            "Requirement already satisfied: sympy==1.13.1 in /usr/local/lib/python3.11/dist-packages (from torch->-r /content/drive/MyDrive/Protein-binding/requirements.txt (line 6)) (1.13.1)\n",
            "Requirement already satisfied: mpmath<1.4,>=1.1.0 in /usr/local/lib/python3.11/dist-packages (from sympy==1.13.1->torch->-r /content/drive/MyDrive/Protein-binding/requirements.txt (line 6)) (1.3.0)\n",
            "Requirement already satisfied: tqdm in /usr/local/lib/python3.11/dist-packages (from torchtext->-r /content/drive/MyDrive/Protein-binding/requirements.txt (line 7)) (4.67.1)\n",
            "Requirement already satisfied: requests in /usr/local/lib/python3.11/dist-packages (from torchtext->-r /content/drive/MyDrive/Protein-binding/requirements.txt (line 7)) (2.32.3)\n",
            "Requirement already satisfied: matplotlib!=3.6.1,>=3.4 in /usr/local/lib/python3.11/dist-packages (from seaborn->-r /content/drive/MyDrive/Protein-binding/requirements.txt (line 8)) (3.10.0)\n",
            "Requirement already satisfied: cramjam>=2.3 in /usr/local/lib/python3.11/dist-packages (from fastparquet->-r /content/drive/MyDrive/Protein-binding/requirements.txt (line 9)) (2.9.1)\n",
            "Requirement already satisfied: urllib3<3,>=1.26 in /usr/local/lib/python3.11/dist-packages (from urllib3[socks]<3,>=1.26->selenium->-r /content/drive/MyDrive/Protein-binding/requirements.txt (line 11)) (2.3.0)\n",
            "Requirement already satisfied: trio~=0.17 in /usr/local/lib/python3.11/dist-packages (from selenium->-r /content/drive/MyDrive/Protein-binding/requirements.txt (line 11)) (0.29.0)\n",
            "Requirement already satisfied: trio-websocket~=0.9 in /usr/local/lib/python3.11/dist-packages (from selenium->-r /content/drive/MyDrive/Protein-binding/requirements.txt (line 11)) (0.12.2)\n",
            "Requirement already satisfied: certifi>=2021.10.8 in /usr/local/lib/python3.11/dist-packages (from selenium->-r /content/drive/MyDrive/Protein-binding/requirements.txt (line 11)) (2025.1.31)\n",
            "Requirement already satisfied: websocket-client~=1.8 in /usr/local/lib/python3.11/dist-packages (from selenium->-r /content/drive/MyDrive/Protein-binding/requirements.txt (line 11)) (1.8.0)\n",
            "Requirement already satisfied: tensorflow<2.19,>=2.18 in /usr/local/lib/python3.11/dist-packages (from tf-keras->-r /content/drive/MyDrive/Protein-binding/requirements.txt (line 13)) (2.18.0)\n",
            "Requirement already satisfied: psutil in /usr/local/lib/python3.11/dist-packages (from accelerate>0.26.0->-r /content/drive/MyDrive/Protein-binding/requirements.txt (line 14)) (5.9.5)\n",
            "Requirement already satisfied: pyyaml in /usr/local/lib/python3.11/dist-packages (from accelerate>0.26.0->-r /content/drive/MyDrive/Protein-binding/requirements.txt (line 14)) (6.0.2)\n",
            "Requirement already satisfied: huggingface-hub>=0.21.0 in /usr/local/lib/python3.11/dist-packages (from accelerate>0.26.0->-r /content/drive/MyDrive/Protein-binding/requirements.txt (line 14)) (0.30.1)\n",
            "Requirement already satisfied: safetensors>=0.4.3 in /usr/local/lib/python3.11/dist-packages (from accelerate>0.26.0->-r /content/drive/MyDrive/Protein-binding/requirements.txt (line 14)) (0.5.3)\n",
            "Requirement already satisfied: pyarrow>=15.0.0 in /usr/local/lib/python3.11/dist-packages (from datasets->-r /content/drive/MyDrive/Protein-binding/requirements.txt (line 15)) (18.1.0)\n",
            "Requirement already satisfied: dill<0.3.9,>=0.3.0 in /usr/local/lib/python3.11/dist-packages (from datasets->-r /content/drive/MyDrive/Protein-binding/requirements.txt (line 15)) (0.3.8)\n",
            "Requirement already satisfied: xxhash in /usr/local/lib/python3.11/dist-packages (from datasets->-r /content/drive/MyDrive/Protein-binding/requirements.txt (line 15)) (3.5.0)\n",
            "Requirement already satisfied: multiprocess<0.70.17 in /usr/local/lib/python3.11/dist-packages (from datasets->-r /content/drive/MyDrive/Protein-binding/requirements.txt (line 15)) (0.70.16)\n",
            "Requirement already satisfied: aiohttp in /usr/local/lib/python3.11/dist-packages (from datasets->-r /content/drive/MyDrive/Protein-binding/requirements.txt (line 15)) (3.11.15)\n",
            "Requirement already satisfied: regex!=2019.12.17 in /usr/local/lib/python3.11/dist-packages (from transformers->-r /content/drive/MyDrive/Protein-binding/requirements.txt (line 16)) (2024.11.6)\n",
            "Requirement already satisfied: tokenizers<0.22,>=0.21 in /usr/local/lib/python3.11/dist-packages (from transformers->-r /content/drive/MyDrive/Protein-binding/requirements.txt (line 16)) (0.21.1)\n",
            "Requirement already satisfied: pyparsing in /usr/local/lib/python3.11/dist-packages (from torch-geometric->-r /content/drive/MyDrive/Protein-binding/requirements.txt (line 17)) (3.2.3)\n",
            "Requirement already satisfied: netCDF4 in /usr/local/lib/python3.11/dist-packages (from mdtraj->-r /content/drive/MyDrive/Protein-binding/requirements.txt (line 18)) (1.7.2)\n",
            "Requirement already satisfied: torchvision in /usr/local/lib/python3.11/dist-packages (from esm->-r /content/drive/MyDrive/Protein-binding/requirements.txt (line 19)) (0.21.0+cu124)\n",
            "Requirement already satisfied: ipython in /usr/local/lib/python3.11/dist-packages (from esm->-r /content/drive/MyDrive/Protein-binding/requirements.txt (line 19)) (7.34.0)\n",
            "Requirement already satisfied: einops in /usr/local/lib/python3.11/dist-packages (from esm->-r /content/drive/MyDrive/Protein-binding/requirements.txt (line 19)) (0.8.1)\n",
            "Requirement already satisfied: biotite==0.41.2 in /usr/local/lib/python3.11/dist-packages (from esm->-r /content/drive/MyDrive/Protein-binding/requirements.txt (line 19)) (0.41.2)\n",
            "Requirement already satisfied: msgpack-numpy in /usr/local/lib/python3.11/dist-packages (from esm->-r /content/drive/MyDrive/Protein-binding/requirements.txt (line 19)) (0.4.8)\n",
            "Requirement already satisfied: brotli in /usr/local/lib/python3.11/dist-packages (from esm->-r /content/drive/MyDrive/Protein-binding/requirements.txt (line 19)) (1.1.0)\n",
            "Requirement already satisfied: attrs in /usr/local/lib/python3.11/dist-packages (from esm->-r /content/drive/MyDrive/Protein-binding/requirements.txt (line 19)) (25.3.0)\n",
            "Requirement already satisfied: cloudpathlib in /usr/local/lib/python3.11/dist-packages (from esm->-r /content/drive/MyDrive/Protein-binding/requirements.txt (line 19)) (0.21.0)\n",
            "Requirement already satisfied: tenacity in /usr/local/lib/python3.11/dist-packages (from esm->-r /content/drive/MyDrive/Protein-binding/requirements.txt (line 19)) (9.1.2)\n",
            "Requirement already satisfied: zstd in /usr/local/lib/python3.11/dist-packages (from esm->-r /content/drive/MyDrive/Protein-binding/requirements.txt (line 19)) (1.5.6.7)\n",
            "Requirement already satisfied: msgpack>=0.5.6 in /usr/local/lib/python3.11/dist-packages (from biotite==0.41.2->esm->-r /content/drive/MyDrive/Protein-binding/requirements.txt (line 19)) (1.1.0)\n",
            "Requirement already satisfied: aiohappyeyeballs>=2.3.0 in /usr/local/lib/python3.11/dist-packages (from aiohttp->datasets->-r /content/drive/MyDrive/Protein-binding/requirements.txt (line 15)) (2.6.1)\n",
            "Requirement already satisfied: aiosignal>=1.1.2 in /usr/local/lib/python3.11/dist-packages (from aiohttp->datasets->-r /content/drive/MyDrive/Protein-binding/requirements.txt (line 15)) (1.3.2)\n",
            "Requirement already satisfied: frozenlist>=1.1.1 in /usr/local/lib/python3.11/dist-packages (from aiohttp->datasets->-r /content/drive/MyDrive/Protein-binding/requirements.txt (line 15)) (1.5.0)\n",
            "Requirement already satisfied: multidict<7.0,>=4.5 in /usr/local/lib/python3.11/dist-packages (from aiohttp->datasets->-r /content/drive/MyDrive/Protein-binding/requirements.txt (line 15)) (6.3.2)\n",
            "Requirement already satisfied: propcache>=0.2.0 in /usr/local/lib/python3.11/dist-packages (from aiohttp->datasets->-r /content/drive/MyDrive/Protein-binding/requirements.txt (line 15)) (0.3.1)\n",
            "Requirement already satisfied: yarl<2.0,>=1.17.0 in /usr/local/lib/python3.11/dist-packages (from aiohttp->datasets->-r /content/drive/MyDrive/Protein-binding/requirements.txt (line 15)) (1.18.3)\n",
            "Requirement already satisfied: contourpy>=1.0.1 in /usr/local/lib/python3.11/dist-packages (from matplotlib!=3.6.1,>=3.4->seaborn->-r /content/drive/MyDrive/Protein-binding/requirements.txt (line 8)) (1.3.1)\n",
            "Requirement already satisfied: cycler>=0.10 in /usr/local/lib/python3.11/dist-packages (from matplotlib!=3.6.1,>=3.4->seaborn->-r /content/drive/MyDrive/Protein-binding/requirements.txt (line 8)) (0.12.1)\n",
            "Requirement already satisfied: fonttools>=4.22.0 in /usr/local/lib/python3.11/dist-packages (from matplotlib!=3.6.1,>=3.4->seaborn->-r /content/drive/MyDrive/Protein-binding/requirements.txt (line 8)) (4.57.0)\n",
            "Requirement already satisfied: kiwisolver>=1.3.1 in /usr/local/lib/python3.11/dist-packages (from matplotlib!=3.6.1,>=3.4->seaborn->-r /content/drive/MyDrive/Protein-binding/requirements.txt (line 8)) (1.4.8)\n",
            "Requirement already satisfied: pillow>=8 in /usr/local/lib/python3.11/dist-packages (from matplotlib!=3.6.1,>=3.4->seaborn->-r /content/drive/MyDrive/Protein-binding/requirements.txt (line 8)) (11.1.0)\n",
            "Requirement already satisfied: six>=1.5 in /usr/local/lib/python3.11/dist-packages (from python-dateutil>=2.8.2->pandas->-r /content/drive/MyDrive/Protein-binding/requirements.txt (line 3)) (1.17.0)\n",
            "Requirement already satisfied: charset-normalizer<4,>=2 in /usr/local/lib/python3.11/dist-packages (from requests->torchtext->-r /content/drive/MyDrive/Protein-binding/requirements.txt (line 7)) (3.4.1)\n",
            "Requirement already satisfied: idna<4,>=2.5 in /usr/local/lib/python3.11/dist-packages (from requests->torchtext->-r /content/drive/MyDrive/Protein-binding/requirements.txt (line 7)) (3.10)\n",
            "Requirement already satisfied: absl-py>=1.0.0 in /usr/local/lib/python3.11/dist-packages (from tensorflow<2.19,>=2.18->tf-keras->-r /content/drive/MyDrive/Protein-binding/requirements.txt (line 13)) (1.4.0)\n",
            "Requirement already satisfied: astunparse>=1.6.0 in /usr/local/lib/python3.11/dist-packages (from tensorflow<2.19,>=2.18->tf-keras->-r /content/drive/MyDrive/Protein-binding/requirements.txt (line 13)) (1.6.3)\n",
            "Requirement already satisfied: flatbuffers>=24.3.25 in /usr/local/lib/python3.11/dist-packages (from tensorflow<2.19,>=2.18->tf-keras->-r /content/drive/MyDrive/Protein-binding/requirements.txt (line 13)) (25.2.10)\n",
            "Requirement already satisfied: gast!=0.5.0,!=0.5.1,!=0.5.2,>=0.2.1 in /usr/local/lib/python3.11/dist-packages (from tensorflow<2.19,>=2.18->tf-keras->-r /content/drive/MyDrive/Protein-binding/requirements.txt (line 13)) (0.6.0)\n",
            "Requirement already satisfied: google-pasta>=0.1.1 in /usr/local/lib/python3.11/dist-packages (from tensorflow<2.19,>=2.18->tf-keras->-r /content/drive/MyDrive/Protein-binding/requirements.txt (line 13)) (0.2.0)\n",
            "Requirement already satisfied: libclang>=13.0.0 in /usr/local/lib/python3.11/dist-packages (from tensorflow<2.19,>=2.18->tf-keras->-r /content/drive/MyDrive/Protein-binding/requirements.txt (line 13)) (18.1.1)\n",
            "Requirement already satisfied: opt-einsum>=2.3.2 in /usr/local/lib/python3.11/dist-packages (from tensorflow<2.19,>=2.18->tf-keras->-r /content/drive/MyDrive/Protein-binding/requirements.txt (line 13)) (3.4.0)\n",
            "Requirement already satisfied: protobuf!=4.21.0,!=4.21.1,!=4.21.2,!=4.21.3,!=4.21.4,!=4.21.5,<6.0.0dev,>=3.20.3 in /usr/local/lib/python3.11/dist-packages (from tensorflow<2.19,>=2.18->tf-keras->-r /content/drive/MyDrive/Protein-binding/requirements.txt (line 13)) (5.29.4)\n",
            "Requirement already satisfied: setuptools in /usr/local/lib/python3.11/dist-packages (from tensorflow<2.19,>=2.18->tf-keras->-r /content/drive/MyDrive/Protein-binding/requirements.txt (line 13)) (75.2.0)\n",
            "Requirement already satisfied: termcolor>=1.1.0 in /usr/local/lib/python3.11/dist-packages (from tensorflow<2.19,>=2.18->tf-keras->-r /content/drive/MyDrive/Protein-binding/requirements.txt (line 13)) (3.0.1)\n",
            "Requirement already satisfied: wrapt>=1.11.0 in /usr/local/lib/python3.11/dist-packages (from tensorflow<2.19,>=2.18->tf-keras->-r /content/drive/MyDrive/Protein-binding/requirements.txt (line 13)) (1.17.2)\n",
            "Requirement already satisfied: grpcio<2.0,>=1.24.3 in /usr/local/lib/python3.11/dist-packages (from tensorflow<2.19,>=2.18->tf-keras->-r /content/drive/MyDrive/Protein-binding/requirements.txt (line 13)) (1.71.0)\n",
            "Requirement already satisfied: tensorboard<2.19,>=2.18 in /usr/local/lib/python3.11/dist-packages (from tensorflow<2.19,>=2.18->tf-keras->-r /content/drive/MyDrive/Protein-binding/requirements.txt (line 13)) (2.18.0)\n",
            "Requirement already satisfied: keras>=3.5.0 in /usr/local/lib/python3.11/dist-packages (from tensorflow<2.19,>=2.18->tf-keras->-r /content/drive/MyDrive/Protein-binding/requirements.txt (line 13)) (3.8.0)\n",
            "Requirement already satisfied: h5py>=3.11.0 in /usr/local/lib/python3.11/dist-packages (from tensorflow<2.19,>=2.18->tf-keras->-r /content/drive/MyDrive/Protein-binding/requirements.txt (line 13)) (3.13.0)\n",
            "Requirement already satisfied: ml-dtypes<0.5.0,>=0.4.0 in /usr/local/lib/python3.11/dist-packages (from tensorflow<2.19,>=2.18->tf-keras->-r /content/drive/MyDrive/Protein-binding/requirements.txt (line 13)) (0.4.1)\n",
            "Requirement already satisfied: tensorflow-io-gcs-filesystem>=0.23.1 in /usr/local/lib/python3.11/dist-packages (from tensorflow<2.19,>=2.18->tf-keras->-r /content/drive/MyDrive/Protein-binding/requirements.txt (line 13)) (0.37.1)\n",
            "Requirement already satisfied: sortedcontainers in /usr/local/lib/python3.11/dist-packages (from trio~=0.17->selenium->-r /content/drive/MyDrive/Protein-binding/requirements.txt (line 11)) (2.4.0)\n",
            "Requirement already satisfied: outcome in /usr/local/lib/python3.11/dist-packages (from trio~=0.17->selenium->-r /content/drive/MyDrive/Protein-binding/requirements.txt (line 11)) (1.3.0.post0)\n",
            "Requirement already satisfied: sniffio>=1.3.0 in /usr/local/lib/python3.11/dist-packages (from trio~=0.17->selenium->-r /content/drive/MyDrive/Protein-binding/requirements.txt (line 11)) (1.3.1)\n",
            "Requirement already satisfied: wsproto>=0.14 in /usr/local/lib/python3.11/dist-packages (from trio-websocket~=0.9->selenium->-r /content/drive/MyDrive/Protein-binding/requirements.txt (line 11)) (1.2.0)\n",
            "Requirement already satisfied: pysocks!=1.5.7,<2.0,>=1.5.6 in /usr/local/lib/python3.11/dist-packages (from urllib3[socks]<3,>=1.26->selenium->-r /content/drive/MyDrive/Protein-binding/requirements.txt (line 11)) (1.7.1)\n",
            "Requirement already satisfied: jedi>=0.16 in /usr/local/lib/python3.11/dist-packages (from ipython->esm->-r /content/drive/MyDrive/Protein-binding/requirements.txt (line 19)) (0.19.2)\n",
            "Requirement already satisfied: decorator in /usr/local/lib/python3.11/dist-packages (from ipython->esm->-r /content/drive/MyDrive/Protein-binding/requirements.txt (line 19)) (4.4.2)\n",
            "Requirement already satisfied: pickleshare in /usr/local/lib/python3.11/dist-packages (from ipython->esm->-r /content/drive/MyDrive/Protein-binding/requirements.txt (line 19)) (0.7.5)\n",
            "Requirement already satisfied: traitlets>=4.2 in /usr/local/lib/python3.11/dist-packages (from ipython->esm->-r /content/drive/MyDrive/Protein-binding/requirements.txt (line 19)) (5.7.1)\n",
            "Requirement already satisfied: prompt-toolkit!=3.0.0,!=3.0.1,<3.1.0,>=2.0.0 in /usr/local/lib/python3.11/dist-packages (from ipython->esm->-r /content/drive/MyDrive/Protein-binding/requirements.txt (line 19)) (3.0.50)\n",
            "Requirement already satisfied: pygments in /usr/local/lib/python3.11/dist-packages (from ipython->esm->-r /content/drive/MyDrive/Protein-binding/requirements.txt (line 19)) (2.18.0)\n",
            "Requirement already satisfied: backcall in /usr/local/lib/python3.11/dist-packages (from ipython->esm->-r /content/drive/MyDrive/Protein-binding/requirements.txt (line 19)) (0.2.0)\n",
            "Requirement already satisfied: matplotlib-inline in /usr/local/lib/python3.11/dist-packages (from ipython->esm->-r /content/drive/MyDrive/Protein-binding/requirements.txt (line 19)) (0.1.7)\n",
            "Requirement already satisfied: pexpect>4.3 in /usr/local/lib/python3.11/dist-packages (from ipython->esm->-r /content/drive/MyDrive/Protein-binding/requirements.txt (line 19)) (4.9.0)\n",
            "Requirement already satisfied: MarkupSafe>=2.0 in /usr/local/lib/python3.11/dist-packages (from jinja2->torch->-r /content/drive/MyDrive/Protein-binding/requirements.txt (line 6)) (3.0.2)\n",
            "Requirement already satisfied: cftime in /usr/local/lib/python3.11/dist-packages (from netCDF4->mdtraj->-r /content/drive/MyDrive/Protein-binding/requirements.txt (line 18)) (1.6.4.post1)\n",
            "Requirement already satisfied: wheel<1.0,>=0.23.0 in /usr/local/lib/python3.11/dist-packages (from astunparse>=1.6.0->tensorflow<2.19,>=2.18->tf-keras->-r /content/drive/MyDrive/Protein-binding/requirements.txt (line 13)) (0.45.1)\n",
            "Requirement already satisfied: parso<0.9.0,>=0.8.4 in /usr/local/lib/python3.11/dist-packages (from jedi>=0.16->ipython->esm->-r /content/drive/MyDrive/Protein-binding/requirements.txt (line 19)) (0.8.4)\n",
            "Requirement already satisfied: rich in /usr/local/lib/python3.11/dist-packages (from keras>=3.5.0->tensorflow<2.19,>=2.18->tf-keras->-r /content/drive/MyDrive/Protein-binding/requirements.txt (line 13)) (13.9.4)\n",
            "Requirement already satisfied: namex in /usr/local/lib/python3.11/dist-packages (from keras>=3.5.0->tensorflow<2.19,>=2.18->tf-keras->-r /content/drive/MyDrive/Protein-binding/requirements.txt (line 13)) (0.0.8)\n",
            "Requirement already satisfied: optree in /usr/local/lib/python3.11/dist-packages (from keras>=3.5.0->tensorflow<2.19,>=2.18->tf-keras->-r /content/drive/MyDrive/Protein-binding/requirements.txt (line 13)) (0.14.1)\n",
            "Requirement already satisfied: ptyprocess>=0.5 in /usr/local/lib/python3.11/dist-packages (from pexpect>4.3->ipython->esm->-r /content/drive/MyDrive/Protein-binding/requirements.txt (line 19)) (0.7.0)\n",
            "Requirement already satisfied: wcwidth in /usr/local/lib/python3.11/dist-packages (from prompt-toolkit!=3.0.0,!=3.0.1,<3.1.0,>=2.0.0->ipython->esm->-r /content/drive/MyDrive/Protein-binding/requirements.txt (line 19)) (0.2.13)\n",
            "Requirement already satisfied: markdown>=2.6.8 in /usr/local/lib/python3.11/dist-packages (from tensorboard<2.19,>=2.18->tensorflow<2.19,>=2.18->tf-keras->-r /content/drive/MyDrive/Protein-binding/requirements.txt (line 13)) (3.7)\n",
            "Requirement already satisfied: tensorboard-data-server<0.8.0,>=0.7.0 in /usr/local/lib/python3.11/dist-packages (from tensorboard<2.19,>=2.18->tensorflow<2.19,>=2.18->tf-keras->-r /content/drive/MyDrive/Protein-binding/requirements.txt (line 13)) (0.7.2)\n",
            "Requirement already satisfied: werkzeug>=1.0.1 in /usr/local/lib/python3.11/dist-packages (from tensorboard<2.19,>=2.18->tensorflow<2.19,>=2.18->tf-keras->-r /content/drive/MyDrive/Protein-binding/requirements.txt (line 13)) (3.1.3)\n",
            "Requirement already satisfied: h11<1,>=0.9.0 in /usr/local/lib/python3.11/dist-packages (from wsproto>=0.14->trio-websocket~=0.9->selenium->-r /content/drive/MyDrive/Protein-binding/requirements.txt (line 11)) (0.14.0)\n",
            "Requirement already satisfied: markdown-it-py>=2.2.0 in /usr/local/lib/python3.11/dist-packages (from rich->keras>=3.5.0->tensorflow<2.19,>=2.18->tf-keras->-r /content/drive/MyDrive/Protein-binding/requirements.txt (line 13)) (3.0.0)\n",
            "Requirement already satisfied: mdurl~=0.1 in /usr/local/lib/python3.11/dist-packages (from markdown-it-py>=2.2.0->rich->keras>=3.5.0->tensorflow<2.19,>=2.18->tf-keras->-r /content/drive/MyDrive/Protein-binding/requirements.txt (line 13)) (0.1.2)\n",
            "Requirement already satisfied: datasets in /usr/local/lib/python3.11/dist-packages (3.5.0)\n",
            "Requirement already satisfied: mdtraj in /usr/local/lib/python3.11/dist-packages (1.10.3)\n",
            "\u001b[31mERROR: Could not find a version that satisfies the requirement dssp (from versions: none)\u001b[0m\u001b[31m\n",
            "\u001b[0m\u001b[31mERROR: No matching distribution found for dssp\u001b[0m\u001b[31m\n",
            "\u001b[0mRequirement already satisfied: numpy in /usr/local/lib/python3.11/dist-packages (1.26.4)\n",
            "Requirement already satisfied: pandas in /usr/local/lib/python3.11/dist-packages (2.2.2)\n",
            "Requirement already satisfied: numpy>=1.23.2 in /usr/local/lib/python3.11/dist-packages (from pandas) (1.26.4)\n",
            "Requirement already satisfied: python-dateutil>=2.8.2 in /usr/local/lib/python3.11/dist-packages (from pandas) (2.8.2)\n",
            "Requirement already satisfied: pytz>=2020.1 in /usr/local/lib/python3.11/dist-packages (from pandas) (2025.2)\n",
            "Requirement already satisfied: tzdata>=2022.7 in /usr/local/lib/python3.11/dist-packages (from pandas) (2025.2)\n",
            "Requirement already satisfied: six>=1.5 in /usr/local/lib/python3.11/dist-packages (from python-dateutil>=2.8.2->pandas) (1.17.0)\n"
          ]
        }
      ]
    },
    {
      "cell_type": "code",
      "source": [
        "import torch\n",
        "import ast\n",
        "import torch.nn as nn\n",
        "import pandas as pd\n",
        "import numpy as np\n",
        "import torch.nn.functional as F\n",
        "import warnings\n",
        "import mdtraj as md\n",
        "import esm\n",
        "import gc\n",
        "import pickle\n",
        "import torch.optim as optim\n",
        "\n",
        "from torch_geometric.loader import DataLoader\n",
        "from torch_geometric.nn import GCNConv, global_mean_pool, global_add_pool\n",
        "from Bio import SeqIO\n",
        "from Bio import PDB\n",
        "from Bio.PDB.DSSP import DSSP\n",
        "from Bio.PDB.Polypeptide import is_aa\n",
        "from Bio.SeqUtils import seq1\n",
        "from torch_geometric.data import Data\n",
        "from transformers import (AutoModelForTokenClassification, AutoTokenizer,\n",
        "                          AutoModelForMaskedLM, DataCollatorForTokenClassification,\n",
        "                           EsmForMaskedLM, EsmTokenizer, EsmModel, EsmForTokenClassification,\n",
        "                           TrainingArguments, Trainer, TrainerCallback\n",
        "                        )\n",
        "from transformers.trainer_callback import ProgressCallback\n",
        "from sklearn.metrics import (accuracy_score, precision_recall_fscore_support,\n",
        "                             matthews_corrcoef, roc_auc_score)\n",
        "from tqdm import tqdm\n",
        "from sklearn.model_selection import train_test_split\n",
        "from pprint import pprint\n",
        "from datasets import Dataset\n",
        "from datetime import datetime\n",
        "from peft import get_peft_config, PeftModel, PeftConfig, get_peft_model, LoraConfig, TaskType\n",
        "from glob import glob\n",
        "from loguru import logger\n",
        "\n",
        "warnings.filterwarnings(\"ignore\", message=\"Ignoring unrecognized record 'END'\")"
      ],
      "metadata": {
        "id": "K64qv8WQyoHz"
      },
      "execution_count": 3,
      "outputs": []
    },
    {
      "cell_type": "markdown",
      "source": [
        "### Preparing train-test dataset"
      ],
      "metadata": {
        "id": "BZ6OCJdb9ywD"
      }
    },
    {
      "cell_type": "code",
      "source": [
        "initial_train_df = pd.read_csv(\"/content/drive/MyDrive/Protein-binding/data/development_set/full_grouped_train_binding_sites_df.csv\")\n",
        "initial_train_df['binding_sites'] = initial_train_df['binding_sites'].apply(ast.literal_eval)\n",
        "initial_train_df['any_ligand_binding_sites'] = initial_train_df['any_ligand_binding_sites'].apply(ast.literal_eval)"
      ],
      "metadata": {
        "id": "RuCFy4Bb9xhm"
      },
      "execution_count": 4,
      "outputs": []
    },
    {
      "cell_type": "code",
      "source": [
        "initial_train_df"
      ],
      "metadata": {
        "colab": {
          "base_uri": "https://localhost:8080/",
          "height": 771
        },
        "id": "GR4iK5iC3F-K",
        "outputId": "e99bd79e-0983-48e5-b3f0-c4fe9ffc8464"
      },
      "execution_count": 5,
      "outputs": [
        {
          "output_type": "execute_result",
          "data": {
            "text/plain": [
              "         prot_id                                      binding_sites  \\\n",
              "0     A0A0F7RDM3                            [29, 53, 129, 135, 137]   \n",
              "1     A0A0F7RHX8                    [67, 72, 76, 78, 123, 133, 135]   \n",
              "2     A0A0H2W6Y8  [85, 119, 125, 126, 129, 144, 197, 198, 207, 2...   \n",
              "3     A0A2B6C3P9                      [79, 111, 114, 117, 122, 125]   \n",
              "4     A0A384LKY8  [5, 10, 12, 14, 43, 63, 72, 74, 76, 83, 85, 11...   \n",
              "...          ...                                                ...   \n",
              "1009      S0BAP9  [56, 66, 69, 70, 72, 73, 77, 80, 81, 86, 89, 9...   \n",
              "1010      S3TFW2  [75, 79, 122, 192, 193, 204, 277, 278, 279, 28...   \n",
              "1011      V6F235                                    [230, 232, 255]   \n",
              "1012      V9P0A9  [13, 33, 34, 37, 38, 42, 49, 51, 70, 72, 74, 7...   \n",
              "1013      W8VZW3  [61, 96, 98, 99, 102, 103, 106, 135, 139, 160,...   \n",
              "\n",
              "             ligand_type                                           sequence  \\\n",
              "0              ['metal']  MEIRKKLVVPSKYGTKCPYTMKPKYITVHNTYNDAPAENEVNYMIT...   \n",
              "1              ['small']  MHLKEKITTIIQGQRTGVLSTVRNDKPHSAFMMFFHEDFVLYVATD...   \n",
              "2              ['metal']  MMKILGLIGGMSWESTIPYYRMINQHVKAQLGGLHSAKIILYSVDF...   \n",
              "3              ['metal']  MSINKWLFRFIGFLVMLVVITTLNSLNVFASVNDLAQPIASAKVIE...   \n",
              "4     ['metal', 'small']  MSEHFVGKYEVELKFRVMDLTTLHEQLVAQKATAFTLNNHEKDIYL...   \n",
              "...                  ...                                                ...   \n",
              "1009           ['small']  MNPLSTVLLVLCATSAALASEFCSEADATIVIKQWNQIYNAGIGAK...   \n",
              "1010           ['small']  MTRPDSKSMNYQLLKTFSRQPIQFGRFLARLLAGLVNTLKITRTSK...   \n",
              "1011           ['small']  MRKSGCAVCSRSIGWVGLAVSTVLMVMKAFVGLIGGSQAMLADAMY...   \n",
              "1012           ['small']  MADFKFEPMRSLIYVDCVSEDYRPKLQRWIYKVHIPDSISQFEPYV...   \n",
              "1013           ['small']  MKNIESLFDYSAGQFEFIDHLLTMGVGVHFAALIFFLVVSQFVAPK...   \n",
              "\n",
              "      sequence_length                                      metal_binding  \\\n",
              "0                 234  [0, 0, 0, 0, 0, 0, 0, 0, 0, 0, 0, 0, 0, 0, 0, ...   \n",
              "1                 138  [0, 0, 0, 0, 0, 0, 0, 0, 0, 0, 0, 0, 0, 0, 0, ...   \n",
              "2                 231  [0, 0, 0, 0, 0, 0, 0, 0, 0, 0, 0, 0, 0, 0, 0, ...   \n",
              "3                 129  [0, 0, 0, 0, 0, 0, 0, 0, 0, 0, 0, 0, 0, 0, 0, ...   \n",
              "4                 179  [0, 0, 0, 0, 0, 0, 0, 0, 0, 0, 0, 1, 0, 0, 0, ...   \n",
              "...               ...                                                ...   \n",
              "1009              168  [0, 0, 0, 0, 0, 0, 0, 0, 0, 0, 0, 0, 0, 0, 0, ...   \n",
              "1010              327  [0, 0, 0, 0, 0, 0, 0, 0, 0, 0, 0, 0, 0, 0, 0, ...   \n",
              "1011              318  [0, 0, 0, 0, 0, 0, 0, 0, 0, 0, 0, 0, 0, 0, 0, ...   \n",
              "1012              283  [0, 0, 0, 0, 0, 0, 0, 0, 0, 0, 0, 0, 0, 0, 0, ...   \n",
              "1013              272  [0, 0, 0, 0, 0, 0, 0, 0, 0, 0, 0, 0, 0, 0, 0, ...   \n",
              "\n",
              "                                          small_binding  \\\n",
              "0     [0, 0, 0, 0, 0, 0, 0, 0, 0, 0, 0, 0, 0, 0, 0, ...   \n",
              "1     [0, 0, 0, 0, 0, 0, 0, 0, 0, 0, 0, 0, 0, 0, 0, ...   \n",
              "2     [0, 0, 0, 0, 0, 0, 0, 0, 0, 0, 0, 0, 0, 0, 0, ...   \n",
              "3     [0, 0, 0, 0, 0, 0, 0, 0, 0, 0, 0, 0, 0, 0, 0, ...   \n",
              "4     [0, 0, 0, 0, 1, 0, 0, 0, 0, 1, 0, 1, 0, 1, 0, ...   \n",
              "...                                                 ...   \n",
              "1009  [0, 0, 0, 0, 0, 0, 0, 0, 0, 0, 0, 0, 0, 0, 0, ...   \n",
              "1010  [0, 0, 0, 0, 0, 0, 0, 0, 0, 0, 0, 0, 0, 0, 0, ...   \n",
              "1011  [0, 0, 0, 0, 0, 0, 0, 0, 0, 0, 0, 0, 0, 0, 0, ...   \n",
              "1012  [0, 0, 0, 0, 0, 0, 0, 0, 0, 0, 0, 0, 1, 0, 0, ...   \n",
              "1013  [0, 0, 0, 0, 0, 0, 0, 0, 0, 0, 0, 0, 0, 0, 0, ...   \n",
              "\n",
              "                                        nuclear_binding  \\\n",
              "0     [0, 0, 0, 0, 0, 0, 0, 0, 0, 0, 0, 0, 0, 0, 0, ...   \n",
              "1     [0, 0, 0, 0, 0, 0, 0, 0, 0, 0, 0, 0, 0, 0, 0, ...   \n",
              "2     [0, 0, 0, 0, 0, 0, 0, 0, 0, 0, 0, 0, 0, 0, 0, ...   \n",
              "3     [0, 0, 0, 0, 0, 0, 0, 0, 0, 0, 0, 0, 0, 0, 0, ...   \n",
              "4     [0, 0, 0, 0, 0, 0, 0, 0, 0, 0, 0, 0, 0, 0, 0, ...   \n",
              "...                                                 ...   \n",
              "1009  [0, 0, 0, 0, 0, 0, 0, 0, 0, 0, 0, 0, 0, 0, 0, ...   \n",
              "1010  [0, 0, 0, 0, 0, 0, 0, 0, 0, 0, 0, 0, 0, 0, 0, ...   \n",
              "1011  [0, 0, 0, 0, 0, 0, 0, 0, 0, 0, 0, 0, 0, 0, 0, ...   \n",
              "1012  [0, 0, 0, 0, 0, 0, 0, 0, 0, 0, 0, 0, 0, 0, 0, ...   \n",
              "1013  [0, 0, 0, 0, 0, 0, 0, 0, 0, 0, 0, 0, 0, 0, 0, ...   \n",
              "\n",
              "                               any_ligand_binding_sites  \n",
              "0     [0, 0, 0, 0, 0, 0, 0, 0, 0, 0, 0, 0, 0, 0, 0, ...  \n",
              "1     [0, 0, 0, 0, 0, 0, 0, 0, 0, 0, 0, 0, 0, 0, 0, ...  \n",
              "2     [0, 0, 0, 0, 0, 0, 0, 0, 0, 0, 0, 0, 0, 0, 0, ...  \n",
              "3     [0, 0, 0, 0, 0, 0, 0, 0, 0, 0, 0, 0, 0, 0, 0, ...  \n",
              "4     [0, 0, 0, 0, 1, 0, 0, 0, 0, 1, 0, 1, 0, 1, 0, ...  \n",
              "...                                                 ...  \n",
              "1009  [0, 0, 0, 0, 0, 0, 0, 0, 0, 0, 0, 0, 0, 0, 0, ...  \n",
              "1010  [0, 0, 0, 0, 0, 0, 0, 0, 0, 0, 0, 0, 0, 0, 0, ...  \n",
              "1011  [0, 0, 0, 0, 0, 0, 0, 0, 0, 0, 0, 0, 0, 0, 0, ...  \n",
              "1012  [0, 0, 0, 0, 0, 0, 0, 0, 0, 0, 0, 0, 1, 0, 0, ...  \n",
              "1013  [0, 0, 0, 0, 0, 0, 0, 0, 0, 0, 0, 0, 0, 0, 0, ...  \n",
              "\n",
              "[1014 rows x 9 columns]"
            ],
            "text/html": [
              "\n",
              "  <div id=\"df-b27c8ea5-5afb-4fed-9386-cc0eb5a35552\" class=\"colab-df-container\">\n",
              "    <div>\n",
              "<style scoped>\n",
              "    .dataframe tbody tr th:only-of-type {\n",
              "        vertical-align: middle;\n",
              "    }\n",
              "\n",
              "    .dataframe tbody tr th {\n",
              "        vertical-align: top;\n",
              "    }\n",
              "\n",
              "    .dataframe thead th {\n",
              "        text-align: right;\n",
              "    }\n",
              "</style>\n",
              "<table border=\"1\" class=\"dataframe\">\n",
              "  <thead>\n",
              "    <tr style=\"text-align: right;\">\n",
              "      <th></th>\n",
              "      <th>prot_id</th>\n",
              "      <th>binding_sites</th>\n",
              "      <th>ligand_type</th>\n",
              "      <th>sequence</th>\n",
              "      <th>sequence_length</th>\n",
              "      <th>metal_binding</th>\n",
              "      <th>small_binding</th>\n",
              "      <th>nuclear_binding</th>\n",
              "      <th>any_ligand_binding_sites</th>\n",
              "    </tr>\n",
              "  </thead>\n",
              "  <tbody>\n",
              "    <tr>\n",
              "      <th>0</th>\n",
              "      <td>A0A0F7RDM3</td>\n",
              "      <td>[29, 53, 129, 135, 137]</td>\n",
              "      <td>['metal']</td>\n",
              "      <td>MEIRKKLVVPSKYGTKCPYTMKPKYITVHNTYNDAPAENEVNYMIT...</td>\n",
              "      <td>234</td>\n",
              "      <td>[0, 0, 0, 0, 0, 0, 0, 0, 0, 0, 0, 0, 0, 0, 0, ...</td>\n",
              "      <td>[0, 0, 0, 0, 0, 0, 0, 0, 0, 0, 0, 0, 0, 0, 0, ...</td>\n",
              "      <td>[0, 0, 0, 0, 0, 0, 0, 0, 0, 0, 0, 0, 0, 0, 0, ...</td>\n",
              "      <td>[0, 0, 0, 0, 0, 0, 0, 0, 0, 0, 0, 0, 0, 0, 0, ...</td>\n",
              "    </tr>\n",
              "    <tr>\n",
              "      <th>1</th>\n",
              "      <td>A0A0F7RHX8</td>\n",
              "      <td>[67, 72, 76, 78, 123, 133, 135]</td>\n",
              "      <td>['small']</td>\n",
              "      <td>MHLKEKITTIIQGQRTGVLSTVRNDKPHSAFMMFFHEDFVLYVATD...</td>\n",
              "      <td>138</td>\n",
              "      <td>[0, 0, 0, 0, 0, 0, 0, 0, 0, 0, 0, 0, 0, 0, 0, ...</td>\n",
              "      <td>[0, 0, 0, 0, 0, 0, 0, 0, 0, 0, 0, 0, 0, 0, 0, ...</td>\n",
              "      <td>[0, 0, 0, 0, 0, 0, 0, 0, 0, 0, 0, 0, 0, 0, 0, ...</td>\n",
              "      <td>[0, 0, 0, 0, 0, 0, 0, 0, 0, 0, 0, 0, 0, 0, 0, ...</td>\n",
              "    </tr>\n",
              "    <tr>\n",
              "      <th>2</th>\n",
              "      <td>A0A0H2W6Y8</td>\n",
              "      <td>[85, 119, 125, 126, 129, 144, 197, 198, 207, 2...</td>\n",
              "      <td>['metal']</td>\n",
              "      <td>MMKILGLIGGMSWESTIPYYRMINQHVKAQLGGLHSAKIILYSVDF...</td>\n",
              "      <td>231</td>\n",
              "      <td>[0, 0, 0, 0, 0, 0, 0, 0, 0, 0, 0, 0, 0, 0, 0, ...</td>\n",
              "      <td>[0, 0, 0, 0, 0, 0, 0, 0, 0, 0, 0, 0, 0, 0, 0, ...</td>\n",
              "      <td>[0, 0, 0, 0, 0, 0, 0, 0, 0, 0, 0, 0, 0, 0, 0, ...</td>\n",
              "      <td>[0, 0, 0, 0, 0, 0, 0, 0, 0, 0, 0, 0, 0, 0, 0, ...</td>\n",
              "    </tr>\n",
              "    <tr>\n",
              "      <th>3</th>\n",
              "      <td>A0A2B6C3P9</td>\n",
              "      <td>[79, 111, 114, 117, 122, 125]</td>\n",
              "      <td>['metal']</td>\n",
              "      <td>MSINKWLFRFIGFLVMLVVITTLNSLNVFASVNDLAQPIASAKVIE...</td>\n",
              "      <td>129</td>\n",
              "      <td>[0, 0, 0, 0, 0, 0, 0, 0, 0, 0, 0, 0, 0, 0, 0, ...</td>\n",
              "      <td>[0, 0, 0, 0, 0, 0, 0, 0, 0, 0, 0, 0, 0, 0, 0, ...</td>\n",
              "      <td>[0, 0, 0, 0, 0, 0, 0, 0, 0, 0, 0, 0, 0, 0, 0, ...</td>\n",
              "      <td>[0, 0, 0, 0, 0, 0, 0, 0, 0, 0, 0, 0, 0, 0, 0, ...</td>\n",
              "    </tr>\n",
              "    <tr>\n",
              "      <th>4</th>\n",
              "      <td>A0A384LKY8</td>\n",
              "      <td>[5, 10, 12, 14, 43, 63, 72, 74, 76, 83, 85, 11...</td>\n",
              "      <td>['metal', 'small']</td>\n",
              "      <td>MSEHFVGKYEVELKFRVMDLTTLHEQLVAQKATAFTLNNHEKDIYL...</td>\n",
              "      <td>179</td>\n",
              "      <td>[0, 0, 0, 0, 0, 0, 0, 0, 0, 0, 0, 1, 0, 0, 0, ...</td>\n",
              "      <td>[0, 0, 0, 0, 1, 0, 0, 0, 0, 1, 0, 1, 0, 1, 0, ...</td>\n",
              "      <td>[0, 0, 0, 0, 0, 0, 0, 0, 0, 0, 0, 0, 0, 0, 0, ...</td>\n",
              "      <td>[0, 0, 0, 0, 1, 0, 0, 0, 0, 1, 0, 1, 0, 1, 0, ...</td>\n",
              "    </tr>\n",
              "    <tr>\n",
              "      <th>...</th>\n",
              "      <td>...</td>\n",
              "      <td>...</td>\n",
              "      <td>...</td>\n",
              "      <td>...</td>\n",
              "      <td>...</td>\n",
              "      <td>...</td>\n",
              "      <td>...</td>\n",
              "      <td>...</td>\n",
              "      <td>...</td>\n",
              "    </tr>\n",
              "    <tr>\n",
              "      <th>1009</th>\n",
              "      <td>S0BAP9</td>\n",
              "      <td>[56, 66, 69, 70, 72, 73, 77, 80, 81, 86, 89, 9...</td>\n",
              "      <td>['small']</td>\n",
              "      <td>MNPLSTVLLVLCATSAALASEFCSEADATIVIKQWNQIYNAGIGAK...</td>\n",
              "      <td>168</td>\n",
              "      <td>[0, 0, 0, 0, 0, 0, 0, 0, 0, 0, 0, 0, 0, 0, 0, ...</td>\n",
              "      <td>[0, 0, 0, 0, 0, 0, 0, 0, 0, 0, 0, 0, 0, 0, 0, ...</td>\n",
              "      <td>[0, 0, 0, 0, 0, 0, 0, 0, 0, 0, 0, 0, 0, 0, 0, ...</td>\n",
              "      <td>[0, 0, 0, 0, 0, 0, 0, 0, 0, 0, 0, 0, 0, 0, 0, ...</td>\n",
              "    </tr>\n",
              "    <tr>\n",
              "      <th>1010</th>\n",
              "      <td>S3TFW2</td>\n",
              "      <td>[75, 79, 122, 192, 193, 204, 277, 278, 279, 28...</td>\n",
              "      <td>['small']</td>\n",
              "      <td>MTRPDSKSMNYQLLKTFSRQPIQFGRFLARLLAGLVNTLKITRTSK...</td>\n",
              "      <td>327</td>\n",
              "      <td>[0, 0, 0, 0, 0, 0, 0, 0, 0, 0, 0, 0, 0, 0, 0, ...</td>\n",
              "      <td>[0, 0, 0, 0, 0, 0, 0, 0, 0, 0, 0, 0, 0, 0, 0, ...</td>\n",
              "      <td>[0, 0, 0, 0, 0, 0, 0, 0, 0, 0, 0, 0, 0, 0, 0, ...</td>\n",
              "      <td>[0, 0, 0, 0, 0, 0, 0, 0, 0, 0, 0, 0, 0, 0, 0, ...</td>\n",
              "    </tr>\n",
              "    <tr>\n",
              "      <th>1011</th>\n",
              "      <td>V6F235</td>\n",
              "      <td>[230, 232, 255]</td>\n",
              "      <td>['small']</td>\n",
              "      <td>MRKSGCAVCSRSIGWVGLAVSTVLMVMKAFVGLIGGSQAMLADAMY...</td>\n",
              "      <td>318</td>\n",
              "      <td>[0, 0, 0, 0, 0, 0, 0, 0, 0, 0, 0, 0, 0, 0, 0, ...</td>\n",
              "      <td>[0, 0, 0, 0, 0, 0, 0, 0, 0, 0, 0, 0, 0, 0, 0, ...</td>\n",
              "      <td>[0, 0, 0, 0, 0, 0, 0, 0, 0, 0, 0, 0, 0, 0, 0, ...</td>\n",
              "      <td>[0, 0, 0, 0, 0, 0, 0, 0, 0, 0, 0, 0, 0, 0, 0, ...</td>\n",
              "    </tr>\n",
              "    <tr>\n",
              "      <th>1012</th>\n",
              "      <td>V9P0A9</td>\n",
              "      <td>[13, 33, 34, 37, 38, 42, 49, 51, 70, 72, 74, 7...</td>\n",
              "      <td>['small']</td>\n",
              "      <td>MADFKFEPMRSLIYVDCVSEDYRPKLQRWIYKVHIPDSISQFEPYV...</td>\n",
              "      <td>283</td>\n",
              "      <td>[0, 0, 0, 0, 0, 0, 0, 0, 0, 0, 0, 0, 0, 0, 0, ...</td>\n",
              "      <td>[0, 0, 0, 0, 0, 0, 0, 0, 0, 0, 0, 0, 1, 0, 0, ...</td>\n",
              "      <td>[0, 0, 0, 0, 0, 0, 0, 0, 0, 0, 0, 0, 0, 0, 0, ...</td>\n",
              "      <td>[0, 0, 0, 0, 0, 0, 0, 0, 0, 0, 0, 0, 1, 0, 0, ...</td>\n",
              "    </tr>\n",
              "    <tr>\n",
              "      <th>1013</th>\n",
              "      <td>W8VZW3</td>\n",
              "      <td>[61, 96, 98, 99, 102, 103, 106, 135, 139, 160,...</td>\n",
              "      <td>['small']</td>\n",
              "      <td>MKNIESLFDYSAGQFEFIDHLLTMGVGVHFAALIFFLVVSQFVAPK...</td>\n",
              "      <td>272</td>\n",
              "      <td>[0, 0, 0, 0, 0, 0, 0, 0, 0, 0, 0, 0, 0, 0, 0, ...</td>\n",
              "      <td>[0, 0, 0, 0, 0, 0, 0, 0, 0, 0, 0, 0, 0, 0, 0, ...</td>\n",
              "      <td>[0, 0, 0, 0, 0, 0, 0, 0, 0, 0, 0, 0, 0, 0, 0, ...</td>\n",
              "      <td>[0, 0, 0, 0, 0, 0, 0, 0, 0, 0, 0, 0, 0, 0, 0, ...</td>\n",
              "    </tr>\n",
              "  </tbody>\n",
              "</table>\n",
              "<p>1014 rows × 9 columns</p>\n",
              "</div>\n",
              "    <div class=\"colab-df-buttons\">\n",
              "\n",
              "  <div class=\"colab-df-container\">\n",
              "    <button class=\"colab-df-convert\" onclick=\"convertToInteractive('df-b27c8ea5-5afb-4fed-9386-cc0eb5a35552')\"\n",
              "            title=\"Convert this dataframe to an interactive table.\"\n",
              "            style=\"display:none;\">\n",
              "\n",
              "  <svg xmlns=\"http://www.w3.org/2000/svg\" height=\"24px\" viewBox=\"0 -960 960 960\">\n",
              "    <path d=\"M120-120v-720h720v720H120Zm60-500h600v-160H180v160Zm220 220h160v-160H400v160Zm0 220h160v-160H400v160ZM180-400h160v-160H180v160Zm440 0h160v-160H620v160ZM180-180h160v-160H180v160Zm440 0h160v-160H620v160Z\"/>\n",
              "  </svg>\n",
              "    </button>\n",
              "\n",
              "  <style>\n",
              "    .colab-df-container {\n",
              "      display:flex;\n",
              "      gap: 12px;\n",
              "    }\n",
              "\n",
              "    .colab-df-convert {\n",
              "      background-color: #E8F0FE;\n",
              "      border: none;\n",
              "      border-radius: 50%;\n",
              "      cursor: pointer;\n",
              "      display: none;\n",
              "      fill: #1967D2;\n",
              "      height: 32px;\n",
              "      padding: 0 0 0 0;\n",
              "      width: 32px;\n",
              "    }\n",
              "\n",
              "    .colab-df-convert:hover {\n",
              "      background-color: #E2EBFA;\n",
              "      box-shadow: 0px 1px 2px rgba(60, 64, 67, 0.3), 0px 1px 3px 1px rgba(60, 64, 67, 0.15);\n",
              "      fill: #174EA6;\n",
              "    }\n",
              "\n",
              "    .colab-df-buttons div {\n",
              "      margin-bottom: 4px;\n",
              "    }\n",
              "\n",
              "    [theme=dark] .colab-df-convert {\n",
              "      background-color: #3B4455;\n",
              "      fill: #D2E3FC;\n",
              "    }\n",
              "\n",
              "    [theme=dark] .colab-df-convert:hover {\n",
              "      background-color: #434B5C;\n",
              "      box-shadow: 0px 1px 3px 1px rgba(0, 0, 0, 0.15);\n",
              "      filter: drop-shadow(0px 1px 2px rgba(0, 0, 0, 0.3));\n",
              "      fill: #FFFFFF;\n",
              "    }\n",
              "  </style>\n",
              "\n",
              "    <script>\n",
              "      const buttonEl =\n",
              "        document.querySelector('#df-b27c8ea5-5afb-4fed-9386-cc0eb5a35552 button.colab-df-convert');\n",
              "      buttonEl.style.display =\n",
              "        google.colab.kernel.accessAllowed ? 'block' : 'none';\n",
              "\n",
              "      async function convertToInteractive(key) {\n",
              "        const element = document.querySelector('#df-b27c8ea5-5afb-4fed-9386-cc0eb5a35552');\n",
              "        const dataTable =\n",
              "          await google.colab.kernel.invokeFunction('convertToInteractive',\n",
              "                                                    [key], {});\n",
              "        if (!dataTable) return;\n",
              "\n",
              "        const docLinkHtml = 'Like what you see? Visit the ' +\n",
              "          '<a target=\"_blank\" href=https://colab.research.google.com/notebooks/data_table.ipynb>data table notebook</a>'\n",
              "          + ' to learn more about interactive tables.';\n",
              "        element.innerHTML = '';\n",
              "        dataTable['output_type'] = 'display_data';\n",
              "        await google.colab.output.renderOutput(dataTable, element);\n",
              "        const docLink = document.createElement('div');\n",
              "        docLink.innerHTML = docLinkHtml;\n",
              "        element.appendChild(docLink);\n",
              "      }\n",
              "    </script>\n",
              "  </div>\n",
              "\n",
              "\n",
              "<div id=\"df-679260a7-7397-46a8-a7a4-8091e8b74d71\">\n",
              "  <button class=\"colab-df-quickchart\" onclick=\"quickchart('df-679260a7-7397-46a8-a7a4-8091e8b74d71')\"\n",
              "            title=\"Suggest charts\"\n",
              "            style=\"display:none;\">\n",
              "\n",
              "<svg xmlns=\"http://www.w3.org/2000/svg\" height=\"24px\"viewBox=\"0 0 24 24\"\n",
              "     width=\"24px\">\n",
              "    <g>\n",
              "        <path d=\"M19 3H5c-1.1 0-2 .9-2 2v14c0 1.1.9 2 2 2h14c1.1 0 2-.9 2-2V5c0-1.1-.9-2-2-2zM9 17H7v-7h2v7zm4 0h-2V7h2v10zm4 0h-2v-4h2v4z\"/>\n",
              "    </g>\n",
              "</svg>\n",
              "  </button>\n",
              "\n",
              "<style>\n",
              "  .colab-df-quickchart {\n",
              "      --bg-color: #E8F0FE;\n",
              "      --fill-color: #1967D2;\n",
              "      --hover-bg-color: #E2EBFA;\n",
              "      --hover-fill-color: #174EA6;\n",
              "      --disabled-fill-color: #AAA;\n",
              "      --disabled-bg-color: #DDD;\n",
              "  }\n",
              "\n",
              "  [theme=dark] .colab-df-quickchart {\n",
              "      --bg-color: #3B4455;\n",
              "      --fill-color: #D2E3FC;\n",
              "      --hover-bg-color: #434B5C;\n",
              "      --hover-fill-color: #FFFFFF;\n",
              "      --disabled-bg-color: #3B4455;\n",
              "      --disabled-fill-color: #666;\n",
              "  }\n",
              "\n",
              "  .colab-df-quickchart {\n",
              "    background-color: var(--bg-color);\n",
              "    border: none;\n",
              "    border-radius: 50%;\n",
              "    cursor: pointer;\n",
              "    display: none;\n",
              "    fill: var(--fill-color);\n",
              "    height: 32px;\n",
              "    padding: 0;\n",
              "    width: 32px;\n",
              "  }\n",
              "\n",
              "  .colab-df-quickchart:hover {\n",
              "    background-color: var(--hover-bg-color);\n",
              "    box-shadow: 0 1px 2px rgba(60, 64, 67, 0.3), 0 1px 3px 1px rgba(60, 64, 67, 0.15);\n",
              "    fill: var(--button-hover-fill-color);\n",
              "  }\n",
              "\n",
              "  .colab-df-quickchart-complete:disabled,\n",
              "  .colab-df-quickchart-complete:disabled:hover {\n",
              "    background-color: var(--disabled-bg-color);\n",
              "    fill: var(--disabled-fill-color);\n",
              "    box-shadow: none;\n",
              "  }\n",
              "\n",
              "  .colab-df-spinner {\n",
              "    border: 2px solid var(--fill-color);\n",
              "    border-color: transparent;\n",
              "    border-bottom-color: var(--fill-color);\n",
              "    animation:\n",
              "      spin 1s steps(1) infinite;\n",
              "  }\n",
              "\n",
              "  @keyframes spin {\n",
              "    0% {\n",
              "      border-color: transparent;\n",
              "      border-bottom-color: var(--fill-color);\n",
              "      border-left-color: var(--fill-color);\n",
              "    }\n",
              "    20% {\n",
              "      border-color: transparent;\n",
              "      border-left-color: var(--fill-color);\n",
              "      border-top-color: var(--fill-color);\n",
              "    }\n",
              "    30% {\n",
              "      border-color: transparent;\n",
              "      border-left-color: var(--fill-color);\n",
              "      border-top-color: var(--fill-color);\n",
              "      border-right-color: var(--fill-color);\n",
              "    }\n",
              "    40% {\n",
              "      border-color: transparent;\n",
              "      border-right-color: var(--fill-color);\n",
              "      border-top-color: var(--fill-color);\n",
              "    }\n",
              "    60% {\n",
              "      border-color: transparent;\n",
              "      border-right-color: var(--fill-color);\n",
              "    }\n",
              "    80% {\n",
              "      border-color: transparent;\n",
              "      border-right-color: var(--fill-color);\n",
              "      border-bottom-color: var(--fill-color);\n",
              "    }\n",
              "    90% {\n",
              "      border-color: transparent;\n",
              "      border-bottom-color: var(--fill-color);\n",
              "    }\n",
              "  }\n",
              "</style>\n",
              "\n",
              "  <script>\n",
              "    async function quickchart(key) {\n",
              "      const quickchartButtonEl =\n",
              "        document.querySelector('#' + key + ' button');\n",
              "      quickchartButtonEl.disabled = true;  // To prevent multiple clicks.\n",
              "      quickchartButtonEl.classList.add('colab-df-spinner');\n",
              "      try {\n",
              "        const charts = await google.colab.kernel.invokeFunction(\n",
              "            'suggestCharts', [key], {});\n",
              "      } catch (error) {\n",
              "        console.error('Error during call to suggestCharts:', error);\n",
              "      }\n",
              "      quickchartButtonEl.classList.remove('colab-df-spinner');\n",
              "      quickchartButtonEl.classList.add('colab-df-quickchart-complete');\n",
              "    }\n",
              "    (() => {\n",
              "      let quickchartButtonEl =\n",
              "        document.querySelector('#df-679260a7-7397-46a8-a7a4-8091e8b74d71 button');\n",
              "      quickchartButtonEl.style.display =\n",
              "        google.colab.kernel.accessAllowed ? 'block' : 'none';\n",
              "    })();\n",
              "  </script>\n",
              "</div>\n",
              "\n",
              "  <div id=\"id_d96af128-0806-482e-8e64-23fa6e1185fe\">\n",
              "    <style>\n",
              "      .colab-df-generate {\n",
              "        background-color: #E8F0FE;\n",
              "        border: none;\n",
              "        border-radius: 50%;\n",
              "        cursor: pointer;\n",
              "        display: none;\n",
              "        fill: #1967D2;\n",
              "        height: 32px;\n",
              "        padding: 0 0 0 0;\n",
              "        width: 32px;\n",
              "      }\n",
              "\n",
              "      .colab-df-generate:hover {\n",
              "        background-color: #E2EBFA;\n",
              "        box-shadow: 0px 1px 2px rgba(60, 64, 67, 0.3), 0px 1px 3px 1px rgba(60, 64, 67, 0.15);\n",
              "        fill: #174EA6;\n",
              "      }\n",
              "\n",
              "      [theme=dark] .colab-df-generate {\n",
              "        background-color: #3B4455;\n",
              "        fill: #D2E3FC;\n",
              "      }\n",
              "\n",
              "      [theme=dark] .colab-df-generate:hover {\n",
              "        background-color: #434B5C;\n",
              "        box-shadow: 0px 1px 3px 1px rgba(0, 0, 0, 0.15);\n",
              "        filter: drop-shadow(0px 1px 2px rgba(0, 0, 0, 0.3));\n",
              "        fill: #FFFFFF;\n",
              "      }\n",
              "    </style>\n",
              "    <button class=\"colab-df-generate\" onclick=\"generateWithVariable('initial_train_df')\"\n",
              "            title=\"Generate code using this dataframe.\"\n",
              "            style=\"display:none;\">\n",
              "\n",
              "  <svg xmlns=\"http://www.w3.org/2000/svg\" height=\"24px\"viewBox=\"0 0 24 24\"\n",
              "       width=\"24px\">\n",
              "    <path d=\"M7,19H8.4L18.45,9,17,7.55,7,17.6ZM5,21V16.75L18.45,3.32a2,2,0,0,1,2.83,0l1.4,1.43a1.91,1.91,0,0,1,.58,1.4,1.91,1.91,0,0,1-.58,1.4L9.25,21ZM18.45,9,17,7.55Zm-12,3A5.31,5.31,0,0,0,4.9,8.1,5.31,5.31,0,0,0,1,6.5,5.31,5.31,0,0,0,4.9,4.9,5.31,5.31,0,0,0,6.5,1,5.31,5.31,0,0,0,8.1,4.9,5.31,5.31,0,0,0,12,6.5,5.46,5.46,0,0,0,6.5,12Z\"/>\n",
              "  </svg>\n",
              "    </button>\n",
              "    <script>\n",
              "      (() => {\n",
              "      const buttonEl =\n",
              "        document.querySelector('#id_d96af128-0806-482e-8e64-23fa6e1185fe button.colab-df-generate');\n",
              "      buttonEl.style.display =\n",
              "        google.colab.kernel.accessAllowed ? 'block' : 'none';\n",
              "\n",
              "      buttonEl.onclick = () => {\n",
              "        google.colab.notebook.generateWithVariable('initial_train_df');\n",
              "      }\n",
              "      })();\n",
              "    </script>\n",
              "  </div>\n",
              "\n",
              "    </div>\n",
              "  </div>\n"
            ],
            "application/vnd.google.colaboratory.intrinsic+json": {
              "type": "dataframe",
              "variable_name": "initial_train_df",
              "summary": "{\n  \"name\": \"initial_train_df\",\n  \"rows\": 1014,\n  \"fields\": [\n    {\n      \"column\": \"prot_id\",\n      \"properties\": {\n        \"dtype\": \"string\",\n        \"num_unique_values\": 1014,\n        \"samples\": [\n          \"Q79ZR9\",\n          \"P76045\",\n          \"P00217\"\n        ],\n        \"semantic_type\": \"\",\n        \"description\": \"\"\n      }\n    },\n    {\n      \"column\": \"binding_sites\",\n      \"properties\": {\n        \"dtype\": \"object\",\n        \"semantic_type\": \"\",\n        \"description\": \"\"\n      }\n    },\n    {\n      \"column\": \"ligand_type\",\n      \"properties\": {\n        \"dtype\": \"category\",\n        \"num_unique_values\": 10,\n        \"samples\": [\n          \"['nuclear', 'metal', 'small']\",\n          \"['small']\",\n          \"['nuclear', 'small']\"\n        ],\n        \"semantic_type\": \"\",\n        \"description\": \"\"\n      }\n    },\n    {\n      \"column\": \"sequence\",\n      \"properties\": {\n        \"dtype\": \"string\",\n        \"num_unique_values\": 1014,\n        \"samples\": [\n          \"MTTAQHPTDEDLLARVLVPYKDHCKYLRSAVVTESDTGRAVARCEFAIPESCYIDDTGHLNSVEVNICYNQMMYYLVAKSVKEGLLAGFESWTLDDFWKHQLPDILIARFASNFRRPVNPRAFSGEMEFQSVTRRAPAGGIPFLHAETAYRYWDADSGRCDGEAVLAFVNIP\",\n          \"MKKLLPCTALVMCAGMACAQAEERNDWHFNIGAMYEIENVEGYGEDMDGLAEPSVYFNAANGPWRIALAYYQEGPVDYSAGKRGTWFDRPELEVHYQFLENDDFSFGLTGGFRNYGYHYVDEPGKDTANMQRWKIAPDWDVKLTDDLRFNGWLSMYKFANDLNTTGYADTRVETETGLQYTFNETVALRVNYYLERGFNMDDSRNNGEFSTQEIRAYLPLTLGNHSVTPYTRIGLDRWSNWDWQDDIEREGHDFNRVGLFYGYDFQNGLSVSLEYAFEWQDHDEGDSDKFHYAGVGVNYSF\",\n          \"MPTVEYLNYEVVDDNGWDMYDDDVFGEASDMDLDDEDYGSLEVNEGEYILEAAEAQGYDWPFSCRAGACANCAAIVLEGDIDMDMQQILSDEEVEDKNVRLTCIGSPDADEVKIVYNAKHLDYLQNRVI\"\n        ],\n        \"semantic_type\": \"\",\n        \"description\": \"\"\n      }\n    },\n    {\n      \"column\": \"sequence_length\",\n      \"properties\": {\n        \"dtype\": \"number\",\n        \"std\": 77,\n        \"min\": 31,\n        \"max\": 556,\n        \"num_unique_values\": 296,\n        \"samples\": [\n          365,\n          284,\n          139\n        ],\n        \"semantic_type\": \"\",\n        \"description\": \"\"\n      }\n    },\n    {\n      \"column\": \"metal_binding\",\n      \"properties\": {\n        \"dtype\": \"string\",\n        \"num_unique_values\": 693,\n        \"samples\": [\n          \"[0, 0, 0, 0, 0, 0, 0, 0, 0, 0, 0, 0, 0, 0, 0, 0, 0, 0, 0, 0, 0, 0, 0, 0, 1, 0, 0, 0, 1, 0, 0, 0, 0, 0, 0, 0, 0, 0, 0, 0, 0, 0, 0, 0, 0, 0, 0, 0, 0, 0, 0, 0, 0, 0, 0, 0, 0, 0, 0, 0, 0, 0, 0, 0, 0, 0, 0, 0, 0, 0, 0, 0]\",\n          \"[0, 0, 0, 0, 0, 0, 0, 0, 0, 0, 0, 0, 0, 0, 0, 0, 0, 0, 0, 0, 0, 0, 0, 0, 0, 0, 0, 0, 0, 0, 0, 0, 0, 0, 0, 0, 0, 0, 0, 0, 0, 0, 1, 0, 0, 0, 0, 0, 0, 0, 0, 0, 0, 0, 0, 0, 0, 0, 0, 0, 0, 0, 0, 0, 0, 0, 0, 0, 0, 0, 0, 0, 0, 0, 0, 0, 0, 0, 0, 0, 0, 0, 0, 0, 0, 0, 0, 0, 0, 0, 0, 0, 0, 0, 0, 0, 0, 0, 0, 0, 0, 0, 0, 0, 0, 0, 0, 0, 0, 0, 0, 0, 0, 0, 0, 0, 0, 0, 0, 0, 0, 0, 0, 0, 0, 0, 0, 0, 0, 0, 0, 0, 0, 0, 0, 0, 0, 0, 0, 0, 0, 0, 0, 0, 1, 0, 1, 0, 0, 1, 0, 0, 0, 0, 0, 0, 0, 0, 0, 0, 0, 0, 0, 0, 0, 0, 0, 0, 0, 0, 0, 0, 0, 0, 0, 0, 0, 0, 0, 0, 0, 0, 0, 0, 0, 0, 0, 0, 0, 1, 0, 0, 0, 0, 0, 0, 0, 0, 0, 0, 0, 0, 0, 0, 0, 0, 0, 0, 0, 0, 0, 0, 0, 0, 0, 0, 0, 0, 1, 0, 0, 0, 0, 0, 0, 0, 0, 0]\",\n          \"[0, 0, 0, 0, 0, 0, 0, 0, 0, 0, 0, 0, 0, 0, 0, 0, 0, 0, 0, 0, 0, 0, 0, 0, 0, 0, 0, 0, 0, 0, 0, 0, 0, 0, 0, 0, 0, 0, 0, 0, 0, 0, 0, 0, 0, 0, 0, 0, 0, 0, 0, 0, 0, 0, 0, 0, 0, 0, 0, 0, 0, 0, 0, 0, 0, 0, 0, 0, 0, 0, 0, 0, 0, 0, 0, 0, 0, 0, 0, 0, 0, 0, 0, 0, 0, 0, 0, 0, 0, 0, 0, 0, 0, 0, 0, 0, 0, 0, 0, 0, 0, 0, 0, 0, 0, 0, 0, 0, 0, 0, 0, 0, 0, 0, 0, 0, 0, 0, 0, 0, 0, 0, 0, 0, 0, 0, 0, 0, 0, 0, 0, 0, 0, 0, 0, 0, 0, 0, 0, 0, 0, 0, 0, 0, 0, 0, 0, 0, 0, 0, 0, 0, 0, 0, 0, 0, 0, 0, 0, 0, 0, 0, 0, 0, 0, 0, 0, 0, 0, 0, 0, 0, 0, 0, 0, 0, 0, 0, 0, 0, 0, 0, 0, 0, 0, 0, 1, 0, 1, 0, 0, 0, 0, 0, 0, 0, 0, 0, 0, 0, 0, 0, 0, 0, 0, 0, 0, 0, 0, 0, 0, 0, 0, 0, 0, 0]\"\n        ],\n        \"semantic_type\": \"\",\n        \"description\": \"\"\n      }\n    },\n    {\n      \"column\": \"small_binding\",\n      \"properties\": {\n        \"dtype\": \"string\",\n        \"num_unique_values\": 811,\n        \"samples\": [\n          \"[0, 0, 0, 0, 0, 0, 0, 0, 0, 0, 0, 0, 0, 0, 0, 0, 0, 0, 0, 0, 0, 0, 0, 0, 0, 0, 0, 0, 0, 0, 0, 0, 0, 0, 0, 0, 0, 0, 0, 0, 0, 0, 0, 0, 0, 0, 0, 0, 0, 0, 1, 1, 1, 0, 0, 0, 0, 0, 1, 0, 1, 0, 0, 1, 1, 0, 0, 0, 0, 0, 0, 1, 1, 1, 0, 0, 0, 0, 0, 0, 0, 0, 0, 0, 0, 0, 0, 0, 0, 0, 0, 0, 0, 0, 0, 0, 0, 0, 0, 1, 0, 0, 0, 0, 0, 0, 0, 0, 0, 0, 0, 0, 0, 0, 0, 0, 0, 0, 0, 0, 0, 0, 0, 0, 0, 0, 0, 0, 0, 0, 0, 0, 0, 0, 0, 0, 0, 0, 0, 0, 0, 0, 0, 0, 0, 0, 0, 0, 0, 0, 0, 0, 0, 0, 0, 0, 0, 0, 0, 0, 0, 0, 0, 0, 0, 0, 0, 0, 0, 0, 0, 0, 0, 0, 0, 0, 0, 0, 0, 0, 0, 0, 0, 0, 0, 0, 0, 0, 0, 0, 0, 0, 0, 0, 0]\",\n          \"[0, 0, 0, 0, 0, 0, 0, 0, 0, 0, 0, 0, 0, 0, 0, 0, 0, 0, 0, 0, 0, 0, 0, 0, 0, 0, 0, 0, 0, 0, 0, 0, 0, 0, 0, 0, 0, 0, 0, 0, 0, 0, 0, 0, 0, 0, 0, 0, 0, 0, 0, 0, 0, 0, 0, 0, 0, 0, 0, 0, 0, 0, 0, 0, 0, 0, 0, 0, 0, 0, 0, 0, 0, 0, 0, 0, 0, 0, 0, 0, 0, 0, 0, 0, 0, 0, 0, 0, 0, 0, 0, 0, 0, 0, 0, 0, 0, 0, 0, 0, 0, 0, 0, 0, 0, 0, 0, 0, 0, 0, 0, 0, 0, 1, 0, 0, 0, 0, 1, 0, 0, 0, 0, 0, 0, 0, 0, 0, 0, 0, 0, 0, 0, 0, 0, 0, 0, 0, 0, 0, 0, 0, 0, 0, 0, 0, 0, 0, 0, 0, 0, 0, 0, 0, 0, 0, 0, 0, 0, 0, 0, 0, 1, 1, 0, 1, 0, 1, 0, 0, 0, 0, 0, 0, 0, 0, 0, 0, 0, 0, 0, 0, 0, 0, 0, 0, 0, 0, 0, 0, 0, 1, 0, 1, 0, 0, 0, 0, 0, 0, 0, 0, 0, 0, 0, 0, 0, 0, 0, 0, 0, 0, 0, 0, 0, 0, 0, 0, 0, 0, 0, 0, 0, 0, 0, 0, 0, 0]\",\n          \"[0, 0, 0, 0, 0, 0, 0, 0, 0, 0, 0, 0, 0, 0, 0, 0, 0, 0, 0, 0, 0, 0, 0, 0, 0, 0, 0, 0, 0, 0, 0, 0, 0, 0, 0, 0, 0, 0, 0, 0, 0, 0, 0, 0, 0, 0, 0, 0, 0, 0, 0, 0, 0, 0, 0, 0, 0, 0, 0, 0, 0, 0, 0, 0, 0, 0, 0, 0, 0, 0, 0, 0, 0, 0, 0, 0, 0, 0, 0, 0, 0, 0, 0, 0, 0, 0, 0, 0, 0, 0, 0, 0, 0, 0, 0, 0, 0, 0, 0, 0, 0, 0, 0, 0, 0, 0, 0, 0, 0, 0, 0, 0, 0, 0, 0, 0, 0, 0, 0, 0, 0, 0, 0, 0, 0, 0, 0, 0, 0, 0, 0, 0, 0, 0, 0, 0, 0, 0, 0, 0, 0, 0, 0, 0, 0, 0, 0, 0, 0, 0, 0, 0, 0, 0, 0, 0, 0, 0, 0, 0, 0, 0, 0, 0, 0, 0, 0, 0, 0, 0, 0, 0, 0, 0, 0, 0, 0, 0, 0, 0, 0, 0, 0, 0, 0, 0, 0, 0, 0, 0, 0, 0, 0, 0, 0, 0, 0, 0, 0, 0, 0, 0, 0, 0, 0, 0, 0]\"\n        ],\n        \"semantic_type\": \"\",\n        \"description\": \"\"\n      }\n    },\n    {\n      \"column\": \"nuclear_binding\",\n      \"properties\": {\n        \"dtype\": \"category\",\n        \"num_unique_values\": 392,\n        \"samples\": [\n          \"[0, 0, 0, 0, 0, 1, 0, 0, 0, 0, 0, 0, 0, 0, 0, 0, 1, 0, 1, 1, 1, 0, 0, 0, 0, 0, 0, 1, 0, 0, 0, 1, 0, 0, 1, 1, 0, 0, 1, 1, 0, 0, 0, 0, 0, 0, 0, 0, 0, 0, 0, 0, 0, 0, 0, 0, 0, 0, 0, 0, 0, 0, 0, 0, 0, 0, 0, 0, 0, 0, 0, 0, 0, 0, 0, 0, 0, 0, 0, 1, 1, 1, 0, 1, 1, 1, 1, 1, 0, 1, 1, 1, 1, 0, 0, 1, 0, 0, 0, 1, 0, 0, 0, 0, 0, 0, 0, 0, 0, 1, 0, 0, 1, 1, 0, 0, 1, 1, 0, 0, 0, 0, 0, 0, 0, 0, 0, 0, 0, 0, 0, 0, 0, 0, 0, 0, 0, 0, 0, 0, 0, 0]\",\n          \"[0, 0, 0, 0, 0, 0, 0, 0, 0, 0, 0, 0, 0, 0, 0, 0, 0, 0, 0, 0, 0, 0, 0, 0, 0, 0, 0, 0, 0, 0, 0, 0, 0, 0, 0, 0, 0, 0, 0, 0, 0, 0, 0, 0, 0, 0, 0, 0, 0, 0, 0, 0, 0, 0, 0, 0, 0, 0, 0, 0, 0, 0, 0, 0, 0, 0, 0, 0, 0, 0, 0, 0, 0, 0, 0, 0, 0, 0, 0, 0, 0, 0, 0, 0, 0, 0, 0, 0, 0, 0, 0, 0, 0, 0, 0, 0, 0, 0, 0, 0, 0, 0, 0, 0, 0, 0, 0, 0, 0, 0, 0, 0, 0, 0, 0, 0, 0, 0, 0, 0, 0, 0, 0, 0, 0, 0, 0, 0, 0, 0, 0, 0, 0, 0, 0, 0, 0, 1, 1, 0, 1, 1, 1, 1, 0, 0, 0, 0, 0, 0, 0, 0, 0, 0, 0, 0, 0, 0, 0, 0, 1, 0, 0, 0, 0, 0, 1, 0, 0, 0, 0, 0, 0, 0, 0, 0, 0, 0, 0, 0, 0, 1, 1, 1, 0, 1, 1, 0, 1, 0, 1, 0, 1, 0, 0, 0, 0, 0, 0, 0, 0, 0, 0, 0, 0, 0, 0, 0, 0, 0, 0, 0, 0, 0, 0, 0, 0, 0, 0, 0, 0, 0, 0, 0, 0, 0, 0, 0, 0, 0, 0, 0, 0, 0, 0, 0, 0, 0, 0, 0, 0, 0, 0, 0, 0, 0, 0, 0, 0, 0, 0, 0, 0, 0, 0, 0, 0, 0, 0, 0, 0, 0, 0, 0, 0, 0, 0, 0, 0, 0, 0, 0, 0, 0, 0, 0, 0, 0, 0, 0, 0, 0, 0, 0, 0, 0, 0, 0, 0]\",\n          \"[0, 0, 0, 0, 0, 0, 0, 0, 0, 0, 0, 0, 0, 0, 0, 0, 0, 0, 0, 0, 0, 0, 0, 0, 0, 0, 0, 0, 0, 0, 0, 0, 0, 0, 0, 0, 0, 0, 0, 0, 0, 0, 0, 0, 0, 0, 0, 0, 0, 0, 0, 0, 0, 0, 0, 0, 0, 0, 0, 0, 0, 0, 0, 0, 0, 0, 0, 0, 0, 0, 0, 0, 0, 0, 0, 0, 0, 0, 0, 0, 0, 0, 0, 0, 0, 0, 0, 0, 0, 0, 0, 0, 0, 0, 0, 0, 0, 0, 0, 0, 0, 0, 0, 0, 0, 0, 0, 0, 0, 0, 0, 0, 0, 0, 0, 0, 0, 0, 0, 0, 0, 0, 0, 0, 0, 0, 0, 0, 0, 0, 0, 0, 0, 0, 0, 0, 0, 0, 0, 0, 0, 0, 0, 0, 0, 0, 0, 0, 0, 0, 0, 0, 0, 0, 0, 0, 0, 0, 0, 0, 0, 0, 0, 0, 0, 0, 0, 0, 0, 0, 0, 0, 0, 0, 0, 0, 0, 0, 0, 0, 0, 0, 0, 0, 0, 0, 0, 0, 0, 0, 0, 0, 0, 0, 0, 0, 0, 0, 0, 0, 0, 0, 0, 0, 0, 0, 0, 0, 0, 0, 0, 0, 0, 0, 0, 0, 0, 0, 0, 0, 0, 0, 0, 0, 0, 0, 0, 0, 0, 0, 0, 0, 0, 0, 0, 0, 0, 0, 0, 0, 0, 0, 0, 0, 0, 0, 0, 0, 0, 0, 0, 0, 0, 0, 0, 0, 0, 0, 0, 0, 0, 0, 0, 0, 0, 0, 0, 0, 0, 0, 0, 0, 0, 0, 0, 0, 0, 0, 0, 0, 0, 0, 0, 0, 0, 0, 0, 0, 0, 0, 0, 0, 0, 0, 0, 0, 0, 0, 0, 0, 0, 0, 0, 0, 0, 0, 0, 0, 0, 0, 0, 0, 0, 0, 0, 0, 0, 0, 0, 0, 0, 0, 0, 0, 0, 0, 0, 0, 0, 0, 0, 0, 0, 0, 0, 0, 0, 0, 0, 0, 0, 0, 0, 0, 0, 0, 0, 0, 0, 0, 0, 0, 0, 0, 0, 0, 0, 0, 0, 0, 0, 0, 0, 0, 0, 0, 0, 0, 0, 0, 0, 0, 0, 0, 0, 0, 0, 0, 0, 0, 0, 0, 0, 0, 0]\"\n        ],\n        \"semantic_type\": \"\",\n        \"description\": \"\"\n      }\n    },\n    {\n      \"column\": \"any_ligand_binding_sites\",\n      \"properties\": {\n        \"dtype\": \"object\",\n        \"semantic_type\": \"\",\n        \"description\": \"\"\n      }\n    }\n  ]\n}"
            }
          },
          "metadata": {},
          "execution_count": 5
        }
      ]
    },
    {
      "cell_type": "code",
      "source": [
        "np.random.seed(42)\n",
        "excluded_protein_id = ['Q9NZV6']\n",
        "\n",
        "train_df = initial_train_df[~initial_train_df['prot_id'].isin(excluded_protein_id)]\n",
        "\n",
        "# train_df, val_df = train_test_split(\n",
        "#     needed_training_sites_df,\n",
        "#     test_size = 0.1,  # 90% train, 10% validation\n",
        "#     stratify = None,\n",
        "#     random_state = 42\n",
        "# )"
      ],
      "metadata": {
        "id": "h_hAzEgI92hX"
      },
      "execution_count": 6,
      "outputs": []
    },
    {
      "cell_type": "code",
      "source": [
        "test_df = pd.read_csv(\"/content/drive/MyDrive/Protein-binding/data/development_set/full_grouped_test_binding_sites_df.csv\")\n",
        "test_df['binding_sites'] = test_df['binding_sites'].apply(ast.literal_eval)\n",
        "test_df['any_ligand_binding_sites'] = test_df['any_ligand_binding_sites'].apply(ast.literal_eval)"
      ],
      "metadata": {
        "id": "WgswJ0qw93Pf"
      },
      "execution_count": 7,
      "outputs": []
    },
    {
      "cell_type": "code",
      "source": [
        "def split_into_chunks(sequences, labels, chunk_size = 1000):\n",
        "    \"\"\"Split sequences and labels into chunks of size \"chunk_size\" or less.\"\"\"\n",
        "    new_sequences = []\n",
        "    new_labels = []\n",
        "    for seq, lbl in zip(sequences, labels):\n",
        "        if len(seq) > chunk_size:\n",
        "            # Split the sequence and labels into chunks of size \"chunk_size\" or less\n",
        "            for i in range(0, len(seq), chunk_size):\n",
        "                new_sequences.append(seq[i:i+chunk_size])\n",
        "                new_labels.append(lbl[i:i+chunk_size])\n",
        "        else:\n",
        "            new_sequences.append(seq)\n",
        "            new_labels.append(lbl)\n",
        "\n",
        "    return new_sequences, new_labels"
      ],
      "metadata": {
        "id": "R3QyFbHo95Ki"
      },
      "execution_count": 8,
      "outputs": []
    },
    {
      "cell_type": "code",
      "source": [
        "# Initial sequences\n",
        "test_seq = test_df['sequence'].tolist()\n",
        "test_labels = test_df['any_ligand_binding_sites'].tolist()\n",
        "\n",
        "train_seq = train_df['sequence'].tolist()\n",
        "train_labels = train_df['any_ligand_binding_sites'].tolist()\n",
        "\n",
        "# val_seq = val_df['sequence'].tolist()\n",
        "# val_labels = val_df['any_ligand_binding_sites'].tolist()\n",
        "\n",
        "# Apply new sequences by chunking\n",
        "chunk_size = 1000\n",
        "\n",
        "test_seq, test_labels = split_into_chunks(test_seq, test_labels, chunk_size)\n",
        "train_seq, train_labels = split_into_chunks(train_seq, train_labels, chunk_size)\n",
        "# val_seq, val_labels = split_into_chunks(val_seq, val_labels, chunk_size)"
      ],
      "metadata": {
        "id": "udz4ADny96mG"
      },
      "execution_count": 9,
      "outputs": []
    },
    {
      "cell_type": "markdown",
      "source": [
        "### Tokenization and get embeddings from ESM-2 language model"
      ],
      "metadata": {
        "id": "jpMCt3zk45W8"
      }
    },
    {
      "cell_type": "code",
      "source": [
        "pretrained_model = \"facebook/esm2_t33_650M_UR50D\"\n",
        "\n",
        "tokenizer = EsmTokenizer.from_pretrained(pretrained_model)\n",
        "max_sequence_length = 1000\n",
        "\n",
        "train_tokenized = tokenizer(train_seq, padding=True, truncation=True, max_length=max_sequence_length, return_tensors=\"pt\", is_split_into_words=False)\n",
        "test_tokenized = tokenizer(test_seq, padding=True, truncation=True, max_length=max_sequence_length, return_tensors=\"pt\", is_split_into_words=False)\n",
        "# eval_tokenized = tokenizer(val_seq, padding=True, truncation=True, max_length=max_sequence_length, return_tensors=\"pt\", is_split_into_words=False)"
      ],
      "metadata": {
        "colab": {
          "base_uri": "https://localhost:8080/"
        },
        "id": "KQn8Ir0O447i",
        "outputId": "ca2f9b24-a09a-4a36-acad-c5ea5f3525a8"
      },
      "execution_count": 10,
      "outputs": [
        {
          "output_type": "stream",
          "name": "stderr",
          "text": [
            "/usr/local/lib/python3.11/dist-packages/huggingface_hub/utils/_auth.py:94: UserWarning: \n",
            "The secret `HF_TOKEN` does not exist in your Colab secrets.\n",
            "To authenticate with the Hugging Face Hub, create a token in your settings tab (https://huggingface.co/settings/tokens), set it as secret in your Google Colab and restart your session.\n",
            "You will be able to reuse this secret in all of your notebooks.\n",
            "Please note that authentication is recommended but still optional to access public models or datasets.\n",
            "  warnings.warn(\n"
          ]
        }
      ]
    },
    {
      "cell_type": "code",
      "source": [
        "device = \"cuda:0\" if torch.cuda.is_available() else \"cpu\""
      ],
      "metadata": {
        "id": "dhjFW9Ey6UJb"
      },
      "execution_count": 11,
      "outputs": []
    },
    {
      "cell_type": "code",
      "source": [
        "def get_embeddings_list(tokenized_dataset, batch_size, return_hidden_states = True, return_attentions = False):\n",
        "    ids_list = torch.tensor(tokenized_dataset['input_ids']).to(device)\n",
        "    attention_mask_list = torch.tensor(tokenized_dataset['attention_mask']).to(device)\n",
        "\n",
        "    esm2 = EsmModel.from_pretrained(pretrained_model).to(device)\n",
        "\n",
        "    num_batches = len(ids_list) // batch_size + (len(ids_list) % batch_size > 0)\n",
        "    embeddings = []\n",
        "\n",
        "    for i in range(num_batches):\n",
        "        start_idx = i * batch_size\n",
        "        end_idx = min((i + 1) * batch_size, len(ids_list))\n",
        "\n",
        "        batch_ids = ids_list[start_idx:end_idx]\n",
        "        batch_attention_mask = attention_mask_list[start_idx:end_idx]\n",
        "\n",
        "        with torch.no_grad():\n",
        "            outputs = esm2(input_ids=batch_ids,\n",
        "                           attention_mask=batch_attention_mask,\n",
        "                           output_hidden_states = return_hidden_states,\n",
        "                           output_attentions = return_attentions)\n",
        "\n",
        "            hidden_states = outputs.hidden_states\n",
        "            last_hidden_state = hidden_states[-1]\n",
        "\n",
        "            batch_embeddings = []\n",
        "            for j in range(last_hidden_state.shape[0]):\n",
        "                mask = batch_attention_mask[j].bool()\n",
        "                seq_embeddings = last_hidden_state[j][mask]\n",
        "                seq_embeddings = seq_embeddings[1:-1]\n",
        "                batch_embeddings.append(seq_embeddings)\n",
        "\n",
        "            embeddings.extend(batch_embeddings)\n",
        "\n",
        "    return embeddings"
      ],
      "metadata": {
        "id": "kOJD385x9s8M"
      },
      "execution_count": 12,
      "outputs": []
    },
    {
      "cell_type": "code",
      "source": [
        "gc.collect()  # Force garbage collection to potentially free up memory\n",
        "torch.cuda.empty_cache()  # Empty the CUDA cache"
      ],
      "metadata": {
        "id": "jbDLSnAFlrpO"
      },
      "execution_count": 13,
      "outputs": []
    },
    {
      "cell_type": "code",
      "source": [
        "train_embeddings = get_embeddings_list(train_tokenized, 8)\n",
        "test_embeddings = get_embeddings_list(test_tokenized, 8)\n",
        "# eval_embeddings = get_embeddings_list(eval_tokenized, 8)"
      ],
      "metadata": {
        "colab": {
          "base_uri": "https://localhost:8080/"
        },
        "id": "h2_epdc8-ssC",
        "outputId": "0c4ca172-e6fc-4f0d-d037-fd88043ea52b"
      },
      "execution_count": 14,
      "outputs": [
        {
          "output_type": "stream",
          "name": "stderr",
          "text": [
            "<ipython-input-12-73a4eb2f2151>:2: UserWarning: To copy construct from a tensor, it is recommended to use sourceTensor.clone().detach() or sourceTensor.clone().detach().requires_grad_(True), rather than torch.tensor(sourceTensor).\n",
            "  ids_list = torch.tensor(tokenized_dataset['input_ids']).to(device)\n",
            "<ipython-input-12-73a4eb2f2151>:3: UserWarning: To copy construct from a tensor, it is recommended to use sourceTensor.clone().detach() or sourceTensor.clone().detach().requires_grad_(True), rather than torch.tensor(sourceTensor).\n",
            "  attention_mask_list = torch.tensor(tokenized_dataset['attention_mask']).to(device)\n",
            "Some weights of EsmModel were not initialized from the model checkpoint at facebook/esm2_t33_650M_UR50D and are newly initialized: ['esm.pooler.dense.bias', 'esm.pooler.dense.weight']\n",
            "You should probably TRAIN this model on a down-stream task to be able to use it for predictions and inference.\n",
            "Some weights of EsmModel were not initialized from the model checkpoint at facebook/esm2_t33_650M_UR50D and are newly initialized: ['esm.pooler.dense.bias', 'esm.pooler.dense.weight']\n",
            "You should probably TRAIN this model on a down-stream task to be able to use it for predictions and inference.\n"
          ]
        }
      ]
    },
    {
      "cell_type": "code",
      "source": [
        "# import pickle\n",
        "\n",
        "# with open('/content/drive/MyDrive/Protein-binding/train_embeddings.pkl', 'wb') as f:\n",
        "#        pickle.dump(train_embeddings, f)\n",
        "\n",
        "# with open('/content/drive/MyDrive/Protein-binding/test_embeddings.pkl', 'wb') as f:\n",
        "#     pickle.dump(test_embeddings, f)"
      ],
      "metadata": {
        "id": "3uAzAtdQTLKG"
      },
      "execution_count": 15,
      "outputs": []
    },
    {
      "cell_type": "code",
      "source": [
        "with open('/content/drive/MyDrive/Protein-binding/train_embeddings.pkl', 'rb') as f:\n",
        "       train_embeddings = pickle.load(f)\n",
        "\n",
        "with open('/content/drive/MyDrive/Protein-binding/test_embeddings.pkl', 'rb') as f:\n",
        "    test_embeddings = pickle.load(f)"
      ],
      "metadata": {
        "id": "pZ2TP3euTUg-"
      },
      "execution_count": 16,
      "outputs": []
    },
    {
      "cell_type": "markdown",
      "source": [
        "### Features extraction"
      ],
      "metadata": {
        "id": "wIi3EfmI2-5C"
      }
    },
    {
      "cell_type": "code",
      "source": [
        "def get_structure(prot_id, pdb_file):\n",
        "    parser = PDB.PDBParser()\n",
        "    structure = parser.get_structure(prot_id, pdb_file)\n",
        "    return structure\n",
        "\n",
        "def extract_coordinates(structure):\n",
        "    # Extract Cα coordinates (central carbon atom)\n",
        "    coordinates = []\n",
        "    for model in structure:\n",
        "        for chain in model:\n",
        "            for residue in chain:\n",
        "                if \"CA\" in residue:  # Get Cα atom\n",
        "                    ca_atom = residue[\"CA\"]\n",
        "                    coord = ca_atom.get_coord()  # Returns numpy array [x, y, z]\n",
        "                    coordinates.append(coord)\n",
        "\n",
        "    return coordinates\n",
        "\n",
        "def get_amino_acid_types(structure):\n",
        "    amino_acids = []\n",
        "    for model in structure:\n",
        "        for chain in model:\n",
        "            for residue in chain:\n",
        "                # Get residue name (3-letter code)\n",
        "                if not is_aa(residue):\n",
        "                    continue\n",
        "                res_name = residue.get_resname()\n",
        "                # Convert to 1-letter code if needed\n",
        "                one_letter = seq1(res_name)\n",
        "                amino_acids.append(one_letter)\n",
        "    return amino_acids\n",
        "\n",
        "def get_secondary_structure_mdtraj(pdb_file, sequence_length):\n",
        "    \"\"\"\n",
        "    Extract secondary structure features from a .PDB file using mdtraj.\n",
        "\n",
        "    Args:\n",
        "        pdb_file (str): Path to the .PDB file.\n",
        "        sequence_length (int): Length of the protein sequence.\n",
        "\n",
        "    Returns:\n",
        "        dict: A dictionary with:\n",
        "            - 'raw': List of raw secondary structure codes.\n",
        "            - 'one_hot': Tensor of one-hot encoded secondary structure.\n",
        "    \"\"\"\n",
        "    # Load the .PDB file with mdtraj\n",
        "    traj = md.load(pdb_file)\n",
        "\n",
        "    # Compute secondary structure\n",
        "    ss = md.compute_dssp(traj)[0]  # Returns codes like 'H', 'E', 'C', '-'('NA')\n",
        "\n",
        "    # One-hot encode\n",
        "    ss_onehot = []\n",
        "    for code in ss:\n",
        "        ss_onehot.append([\n",
        "            1 if code == 'H' else 0,\n",
        "            1 if code == 'E' else 0,\n",
        "            1 if code == 'T' else 0,\n",
        "            1 if code == 'C' or code == 'NA' else 0\n",
        "        ])\n",
        "\n",
        "    ss_onehot = torch.tensor(ss_onehot, dtype=torch.float32)\n",
        "\n",
        "    # Pad with zeros to match sequence length\n",
        "    if ss_onehot.shape[0] < sequence_length:\n",
        "        padding = torch.zeros((sequence_length - ss_onehot.shape[0], ss_onehot.shape[1]), dtype=torch.float32)\n",
        "        ss_onehot = torch.cat([ss_onehot, padding], dim=0)\n",
        "\n",
        "    return {\n",
        "        \"raw\": ss.tolist(),\n",
        "        \"one_hot\": ss_onehot\n",
        "    }\n",
        "\n",
        "def calculate_residue_distances(coordinates):\n",
        "    \"\"\"\n",
        "    Calculate pairwise distances between residues in a protein structure.\n",
        "    Args: Coordinates (list): List of residue atom's coordinates.\n",
        "    Returns:\n",
        "        np.ndarray: 2D array of pairwise distances.\n",
        "    \"\"\"\n",
        "    num_residues = len(coordinates)\n",
        "    distances = np.zeros((num_residues, num_residues))\n",
        "\n",
        "    for i in range(num_residues):\n",
        "        for j in range(i + 1, num_residues):\n",
        "            dist = np.linalg.norm(coordinates[i] - coordinates[j])\n",
        "            distances[i, j] = distances[j, i] = dist\n",
        "\n",
        "    return distances"
      ],
      "metadata": {
        "id": "Cxe0vMqb3iOY"
      },
      "execution_count": 17,
      "outputs": []
    },
    {
      "cell_type": "code",
      "source": [
        "# def get_dihedral_angles(pdb_file):\n",
        "#     traj = md.load(pdb_file)\n",
        "#     # Compute phi and psi angles\n",
        "#     phi_indices, phi_angles = md.compute_phi(traj)\n",
        "#     psi_indices, psi_angles = md.compute_psi(traj)\n",
        "\n",
        "#     # Convert to degrees and create tensors\n",
        "#     phi_angles = torch.tensor(np.degrees(phi_angles[0]), dtype=torch.float32).unsqueeze(1)  # Shape: [num_residues-1, 1]\n",
        "#     psi_angles = torch.tensor(np.degrees(psi_angles[0]), dtype=torch.float32).unsqueeze(1)  # Shape: [num_residues-1, 1]\n",
        "\n",
        "#     # Pad with zeros for the first/last residue (since phi/psi are not defined for terminal residues)\n",
        "#     #Adjusted Padding to maintain dimension\n",
        "#     phi_angles = torch.cat([torch.zeros(1, 1, dtype=torch.float32), phi_angles], dim=0)\n",
        "#     psi_angles = torch.cat([torch.zeros(1, 1, dtype=torch.float32), psi_angles], dim=0)\n",
        "\n",
        "#     return phi_angles, psi_angles\n",
        "\n",
        "# def get_chi_angles(pdb_file):\n",
        "#     traj = md.load(pdb_file)\n",
        "#     chi_indices, chi_angles = md.compute_chi1(traj)\n",
        "#     chi_angles = torch.tensor(np.degrees(chi_angles[0]), dtype=torch.float32).unsqueeze(1)  # Shape: [num_residues, 1]\n",
        "#     # Pad for residues without chi1 angles (e.g., glycine)\n",
        "#     chi_angles_padded = torch.zeros((traj.n_residues, 1), dtype=torch.float32)\n",
        "#     for i, idx in enumerate(chi_indices[:, 0]):  # Map to residue indices\n",
        "#         chi_angles_padded[idx] = chi_angles[i]\n",
        "#     return chi_angles_padded\n",
        "\n",
        "# def get_b_factors(structure):\n",
        "#     b_factors = []\n",
        "#     for model in structure:\n",
        "#         for chain in model:\n",
        "#             for residue in chain:\n",
        "#                 if \"CA\" in residue:\n",
        "#                     ca_atom = residue[\"CA\"]\n",
        "#                     b_factor = ca_atom.get_bfactor()\n",
        "#                     b_factors.append(b_factor)\n",
        "#     return torch.tensor(b_factors, dtype=torch.float32).unsqueeze(1)  # Shape: [num_residues, 1]"
      ],
      "metadata": {
        "id": "Z4HKWYERE2qk"
      },
      "execution_count": 18,
      "outputs": []
    },
    {
      "cell_type": "code",
      "source": [
        "def get_dihedral_angles(pdb_file, sequence_length):\n",
        "    traj = md.load(pdb_file)\n",
        "    # Compute phi and psi angles\n",
        "    phi_indices, phi_angles = md.compute_phi(traj)\n",
        "    psi_indices, psi_angles = md.compute_psi(traj)\n",
        "\n",
        "    # Convert to degrees and create tensors\n",
        "    phi_angles = torch.tensor(np.degrees(phi_angles[0]), dtype=torch.float32).unsqueeze(1)  # Shape: [num_residues-1, 1]\n",
        "    psi_angles = torch.tensor(np.degrees(psi_angles[0]), dtype=torch.float32).unsqueeze(1)  # Shape: [num_residues-1, 1]\n",
        "\n",
        "    # Pad with zeros to match sequence length\n",
        "    while phi_angles.shape[0] < sequence_length:\n",
        "        phi_angles = torch.cat([phi_angles, torch.zeros(1, 1, dtype=torch.float32)], dim=0)\n",
        "    while psi_angles.shape[0] < sequence_length:\n",
        "        psi_angles = torch.cat([psi_angles, torch.zeros(1, 1, dtype=torch.float32)], dim=0)\n",
        "\n",
        "    return phi_angles, psi_angles\n",
        "\n",
        "def get_chi_angles(pdb_file, sequence_length):\n",
        "    traj = md.load(pdb_file)\n",
        "    chi_indices, chi_angles = md.compute_chi1(traj)\n",
        "    chi_angles = torch.tensor(np.degrees(chi_angles[0]), dtype=torch.float32).unsqueeze(1)  # Shape: [num_residues, 1]\n",
        "\n",
        "    # Pad for residues without chi1 angles (e.g., glycine) to match sequence length\n",
        "    chi_angles_padded = torch.zeros((sequence_length, 1), dtype=torch.float32)\n",
        "    for i, idx in enumerate(chi_indices[:, 0]):  # Map to residue indices\n",
        "        if idx < sequence_length:\n",
        "            chi_angles_padded[idx] = chi_angles[i]\n",
        "\n",
        "    return chi_angles_padded\n",
        "\n",
        "def get_b_factors(structure, sequence_length):\n",
        "    b_factors = []\n",
        "    for model in structure:\n",
        "        for chain in model:\n",
        "            for residue in chain:\n",
        "                if \"CA\" in residue:\n",
        "                    ca_atom = residue[\"CA\"]\n",
        "                    b_factor = ca_atom.get_bfactor()\n",
        "                    b_factors.append(b_factor)\n",
        "\n",
        "    # Pad with zeros if b_factors length is less than sequence length\n",
        "    while len(b_factors) < sequence_length:\n",
        "        b_factors.append(0.0)\n",
        "\n",
        "    return torch.tensor(b_factors, dtype=torch.float32).unsqueeze(1)"
      ],
      "metadata": {
        "id": "SvEqWK9Z3l-Y"
      },
      "execution_count": 19,
      "outputs": []
    },
    {
      "cell_type": "code",
      "source": [
        "def fuse_features(esm2_embeddings, ss_onehot, phi_angles, psi_angles, b_factors):\n",
        "    \"\"\"\n",
        "    Fuse ESM-2 embeddings with structural features.\n",
        "\n",
        "    Args:\n",
        "        esm2_embeddings (torch.Tensor): Shape [num_residues, 1280]\n",
        "        ss_onehot (torch.Tensor): Shape [num_residues, 4]\n",
        "        phi_angles (torch.Tensor): Shape [num_residues, 1]\n",
        "        psi_angles (torch.Tensor): Shape [num_residues, 1]\n",
        "        b_factors (torch.Tensor): Shape [num_residues, 1]\n",
        "\n",
        "    Returns:\n",
        "        torch.Tensor: Fused node features, shape [num_residues, 1287] (1280 + 4 + 1 + 1 + 1)\n",
        "    \"\"\"\n",
        "    # Ensure all features have the same length\n",
        "    num_residues = esm2_embeddings.shape[0]\n",
        "\n",
        "    # Print shapes for debugging\n",
        "    print(f\"esm2_embeddings shape: {esm2_embeddings.shape}\")\n",
        "    print(f\"ss_onehot shape: {ss_onehot.shape}\")\n",
        "    print(f\"phi_angles shape: {phi_angles.shape}\")\n",
        "    print(f\"psi_angles shape: {psi_angles.shape}\")\n",
        "    print(f\"b_factors shape: {b_factors.shape}\")\n",
        "\n",
        "    # Adjust ss_onehot, phi_angles, psi_angles, b_factors if needed\n",
        "    min_length = min(num_residues, ss_onehot.shape[0], phi_angles.shape[0], psi_angles.shape[0], b_factors.shape[0])\n",
        "\n",
        "    esm2_embeddings = esm2_embeddings[:min_length]\n",
        "    ss_onehot = ss_onehot[:min_length]\n",
        "    phi_angles = phi_angles[:min_length]\n",
        "    psi_angles = psi_angles[:min_length]\n",
        "    b_factors = b_factors[:min_length]\n",
        "\n",
        "    # Concatenate all features\n",
        "    node_features = torch.cat([\n",
        "        esm2_embeddings,  # [num_residues, 1280]\n",
        "        ss_onehot,        # [num_residues, 4]\n",
        "        phi_angles,       # [num_residues, 1]\n",
        "        psi_angles,       # [num_residues, 1]\n",
        "        b_factors,        # [num_residues, 1]\n",
        "    ], dim=1)  # Shape: [num_residues, 1287]\n",
        "\n",
        "    return node_features"
      ],
      "metadata": {
        "id": "ONW3_zwXJa24"
      },
      "execution_count": 20,
      "outputs": []
    },
    {
      "cell_type": "code",
      "source": [
        "def create_edge_features(distances, threshold=8.0):\n",
        "    num_residues = distances.shape[0]\n",
        "    contact_map = (distances < threshold) & (distances > 0)\n",
        "    edge_index = torch.nonzero(torch.tensor(contact_map, dtype=torch.bool), as_tuple=False).t()  # Shape: [2, num_edges]\n",
        "\n",
        "    # Vectorized edge attribute computation\n",
        "    src, dst = edge_index[0], edge_index[1]\n",
        "    dists = torch.tensor(distances[src, dst], dtype=torch.float32)\n",
        "    seq_seps = torch.abs(src - dst).float()\n",
        "\n",
        "    # Normalize features\n",
        "    dists = dists / threshold  # Scale to 0–1\n",
        "    seq_seps = seq_seps / num_residues  # Scale to 0–1\n",
        "\n",
        "    edge_attr = torch.stack([dists, seq_seps], dim=1)  # Shape: [num_edges, 2]\n",
        "\n",
        "    return edge_index, edge_attr"
      ],
      "metadata": {
        "id": "I9Aq22_TlYW_"
      },
      "execution_count": 21,
      "outputs": []
    },
    {
      "cell_type": "code",
      "source": [
        "def create_graph_data(node_features, edge_index, edge_attr, labels):\n",
        "    \"\"\"\n",
        "    Create a PyTorch Geometric Data object for the protein graph.\n",
        "\n",
        "    Args:\n",
        "        node_features (torch.Tensor): Shape [num_residues, 1288], fused node features.\n",
        "        edge_index (torch.Tensor): Shape [2, num_edges], indices of connected nodes.\n",
        "        edge_attr (torch.Tensor): Shape [num_edges, 2], edge features.\n",
        "        labels (torch.Tensor): Shape [num_residues], binary labels (0 or 1) for binding sites.\n",
        "\n",
        "    Returns:\n",
        "        Data: PyTorch Geometric Data object.\n",
        "    \"\"\"\n",
        "    return Data(\n",
        "        x=node_features,      # Node features\n",
        "        edge_index=edge_index,  # Edge indices\n",
        "        edge_attr=edge_attr,  # Edge features\n",
        "        y=labels              # Labels for binding site prediction\n",
        "    )"
      ],
      "metadata": {
        "id": "IVUIgi7WA4g3"
      },
      "execution_count": 22,
      "outputs": []
    },
    {
      "cell_type": "markdown",
      "source": [
        "### Test feature extraction"
      ],
      "metadata": {
        "id": "ne4lR4G5E_PG"
      }
    },
    {
      "cell_type": "code",
      "source": [
        "# sample_idx = 540\n",
        "# sample_prot_id = train_df.iloc[sample_idx]['prot_id']\n",
        "# sample_sequence = train_df.iloc[sample_idx]['sequence']\n",
        "# sample_sequence_len = len(train_df.iloc[sample_idx]['sequence'])\n",
        "# sample_labels = train_df.iloc[sample_idx]['any_ligand_binding_sites']\n",
        "# sample_train_embeddings = train_embeddings[sample_idx]\n",
        "\n",
        "# sample_structure_file = f\"/content/drive/MyDrive/Protein-binding/esmFold_pdb_files/{sample_prot_id}.pdb\"\n",
        "\n",
        "# sample_structure = get_structure(sample_prot_id, sample_structure_file)\n",
        "# sample_coordinates = extract_coordinates(sample_structure)\n",
        "# sample_distances = calculate_residue_distances(sample_coordinates)\n",
        "# sample_ss_one_hot = get_secondary_structure_mdtraj(sample_structure_file, sample_sequence_len)['one_hot'].to(device)\n",
        "# sample_phi_angles, sample_psi_angles = get_dihedral_angles(sample_structure_file, sample_sequence_len)\n",
        "# sample_b_factors = get_b_factors(sample_structure, sample_sequence_len).to(device)\n",
        "\n",
        "# print(sample_prot_id)\n",
        "# print(sample_sequence)\n",
        "# print(len(sample_sequence))\n",
        "# print(sample_b_factors.shape)\n",
        "# print(sample_ss_one_hot.shape)\n",
        "# print(sample_phi_angles.shape)\n",
        "# print(sample_psi_angles.shape)"
      ],
      "metadata": {
        "id": "yNmODd-p451i"
      },
      "execution_count": 23,
      "outputs": []
    },
    {
      "cell_type": "code",
      "source": [
        "# edge_index, edge_attr = create_edge_features(sample_distances)\n",
        "# node_features = fuse_features(sample_train_embeddings.to(device), sample_ss_one_hot,\n",
        "#                               sample_phi_angles.to(device), sample_psi_angles.to(device), sample_b_factors)\n",
        "# labels = torch.tensor(sample_labels, dtype = torch.long).to(device)"
      ],
      "metadata": {
        "id": "VYNgWL539Lki"
      },
      "execution_count": 24,
      "outputs": []
    },
    {
      "cell_type": "code",
      "source": [
        "# graph_data = create_graph_data(node_features, edge_index, edge_attr, labels)"
      ],
      "metadata": {
        "id": "YODKFrhsAFee"
      },
      "execution_count": 25,
      "outputs": []
    },
    {
      "cell_type": "code",
      "source": [
        "# print(len(train_df))\n",
        "# print(len(train_labels))\n",
        "# print(len(train_seq))"
      ],
      "metadata": {
        "id": "GgSyv-CAtfiy"
      },
      "execution_count": 26,
      "outputs": []
    },
    {
      "cell_type": "markdown",
      "source": [
        "### Prepare data tensors"
      ],
      "metadata": {
        "id": "pT4TvASC9aOi"
      }
    },
    {
      "cell_type": "code",
      "source": [
        "def get_graph_data(df, embeddings, device):\n",
        "    graph_data_list = []\n",
        "\n",
        "    for idx in tqdm(range(len(df))):\n",
        "        prot_id = df.iloc[idx]['prot_id']\n",
        "        sequence = df.iloc[idx]['sequence']\n",
        "        sequence_len = len(df.iloc[idx]['sequence'])\n",
        "        labels = df.iloc[idx]['any_ligand_binding_sites']\n",
        "        embedding = embeddings[idx]\n",
        "\n",
        "        try:\n",
        "            structure_file = f\"/content/drive/MyDrive/Protein-binding/esmFold_pdb_files/{prot_id}.pdb\"\n",
        "            structure = get_structure(prot_id, structure_file)\n",
        "            coordinates = extract_coordinates(structure)\n",
        "            distances = calculate_residue_distances(coordinates)\n",
        "            ss_one_hot = get_secondary_structure_mdtraj(structure_file, sequence_len)['one_hot'].to(device)\n",
        "            phi_angles, psi_angles = get_dihedral_angles(structure_file, sequence_len)\n",
        "            b_factors = get_b_factors(structure, sequence_len).to(device)\n",
        "        except:\n",
        "            print(f\"PDB file of {prot_id} ID cannot be found\")\n",
        "\n",
        "        edge_index, edge_attr = create_edge_features(distances)\n",
        "        node_features = fuse_features(embedding.to(device), ss_one_hot,\n",
        "                                    phi_angles.to(device), psi_angles.to(device), b_factors)\n",
        "        labels = torch.tensor(labels, dtype = torch.long).to(device)\n",
        "        print(f\"Shape of labels: {labels.shape}\")\n",
        "        graph_data = create_graph_data(node_features, edge_index, edge_attr, labels)\n",
        "\n",
        "        graph_data_list.append(graph_data)\n",
        "\n",
        "    return graph_data_list"
      ],
      "metadata": {
        "id": "u8zjZG1s9dL4"
      },
      "execution_count": 27,
      "outputs": []
    },
    {
      "cell_type": "code",
      "source": [
        "train_graphs_data = get_graph_data(train_df, train_embeddings, device)\n",
        "test_graphs_data = get_graph_data(test_df, test_embeddings, device)"
      ],
      "metadata": {
        "colab": {
          "base_uri": "https://localhost:8080/"
        },
        "id": "uXHJmq2gBOEf",
        "outputId": "b9bc9df1-7f88-47d1-942d-24e98e9336ac"
      },
      "execution_count": 28,
      "outputs": [
        {
          "output_type": "stream",
          "name": "stderr",
          "text": [
            "  0%|          | 1/1013 [00:00<03:23,  4.98it/s]"
          ]
        },
        {
          "output_type": "stream",
          "name": "stdout",
          "text": [
            "esm2_embeddings shape: torch.Size([234, 1280])\n",
            "ss_onehot shape: torch.Size([234, 4])\n",
            "phi_angles shape: torch.Size([234, 1])\n",
            "psi_angles shape: torch.Size([234, 1])\n",
            "b_factors shape: torch.Size([234, 1])\n",
            "Shape of labels: torch.Size([234])\n",
            "esm2_embeddings shape: torch.Size([138, 1280])\n",
            "ss_onehot shape: torch.Size([138, 4])\n",
            "phi_angles shape: torch.Size([138, 1])\n",
            "psi_angles shape: torch.Size([138, 1])\n",
            "b_factors shape: torch.Size([138, 1])\n",
            "Shape of labels: torch.Size([138])\n"
          ]
        },
        {
          "output_type": "stream",
          "name": "stderr",
          "text": [
            "\r  0%|          | 3/1013 [00:00<02:41,  6.26it/s]"
          ]
        },
        {
          "output_type": "stream",
          "name": "stdout",
          "text": [
            "esm2_embeddings shape: torch.Size([231, 1280])\n",
            "ss_onehot shape: torch.Size([231, 4])\n",
            "phi_angles shape: torch.Size([231, 1])\n",
            "psi_angles shape: torch.Size([231, 1])\n",
            "b_factors shape: torch.Size([231, 1])\n",
            "Shape of labels: torch.Size([231])\n",
            "esm2_embeddings shape: torch.Size([129, 1280])\n",
            "ss_onehot shape: torch.Size([129, 4])\n",
            "phi_angles shape: torch.Size([129, 1])\n",
            "psi_angles shape: torch.Size([129, 1])\n",
            "b_factors shape: torch.Size([129, 1])\n",
            "Shape of labels: torch.Size([129])\n"
          ]
        },
        {
          "output_type": "stream",
          "name": "stderr",
          "text": [
            "  1%|          | 7/1013 [00:00<01:55,  8.68it/s]"
          ]
        },
        {
          "output_type": "stream",
          "name": "stdout",
          "text": [
            "esm2_embeddings shape: torch.Size([179, 1280])\n",
            "ss_onehot shape: torch.Size([179, 4])\n",
            "phi_angles shape: torch.Size([179, 1])\n",
            "psi_angles shape: torch.Size([179, 1])\n",
            "b_factors shape: torch.Size([179, 1])\n",
            "Shape of labels: torch.Size([179])\n",
            "esm2_embeddings shape: torch.Size([103, 1280])\n",
            "ss_onehot shape: torch.Size([103, 4])\n",
            "phi_angles shape: torch.Size([103, 1])\n",
            "psi_angles shape: torch.Size([103, 1])\n",
            "b_factors shape: torch.Size([103, 1])\n",
            "Shape of labels: torch.Size([103])\n",
            "esm2_embeddings shape: torch.Size([142, 1280])\n",
            "ss_onehot shape: torch.Size([142, 4])\n",
            "phi_angles shape: torch.Size([142, 1])\n",
            "psi_angles shape: torch.Size([142, 1])\n",
            "b_factors shape: torch.Size([142, 1])\n",
            "Shape of labels: torch.Size([142])\n"
          ]
        },
        {
          "output_type": "stream",
          "name": "stderr",
          "text": [
            "\r  1%|          | 8/1013 [00:01<01:55,  8.67it/s]"
          ]
        },
        {
          "output_type": "stream",
          "name": "stdout",
          "text": [
            "esm2_embeddings shape: torch.Size([159, 1280])\n",
            "ss_onehot shape: torch.Size([159, 4])\n",
            "phi_angles shape: torch.Size([159, 1])\n",
            "psi_angles shape: torch.Size([159, 1])\n",
            "b_factors shape: torch.Size([159, 1])\n",
            "Shape of labels: torch.Size([159])\n"
          ]
        },
        {
          "output_type": "stream",
          "name": "stderr",
          "text": [
            "  1%|          | 11/1013 [00:01<02:48,  5.96it/s]"
          ]
        },
        {
          "output_type": "stream",
          "name": "stdout",
          "text": [
            "esm2_embeddings shape: torch.Size([222, 1280])\n",
            "ss_onehot shape: torch.Size([222, 4])\n",
            "phi_angles shape: torch.Size([222, 1])\n",
            "psi_angles shape: torch.Size([222, 1])\n",
            "b_factors shape: torch.Size([222, 1])\n",
            "Shape of labels: torch.Size([222])\n",
            "esm2_embeddings shape: torch.Size([136, 1280])\n",
            "ss_onehot shape: torch.Size([136, 4])\n",
            "phi_angles shape: torch.Size([136, 1])\n",
            "psi_angles shape: torch.Size([136, 1])\n",
            "b_factors shape: torch.Size([136, 1])\n",
            "Shape of labels: torch.Size([136])\n",
            "esm2_embeddings shape: torch.Size([128, 1280])\n",
            "ss_onehot shape: torch.Size([128, 4])\n",
            "phi_angles shape: torch.Size([128, 1])\n",
            "psi_angles shape: torch.Size([128, 1])\n",
            "b_factors shape: torch.Size([128, 1])\n",
            "Shape of labels: torch.Size([128])\n"
          ]
        },
        {
          "output_type": "stream",
          "name": "stderr",
          "text": [
            "  1%|▏         | 13/1013 [00:01<02:28,  6.71it/s]"
          ]
        },
        {
          "output_type": "stream",
          "name": "stdout",
          "text": [
            "esm2_embeddings shape: torch.Size([182, 1280])\n",
            "ss_onehot shape: torch.Size([182, 4])\n",
            "phi_angles shape: torch.Size([182, 1])\n",
            "psi_angles shape: torch.Size([182, 1])\n",
            "b_factors shape: torch.Size([182, 1])\n",
            "Shape of labels: torch.Size([182])\n",
            "esm2_embeddings shape: torch.Size([155, 1280])\n",
            "ss_onehot shape: torch.Size([155, 4])\n",
            "phi_angles shape: torch.Size([155, 1])\n",
            "psi_angles shape: torch.Size([155, 1])\n",
            "b_factors shape: torch.Size([155, 1])\n",
            "Shape of labels: torch.Size([155])\n"
          ]
        },
        {
          "output_type": "stream",
          "name": "stderr",
          "text": [
            "  1%|▏         | 15/1013 [00:02<02:36,  6.40it/s]"
          ]
        },
        {
          "output_type": "stream",
          "name": "stdout",
          "text": [
            "esm2_embeddings shape: torch.Size([202, 1280])\n",
            "ss_onehot shape: torch.Size([202, 4])\n",
            "phi_angles shape: torch.Size([202, 1])\n",
            "psi_angles shape: torch.Size([202, 1])\n",
            "b_factors shape: torch.Size([202, 1])\n",
            "Shape of labels: torch.Size([202])\n",
            "esm2_embeddings shape: torch.Size([198, 1280])\n",
            "ss_onehot shape: torch.Size([198, 4])\n",
            "phi_angles shape: torch.Size([198, 1])\n",
            "psi_angles shape: torch.Size([198, 1])\n",
            "b_factors shape: torch.Size([198, 1])\n",
            "Shape of labels: torch.Size([198])\n"
          ]
        },
        {
          "output_type": "stream",
          "name": "stderr",
          "text": [
            "\r  2%|▏         | 16/1013 [00:02<02:45,  6.04it/s]"
          ]
        },
        {
          "output_type": "stream",
          "name": "stdout",
          "text": [
            "esm2_embeddings shape: torch.Size([227, 1280])\n",
            "ss_onehot shape: torch.Size([227, 4])\n",
            "phi_angles shape: torch.Size([227, 1])\n",
            "psi_angles shape: torch.Size([227, 1])\n",
            "b_factors shape: torch.Size([227, 1])\n",
            "Shape of labels: torch.Size([227])\n",
            "esm2_embeddings shape: torch.Size([140, 1280])\n",
            "ss_onehot shape: torch.Size([140, 4])\n",
            "phi_angles shape: torch.Size([140, 1])\n",
            "psi_angles shape: torch.Size([140, 1])\n",
            "b_factors shape: torch.Size([140, 1])\n",
            "Shape of labels: torch.Size([140])\n"
          ]
        },
        {
          "output_type": "stream",
          "name": "stderr",
          "text": [
            "\r  2%|▏         | 18/1013 [00:02<02:23,  6.93it/s]"
          ]
        },
        {
          "output_type": "stream",
          "name": "stdout",
          "text": [
            "esm2_embeddings shape: torch.Size([181, 1280])\n",
            "ss_onehot shape: torch.Size([181, 4])\n",
            "phi_angles shape: torch.Size([181, 1])\n",
            "psi_angles shape: torch.Size([181, 1])\n",
            "b_factors shape: torch.Size([181, 1])\n",
            "Shape of labels: torch.Size([181])\n"
          ]
        },
        {
          "output_type": "stream",
          "name": "stderr",
          "text": [
            "  2%|▏         | 20/1013 [00:03<03:44,  4.43it/s]"
          ]
        },
        {
          "output_type": "stream",
          "name": "stdout",
          "text": [
            "esm2_embeddings shape: torch.Size([278, 1280])\n",
            "ss_onehot shape: torch.Size([278, 4])\n",
            "phi_angles shape: torch.Size([278, 1])\n",
            "psi_angles shape: torch.Size([278, 1])\n",
            "b_factors shape: torch.Size([278, 1])\n",
            "Shape of labels: torch.Size([278])\n",
            "esm2_embeddings shape: torch.Size([157, 1280])\n",
            "ss_onehot shape: torch.Size([157, 4])\n",
            "phi_angles shape: torch.Size([157, 1])\n",
            "psi_angles shape: torch.Size([157, 1])\n",
            "b_factors shape: torch.Size([157, 1])\n",
            "Shape of labels: torch.Size([157])\n",
            "esm2_embeddings shape: torch.Size([119, 1280])\n",
            "ss_onehot shape: torch.Size([119, 4])\n",
            "phi_angles shape: torch.Size([119, 1])\n",
            "psi_angles shape: torch.Size([119, 1])\n",
            "b_factors shape: torch.Size([119, 1])\n",
            "Shape of labels: torch.Size([119])\n"
          ]
        },
        {
          "output_type": "stream",
          "name": "stderr",
          "text": [
            "  2%|▏         | 23/1013 [00:03<02:36,  6.33it/s]"
          ]
        },
        {
          "output_type": "stream",
          "name": "stdout",
          "text": [
            "esm2_embeddings shape: torch.Size([159, 1280])\n",
            "ss_onehot shape: torch.Size([159, 4])\n",
            "phi_angles shape: torch.Size([159, 1])\n",
            "psi_angles shape: torch.Size([159, 1])\n",
            "b_factors shape: torch.Size([159, 1])\n",
            "Shape of labels: torch.Size([159])\n",
            "esm2_embeddings shape: torch.Size([148, 1280])\n",
            "ss_onehot shape: torch.Size([148, 4])\n",
            "phi_angles shape: torch.Size([148, 1])\n",
            "psi_angles shape: torch.Size([148, 1])\n",
            "b_factors shape: torch.Size([148, 1])\n",
            "Shape of labels: torch.Size([148])\n"
          ]
        },
        {
          "output_type": "stream",
          "name": "stderr",
          "text": [
            "\r  2%|▏         | 24/1013 [00:03<02:27,  6.70it/s]"
          ]
        },
        {
          "output_type": "stream",
          "name": "stdout",
          "text": [
            "esm2_embeddings shape: torch.Size([166, 1280])\n",
            "ss_onehot shape: torch.Size([166, 4])\n",
            "phi_angles shape: torch.Size([166, 1])\n",
            "psi_angles shape: torch.Size([166, 1])\n",
            "b_factors shape: torch.Size([166, 1])\n",
            "Shape of labels: torch.Size([166])\n"
          ]
        },
        {
          "output_type": "stream",
          "name": "stderr",
          "text": [
            "  3%|▎         | 26/1013 [00:04<02:38,  6.23it/s]"
          ]
        },
        {
          "output_type": "stream",
          "name": "stdout",
          "text": [
            "esm2_embeddings shape: torch.Size([265, 1280])\n",
            "ss_onehot shape: torch.Size([265, 4])\n",
            "phi_angles shape: torch.Size([265, 1])\n",
            "psi_angles shape: torch.Size([265, 1])\n",
            "b_factors shape: torch.Size([265, 1])\n",
            "Shape of labels: torch.Size([265])\n",
            "esm2_embeddings shape: torch.Size([170, 1280])\n",
            "ss_onehot shape: torch.Size([170, 4])\n",
            "phi_angles shape: torch.Size([170, 1])\n",
            "psi_angles shape: torch.Size([170, 1])\n",
            "b_factors shape: torch.Size([170, 1])\n",
            "Shape of labels: torch.Size([170])\n",
            "esm2_embeddings shape: torch.Size([99, 1280])\n",
            "ss_onehot shape: torch.Size([99, 4])\n",
            "phi_angles shape: torch.Size([99, 1])\n",
            "psi_angles shape: torch.Size([99, 1])\n",
            "b_factors shape: torch.Size([99, 1])\n",
            "Shape of labels: torch.Size([99])\n"
          ]
        },
        {
          "output_type": "stream",
          "name": "stderr",
          "text": [
            "\r  3%|▎         | 28/1013 [00:04<01:55,  8.53it/s]"
          ]
        },
        {
          "output_type": "stream",
          "name": "stdout",
          "text": [
            "esm2_embeddings shape: torch.Size([86, 1280])\n",
            "ss_onehot shape: torch.Size([86, 4])\n",
            "phi_angles shape: torch.Size([86, 1])\n",
            "psi_angles shape: torch.Size([86, 1])\n",
            "b_factors shape: torch.Size([86, 1])\n",
            "Shape of labels: torch.Size([86])\n",
            "esm2_embeddings shape: torch.Size([91, 1280])\n",
            "ss_onehot shape: torch.Size([91, 4])\n",
            "phi_angles shape: torch.Size([91, 1])\n",
            "psi_angles shape: torch.Size([91, 1])\n",
            "b_factors shape: torch.Size([91, 1])\n",
            "Shape of labels: torch.Size([91])\n"
          ]
        },
        {
          "output_type": "stream",
          "name": "stderr",
          "text": [
            "  3%|▎         | 32/1013 [00:04<01:40,  9.77it/s]"
          ]
        },
        {
          "output_type": "stream",
          "name": "stdout",
          "text": [
            "esm2_embeddings shape: torch.Size([248, 1280])\n",
            "ss_onehot shape: torch.Size([248, 4])\n",
            "phi_angles shape: torch.Size([248, 1])\n",
            "psi_angles shape: torch.Size([248, 1])\n",
            "b_factors shape: torch.Size([248, 1])\n",
            "Shape of labels: torch.Size([248])\n",
            "esm2_embeddings shape: torch.Size([94, 1280])\n",
            "ss_onehot shape: torch.Size([94, 4])\n",
            "phi_angles shape: torch.Size([94, 1])\n",
            "psi_angles shape: torch.Size([94, 1])\n",
            "b_factors shape: torch.Size([94, 1])\n",
            "Shape of labels: torch.Size([94])\n",
            "esm2_embeddings shape: torch.Size([89, 1280])\n",
            "ss_onehot shape: torch.Size([89, 4])\n",
            "phi_angles shape: torch.Size([89, 1])\n",
            "psi_angles shape: torch.Size([89, 1])\n",
            "b_factors shape: torch.Size([89, 1])\n",
            "Shape of labels: torch.Size([89])\n"
          ]
        },
        {
          "output_type": "stream",
          "name": "stderr",
          "text": [
            "\r  3%|▎         | 34/1013 [00:05<03:16,  4.99it/s]"
          ]
        },
        {
          "output_type": "stream",
          "name": "stdout",
          "text": [
            "esm2_embeddings shape: torch.Size([267, 1280])\n",
            "ss_onehot shape: torch.Size([267, 4])\n",
            "phi_angles shape: torch.Size([267, 1])\n",
            "psi_angles shape: torch.Size([267, 1])\n",
            "b_factors shape: torch.Size([267, 1])\n",
            "Shape of labels: torch.Size([267])\n",
            "esm2_embeddings shape: torch.Size([178, 1280])\n",
            "ss_onehot shape: torch.Size([178, 4])\n",
            "phi_angles shape: torch.Size([178, 1])\n",
            "psi_angles shape: torch.Size([178, 1])\n",
            "b_factors shape: torch.Size([178, 1])\n",
            "Shape of labels: torch.Size([178])\n"
          ]
        },
        {
          "output_type": "stream",
          "name": "stderr",
          "text": [
            "\r  3%|▎         | 35/1013 [00:05<03:00,  5.43it/s]"
          ]
        },
        {
          "output_type": "stream",
          "name": "stdout",
          "text": [
            "esm2_embeddings shape: torch.Size([153, 1280])\n",
            "ss_onehot shape: torch.Size([153, 4])\n",
            "phi_angles shape: torch.Size([153, 1])\n",
            "psi_angles shape: torch.Size([153, 1])\n",
            "b_factors shape: torch.Size([153, 1])\n",
            "Shape of labels: torch.Size([153])\n"
          ]
        },
        {
          "output_type": "stream",
          "name": "stderr",
          "text": [
            "  4%|▎         | 37/1013 [00:06<03:00,  5.41it/s]"
          ]
        },
        {
          "output_type": "stream",
          "name": "stdout",
          "text": [
            "esm2_embeddings shape: torch.Size([270, 1280])\n",
            "ss_onehot shape: torch.Size([270, 4])\n",
            "phi_angles shape: torch.Size([270, 1])\n",
            "psi_angles shape: torch.Size([270, 1])\n",
            "b_factors shape: torch.Size([270, 1])\n",
            "Shape of labels: torch.Size([270])\n",
            "esm2_embeddings shape: torch.Size([188, 1280])\n",
            "ss_onehot shape: torch.Size([188, 4])\n",
            "phi_angles shape: torch.Size([188, 1])\n",
            "psi_angles shape: torch.Size([188, 1])\n",
            "b_factors shape: torch.Size([188, 1])\n",
            "Shape of labels: torch.Size([188])\n",
            "esm2_embeddings shape: torch.Size([81, 1280])\n",
            "ss_onehot shape: torch.Size([81, 4])\n",
            "phi_angles shape: torch.Size([81, 1])\n",
            "psi_angles shape: torch.Size([81, 1])\n",
            "b_factors shape: torch.Size([81, 1])\n",
            "Shape of labels: torch.Size([81])\n"
          ]
        },
        {
          "output_type": "stream",
          "name": "stderr",
          "text": [
            "  4%|▍         | 41/1013 [00:06<01:51,  8.73it/s]"
          ]
        },
        {
          "output_type": "stream",
          "name": "stdout",
          "text": [
            "esm2_embeddings shape: torch.Size([174, 1280])\n",
            "ss_onehot shape: torch.Size([174, 4])\n",
            "phi_angles shape: torch.Size([174, 1])\n",
            "psi_angles shape: torch.Size([174, 1])\n",
            "b_factors shape: torch.Size([174, 1])\n",
            "Shape of labels: torch.Size([174])\n",
            "esm2_embeddings shape: torch.Size([83, 1280])\n",
            "ss_onehot shape: torch.Size([83, 4])\n",
            "phi_angles shape: torch.Size([83, 1])\n",
            "psi_angles shape: torch.Size([83, 1])\n",
            "b_factors shape: torch.Size([83, 1])\n",
            "Shape of labels: torch.Size([83])\n",
            "esm2_embeddings shape: torch.Size([89, 1280])\n",
            "ss_onehot shape: torch.Size([89, 4])\n",
            "phi_angles shape: torch.Size([89, 1])\n",
            "psi_angles shape: torch.Size([89, 1])\n",
            "b_factors shape: torch.Size([89, 1])\n",
            "Shape of labels: torch.Size([89])\n"
          ]
        },
        {
          "output_type": "stream",
          "name": "stderr",
          "text": [
            "\r  4%|▍         | 43/1013 [00:06<01:46,  9.14it/s]"
          ]
        },
        {
          "output_type": "stream",
          "name": "stdout",
          "text": [
            "esm2_embeddings shape: torch.Size([200, 1280])\n",
            "ss_onehot shape: torch.Size([200, 4])\n",
            "phi_angles shape: torch.Size([200, 1])\n",
            "psi_angles shape: torch.Size([200, 1])\n",
            "b_factors shape: torch.Size([200, 1])\n",
            "Shape of labels: torch.Size([200])\n",
            "esm2_embeddings shape: torch.Size([68, 1280])\n",
            "ss_onehot shape: torch.Size([68, 4])\n",
            "phi_angles shape: torch.Size([68, 1])\n",
            "psi_angles shape: torch.Size([68, 1])\n",
            "b_factors shape: torch.Size([68, 1])\n",
            "Shape of labels: torch.Size([68])\n"
          ]
        },
        {
          "output_type": "stream",
          "name": "stderr",
          "text": [
            "\r  4%|▍         | 45/1013 [00:06<01:47,  8.98it/s]"
          ]
        },
        {
          "output_type": "stream",
          "name": "stdout",
          "text": [
            "esm2_embeddings shape: torch.Size([210, 1280])\n",
            "ss_onehot shape: torch.Size([210, 4])\n",
            "phi_angles shape: torch.Size([210, 1])\n",
            "psi_angles shape: torch.Size([210, 1])\n",
            "b_factors shape: torch.Size([210, 1])\n",
            "Shape of labels: torch.Size([210])\n",
            "esm2_embeddings shape: torch.Size([84, 1280])\n",
            "ss_onehot shape: torch.Size([84, 4])\n",
            "phi_angles shape: torch.Size([84, 1])\n",
            "psi_angles shape: torch.Size([84, 1])\n",
            "b_factors shape: torch.Size([84, 1])\n",
            "Shape of labels: torch.Size([84])\n",
            "esm2_embeddings shape: torch.Size([194, 1280])\n",
            "ss_onehot shape: torch.Size([194, 4])\n",
            "phi_angles shape: torch.Size([194, 1])\n",
            "psi_angles shape: torch.Size([194, 1])\n",
            "b_factors shape: torch.Size([194, 1])\n",
            "Shape of labels: torch.Size([194])\n"
          ]
        },
        {
          "output_type": "stream",
          "name": "stderr",
          "text": [
            "  5%|▍         | 48/1013 [00:07<03:04,  5.22it/s]"
          ]
        },
        {
          "output_type": "stream",
          "name": "stdout",
          "text": [
            "esm2_embeddings shape: torch.Size([294, 1280])\n",
            "ss_onehot shape: torch.Size([294, 4])\n",
            "phi_angles shape: torch.Size([294, 1])\n",
            "psi_angles shape: torch.Size([294, 1])\n",
            "b_factors shape: torch.Size([294, 1])\n",
            "Shape of labels: torch.Size([294])\n",
            "esm2_embeddings shape: torch.Size([152, 1280])\n",
            "ss_onehot shape: torch.Size([152, 4])\n",
            "phi_angles shape: torch.Size([152, 1])\n",
            "psi_angles shape: torch.Size([152, 1])\n",
            "b_factors shape: torch.Size([152, 1])\n",
            "Shape of labels: torch.Size([152])\n"
          ]
        },
        {
          "output_type": "stream",
          "name": "stderr",
          "text": [
            "\r  5%|▍         | 49/1013 [00:07<02:47,  5.76it/s]"
          ]
        },
        {
          "output_type": "stream",
          "name": "stdout",
          "text": [
            "esm2_embeddings shape: torch.Size([142, 1280])\n",
            "ss_onehot shape: torch.Size([142, 4])\n",
            "phi_angles shape: torch.Size([142, 1])\n",
            "psi_angles shape: torch.Size([142, 1])\n",
            "b_factors shape: torch.Size([142, 1])\n",
            "Shape of labels: torch.Size([142])\n"
          ]
        },
        {
          "output_type": "stream",
          "name": "stderr",
          "text": [
            "  5%|▌         | 51/1013 [00:08<02:41,  5.95it/s]"
          ]
        },
        {
          "output_type": "stream",
          "name": "stdout",
          "text": [
            "esm2_embeddings shape: torch.Size([246, 1280])\n",
            "ss_onehot shape: torch.Size([246, 4])\n",
            "phi_angles shape: torch.Size([246, 1])\n",
            "psi_angles shape: torch.Size([246, 1])\n",
            "b_factors shape: torch.Size([246, 1])\n",
            "Shape of labels: torch.Size([246])\n",
            "esm2_embeddings shape: torch.Size([165, 1280])\n",
            "ss_onehot shape: torch.Size([165, 4])\n",
            "phi_angles shape: torch.Size([165, 1])\n",
            "psi_angles shape: torch.Size([165, 1])\n",
            "b_factors shape: torch.Size([165, 1])\n",
            "Shape of labels: torch.Size([165])\n"
          ]
        },
        {
          "output_type": "stream",
          "name": "stderr",
          "text": [
            "  5%|▌         | 53/1013 [00:08<02:29,  6.42it/s]"
          ]
        },
        {
          "output_type": "stream",
          "name": "stdout",
          "text": [
            "esm2_embeddings shape: torch.Size([206, 1280])\n",
            "ss_onehot shape: torch.Size([206, 4])\n",
            "phi_angles shape: torch.Size([206, 1])\n",
            "psi_angles shape: torch.Size([206, 1])\n",
            "b_factors shape: torch.Size([206, 1])\n",
            "Shape of labels: torch.Size([206])\n",
            "esm2_embeddings shape: torch.Size([170, 1280])\n",
            "ss_onehot shape: torch.Size([170, 4])\n",
            "phi_angles shape: torch.Size([170, 1])\n",
            "psi_angles shape: torch.Size([170, 1])\n",
            "b_factors shape: torch.Size([170, 1])\n",
            "Shape of labels: torch.Size([170])\n"
          ]
        },
        {
          "output_type": "stream",
          "name": "stderr",
          "text": [
            "  5%|▌         | 55/1013 [00:08<02:15,  7.09it/s]"
          ]
        },
        {
          "output_type": "stream",
          "name": "stdout",
          "text": [
            "esm2_embeddings shape: torch.Size([197, 1280])\n",
            "ss_onehot shape: torch.Size([197, 4])\n",
            "phi_angles shape: torch.Size([197, 1])\n",
            "psi_angles shape: torch.Size([197, 1])\n",
            "b_factors shape: torch.Size([197, 1])\n",
            "Shape of labels: torch.Size([197])\n",
            "esm2_embeddings shape: torch.Size([151, 1280])\n",
            "ss_onehot shape: torch.Size([151, 4])\n",
            "phi_angles shape: torch.Size([151, 1])\n",
            "psi_angles shape: torch.Size([151, 1])\n",
            "b_factors shape: torch.Size([151, 1])\n",
            "Shape of labels: torch.Size([151])\n"
          ]
        },
        {
          "output_type": "stream",
          "name": "stderr",
          "text": [
            "\r  6%|▌         | 56/1013 [00:09<03:52,  4.12it/s]"
          ]
        },
        {
          "output_type": "stream",
          "name": "stdout",
          "text": [
            "esm2_embeddings shape: torch.Size([148, 1280])\n",
            "ss_onehot shape: torch.Size([148, 4])\n",
            "phi_angles shape: torch.Size([148, 1])\n",
            "psi_angles shape: torch.Size([148, 1])\n",
            "b_factors shape: torch.Size([148, 1])\n",
            "Shape of labels: torch.Size([148])\n"
          ]
        },
        {
          "output_type": "stream",
          "name": "stderr",
          "text": [
            "  6%|▌         | 59/1013 [00:09<02:41,  5.92it/s]"
          ]
        },
        {
          "output_type": "stream",
          "name": "stdout",
          "text": [
            "esm2_embeddings shape: torch.Size([258, 1280])\n",
            "ss_onehot shape: torch.Size([258, 4])\n",
            "phi_angles shape: torch.Size([258, 1])\n",
            "psi_angles shape: torch.Size([258, 1])\n",
            "b_factors shape: torch.Size([258, 1])\n",
            "Shape of labels: torch.Size([258])\n",
            "esm2_embeddings shape: torch.Size([92, 1280])\n",
            "ss_onehot shape: torch.Size([92, 4])\n",
            "phi_angles shape: torch.Size([92, 1])\n",
            "psi_angles shape: torch.Size([92, 1])\n",
            "b_factors shape: torch.Size([92, 1])\n",
            "Shape of labels: torch.Size([92])\n",
            "esm2_embeddings shape: torch.Size([152, 1280])\n",
            "ss_onehot shape: torch.Size([152, 4])\n",
            "phi_angles shape: torch.Size([152, 1])\n",
            "psi_angles shape: torch.Size([152, 1])\n",
            "b_factors shape: torch.Size([152, 1])\n",
            "Shape of labels: torch.Size([152])\n"
          ]
        },
        {
          "output_type": "stream",
          "name": "stderr",
          "text": [
            "  6%|▌         | 61/1013 [00:09<02:29,  6.35it/s]"
          ]
        },
        {
          "output_type": "stream",
          "name": "stdout",
          "text": [
            "esm2_embeddings shape: torch.Size([141, 1280])\n",
            "ss_onehot shape: torch.Size([141, 4])\n",
            "phi_angles shape: torch.Size([141, 1])\n",
            "psi_angles shape: torch.Size([141, 1])\n",
            "b_factors shape: torch.Size([141, 1])\n",
            "Shape of labels: torch.Size([141])\n",
            "esm2_embeddings shape: torch.Size([207, 1280])\n",
            "ss_onehot shape: torch.Size([207, 4])\n",
            "phi_angles shape: torch.Size([207, 1])\n",
            "psi_angles shape: torch.Size([207, 1])\n",
            "b_factors shape: torch.Size([207, 1])\n",
            "Shape of labels: torch.Size([207])\n"
          ]
        },
        {
          "output_type": "stream",
          "name": "stderr",
          "text": [
            "  6%|▌         | 63/1013 [00:10<02:48,  5.63it/s]"
          ]
        },
        {
          "output_type": "stream",
          "name": "stdout",
          "text": [
            "esm2_embeddings shape: torch.Size([304, 1280])\n",
            "ss_onehot shape: torch.Size([304, 4])\n",
            "phi_angles shape: torch.Size([304, 1])\n",
            "psi_angles shape: torch.Size([304, 1])\n",
            "b_factors shape: torch.Size([304, 1])\n",
            "Shape of labels: torch.Size([304])\n",
            "esm2_embeddings shape: torch.Size([179, 1280])\n",
            "ss_onehot shape: torch.Size([179, 4])\n",
            "phi_angles shape: torch.Size([179, 1])\n",
            "psi_angles shape: torch.Size([179, 1])\n",
            "b_factors shape: torch.Size([179, 1])\n",
            "Shape of labels: torch.Size([179])\n"
          ]
        },
        {
          "output_type": "stream",
          "name": "stderr",
          "text": [
            "  7%|▋         | 66/1013 [00:10<02:08,  7.39it/s]"
          ]
        },
        {
          "output_type": "stream",
          "name": "stdout",
          "text": [
            "esm2_embeddings shape: torch.Size([203, 1280])\n",
            "ss_onehot shape: torch.Size([203, 4])\n",
            "phi_angles shape: torch.Size([203, 1])\n",
            "psi_angles shape: torch.Size([203, 1])\n",
            "b_factors shape: torch.Size([203, 1])\n",
            "Shape of labels: torch.Size([203])\n",
            "esm2_embeddings shape: torch.Size([102, 1280])\n",
            "ss_onehot shape: torch.Size([102, 4])\n",
            "phi_angles shape: torch.Size([102, 1])\n",
            "psi_angles shape: torch.Size([102, 1])\n",
            "b_factors shape: torch.Size([102, 1])\n",
            "Shape of labels: torch.Size([102])\n",
            "esm2_embeddings shape: torch.Size([162, 1280])\n",
            "ss_onehot shape: torch.Size([162, 4])\n",
            "phi_angles shape: torch.Size([162, 1])\n",
            "psi_angles shape: torch.Size([162, 1])\n",
            "b_factors shape: torch.Size([162, 1])\n",
            "Shape of labels: torch.Size([162])\n"
          ]
        },
        {
          "output_type": "stream",
          "name": "stderr",
          "text": [
            "  7%|▋         | 68/1013 [00:11<03:05,  5.11it/s]"
          ]
        },
        {
          "output_type": "stream",
          "name": "stdout",
          "text": [
            "esm2_embeddings shape: torch.Size([153, 1280])\n",
            "ss_onehot shape: torch.Size([153, 4])\n",
            "phi_angles shape: torch.Size([153, 1])\n",
            "psi_angles shape: torch.Size([153, 1])\n",
            "b_factors shape: torch.Size([153, 1])\n",
            "Shape of labels: torch.Size([153])\n",
            "esm2_embeddings shape: torch.Size([157, 1280])\n",
            "ss_onehot shape: torch.Size([157, 4])\n",
            "phi_angles shape: torch.Size([157, 1])\n",
            "psi_angles shape: torch.Size([157, 1])\n",
            "b_factors shape: torch.Size([157, 1])\n",
            "Shape of labels: torch.Size([157])\n"
          ]
        },
        {
          "output_type": "stream",
          "name": "stderr",
          "text": [
            "\r  7%|▋         | 69/1013 [00:11<03:05,  5.09it/s]"
          ]
        },
        {
          "output_type": "stream",
          "name": "stdout",
          "text": [
            "esm2_embeddings shape: torch.Size([227, 1280])\n",
            "ss_onehot shape: torch.Size([227, 4])\n",
            "phi_angles shape: torch.Size([227, 1])\n",
            "psi_angles shape: torch.Size([227, 1])\n",
            "b_factors shape: torch.Size([227, 1])\n",
            "Shape of labels: torch.Size([227])\n"
          ]
        },
        {
          "output_type": "stream",
          "name": "stderr",
          "text": [
            "  7%|▋         | 71/1013 [00:11<02:50,  5.53it/s]"
          ]
        },
        {
          "output_type": "stream",
          "name": "stdout",
          "text": [
            "esm2_embeddings shape: torch.Size([233, 1280])\n",
            "ss_onehot shape: torch.Size([233, 4])\n",
            "phi_angles shape: torch.Size([233, 1])\n",
            "psi_angles shape: torch.Size([233, 1])\n",
            "b_factors shape: torch.Size([233, 1])\n",
            "Shape of labels: torch.Size([233])\n",
            "esm2_embeddings shape: torch.Size([168, 1280])\n",
            "ss_onehot shape: torch.Size([168, 4])\n",
            "phi_angles shape: torch.Size([168, 1])\n",
            "psi_angles shape: torch.Size([168, 1])\n",
            "b_factors shape: torch.Size([168, 1])\n",
            "Shape of labels: torch.Size([168])\n"
          ]
        },
        {
          "output_type": "stream",
          "name": "stderr",
          "text": [
            "\r  7%|▋         | 72/1013 [00:12<03:16,  4.79it/s]"
          ]
        },
        {
          "output_type": "stream",
          "name": "stdout",
          "text": [
            "esm2_embeddings shape: torch.Size([297, 1280])\n",
            "ss_onehot shape: torch.Size([297, 4])\n",
            "phi_angles shape: torch.Size([297, 1])\n",
            "psi_angles shape: torch.Size([297, 1])\n",
            "b_factors shape: torch.Size([297, 1])\n",
            "Shape of labels: torch.Size([297])\n",
            "esm2_embeddings shape: torch.Size([99, 1280])\n",
            "ss_onehot shape: torch.Size([99, 4])\n",
            "phi_angles shape: torch.Size([99, 1])\n",
            "psi_angles shape: torch.Size([99, 1])\n",
            "b_factors shape: torch.Size([99, 1])\n",
            "Shape of labels: torch.Size([99])\n"
          ]
        },
        {
          "output_type": "stream",
          "name": "stderr",
          "text": [
            "\r  7%|▋         | 74/1013 [00:12<02:50,  5.51it/s]"
          ]
        },
        {
          "output_type": "stream",
          "name": "stdout",
          "text": [
            "esm2_embeddings shape: torch.Size([265, 1280])\n",
            "ss_onehot shape: torch.Size([265, 4])\n",
            "phi_angles shape: torch.Size([265, 1])\n",
            "psi_angles shape: torch.Size([265, 1])\n",
            "b_factors shape: torch.Size([265, 1])\n",
            "Shape of labels: torch.Size([265])\n"
          ]
        },
        {
          "output_type": "stream",
          "name": "stderr",
          "text": [
            "  8%|▊         | 76/1013 [00:13<04:13,  3.70it/s]"
          ]
        },
        {
          "output_type": "stream",
          "name": "stdout",
          "text": [
            "esm2_embeddings shape: torch.Size([307, 1280])\n",
            "ss_onehot shape: torch.Size([307, 4])\n",
            "phi_angles shape: torch.Size([307, 1])\n",
            "psi_angles shape: torch.Size([307, 1])\n",
            "b_factors shape: torch.Size([307, 1])\n",
            "Shape of labels: torch.Size([307])\n",
            "esm2_embeddings shape: torch.Size([221, 1280])\n",
            "ss_onehot shape: torch.Size([221, 4])\n",
            "phi_angles shape: torch.Size([221, 1])\n",
            "psi_angles shape: torch.Size([221, 1])\n",
            "b_factors shape: torch.Size([221, 1])\n",
            "Shape of labels: torch.Size([221])\n"
          ]
        },
        {
          "output_type": "stream",
          "name": "stderr",
          "text": [
            "  8%|▊         | 78/1013 [00:13<03:34,  4.35it/s]"
          ]
        },
        {
          "output_type": "stream",
          "name": "stdout",
          "text": [
            "esm2_embeddings shape: torch.Size([251, 1280])\n",
            "ss_onehot shape: torch.Size([251, 4])\n",
            "phi_angles shape: torch.Size([251, 1])\n",
            "psi_angles shape: torch.Size([251, 1])\n",
            "b_factors shape: torch.Size([251, 1])\n",
            "Shape of labels: torch.Size([251])\n",
            "esm2_embeddings shape: torch.Size([190, 1280])\n",
            "ss_onehot shape: torch.Size([190, 4])\n",
            "phi_angles shape: torch.Size([190, 1])\n",
            "psi_angles shape: torch.Size([190, 1])\n",
            "b_factors shape: torch.Size([190, 1])\n",
            "Shape of labels: torch.Size([190])\n"
          ]
        },
        {
          "output_type": "stream",
          "name": "stderr",
          "text": [
            "  8%|▊         | 81/1013 [00:13<02:16,  6.81it/s]"
          ]
        },
        {
          "output_type": "stream",
          "name": "stdout",
          "text": [
            "esm2_embeddings shape: torch.Size([164, 1280])\n",
            "ss_onehot shape: torch.Size([164, 4])\n",
            "phi_angles shape: torch.Size([164, 1])\n",
            "psi_angles shape: torch.Size([164, 1])\n",
            "b_factors shape: torch.Size([164, 1])\n",
            "Shape of labels: torch.Size([164])\n",
            "esm2_embeddings shape: torch.Size([62, 1280])\n",
            "ss_onehot shape: torch.Size([62, 4])\n",
            "phi_angles shape: torch.Size([62, 1])\n",
            "psi_angles shape: torch.Size([62, 1])\n",
            "b_factors shape: torch.Size([62, 1])\n",
            "Shape of labels: torch.Size([62])\n",
            "esm2_embeddings shape: torch.Size([169, 1280])\n",
            "ss_onehot shape: torch.Size([169, 4])\n",
            "phi_angles shape: torch.Size([169, 1])\n",
            "psi_angles shape: torch.Size([169, 1])\n",
            "b_factors shape: torch.Size([169, 1])\n",
            "Shape of labels: torch.Size([169])\n"
          ]
        },
        {
          "output_type": "stream",
          "name": "stderr",
          "text": [
            "  8%|▊         | 83/1013 [00:14<02:23,  6.50it/s]"
          ]
        },
        {
          "output_type": "stream",
          "name": "stdout",
          "text": [
            "esm2_embeddings shape: torch.Size([185, 1280])\n",
            "ss_onehot shape: torch.Size([185, 4])\n",
            "phi_angles shape: torch.Size([185, 1])\n",
            "psi_angles shape: torch.Size([185, 1])\n",
            "b_factors shape: torch.Size([185, 1])\n",
            "Shape of labels: torch.Size([185])\n",
            "esm2_embeddings shape: torch.Size([218, 1280])\n",
            "ss_onehot shape: torch.Size([218, 4])\n",
            "phi_angles shape: torch.Size([218, 1])\n",
            "psi_angles shape: torch.Size([218, 1])\n",
            "b_factors shape: torch.Size([218, 1])\n",
            "Shape of labels: torch.Size([218])\n",
            "esm2_embeddings shape: torch.Size([88, 1280])\n",
            "ss_onehot shape: torch.Size([88, 4])\n",
            "phi_angles shape: torch.Size([88, 1])\n",
            "psi_angles shape: torch.Size([88, 1])\n",
            "b_factors shape: torch.Size([88, 1])\n",
            "Shape of labels: torch.Size([88])\n"
          ]
        },
        {
          "output_type": "stream",
          "name": "stderr",
          "text": [
            "\r  8%|▊         | 85/1013 [00:14<03:18,  4.67it/s]"
          ]
        },
        {
          "output_type": "stream",
          "name": "stdout",
          "text": [
            "esm2_embeddings shape: torch.Size([198, 1280])\n",
            "ss_onehot shape: torch.Size([198, 4])\n",
            "phi_angles shape: torch.Size([198, 1])\n",
            "psi_angles shape: torch.Size([198, 1])\n",
            "b_factors shape: torch.Size([198, 1])\n",
            "Shape of labels: torch.Size([198])\n",
            "esm2_embeddings shape: torch.Size([47, 1280])\n",
            "ss_onehot shape: torch.Size([47, 4])\n",
            "phi_angles shape: torch.Size([47, 1])\n",
            "psi_angles shape: torch.Size([47, 1])\n",
            "b_factors shape: torch.Size([47, 1])\n",
            "Shape of labels: torch.Size([47])\n"
          ]
        },
        {
          "output_type": "stream",
          "name": "stderr",
          "text": [
            "  9%|▊         | 88/1013 [00:15<02:51,  5.39it/s]"
          ]
        },
        {
          "output_type": "stream",
          "name": "stdout",
          "text": [
            "esm2_embeddings shape: torch.Size([321, 1280])\n",
            "ss_onehot shape: torch.Size([321, 4])\n",
            "phi_angles shape: torch.Size([321, 1])\n",
            "psi_angles shape: torch.Size([321, 1])\n",
            "b_factors shape: torch.Size([321, 1])\n",
            "Shape of labels: torch.Size([321])\n",
            "esm2_embeddings shape: torch.Size([167, 1280])\n",
            "ss_onehot shape: torch.Size([167, 4])\n",
            "phi_angles shape: torch.Size([167, 1])\n",
            "psi_angles shape: torch.Size([167, 1])\n",
            "b_factors shape: torch.Size([167, 1])\n",
            "Shape of labels: torch.Size([167])\n"
          ]
        },
        {
          "output_type": "stream",
          "name": "stderr",
          "text": [
            "\r  9%|▉         | 90/1013 [00:15<02:17,  6.69it/s]"
          ]
        },
        {
          "output_type": "stream",
          "name": "stdout",
          "text": [
            "esm2_embeddings shape: torch.Size([117, 1280])\n",
            "ss_onehot shape: torch.Size([117, 4])\n",
            "phi_angles shape: torch.Size([117, 1])\n",
            "psi_angles shape: torch.Size([117, 1])\n",
            "b_factors shape: torch.Size([117, 1])\n",
            "Shape of labels: torch.Size([117])\n",
            "esm2_embeddings shape: torch.Size([142, 1280])\n",
            "ss_onehot shape: torch.Size([142, 4])\n",
            "phi_angles shape: torch.Size([142, 1])\n",
            "psi_angles shape: torch.Size([142, 1])\n",
            "b_factors shape: torch.Size([142, 1])\n",
            "Shape of labels: torch.Size([142])\n"
          ]
        },
        {
          "output_type": "stream",
          "name": "stderr",
          "text": [
            "\r  9%|▉         | 91/1013 [00:15<02:10,  7.05it/s]"
          ]
        },
        {
          "output_type": "stream",
          "name": "stdout",
          "text": [
            "esm2_embeddings shape: torch.Size([154, 1280])\n",
            "ss_onehot shape: torch.Size([154, 4])\n",
            "phi_angles shape: torch.Size([154, 1])\n",
            "psi_angles shape: torch.Size([154, 1])\n",
            "b_factors shape: torch.Size([154, 1])\n",
            "Shape of labels: torch.Size([154])\n",
            "esm2_embeddings shape: torch.Size([108, 1280])\n",
            "ss_onehot shape: torch.Size([108, 4])\n",
            "phi_angles shape: torch.Size([108, 1])\n",
            "psi_angles shape: torch.Size([108, 1])\n",
            "b_factors shape: torch.Size([108, 1])\n",
            "Shape of labels: torch.Size([108])\n"
          ]
        },
        {
          "output_type": "stream",
          "name": "stderr",
          "text": [
            "\r  9%|▉         | 93/1013 [00:15<01:56,  7.91it/s]"
          ]
        },
        {
          "output_type": "stream",
          "name": "stdout",
          "text": [
            "esm2_embeddings shape: torch.Size([162, 1280])\n",
            "ss_onehot shape: torch.Size([162, 4])\n",
            "phi_angles shape: torch.Size([162, 1])\n",
            "psi_angles shape: torch.Size([162, 1])\n",
            "b_factors shape: torch.Size([162, 1])\n",
            "Shape of labels: torch.Size([162])\n",
            "esm2_embeddings shape: torch.Size([136, 1280])\n",
            "ss_onehot shape: torch.Size([136, 4])\n",
            "phi_angles shape: torch.Size([136, 1])\n",
            "psi_angles shape: torch.Size([136, 1])\n",
            "b_factors shape: torch.Size([136, 1])\n",
            "Shape of labels: torch.Size([136])\n"
          ]
        },
        {
          "output_type": "stream",
          "name": "stderr",
          "text": [
            "\r  9%|▉         | 95/1013 [00:16<02:12,  6.95it/s]"
          ]
        },
        {
          "output_type": "stream",
          "name": "stdout",
          "text": [
            "esm2_embeddings shape: torch.Size([281, 1280])\n",
            "ss_onehot shape: torch.Size([281, 4])\n",
            "phi_angles shape: torch.Size([281, 1])\n",
            "psi_angles shape: torch.Size([281, 1])\n",
            "b_factors shape: torch.Size([281, 1])\n",
            "Shape of labels: torch.Size([281])\n",
            "esm2_embeddings shape: torch.Size([111, 1280])\n",
            "ss_onehot shape: torch.Size([111, 4])\n",
            "phi_angles shape: torch.Size([111, 1])\n",
            "psi_angles shape: torch.Size([111, 1])\n",
            "b_factors shape: torch.Size([111, 1])\n",
            "Shape of labels: torch.Size([111])\n"
          ]
        },
        {
          "output_type": "stream",
          "name": "stderr",
          "text": [
            "\r 10%|▉         | 97/1013 [00:17<03:29,  4.37it/s]"
          ]
        },
        {
          "output_type": "stream",
          "name": "stdout",
          "text": [
            "esm2_embeddings shape: torch.Size([328, 1280])\n",
            "ss_onehot shape: torch.Size([328, 4])\n",
            "phi_angles shape: torch.Size([328, 1])\n",
            "psi_angles shape: torch.Size([328, 1])\n",
            "b_factors shape: torch.Size([328, 1])\n",
            "Shape of labels: torch.Size([328])\n",
            "esm2_embeddings shape: torch.Size([91, 1280])\n",
            "ss_onehot shape: torch.Size([91, 4])\n",
            "phi_angles shape: torch.Size([91, 1])\n",
            "psi_angles shape: torch.Size([91, 1])\n",
            "b_factors shape: torch.Size([91, 1])\n",
            "Shape of labels: torch.Size([91])\n"
          ]
        },
        {
          "output_type": "stream",
          "name": "stderr",
          "text": [
            " 10%|▉         | 100/1013 [00:17<02:41,  5.66it/s]"
          ]
        },
        {
          "output_type": "stream",
          "name": "stdout",
          "text": [
            "esm2_embeddings shape: torch.Size([182, 1280])\n",
            "ss_onehot shape: torch.Size([182, 4])\n",
            "phi_angles shape: torch.Size([182, 1])\n",
            "psi_angles shape: torch.Size([182, 1])\n",
            "b_factors shape: torch.Size([182, 1])\n",
            "Shape of labels: torch.Size([182])\n",
            "esm2_embeddings shape: torch.Size([166, 1280])\n",
            "ss_onehot shape: torch.Size([166, 4])\n",
            "phi_angles shape: torch.Size([166, 1])\n",
            "psi_angles shape: torch.Size([166, 1])\n",
            "b_factors shape: torch.Size([166, 1])\n",
            "Shape of labels: torch.Size([166])\n"
          ]
        },
        {
          "output_type": "stream",
          "name": "stderr",
          "text": [
            " 10%|█         | 103/1013 [00:17<02:00,  7.58it/s]"
          ]
        },
        {
          "output_type": "stream",
          "name": "stdout",
          "text": [
            "esm2_embeddings shape: torch.Size([194, 1280])\n",
            "ss_onehot shape: torch.Size([194, 4])\n",
            "phi_angles shape: torch.Size([194, 1])\n",
            "psi_angles shape: torch.Size([194, 1])\n",
            "b_factors shape: torch.Size([194, 1])\n",
            "Shape of labels: torch.Size([194])\n",
            "esm2_embeddings shape: torch.Size([121, 1280])\n",
            "ss_onehot shape: torch.Size([121, 4])\n",
            "phi_angles shape: torch.Size([121, 1])\n",
            "psi_angles shape: torch.Size([121, 1])\n",
            "b_factors shape: torch.Size([121, 1])\n",
            "Shape of labels: torch.Size([121])\n",
            "esm2_embeddings shape: torch.Size([62, 1280])\n",
            "ss_onehot shape: torch.Size([62, 4])\n",
            "phi_angles shape: torch.Size([62, 1])\n",
            "psi_angles shape: torch.Size([62, 1])\n",
            "b_factors shape: torch.Size([62, 1])\n",
            "Shape of labels: torch.Size([62])\n"
          ]
        },
        {
          "output_type": "stream",
          "name": "stderr",
          "text": [
            " 10%|█         | 105/1013 [00:17<01:56,  7.82it/s]"
          ]
        },
        {
          "output_type": "stream",
          "name": "stdout",
          "text": [
            "esm2_embeddings shape: torch.Size([183, 1280])\n",
            "ss_onehot shape: torch.Size([183, 4])\n",
            "phi_angles shape: torch.Size([183, 1])\n",
            "psi_angles shape: torch.Size([183, 1])\n",
            "b_factors shape: torch.Size([183, 1])\n",
            "Shape of labels: torch.Size([183])\n",
            "esm2_embeddings shape: torch.Size([131, 1280])\n",
            "ss_onehot shape: torch.Size([131, 4])\n",
            "phi_angles shape: torch.Size([131, 1])\n",
            "psi_angles shape: torch.Size([131, 1])\n",
            "b_factors shape: torch.Size([131, 1])\n",
            "Shape of labels: torch.Size([131])\n"
          ]
        },
        {
          "output_type": "stream",
          "name": "stderr",
          "text": [
            " 11%|█         | 107/1013 [00:18<02:25,  6.21it/s]"
          ]
        },
        {
          "output_type": "stream",
          "name": "stdout",
          "text": [
            "esm2_embeddings shape: torch.Size([321, 1280])\n",
            "ss_onehot shape: torch.Size([321, 4])\n",
            "phi_angles shape: torch.Size([321, 1])\n",
            "psi_angles shape: torch.Size([321, 1])\n",
            "b_factors shape: torch.Size([321, 1])\n",
            "Shape of labels: torch.Size([321])\n",
            "esm2_embeddings shape: torch.Size([139, 1280])\n",
            "ss_onehot shape: torch.Size([139, 4])\n",
            "phi_angles shape: torch.Size([139, 1])\n",
            "psi_angles shape: torch.Size([139, 1])\n",
            "b_factors shape: torch.Size([139, 1])\n",
            "Shape of labels: torch.Size([139])\n",
            "esm2_embeddings shape: torch.Size([136, 1280])\n",
            "ss_onehot shape: torch.Size([136, 4])\n",
            "phi_angles shape: torch.Size([136, 1])\n",
            "psi_angles shape: torch.Size([136, 1])\n",
            "b_factors shape: torch.Size([136, 1])\n",
            "Shape of labels: torch.Size([136])\n"
          ]
        },
        {
          "output_type": "stream",
          "name": "stderr",
          "text": [
            "\r 11%|█         | 109/1013 [00:18<02:17,  6.56it/s]"
          ]
        },
        {
          "output_type": "stream",
          "name": "stdout",
          "text": [
            "esm2_embeddings shape: torch.Size([229, 1280])\n",
            "ss_onehot shape: torch.Size([229, 4])\n",
            "phi_angles shape: torch.Size([229, 1])\n",
            "psi_angles shape: torch.Size([229, 1])\n",
            "b_factors shape: torch.Size([229, 1])\n",
            "Shape of labels: torch.Size([229])\n"
          ]
        },
        {
          "output_type": "stream",
          "name": "stderr",
          "text": [
            " 11%|█         | 111/1013 [00:19<03:14,  4.65it/s]"
          ]
        },
        {
          "output_type": "stream",
          "name": "stdout",
          "text": [
            "esm2_embeddings shape: torch.Size([234, 1280])\n",
            "ss_onehot shape: torch.Size([234, 4])\n",
            "phi_angles shape: torch.Size([234, 1])\n",
            "psi_angles shape: torch.Size([234, 1])\n",
            "b_factors shape: torch.Size([234, 1])\n",
            "Shape of labels: torch.Size([234])\n",
            "esm2_embeddings shape: torch.Size([141, 1280])\n",
            "ss_onehot shape: torch.Size([141, 4])\n",
            "phi_angles shape: torch.Size([141, 1])\n",
            "psi_angles shape: torch.Size([141, 1])\n",
            "b_factors shape: torch.Size([141, 1])\n",
            "Shape of labels: torch.Size([141])\n"
          ]
        },
        {
          "output_type": "stream",
          "name": "stderr",
          "text": [
            " 11%|█         | 113/1013 [00:19<02:42,  5.55it/s]"
          ]
        },
        {
          "output_type": "stream",
          "name": "stdout",
          "text": [
            "esm2_embeddings shape: torch.Size([146, 1280])\n",
            "ss_onehot shape: torch.Size([146, 4])\n",
            "phi_angles shape: torch.Size([146, 1])\n",
            "psi_angles shape: torch.Size([146, 1])\n",
            "b_factors shape: torch.Size([146, 1])\n",
            "Shape of labels: torch.Size([146])\n",
            "esm2_embeddings shape: torch.Size([203, 1280])\n",
            "ss_onehot shape: torch.Size([203, 4])\n",
            "phi_angles shape: torch.Size([203, 1])\n",
            "psi_angles shape: torch.Size([203, 1])\n",
            "b_factors shape: torch.Size([203, 1])\n",
            "Shape of labels: torch.Size([203])\n"
          ]
        },
        {
          "output_type": "stream",
          "name": "stderr",
          "text": [
            "\r 11%|█▏        | 114/1013 [00:19<02:52,  5.21it/s]"
          ]
        },
        {
          "output_type": "stream",
          "name": "stdout",
          "text": [
            "esm2_embeddings shape: torch.Size([255, 1280])\n",
            "ss_onehot shape: torch.Size([255, 4])\n",
            "phi_angles shape: torch.Size([255, 1])\n",
            "psi_angles shape: torch.Size([255, 1])\n",
            "b_factors shape: torch.Size([255, 1])\n",
            "Shape of labels: torch.Size([255])\n",
            "esm2_embeddings shape: torch.Size([108, 1280])\n",
            "ss_onehot shape: torch.Size([108, 4])\n",
            "phi_angles shape: torch.Size([108, 1])\n",
            "psi_angles shape: torch.Size([108, 1])\n",
            "b_factors shape: torch.Size([108, 1])\n",
            "Shape of labels: torch.Size([108])\n"
          ]
        },
        {
          "output_type": "stream",
          "name": "stderr",
          "text": [
            " 12%|█▏        | 117/1013 [00:20<02:30,  5.96it/s]"
          ]
        },
        {
          "output_type": "stream",
          "name": "stdout",
          "text": [
            "esm2_embeddings shape: torch.Size([288, 1280])\n",
            "ss_onehot shape: torch.Size([288, 4])\n",
            "phi_angles shape: torch.Size([288, 1])\n",
            "psi_angles shape: torch.Size([288, 1])\n",
            "b_factors shape: torch.Size([288, 1])\n",
            "Shape of labels: torch.Size([288])\n",
            "esm2_embeddings shape: torch.Size([156, 1280])\n",
            "ss_onehot shape: torch.Size([156, 4])\n",
            "phi_angles shape: torch.Size([156, 1])\n",
            "psi_angles shape: torch.Size([156, 1])\n",
            "b_factors shape: torch.Size([156, 1])\n",
            "Shape of labels: torch.Size([156])\n"
          ]
        },
        {
          "output_type": "stream",
          "name": "stderr",
          "text": [
            "\r 12%|█▏        | 118/1013 [00:20<02:39,  5.61it/s]"
          ]
        },
        {
          "output_type": "stream",
          "name": "stdout",
          "text": [
            "esm2_embeddings shape: torch.Size([242, 1280])\n",
            "ss_onehot shape: torch.Size([242, 4])\n",
            "phi_angles shape: torch.Size([242, 1])\n",
            "psi_angles shape: torch.Size([242, 1])\n",
            "b_factors shape: torch.Size([242, 1])\n",
            "Shape of labels: torch.Size([242])\n",
            "esm2_embeddings shape: torch.Size([95, 1280])\n",
            "ss_onehot shape: torch.Size([95, 4])\n",
            "phi_angles shape: torch.Size([95, 1])\n",
            "psi_angles shape: torch.Size([95, 1])\n",
            "b_factors shape: torch.Size([95, 1])\n",
            "Shape of labels: torch.Size([95])\n"
          ]
        },
        {
          "output_type": "stream",
          "name": "stderr",
          "text": [
            " 12%|█▏        | 122/1013 [00:21<02:47,  5.31it/s]"
          ]
        },
        {
          "output_type": "stream",
          "name": "stdout",
          "text": [
            "esm2_embeddings shape: torch.Size([262, 1280])\n",
            "ss_onehot shape: torch.Size([262, 4])\n",
            "phi_angles shape: torch.Size([262, 1])\n",
            "psi_angles shape: torch.Size([262, 1])\n",
            "b_factors shape: torch.Size([262, 1])\n",
            "Shape of labels: torch.Size([262])\n",
            "esm2_embeddings shape: torch.Size([121, 1280])\n",
            "ss_onehot shape: torch.Size([121, 4])\n",
            "phi_angles shape: torch.Size([121, 1])\n",
            "psi_angles shape: torch.Size([121, 1])\n",
            "b_factors shape: torch.Size([121, 1])\n",
            "Shape of labels: torch.Size([121])\n",
            "esm2_embeddings shape: torch.Size([136, 1280])\n",
            "ss_onehot shape: torch.Size([136, 4])\n",
            "phi_angles shape: torch.Size([136, 1])\n",
            "psi_angles shape: torch.Size([136, 1])\n",
            "b_factors shape: torch.Size([136, 1])\n",
            "Shape of labels: torch.Size([136])\n"
          ]
        },
        {
          "output_type": "stream",
          "name": "stderr",
          "text": [
            "\r 12%|█▏        | 124/1013 [00:21<02:23,  6.21it/s]"
          ]
        },
        {
          "output_type": "stream",
          "name": "stdout",
          "text": [
            "esm2_embeddings shape: torch.Size([107, 1280])\n",
            "ss_onehot shape: torch.Size([107, 4])\n",
            "phi_angles shape: torch.Size([107, 1])\n",
            "psi_angles shape: torch.Size([107, 1])\n",
            "b_factors shape: torch.Size([107, 1])\n",
            "Shape of labels: torch.Size([107])\n",
            "esm2_embeddings shape: torch.Size([169, 1280])\n",
            "ss_onehot shape: torch.Size([169, 4])\n",
            "phi_angles shape: torch.Size([169, 1])\n",
            "psi_angles shape: torch.Size([169, 1])\n",
            "b_factors shape: torch.Size([169, 1])\n",
            "Shape of labels: torch.Size([169])\n"
          ]
        },
        {
          "output_type": "stream",
          "name": "stderr",
          "text": [
            "\r 12%|█▏        | 125/1013 [00:21<02:12,  6.69it/s]"
          ]
        },
        {
          "output_type": "stream",
          "name": "stdout",
          "text": [
            "esm2_embeddings shape: torch.Size([143, 1280])\n",
            "ss_onehot shape: torch.Size([143, 4])\n",
            "phi_angles shape: torch.Size([143, 1])\n",
            "psi_angles shape: torch.Size([143, 1])\n",
            "b_factors shape: torch.Size([143, 1])\n",
            "Shape of labels: torch.Size([143])\n"
          ]
        },
        {
          "output_type": "stream",
          "name": "stderr",
          "text": [
            " 13%|█▎        | 127/1013 [00:21<02:15,  6.55it/s]"
          ]
        },
        {
          "output_type": "stream",
          "name": "stdout",
          "text": [
            "esm2_embeddings shape: torch.Size([249, 1280])\n",
            "ss_onehot shape: torch.Size([249, 4])\n",
            "phi_angles shape: torch.Size([249, 1])\n",
            "psi_angles shape: torch.Size([249, 1])\n",
            "b_factors shape: torch.Size([249, 1])\n",
            "Shape of labels: torch.Size([249])\n",
            "esm2_embeddings shape: torch.Size([162, 1280])\n",
            "ss_onehot shape: torch.Size([162, 4])\n",
            "phi_angles shape: torch.Size([162, 1])\n",
            "psi_angles shape: torch.Size([162, 1])\n",
            "b_factors shape: torch.Size([162, 1])\n",
            "Shape of labels: torch.Size([162])\n"
          ]
        },
        {
          "output_type": "stream",
          "name": "stderr",
          "text": [
            " 13%|█▎        | 129/1013 [00:22<02:04,  7.10it/s]"
          ]
        },
        {
          "output_type": "stream",
          "name": "stdout",
          "text": [
            "esm2_embeddings shape: torch.Size([139, 1280])\n",
            "ss_onehot shape: torch.Size([139, 4])\n",
            "phi_angles shape: torch.Size([139, 1])\n",
            "psi_angles shape: torch.Size([139, 1])\n",
            "b_factors shape: torch.Size([139, 1])\n",
            "Shape of labels: torch.Size([139])\n",
            "esm2_embeddings shape: torch.Size([183, 1280])\n",
            "ss_onehot shape: torch.Size([183, 4])\n",
            "phi_angles shape: torch.Size([183, 1])\n",
            "psi_angles shape: torch.Size([183, 1])\n",
            "b_factors shape: torch.Size([183, 1])\n",
            "Shape of labels: torch.Size([183])\n"
          ]
        },
        {
          "output_type": "stream",
          "name": "stderr",
          "text": [
            "\r 13%|█▎        | 130/1013 [00:22<02:03,  7.13it/s]"
          ]
        },
        {
          "output_type": "stream",
          "name": "stdout",
          "text": [
            "esm2_embeddings shape: torch.Size([176, 1280])\n",
            "ss_onehot shape: torch.Size([176, 4])\n",
            "phi_angles shape: torch.Size([176, 1])\n",
            "psi_angles shape: torch.Size([176, 1])\n",
            "b_factors shape: torch.Size([176, 1])\n",
            "Shape of labels: torch.Size([176])\n",
            "esm2_embeddings shape: torch.Size([131, 1280])\n",
            "ss_onehot shape: torch.Size([131, 4])\n",
            "phi_angles shape: torch.Size([131, 1])\n",
            "psi_angles shape: torch.Size([131, 1])\n",
            "b_factors shape: torch.Size([131, 1])\n",
            "Shape of labels: torch.Size([131])\n",
            "esm2_embeddings shape: torch.Size([153, 1280])\n",
            "ss_onehot shape: torch.Size([153, 4])\n",
            "phi_angles shape: torch.Size([153, 1])\n",
            "psi_angles shape: torch.Size([153, 1])\n",
            "b_factors shape: torch.Size([153, 1])\n",
            "Shape of labels: torch.Size([153])\n"
          ]
        },
        {
          "output_type": "stream",
          "name": "stderr",
          "text": [
            "\r 13%|█▎        | 132/1013 [00:22<01:47,  8.16it/s]"
          ]
        },
        {
          "output_type": "stream",
          "name": "stdout",
          "text": [
            "esm2_embeddings shape: torch.Size([113, 1280])\n",
            "ss_onehot shape: torch.Size([113, 4])\n",
            "phi_angles shape: torch.Size([113, 1])\n",
            "psi_angles shape: torch.Size([113, 1])\n",
            "b_factors shape: torch.Size([113, 1])\n",
            "Shape of labels: torch.Size([113])\n"
          ]
        },
        {
          "output_type": "stream",
          "name": "stderr",
          "text": [
            "\r 13%|█▎        | 134/1013 [00:23<02:48,  5.20it/s]"
          ]
        },
        {
          "output_type": "stream",
          "name": "stdout",
          "text": [
            "esm2_embeddings shape: torch.Size([192, 1280])\n",
            "ss_onehot shape: torch.Size([192, 4])\n",
            "phi_angles shape: torch.Size([192, 1])\n",
            "psi_angles shape: torch.Size([192, 1])\n",
            "b_factors shape: torch.Size([192, 1])\n",
            "Shape of labels: torch.Size([192])\n"
          ]
        },
        {
          "output_type": "stream",
          "name": "stderr",
          "text": [
            " 13%|█▎        | 136/1013 [00:24<03:51,  3.79it/s]"
          ]
        },
        {
          "output_type": "stream",
          "name": "stdout",
          "text": [
            "esm2_embeddings shape: torch.Size([537, 1280])\n",
            "ss_onehot shape: torch.Size([537, 4])\n",
            "phi_angles shape: torch.Size([537, 1])\n",
            "psi_angles shape: torch.Size([537, 1])\n",
            "b_factors shape: torch.Size([537, 1])\n",
            "Shape of labels: torch.Size([537])\n",
            "esm2_embeddings shape: torch.Size([151, 1280])\n",
            "ss_onehot shape: torch.Size([151, 4])\n",
            "phi_angles shape: torch.Size([151, 1])\n",
            "psi_angles shape: torch.Size([151, 1])\n",
            "b_factors shape: torch.Size([151, 1])\n",
            "Shape of labels: torch.Size([151])\n",
            "esm2_embeddings shape: torch.Size([64, 1280])\n",
            "ss_onehot shape: torch.Size([64, 4])\n",
            "phi_angles shape: torch.Size([64, 1])\n",
            "psi_angles shape: torch.Size([64, 1])\n",
            "b_factors shape: torch.Size([64, 1])\n",
            "Shape of labels: torch.Size([64])\n"
          ]
        },
        {
          "output_type": "stream",
          "name": "stderr",
          "text": [
            " 14%|█▎        | 139/1013 [00:24<02:37,  5.55it/s]"
          ]
        },
        {
          "output_type": "stream",
          "name": "stdout",
          "text": [
            "esm2_embeddings shape: torch.Size([163, 1280])\n",
            "ss_onehot shape: torch.Size([163, 4])\n",
            "phi_angles shape: torch.Size([163, 1])\n",
            "psi_angles shape: torch.Size([163, 1])\n",
            "b_factors shape: torch.Size([163, 1])\n",
            "Shape of labels: torch.Size([163])\n",
            "esm2_embeddings shape: torch.Size([180, 1280])\n",
            "ss_onehot shape: torch.Size([180, 4])\n",
            "phi_angles shape: torch.Size([180, 1])\n",
            "psi_angles shape: torch.Size([180, 1])\n",
            "b_factors shape: torch.Size([180, 1])\n",
            "Shape of labels: torch.Size([180])\n"
          ]
        },
        {
          "output_type": "stream",
          "name": "stderr",
          "text": [
            "\r 14%|█▍        | 141/1013 [00:24<02:21,  6.17it/s]"
          ]
        },
        {
          "output_type": "stream",
          "name": "stdout",
          "text": [
            "esm2_embeddings shape: torch.Size([96, 1280])\n",
            "ss_onehot shape: torch.Size([96, 4])\n",
            "phi_angles shape: torch.Size([96, 1])\n",
            "psi_angles shape: torch.Size([96, 1])\n",
            "b_factors shape: torch.Size([96, 1])\n",
            "Shape of labels: torch.Size([96])\n",
            "esm2_embeddings shape: torch.Size([218, 1280])\n",
            "ss_onehot shape: torch.Size([218, 4])\n",
            "phi_angles shape: torch.Size([218, 1])\n",
            "psi_angles shape: torch.Size([218, 1])\n",
            "b_factors shape: torch.Size([218, 1])\n",
            "Shape of labels: torch.Size([218])\n"
          ]
        },
        {
          "output_type": "stream",
          "name": "stderr",
          "text": [
            "\r 14%|█▍        | 142/1013 [00:24<02:12,  6.59it/s]"
          ]
        },
        {
          "output_type": "stream",
          "name": "stdout",
          "text": [
            "esm2_embeddings shape: torch.Size([152, 1280])\n",
            "ss_onehot shape: torch.Size([152, 4])\n",
            "phi_angles shape: torch.Size([152, 1])\n",
            "psi_angles shape: torch.Size([152, 1])\n",
            "b_factors shape: torch.Size([152, 1])\n",
            "Shape of labels: torch.Size([152])\n"
          ]
        },
        {
          "output_type": "stream",
          "name": "stderr",
          "text": [
            " 14%|█▍        | 144/1013 [00:25<03:00,  4.80it/s]"
          ]
        },
        {
          "output_type": "stream",
          "name": "stdout",
          "text": [
            "esm2_embeddings shape: torch.Size([150, 1280])\n",
            "ss_onehot shape: torch.Size([150, 4])\n",
            "phi_angles shape: torch.Size([150, 1])\n",
            "psi_angles shape: torch.Size([150, 1])\n",
            "b_factors shape: torch.Size([150, 1])\n",
            "Shape of labels: torch.Size([150])\n",
            "esm2_embeddings shape: torch.Size([179, 1280])\n",
            "ss_onehot shape: torch.Size([179, 4])\n",
            "phi_angles shape: torch.Size([179, 1])\n",
            "psi_angles shape: torch.Size([179, 1])\n",
            "b_factors shape: torch.Size([179, 1])\n",
            "Shape of labels: torch.Size([179])\n"
          ]
        },
        {
          "output_type": "stream",
          "name": "stderr",
          "text": [
            " 14%|█▍        | 146/1013 [00:25<02:25,  5.95it/s]"
          ]
        },
        {
          "output_type": "stream",
          "name": "stdout",
          "text": [
            "esm2_embeddings shape: torch.Size([178, 1280])\n",
            "ss_onehot shape: torch.Size([178, 4])\n",
            "phi_angles shape: torch.Size([178, 1])\n",
            "psi_angles shape: torch.Size([178, 1])\n",
            "b_factors shape: torch.Size([178, 1])\n",
            "Shape of labels: torch.Size([178])\n",
            "esm2_embeddings shape: torch.Size([146, 1280])\n",
            "ss_onehot shape: torch.Size([146, 4])\n",
            "phi_angles shape: torch.Size([146, 1])\n",
            "psi_angles shape: torch.Size([146, 1])\n",
            "b_factors shape: torch.Size([146, 1])\n",
            "Shape of labels: torch.Size([146])\n",
            "esm2_embeddings shape: torch.Size([81, 1280])\n",
            "ss_onehot shape: torch.Size([81, 4])\n",
            "phi_angles shape: torch.Size([81, 1])\n",
            "psi_angles shape: torch.Size([81, 1])\n",
            "b_factors shape: torch.Size([81, 1])\n",
            "Shape of labels: torch.Size([81])\n"
          ]
        },
        {
          "output_type": "stream",
          "name": "stderr",
          "text": [
            "\r 15%|█▍        | 148/1013 [00:25<01:41,  8.51it/s]"
          ]
        },
        {
          "output_type": "stream",
          "name": "stdout",
          "text": [
            "esm2_embeddings shape: torch.Size([77, 1280])\n",
            "ss_onehot shape: torch.Size([77, 4])\n",
            "phi_angles shape: torch.Size([77, 1])\n",
            "psi_angles shape: torch.Size([77, 1])\n",
            "b_factors shape: torch.Size([77, 1])\n",
            "Shape of labels: torch.Size([77])\n"
          ]
        },
        {
          "output_type": "stream",
          "name": "stderr",
          "text": [
            "\r 15%|█▍        | 150/1013 [00:26<01:54,  7.51it/s]"
          ]
        },
        {
          "output_type": "stream",
          "name": "stdout",
          "text": [
            "esm2_embeddings shape: torch.Size([249, 1280])\n",
            "ss_onehot shape: torch.Size([249, 4])\n",
            "phi_angles shape: torch.Size([249, 1])\n",
            "psi_angles shape: torch.Size([249, 1])\n",
            "b_factors shape: torch.Size([249, 1])\n",
            "Shape of labels: torch.Size([249])\n",
            "esm2_embeddings shape: torch.Size([121, 1280])\n",
            "ss_onehot shape: torch.Size([121, 4])\n",
            "phi_angles shape: torch.Size([121, 1])\n",
            "psi_angles shape: torch.Size([121, 1])\n",
            "b_factors shape: torch.Size([121, 1])\n",
            "Shape of labels: torch.Size([121])\n"
          ]
        },
        {
          "output_type": "stream",
          "name": "stderr",
          "text": [
            " 15%|█▌        | 152/1013 [00:26<02:24,  5.95it/s]"
          ]
        },
        {
          "output_type": "stream",
          "name": "stdout",
          "text": [
            "esm2_embeddings shape: torch.Size([355, 1280])\n",
            "ss_onehot shape: torch.Size([355, 4])\n",
            "phi_angles shape: torch.Size([355, 1])\n",
            "psi_angles shape: torch.Size([355, 1])\n",
            "b_factors shape: torch.Size([355, 1])\n",
            "Shape of labels: torch.Size([355])\n",
            "esm2_embeddings shape: torch.Size([155, 1280])\n",
            "ss_onehot shape: torch.Size([155, 4])\n",
            "phi_angles shape: torch.Size([155, 1])\n",
            "psi_angles shape: torch.Size([155, 1])\n",
            "b_factors shape: torch.Size([155, 1])\n",
            "Shape of labels: torch.Size([155])\n"
          ]
        },
        {
          "output_type": "stream",
          "name": "stderr",
          "text": [
            " 15%|█▌        | 155/1013 [00:26<01:47,  7.99it/s]"
          ]
        },
        {
          "output_type": "stream",
          "name": "stdout",
          "text": [
            "esm2_embeddings shape: torch.Size([150, 1280])\n",
            "ss_onehot shape: torch.Size([150, 4])\n",
            "phi_angles shape: torch.Size([150, 1])\n",
            "psi_angles shape: torch.Size([150, 1])\n",
            "b_factors shape: torch.Size([150, 1])\n",
            "Shape of labels: torch.Size([150])\n",
            "esm2_embeddings shape: torch.Size([106, 1280])\n",
            "ss_onehot shape: torch.Size([106, 4])\n",
            "phi_angles shape: torch.Size([106, 1])\n",
            "psi_angles shape: torch.Size([106, 1])\n",
            "b_factors shape: torch.Size([106, 1])\n",
            "Shape of labels: torch.Size([106])\n",
            "esm2_embeddings shape: torch.Size([134, 1280])\n",
            "ss_onehot shape: torch.Size([134, 4])\n",
            "phi_angles shape: torch.Size([134, 1])\n",
            "psi_angles shape: torch.Size([134, 1])\n",
            "b_factors shape: torch.Size([134, 1])\n",
            "Shape of labels: torch.Size([134])\n"
          ]
        },
        {
          "output_type": "stream",
          "name": "stderr",
          "text": [
            "\r 15%|█▌        | 156/1013 [00:27<03:09,  4.53it/s]"
          ]
        },
        {
          "output_type": "stream",
          "name": "stdout",
          "text": [
            "esm2_embeddings shape: torch.Size([189, 1280])\n",
            "ss_onehot shape: torch.Size([189, 4])\n",
            "phi_angles shape: torch.Size([189, 1])\n",
            "psi_angles shape: torch.Size([189, 1])\n",
            "b_factors shape: torch.Size([189, 1])\n",
            "Shape of labels: torch.Size([189])\n",
            "esm2_embeddings shape: torch.Size([93, 1280])\n",
            "ss_onehot shape: torch.Size([93, 4])\n",
            "phi_angles shape: torch.Size([93, 1])\n",
            "psi_angles shape: torch.Size([93, 1])\n",
            "b_factors shape: torch.Size([93, 1])\n",
            "Shape of labels: torch.Size([93])\n"
          ]
        },
        {
          "output_type": "stream",
          "name": "stderr",
          "text": [
            "\r 16%|█▌        | 158/1013 [00:27<02:29,  5.73it/s]"
          ]
        },
        {
          "output_type": "stream",
          "name": "stdout",
          "text": [
            "esm2_embeddings shape: torch.Size([178, 1280])\n",
            "ss_onehot shape: torch.Size([178, 4])\n",
            "phi_angles shape: torch.Size([178, 1])\n",
            "psi_angles shape: torch.Size([178, 1])\n",
            "b_factors shape: torch.Size([178, 1])\n",
            "Shape of labels: torch.Size([178])\n"
          ]
        },
        {
          "output_type": "stream",
          "name": "stderr",
          "text": [
            " 16%|█▌        | 160/1013 [00:27<02:37,  5.43it/s]"
          ]
        },
        {
          "output_type": "stream",
          "name": "stdout",
          "text": [
            "esm2_embeddings shape: torch.Size([235, 1280])\n",
            "ss_onehot shape: torch.Size([235, 4])\n",
            "phi_angles shape: torch.Size([235, 1])\n",
            "psi_angles shape: torch.Size([235, 1])\n",
            "b_factors shape: torch.Size([235, 1])\n",
            "Shape of labels: torch.Size([235])\n",
            "esm2_embeddings shape: torch.Size([222, 1280])\n",
            "ss_onehot shape: torch.Size([222, 4])\n",
            "phi_angles shape: torch.Size([222, 1])\n",
            "psi_angles shape: torch.Size([222, 1])\n",
            "b_factors shape: torch.Size([222, 1])\n",
            "Shape of labels: torch.Size([222])\n"
          ]
        },
        {
          "output_type": "stream",
          "name": "stderr",
          "text": [
            " 16%|█▌        | 163/1013 [00:28<02:05,  6.76it/s]"
          ]
        },
        {
          "output_type": "stream",
          "name": "stdout",
          "text": [
            "esm2_embeddings shape: torch.Size([218, 1280])\n",
            "ss_onehot shape: torch.Size([218, 4])\n",
            "phi_angles shape: torch.Size([218, 1])\n",
            "psi_angles shape: torch.Size([218, 1])\n",
            "b_factors shape: torch.Size([218, 1])\n",
            "Shape of labels: torch.Size([218])\n",
            "esm2_embeddings shape: torch.Size([69, 1280])\n",
            "ss_onehot shape: torch.Size([69, 4])\n",
            "phi_angles shape: torch.Size([69, 1])\n",
            "psi_angles shape: torch.Size([69, 1])\n",
            "b_factors shape: torch.Size([69, 1])\n",
            "Shape of labels: torch.Size([69])\n",
            "esm2_embeddings shape: torch.Size([199, 1280])\n",
            "ss_onehot shape: torch.Size([199, 4])\n",
            "phi_angles shape: torch.Size([199, 1])\n",
            "psi_angles shape: torch.Size([199, 1])\n",
            "b_factors shape: torch.Size([199, 1])\n",
            "Shape of labels: torch.Size([199])\n"
          ]
        },
        {
          "output_type": "stream",
          "name": "stderr",
          "text": [
            "\r 16%|█▌        | 164/1013 [00:28<02:08,  6.60it/s]"
          ]
        },
        {
          "output_type": "stream",
          "name": "stdout",
          "text": [
            "esm2_embeddings shape: torch.Size([200, 1280])\n",
            "ss_onehot shape: torch.Size([200, 4])\n",
            "phi_angles shape: torch.Size([200, 1])\n",
            "psi_angles shape: torch.Size([200, 1])\n",
            "b_factors shape: torch.Size([200, 1])\n",
            "Shape of labels: torch.Size([200])\n"
          ]
        },
        {
          "output_type": "stream",
          "name": "stderr",
          "text": [
            "\r 16%|█▋        | 165/1013 [00:28<02:22,  5.96it/s]"
          ]
        },
        {
          "output_type": "stream",
          "name": "stdout",
          "text": [
            "esm2_embeddings shape: torch.Size([232, 1280])\n",
            "ss_onehot shape: torch.Size([232, 4])\n",
            "phi_angles shape: torch.Size([232, 1])\n",
            "psi_angles shape: torch.Size([232, 1])\n",
            "b_factors shape: torch.Size([232, 1])\n",
            "Shape of labels: torch.Size([232])\n"
          ]
        },
        {
          "output_type": "stream",
          "name": "stderr",
          "text": [
            " 16%|█▋        | 167/1013 [00:29<03:17,  4.29it/s]"
          ]
        },
        {
          "output_type": "stream",
          "name": "stdout",
          "text": [
            "esm2_embeddings shape: torch.Size([212, 1280])\n",
            "ss_onehot shape: torch.Size([212, 4])\n",
            "phi_angles shape: torch.Size([212, 1])\n",
            "psi_angles shape: torch.Size([212, 1])\n",
            "b_factors shape: torch.Size([212, 1])\n",
            "Shape of labels: torch.Size([212])\n",
            "esm2_embeddings shape: torch.Size([164, 1280])\n",
            "ss_onehot shape: torch.Size([164, 4])\n",
            "phi_angles shape: torch.Size([164, 1])\n",
            "psi_angles shape: torch.Size([164, 1])\n",
            "b_factors shape: torch.Size([164, 1])\n",
            "Shape of labels: torch.Size([164])\n"
          ]
        },
        {
          "output_type": "stream",
          "name": "stderr",
          "text": [
            "\r 17%|█▋        | 169/1013 [00:29<02:34,  5.46it/s]"
          ]
        },
        {
          "output_type": "stream",
          "name": "stdout",
          "text": [
            "esm2_embeddings shape: torch.Size([119, 1280])\n",
            "ss_onehot shape: torch.Size([119, 4])\n",
            "phi_angles shape: torch.Size([119, 1])\n",
            "psi_angles shape: torch.Size([119, 1])\n",
            "b_factors shape: torch.Size([119, 1])\n",
            "Shape of labels: torch.Size([119])\n",
            "esm2_embeddings shape: torch.Size([197, 1280])\n",
            "ss_onehot shape: torch.Size([197, 4])\n",
            "phi_angles shape: torch.Size([197, 1])\n",
            "psi_angles shape: torch.Size([197, 1])\n",
            "b_factors shape: torch.Size([197, 1])\n",
            "Shape of labels: torch.Size([197])\n",
            "esm2_embeddings shape: torch.Size([80, 1280])\n",
            "ss_onehot shape: torch.Size([80, 4])\n",
            "phi_angles shape: torch.Size([80, 1])\n",
            "psi_angles shape: torch.Size([80, 1])\n",
            "b_factors shape: torch.Size([80, 1])\n",
            "Shape of labels: torch.Size([80])\n"
          ]
        },
        {
          "output_type": "stream",
          "name": "stderr",
          "text": [
            " 17%|█▋        | 172/1013 [00:30<02:29,  5.61it/s]"
          ]
        },
        {
          "output_type": "stream",
          "name": "stdout",
          "text": [
            "esm2_embeddings shape: torch.Size([324, 1280])\n",
            "ss_onehot shape: torch.Size([324, 4])\n",
            "phi_angles shape: torch.Size([324, 1])\n",
            "psi_angles shape: torch.Size([324, 1])\n",
            "b_factors shape: torch.Size([324, 1])\n",
            "Shape of labels: torch.Size([324])\n",
            "esm2_embeddings shape: torch.Size([198, 1280])\n",
            "ss_onehot shape: torch.Size([198, 4])\n",
            "phi_angles shape: torch.Size([198, 1])\n",
            "psi_angles shape: torch.Size([198, 1])\n",
            "b_factors shape: torch.Size([198, 1])\n",
            "Shape of labels: torch.Size([198])\n"
          ]
        },
        {
          "output_type": "stream",
          "name": "stderr",
          "text": [
            " 17%|█▋        | 174/1013 [00:30<02:25,  5.76it/s]"
          ]
        },
        {
          "output_type": "stream",
          "name": "stdout",
          "text": [
            "esm2_embeddings shape: torch.Size([174, 1280])\n",
            "ss_onehot shape: torch.Size([174, 4])\n",
            "phi_angles shape: torch.Size([174, 1])\n",
            "psi_angles shape: torch.Size([174, 1])\n",
            "b_factors shape: torch.Size([174, 1])\n",
            "Shape of labels: torch.Size([174])\n",
            "esm2_embeddings shape: torch.Size([227, 1280])\n",
            "ss_onehot shape: torch.Size([227, 4])\n",
            "phi_angles shape: torch.Size([227, 1])\n",
            "psi_angles shape: torch.Size([227, 1])\n",
            "b_factors shape: torch.Size([227, 1])\n",
            "Shape of labels: torch.Size([227])\n"
          ]
        },
        {
          "output_type": "stream",
          "name": "stderr",
          "text": [
            " 17%|█▋        | 176/1013 [00:30<02:04,  6.73it/s]"
          ]
        },
        {
          "output_type": "stream",
          "name": "stdout",
          "text": [
            "esm2_embeddings shape: torch.Size([150, 1280])\n",
            "ss_onehot shape: torch.Size([150, 4])\n",
            "phi_angles shape: torch.Size([150, 1])\n",
            "psi_angles shape: torch.Size([150, 1])\n",
            "b_factors shape: torch.Size([150, 1])\n",
            "Shape of labels: torch.Size([150])\n",
            "esm2_embeddings shape: torch.Size([167, 1280])\n",
            "ss_onehot shape: torch.Size([167, 4])\n",
            "phi_angles shape: torch.Size([167, 1])\n",
            "psi_angles shape: torch.Size([167, 1])\n",
            "b_factors shape: torch.Size([167, 1])\n",
            "Shape of labels: torch.Size([167])\n"
          ]
        },
        {
          "output_type": "stream",
          "name": "stderr",
          "text": [
            "\r 17%|█▋        | 177/1013 [00:31<03:25,  4.07it/s]"
          ]
        },
        {
          "output_type": "stream",
          "name": "stdout",
          "text": [
            "esm2_embeddings shape: torch.Size([146, 1280])\n",
            "ss_onehot shape: torch.Size([146, 4])\n",
            "phi_angles shape: torch.Size([146, 1])\n",
            "psi_angles shape: torch.Size([146, 1])\n",
            "b_factors shape: torch.Size([146, 1])\n",
            "Shape of labels: torch.Size([146])\n"
          ]
        },
        {
          "output_type": "stream",
          "name": "stderr",
          "text": [
            " 18%|█▊        | 179/1013 [00:31<03:08,  4.43it/s]"
          ]
        },
        {
          "output_type": "stream",
          "name": "stdout",
          "text": [
            "esm2_embeddings shape: torch.Size([269, 1280])\n",
            "ss_onehot shape: torch.Size([269, 4])\n",
            "phi_angles shape: torch.Size([269, 1])\n",
            "psi_angles shape: torch.Size([269, 1])\n",
            "b_factors shape: torch.Size([269, 1])\n",
            "Shape of labels: torch.Size([269])\n",
            "esm2_embeddings shape: torch.Size([201, 1280])\n",
            "ss_onehot shape: torch.Size([201, 4])\n",
            "phi_angles shape: torch.Size([201, 1])\n",
            "psi_angles shape: torch.Size([201, 1])\n",
            "b_factors shape: torch.Size([201, 1])\n",
            "Shape of labels: torch.Size([201])\n"
          ]
        },
        {
          "output_type": "stream",
          "name": "stderr",
          "text": [
            " 18%|█▊        | 182/1013 [00:31<01:58,  7.02it/s]"
          ]
        },
        {
          "output_type": "stream",
          "name": "stdout",
          "text": [
            "esm2_embeddings shape: torch.Size([157, 1280])\n",
            "ss_onehot shape: torch.Size([157, 4])\n",
            "phi_angles shape: torch.Size([157, 1])\n",
            "psi_angles shape: torch.Size([157, 1])\n",
            "b_factors shape: torch.Size([157, 1])\n",
            "Shape of labels: torch.Size([157])\n",
            "esm2_embeddings shape: torch.Size([115, 1280])\n",
            "ss_onehot shape: torch.Size([115, 4])\n",
            "phi_angles shape: torch.Size([115, 1])\n",
            "psi_angles shape: torch.Size([115, 1])\n",
            "b_factors shape: torch.Size([115, 1])\n",
            "Shape of labels: torch.Size([115])\n",
            "esm2_embeddings shape: torch.Size([121, 1280])\n",
            "ss_onehot shape: torch.Size([121, 4])\n",
            "phi_angles shape: torch.Size([121, 1])\n",
            "psi_angles shape: torch.Size([121, 1])\n",
            "b_factors shape: torch.Size([121, 1])\n",
            "Shape of labels: torch.Size([121])\n"
          ]
        },
        {
          "output_type": "stream",
          "name": "stderr",
          "text": [
            "\r 18%|█▊        | 183/1013 [00:32<01:51,  7.47it/s]"
          ]
        },
        {
          "output_type": "stream",
          "name": "stdout",
          "text": [
            "esm2_embeddings shape: torch.Size([144, 1280])\n",
            "ss_onehot shape: torch.Size([144, 4])\n",
            "phi_angles shape: torch.Size([144, 1])\n",
            "psi_angles shape: torch.Size([144, 1])\n",
            "b_factors shape: torch.Size([144, 1])\n",
            "Shape of labels: torch.Size([144])\n",
            "esm2_embeddings shape: torch.Size([127, 1280])\n",
            "ss_onehot shape: torch.Size([127, 4])\n",
            "phi_angles shape: torch.Size([127, 1])\n",
            "psi_angles shape: torch.Size([127, 1])\n",
            "b_factors shape: torch.Size([127, 1])\n",
            "Shape of labels: torch.Size([127])\n"
          ]
        },
        {
          "output_type": "stream",
          "name": "stderr",
          "text": [
            " 18%|█▊        | 186/1013 [00:32<01:51,  7.43it/s]"
          ]
        },
        {
          "output_type": "stream",
          "name": "stdout",
          "text": [
            "esm2_embeddings shape: torch.Size([234, 1280])\n",
            "ss_onehot shape: torch.Size([234, 4])\n",
            "phi_angles shape: torch.Size([234, 1])\n",
            "psi_angles shape: torch.Size([234, 1])\n",
            "b_factors shape: torch.Size([234, 1])\n",
            "Shape of labels: torch.Size([234])\n",
            "esm2_embeddings shape: torch.Size([175, 1280])\n",
            "ss_onehot shape: torch.Size([175, 4])\n",
            "phi_angles shape: torch.Size([175, 1])\n",
            "psi_angles shape: torch.Size([175, 1])\n",
            "b_factors shape: torch.Size([175, 1])\n",
            "Shape of labels: torch.Size([175])\n"
          ]
        },
        {
          "output_type": "stream",
          "name": "stderr",
          "text": [
            "\r 18%|█▊        | 187/1013 [00:32<01:46,  7.72it/s]"
          ]
        },
        {
          "output_type": "stream",
          "name": "stdout",
          "text": [
            "esm2_embeddings shape: torch.Size([157, 1280])\n",
            "ss_onehot shape: torch.Size([157, 4])\n",
            "phi_angles shape: torch.Size([157, 1])\n",
            "psi_angles shape: torch.Size([157, 1])\n",
            "b_factors shape: torch.Size([157, 1])\n",
            "Shape of labels: torch.Size([157])\n",
            "esm2_embeddings shape: torch.Size([111, 1280])\n",
            "ss_onehot shape: torch.Size([111, 4])\n",
            "phi_angles shape: torch.Size([111, 1])\n",
            "psi_angles shape: torch.Size([111, 1])\n",
            "b_factors shape: torch.Size([111, 1])\n",
            "Shape of labels: torch.Size([111])\n"
          ]
        },
        {
          "output_type": "stream",
          "name": "stderr",
          "text": [
            " 19%|█▉        | 190/1013 [00:33<02:38,  5.19it/s]"
          ]
        },
        {
          "output_type": "stream",
          "name": "stdout",
          "text": [
            "esm2_embeddings shape: torch.Size([171, 1280])\n",
            "ss_onehot shape: torch.Size([171, 4])\n",
            "phi_angles shape: torch.Size([171, 1])\n",
            "psi_angles shape: torch.Size([171, 1])\n",
            "b_factors shape: torch.Size([171, 1])\n",
            "Shape of labels: torch.Size([171])\n",
            "esm2_embeddings shape: torch.Size([201, 1280])\n",
            "ss_onehot shape: torch.Size([201, 4])\n",
            "phi_angles shape: torch.Size([201, 1])\n",
            "psi_angles shape: torch.Size([201, 1])\n",
            "b_factors shape: torch.Size([201, 1])\n",
            "Shape of labels: torch.Size([201])\n"
          ]
        },
        {
          "output_type": "stream",
          "name": "stderr",
          "text": [
            " 19%|█▉        | 193/1013 [00:33<02:13,  6.12it/s]"
          ]
        },
        {
          "output_type": "stream",
          "name": "stdout",
          "text": [
            "esm2_embeddings shape: torch.Size([308, 1280])\n",
            "ss_onehot shape: torch.Size([308, 4])\n",
            "phi_angles shape: torch.Size([308, 1])\n",
            "psi_angles shape: torch.Size([308, 1])\n",
            "b_factors shape: torch.Size([308, 1])\n",
            "Shape of labels: torch.Size([308])\n",
            "esm2_embeddings shape: torch.Size([81, 1280])\n",
            "ss_onehot shape: torch.Size([81, 4])\n",
            "phi_angles shape: torch.Size([81, 1])\n",
            "psi_angles shape: torch.Size([81, 1])\n",
            "b_factors shape: torch.Size([81, 1])\n",
            "Shape of labels: torch.Size([81])\n",
            "esm2_embeddings shape: torch.Size([121, 1280])\n",
            "ss_onehot shape: torch.Size([121, 4])\n",
            "phi_angles shape: torch.Size([121, 1])\n",
            "psi_angles shape: torch.Size([121, 1])\n",
            "b_factors shape: torch.Size([121, 1])\n",
            "Shape of labels: torch.Size([121])\n"
          ]
        },
        {
          "output_type": "stream",
          "name": "stderr",
          "text": [
            "\r 19%|█▉        | 194/1013 [00:33<02:02,  6.67it/s]"
          ]
        },
        {
          "output_type": "stream",
          "name": "stdout",
          "text": [
            "esm2_embeddings shape: torch.Size([145, 1280])\n",
            "ss_onehot shape: torch.Size([145, 4])\n",
            "phi_angles shape: torch.Size([145, 1])\n",
            "psi_angles shape: torch.Size([145, 1])\n",
            "b_factors shape: torch.Size([145, 1])\n",
            "Shape of labels: torch.Size([145])\n",
            "esm2_embeddings shape: torch.Size([110, 1280])\n",
            "ss_onehot shape: torch.Size([110, 4])\n",
            "phi_angles shape: torch.Size([110, 1])\n",
            "psi_angles shape: torch.Size([110, 1])\n",
            "b_factors shape: torch.Size([110, 1])\n",
            "Shape of labels: torch.Size([110])\n"
          ]
        },
        {
          "output_type": "stream",
          "name": "stderr",
          "text": [
            " 19%|█▉        | 197/1013 [00:34<01:50,  7.37it/s]"
          ]
        },
        {
          "output_type": "stream",
          "name": "stdout",
          "text": [
            "esm2_embeddings shape: torch.Size([165, 1280])\n",
            "ss_onehot shape: torch.Size([165, 4])\n",
            "phi_angles shape: torch.Size([165, 1])\n",
            "psi_angles shape: torch.Size([165, 1])\n",
            "b_factors shape: torch.Size([165, 1])\n",
            "Shape of labels: torch.Size([165])\n",
            "esm2_embeddings shape: torch.Size([190, 1280])\n",
            "ss_onehot shape: torch.Size([190, 4])\n",
            "phi_angles shape: torch.Size([190, 1])\n",
            "psi_angles shape: torch.Size([190, 1])\n",
            "b_factors shape: torch.Size([190, 1])\n",
            "Shape of labels: torch.Size([190])\n",
            "esm2_embeddings shape: torch.Size([78, 1280])\n",
            "ss_onehot shape: torch.Size([78, 4])\n",
            "phi_angles shape: torch.Size([78, 1])\n",
            "psi_angles shape: torch.Size([78, 1])\n",
            "b_factors shape: torch.Size([78, 1])\n",
            "Shape of labels: torch.Size([78])\n"
          ]
        },
        {
          "output_type": "stream",
          "name": "stderr",
          "text": [
            "\r 20%|█▉        | 199/1013 [00:34<01:30,  9.04it/s]"
          ]
        },
        {
          "output_type": "stream",
          "name": "stdout",
          "text": [
            "esm2_embeddings shape: torch.Size([128, 1280])\n",
            "ss_onehot shape: torch.Size([128, 4])\n",
            "phi_angles shape: torch.Size([128, 1])\n",
            "psi_angles shape: torch.Size([128, 1])\n",
            "b_factors shape: torch.Size([128, 1])\n",
            "Shape of labels: torch.Size([128])\n",
            "esm2_embeddings shape: torch.Size([126, 1280])\n",
            "ss_onehot shape: torch.Size([126, 4])\n",
            "phi_angles shape: torch.Size([126, 1])\n",
            "psi_angles shape: torch.Size([126, 1])\n",
            "b_factors shape: torch.Size([126, 1])\n",
            "Shape of labels: torch.Size([126])\n"
          ]
        },
        {
          "output_type": "stream",
          "name": "stderr",
          "text": [
            "\r 20%|█▉        | 201/1013 [00:34<01:27,  9.24it/s]"
          ]
        },
        {
          "output_type": "stream",
          "name": "stdout",
          "text": [
            "esm2_embeddings shape: torch.Size([168, 1280])\n",
            "ss_onehot shape: torch.Size([168, 4])\n",
            "phi_angles shape: torch.Size([168, 1])\n",
            "psi_angles shape: torch.Size([168, 1])\n",
            "b_factors shape: torch.Size([168, 1])\n",
            "Shape of labels: torch.Size([168])\n"
          ]
        },
        {
          "output_type": "stream",
          "name": "stderr",
          "text": [
            " 20%|██        | 203/1013 [00:35<02:47,  4.84it/s]"
          ]
        },
        {
          "output_type": "stream",
          "name": "stdout",
          "text": [
            "esm2_embeddings shape: torch.Size([305, 1280])\n",
            "ss_onehot shape: torch.Size([305, 4])\n",
            "phi_angles shape: torch.Size([305, 1])\n",
            "psi_angles shape: torch.Size([305, 1])\n",
            "b_factors shape: torch.Size([305, 1])\n",
            "Shape of labels: torch.Size([305])\n",
            "esm2_embeddings shape: torch.Size([162, 1280])\n",
            "ss_onehot shape: torch.Size([162, 4])\n",
            "phi_angles shape: torch.Size([162, 1])\n",
            "psi_angles shape: torch.Size([162, 1])\n",
            "b_factors shape: torch.Size([162, 1])\n",
            "Shape of labels: torch.Size([162])\n"
          ]
        },
        {
          "output_type": "stream",
          "name": "stderr",
          "text": [
            "\r 20%|██        | 204/1013 [00:35<02:31,  5.33it/s]"
          ]
        },
        {
          "output_type": "stream",
          "name": "stdout",
          "text": [
            "esm2_embeddings shape: torch.Size([168, 1280])\n",
            "ss_onehot shape: torch.Size([168, 4])\n",
            "phi_angles shape: torch.Size([168, 1])\n",
            "psi_angles shape: torch.Size([168, 1])\n",
            "b_factors shape: torch.Size([168, 1])\n",
            "Shape of labels: torch.Size([168])\n"
          ]
        },
        {
          "output_type": "stream",
          "name": "stderr",
          "text": [
            "\r 20%|██        | 205/1013 [00:35<02:43,  4.95it/s]"
          ]
        },
        {
          "output_type": "stream",
          "name": "stdout",
          "text": [
            "esm2_embeddings shape: torch.Size([269, 1280])\n",
            "ss_onehot shape: torch.Size([269, 4])\n",
            "phi_angles shape: torch.Size([269, 1])\n",
            "psi_angles shape: torch.Size([269, 1])\n",
            "b_factors shape: torch.Size([269, 1])\n",
            "Shape of labels: torch.Size([269])\n"
          ]
        },
        {
          "output_type": "stream",
          "name": "stderr",
          "text": [
            "\r 20%|██        | 206/1013 [00:36<02:48,  4.79it/s]"
          ]
        },
        {
          "output_type": "stream",
          "name": "stdout",
          "text": [
            "esm2_embeddings shape: torch.Size([251, 1280])\n",
            "ss_onehot shape: torch.Size([251, 4])\n",
            "phi_angles shape: torch.Size([251, 1])\n",
            "psi_angles shape: torch.Size([251, 1])\n",
            "b_factors shape: torch.Size([251, 1])\n",
            "Shape of labels: torch.Size([251])\n"
          ]
        },
        {
          "output_type": "stream",
          "name": "stderr",
          "text": [
            " 21%|██        | 209/1013 [00:36<02:03,  6.50it/s]"
          ]
        },
        {
          "output_type": "stream",
          "name": "stdout",
          "text": [
            "esm2_embeddings shape: torch.Size([260, 1280])\n",
            "ss_onehot shape: torch.Size([260, 4])\n",
            "phi_angles shape: torch.Size([260, 1])\n",
            "psi_angles shape: torch.Size([260, 1])\n",
            "b_factors shape: torch.Size([260, 1])\n",
            "Shape of labels: torch.Size([260])\n",
            "esm2_embeddings shape: torch.Size([104, 1280])\n",
            "ss_onehot shape: torch.Size([104, 4])\n",
            "phi_angles shape: torch.Size([104, 1])\n",
            "psi_angles shape: torch.Size([104, 1])\n",
            "b_factors shape: torch.Size([104, 1])\n",
            "Shape of labels: torch.Size([104])\n",
            "esm2_embeddings shape: torch.Size([129, 1280])\n",
            "ss_onehot shape: torch.Size([129, 4])\n",
            "phi_angles shape: torch.Size([129, 1])\n",
            "psi_angles shape: torch.Size([129, 1])\n",
            "b_factors shape: torch.Size([129, 1])\n",
            "Shape of labels: torch.Size([129])\n",
            "esm2_embeddings shape: torch.Size([65, 1280])\n",
            "ss_onehot shape: torch.Size([65, 4])\n",
            "phi_angles shape: torch.Size([65, 1])\n",
            "psi_angles shape: torch.Size([65, 1])\n",
            "b_factors shape: torch.Size([65, 1])\n",
            "Shape of labels: torch.Size([65])\n"
          ]
        },
        {
          "output_type": "stream",
          "name": "stderr",
          "text": [
            "\r 21%|██        | 211/1013 [00:36<01:36,  8.31it/s]"
          ]
        },
        {
          "output_type": "stream",
          "name": "stdout",
          "text": [
            "esm2_embeddings shape: torch.Size([129, 1280])\n",
            "ss_onehot shape: torch.Size([129, 4])\n",
            "phi_angles shape: torch.Size([129, 1])\n",
            "psi_angles shape: torch.Size([129, 1])\n",
            "b_factors shape: torch.Size([129, 1])\n",
            "Shape of labels: torch.Size([129])\n",
            "esm2_embeddings shape: torch.Size([37, 1280])\n",
            "ss_onehot shape: torch.Size([37, 4])\n",
            "phi_angles shape: torch.Size([37, 1])\n",
            "psi_angles shape: torch.Size([37, 1])\n",
            "b_factors shape: torch.Size([37, 1])\n",
            "Shape of labels: torch.Size([37])\n",
            "esm2_embeddings shape: torch.Size([78, 1280])\n",
            "ss_onehot shape: torch.Size([78, 4])\n",
            "phi_angles shape: torch.Size([78, 1])\n",
            "psi_angles shape: torch.Size([78, 1])\n",
            "b_factors shape: torch.Size([78, 1])\n",
            "Shape of labels: torch.Size([78])\n"
          ]
        },
        {
          "output_type": "stream",
          "name": "stderr",
          "text": [
            " 21%|██▏       | 216/1013 [00:37<01:43,  7.67it/s]"
          ]
        },
        {
          "output_type": "stream",
          "name": "stdout",
          "text": [
            "esm2_embeddings shape: torch.Size([169, 1280])\n",
            "ss_onehot shape: torch.Size([169, 4])\n",
            "phi_angles shape: torch.Size([169, 1])\n",
            "psi_angles shape: torch.Size([169, 1])\n",
            "b_factors shape: torch.Size([169, 1])\n",
            "Shape of labels: torch.Size([169])\n",
            "esm2_embeddings shape: torch.Size([129, 1280])\n",
            "ss_onehot shape: torch.Size([129, 4])\n",
            "phi_angles shape: torch.Size([129, 1])\n",
            "psi_angles shape: torch.Size([129, 1])\n",
            "b_factors shape: torch.Size([129, 1])\n",
            "Shape of labels: torch.Size([129])\n",
            "esm2_embeddings shape: torch.Size([63, 1280])\n",
            "ss_onehot shape: torch.Size([63, 4])\n",
            "phi_angles shape: torch.Size([63, 1])\n",
            "psi_angles shape: torch.Size([63, 1])\n",
            "b_factors shape: torch.Size([63, 1])\n",
            "Shape of labels: torch.Size([63])\n"
          ]
        },
        {
          "output_type": "stream",
          "name": "stderr",
          "text": [
            "\r 22%|██▏       | 218/1013 [00:37<01:38,  8.10it/s]"
          ]
        },
        {
          "output_type": "stream",
          "name": "stdout",
          "text": [
            "esm2_embeddings shape: torch.Size([146, 1280])\n",
            "ss_onehot shape: torch.Size([146, 4])\n",
            "phi_angles shape: torch.Size([146, 1])\n",
            "psi_angles shape: torch.Size([146, 1])\n",
            "b_factors shape: torch.Size([146, 1])\n",
            "Shape of labels: torch.Size([146])\n",
            "esm2_embeddings shape: torch.Size([149, 1280])\n",
            "ss_onehot shape: torch.Size([149, 4])\n",
            "phi_angles shape: torch.Size([149, 1])\n",
            "psi_angles shape: torch.Size([149, 1])\n",
            "b_factors shape: torch.Size([149, 1])\n",
            "Shape of labels: torch.Size([149])\n"
          ]
        },
        {
          "output_type": "stream",
          "name": "stderr",
          "text": [
            "\r 22%|██▏       | 220/1013 [00:37<01:36,  8.22it/s]"
          ]
        },
        {
          "output_type": "stream",
          "name": "stdout",
          "text": [
            "esm2_embeddings shape: torch.Size([162, 1280])\n",
            "ss_onehot shape: torch.Size([162, 4])\n",
            "phi_angles shape: torch.Size([162, 1])\n",
            "psi_angles shape: torch.Size([162, 1])\n",
            "b_factors shape: torch.Size([162, 1])\n",
            "Shape of labels: torch.Size([162])\n",
            "esm2_embeddings shape: torch.Size([156, 1280])\n",
            "ss_onehot shape: torch.Size([156, 4])\n",
            "phi_angles shape: torch.Size([156, 1])\n",
            "psi_angles shape: torch.Size([156, 1])\n",
            "b_factors shape: torch.Size([156, 1])\n",
            "Shape of labels: torch.Size([156])\n",
            "esm2_embeddings shape: torch.Size([100, 1280])\n",
            "ss_onehot shape: torch.Size([100, 4])\n",
            "phi_angles shape: torch.Size([100, 1])\n",
            "psi_angles shape: torch.Size([100, 1])\n",
            "b_factors shape: torch.Size([100, 1])\n",
            "Shape of labels: torch.Size([100])\n"
          ]
        },
        {
          "output_type": "stream",
          "name": "stderr",
          "text": [
            " 22%|██▏       | 224/1013 [00:38<01:31,  8.64it/s]"
          ]
        },
        {
          "output_type": "stream",
          "name": "stdout",
          "text": [
            "esm2_embeddings shape: torch.Size([241, 1280])\n",
            "ss_onehot shape: torch.Size([241, 4])\n",
            "phi_angles shape: torch.Size([241, 1])\n",
            "psi_angles shape: torch.Size([241, 1])\n",
            "b_factors shape: torch.Size([241, 1])\n",
            "Shape of labels: torch.Size([241])\n",
            "esm2_embeddings shape: torch.Size([125, 1280])\n",
            "ss_onehot shape: torch.Size([125, 4])\n",
            "phi_angles shape: torch.Size([125, 1])\n",
            "psi_angles shape: torch.Size([125, 1])\n",
            "b_factors shape: torch.Size([125, 1])\n",
            "Shape of labels: torch.Size([125])\n",
            "esm2_embeddings shape: torch.Size([136, 1280])\n",
            "ss_onehot shape: torch.Size([136, 4])\n",
            "phi_angles shape: torch.Size([136, 1])\n",
            "psi_angles shape: torch.Size([136, 1])\n",
            "b_factors shape: torch.Size([136, 1])\n",
            "Shape of labels: torch.Size([136])\n"
          ]
        },
        {
          "output_type": "stream",
          "name": "stderr",
          "text": [
            "\r 22%|██▏       | 225/1013 [00:38<01:49,  7.22it/s]"
          ]
        },
        {
          "output_type": "stream",
          "name": "stdout",
          "text": [
            "esm2_embeddings shape: torch.Size([266, 1280])\n",
            "ss_onehot shape: torch.Size([266, 4])\n",
            "phi_angles shape: torch.Size([266, 1])\n",
            "psi_angles shape: torch.Size([266, 1])\n",
            "b_factors shape: torch.Size([266, 1])\n",
            "Shape of labels: torch.Size([266])\n"
          ]
        },
        {
          "output_type": "stream",
          "name": "stderr",
          "text": [
            "\r 22%|██▏       | 226/1013 [00:38<02:03,  6.39it/s]"
          ]
        },
        {
          "output_type": "stream",
          "name": "stdout",
          "text": [
            "esm2_embeddings shape: torch.Size([258, 1280])\n",
            "ss_onehot shape: torch.Size([258, 4])\n",
            "phi_angles shape: torch.Size([258, 1])\n",
            "psi_angles shape: torch.Size([258, 1])\n",
            "b_factors shape: torch.Size([258, 1])\n",
            "Shape of labels: torch.Size([258])\n"
          ]
        },
        {
          "output_type": "stream",
          "name": "stderr",
          "text": [
            " 23%|██▎       | 229/1013 [00:39<02:26,  5.37it/s]"
          ]
        },
        {
          "output_type": "stream",
          "name": "stdout",
          "text": [
            "esm2_embeddings shape: torch.Size([187, 1280])\n",
            "ss_onehot shape: torch.Size([187, 4])\n",
            "phi_angles shape: torch.Size([187, 1])\n",
            "psi_angles shape: torch.Size([187, 1])\n",
            "b_factors shape: torch.Size([187, 1])\n",
            "Shape of labels: torch.Size([187])\n",
            "esm2_embeddings shape: torch.Size([119, 1280])\n",
            "ss_onehot shape: torch.Size([119, 4])\n",
            "phi_angles shape: torch.Size([119, 1])\n",
            "psi_angles shape: torch.Size([119, 1])\n",
            "b_factors shape: torch.Size([119, 1])\n",
            "Shape of labels: torch.Size([119])\n",
            "esm2_embeddings shape: torch.Size([147, 1280])\n",
            "ss_onehot shape: torch.Size([147, 4])\n",
            "phi_angles shape: torch.Size([147, 1])\n",
            "psi_angles shape: torch.Size([147, 1])\n",
            "b_factors shape: torch.Size([147, 1])\n",
            "Shape of labels: torch.Size([147])\n"
          ]
        },
        {
          "output_type": "stream",
          "name": "stderr",
          "text": [
            "\r 23%|██▎       | 231/1013 [00:39<02:10,  6.00it/s]"
          ]
        },
        {
          "output_type": "stream",
          "name": "stdout",
          "text": [
            "esm2_embeddings shape: torch.Size([114, 1280])\n",
            "ss_onehot shape: torch.Size([114, 4])\n",
            "phi_angles shape: torch.Size([114, 1])\n",
            "psi_angles shape: torch.Size([114, 1])\n",
            "b_factors shape: torch.Size([114, 1])\n",
            "Shape of labels: torch.Size([114])\n",
            "esm2_embeddings shape: torch.Size([201, 1280])\n",
            "ss_onehot shape: torch.Size([201, 4])\n",
            "phi_angles shape: torch.Size([201, 1])\n",
            "psi_angles shape: torch.Size([201, 1])\n",
            "b_factors shape: torch.Size([201, 1])\n",
            "Shape of labels: torch.Size([201])\n"
          ]
        },
        {
          "output_type": "stream",
          "name": "stderr",
          "text": [
            "\r 23%|██▎       | 232/1013 [00:39<02:09,  6.01it/s]"
          ]
        },
        {
          "output_type": "stream",
          "name": "stdout",
          "text": [
            "esm2_embeddings shape: torch.Size([201, 1280])\n",
            "ss_onehot shape: torch.Size([201, 4])\n",
            "phi_angles shape: torch.Size([201, 1])\n",
            "psi_angles shape: torch.Size([201, 1])\n",
            "b_factors shape: torch.Size([201, 1])\n",
            "Shape of labels: torch.Size([201])\n",
            "esm2_embeddings shape: torch.Size([128, 1280])\n",
            "ss_onehot shape: torch.Size([128, 4])\n",
            "phi_angles shape: torch.Size([128, 1])\n",
            "psi_angles shape: torch.Size([128, 1])\n",
            "b_factors shape: torch.Size([128, 1])\n",
            "Shape of labels: torch.Size([128])\n"
          ]
        },
        {
          "output_type": "stream",
          "name": "stderr",
          "text": [
            " 23%|██▎       | 235/1013 [00:40<02:05,  6.20it/s]"
          ]
        },
        {
          "output_type": "stream",
          "name": "stdout",
          "text": [
            "esm2_embeddings shape: torch.Size([213, 1280])\n",
            "ss_onehot shape: torch.Size([213, 4])\n",
            "phi_angles shape: torch.Size([213, 1])\n",
            "psi_angles shape: torch.Size([213, 1])\n",
            "b_factors shape: torch.Size([213, 1])\n",
            "Shape of labels: torch.Size([213])\n",
            "esm2_embeddings shape: torch.Size([235, 1280])\n",
            "ss_onehot shape: torch.Size([235, 4])\n",
            "phi_angles shape: torch.Size([235, 1])\n",
            "psi_angles shape: torch.Size([235, 1])\n",
            "b_factors shape: torch.Size([235, 1])\n",
            "Shape of labels: torch.Size([235])\n"
          ]
        },
        {
          "output_type": "stream",
          "name": "stderr",
          "text": [
            "\r 23%|██▎       | 236/1013 [00:40<02:01,  6.40it/s]"
          ]
        },
        {
          "output_type": "stream",
          "name": "stdout",
          "text": [
            "esm2_embeddings shape: torch.Size([173, 1280])\n",
            "ss_onehot shape: torch.Size([173, 4])\n",
            "phi_angles shape: torch.Size([173, 1])\n",
            "psi_angles shape: torch.Size([173, 1])\n",
            "b_factors shape: torch.Size([173, 1])\n",
            "Shape of labels: torch.Size([173])\n",
            "esm2_embeddings shape: torch.Size([97, 1280])\n",
            "ss_onehot shape: torch.Size([97, 4])\n",
            "phi_angles shape: torch.Size([97, 1])\n",
            "psi_angles shape: torch.Size([97, 1])\n",
            "b_factors shape: torch.Size([97, 1])\n",
            "Shape of labels: torch.Size([97])\n"
          ]
        },
        {
          "output_type": "stream",
          "name": "stderr",
          "text": [
            " 24%|██▎       | 240/1013 [00:40<01:24,  9.17it/s]"
          ]
        },
        {
          "output_type": "stream",
          "name": "stdout",
          "text": [
            "esm2_embeddings shape: torch.Size([207, 1280])\n",
            "ss_onehot shape: torch.Size([207, 4])\n",
            "phi_angles shape: torch.Size([207, 1])\n",
            "psi_angles shape: torch.Size([207, 1])\n",
            "b_factors shape: torch.Size([207, 1])\n",
            "Shape of labels: torch.Size([207])\n",
            "esm2_embeddings shape: torch.Size([63, 1280])\n",
            "ss_onehot shape: torch.Size([63, 4])\n",
            "phi_angles shape: torch.Size([63, 1])\n",
            "psi_angles shape: torch.Size([63, 1])\n",
            "b_factors shape: torch.Size([63, 1])\n",
            "Shape of labels: torch.Size([63])\n",
            "esm2_embeddings shape: torch.Size([101, 1280])\n",
            "ss_onehot shape: torch.Size([101, 4])\n",
            "phi_angles shape: torch.Size([101, 1])\n",
            "psi_angles shape: torch.Size([101, 1])\n",
            "b_factors shape: torch.Size([101, 1])\n",
            "Shape of labels: torch.Size([101])\n",
            "esm2_embeddings shape: torch.Size([158, 1280])\n",
            "ss_onehot shape: torch.Size([158, 4])\n",
            "phi_angles shape: torch.Size([158, 1])\n",
            "psi_angles shape: torch.Size([158, 1])\n",
            "b_factors shape: torch.Size([158, 1])\n",
            "Shape of labels: torch.Size([158])\n"
          ]
        },
        {
          "output_type": "stream",
          "name": "stderr",
          "text": [
            "\r 24%|██▍       | 242/1013 [00:41<02:33,  5.01it/s]"
          ]
        },
        {
          "output_type": "stream",
          "name": "stdout",
          "text": [
            "esm2_embeddings shape: torch.Size([245, 1280])\n",
            "ss_onehot shape: torch.Size([245, 4])\n",
            "phi_angles shape: torch.Size([245, 1])\n",
            "psi_angles shape: torch.Size([245, 1])\n",
            "b_factors shape: torch.Size([245, 1])\n",
            "Shape of labels: torch.Size([245])\n"
          ]
        },
        {
          "output_type": "stream",
          "name": "stderr",
          "text": [
            "\r 24%|██▍       | 243/1013 [00:41<02:34,  4.99it/s]"
          ]
        },
        {
          "output_type": "stream",
          "name": "stdout",
          "text": [
            "esm2_embeddings shape: torch.Size([230, 1280])\n",
            "ss_onehot shape: torch.Size([230, 4])\n",
            "phi_angles shape: torch.Size([230, 1])\n",
            "psi_angles shape: torch.Size([230, 1])\n",
            "b_factors shape: torch.Size([230, 1])\n",
            "Shape of labels: torch.Size([230])\n"
          ]
        },
        {
          "output_type": "stream",
          "name": "stderr",
          "text": [
            " 24%|██▍       | 245/1013 [00:42<02:40,  4.79it/s]"
          ]
        },
        {
          "output_type": "stream",
          "name": "stdout",
          "text": [
            "esm2_embeddings shape: torch.Size([315, 1280])\n",
            "ss_onehot shape: torch.Size([315, 4])\n",
            "phi_angles shape: torch.Size([315, 1])\n",
            "psi_angles shape: torch.Size([315, 1])\n",
            "b_factors shape: torch.Size([315, 1])\n",
            "Shape of labels: torch.Size([315])\n",
            "esm2_embeddings shape: torch.Size([196, 1280])\n",
            "ss_onehot shape: torch.Size([196, 4])\n",
            "phi_angles shape: torch.Size([196, 1])\n",
            "psi_angles shape: torch.Size([196, 1])\n",
            "b_factors shape: torch.Size([196, 1])\n",
            "Shape of labels: torch.Size([196])\n"
          ]
        },
        {
          "output_type": "stream",
          "name": "stderr",
          "text": [
            "\r 24%|██▍       | 247/1013 [00:42<02:00,  6.33it/s]"
          ]
        },
        {
          "output_type": "stream",
          "name": "stdout",
          "text": [
            "esm2_embeddings shape: torch.Size([130, 1280])\n",
            "ss_onehot shape: torch.Size([130, 4])\n",
            "phi_angles shape: torch.Size([130, 1])\n",
            "psi_angles shape: torch.Size([130, 1])\n",
            "b_factors shape: torch.Size([130, 1])\n",
            "Shape of labels: torch.Size([130])\n",
            "esm2_embeddings shape: torch.Size([110, 1280])\n",
            "ss_onehot shape: torch.Size([110, 4])\n",
            "phi_angles shape: torch.Size([110, 1])\n",
            "psi_angles shape: torch.Size([110, 1])\n",
            "b_factors shape: torch.Size([110, 1])\n",
            "Shape of labels: torch.Size([110])\n"
          ]
        },
        {
          "output_type": "stream",
          "name": "stderr",
          "text": [
            "\r 24%|██▍       | 248/1013 [00:42<02:10,  5.88it/s]"
          ]
        },
        {
          "output_type": "stream",
          "name": "stdout",
          "text": [
            "esm2_embeddings shape: torch.Size([235, 1280])\n",
            "ss_onehot shape: torch.Size([235, 4])\n",
            "phi_angles shape: torch.Size([235, 1])\n",
            "psi_angles shape: torch.Size([235, 1])\n",
            "b_factors shape: torch.Size([235, 1])\n",
            "Shape of labels: torch.Size([235])\n",
            "esm2_embeddings shape: torch.Size([74, 1280])\n",
            "ss_onehot shape: torch.Size([74, 4])\n",
            "phi_angles shape: torch.Size([74, 1])\n",
            "psi_angles shape: torch.Size([74, 1])\n",
            "b_factors shape: torch.Size([74, 1])\n",
            "Shape of labels: torch.Size([74])\n"
          ]
        },
        {
          "output_type": "stream",
          "name": "stderr",
          "text": [
            "\r 25%|██▍       | 250/1013 [00:42<02:08,  5.93it/s]"
          ]
        },
        {
          "output_type": "stream",
          "name": "stdout",
          "text": [
            "esm2_embeddings shape: torch.Size([284, 1280])\n",
            "ss_onehot shape: torch.Size([284, 4])\n",
            "phi_angles shape: torch.Size([284, 1])\n",
            "psi_angles shape: torch.Size([284, 1])\n",
            "b_factors shape: torch.Size([284, 1])\n",
            "Shape of labels: torch.Size([284])\n",
            "esm2_embeddings shape: torch.Size([71, 1280])\n",
            "ss_onehot shape: torch.Size([71, 4])\n",
            "phi_angles shape: torch.Size([71, 1])\n",
            "psi_angles shape: torch.Size([71, 1])\n",
            "b_factors shape: torch.Size([71, 1])\n",
            "Shape of labels: torch.Size([71])\n",
            "esm2_embeddings shape: torch.Size([61, 1280])\n",
            "ss_onehot shape: torch.Size([61, 4])\n",
            "phi_angles shape: torch.Size([61, 1])\n",
            "psi_angles shape: torch.Size([61, 1])\n",
            "b_factors shape: torch.Size([61, 1])\n",
            "Shape of labels: torch.Size([61])\n"
          ]
        },
        {
          "output_type": "stream",
          "name": "stderr",
          "text": [
            "\r 25%|██▍       | 253/1013 [00:43<02:22,  5.34it/s]"
          ]
        },
        {
          "output_type": "stream",
          "name": "stdout",
          "text": [
            "esm2_embeddings shape: torch.Size([193, 1280])\n",
            "ss_onehot shape: torch.Size([193, 4])\n",
            "phi_angles shape: torch.Size([193, 1])\n",
            "psi_angles shape: torch.Size([193, 1])\n",
            "b_factors shape: torch.Size([193, 1])\n",
            "Shape of labels: torch.Size([193])\n"
          ]
        },
        {
          "output_type": "stream",
          "name": "stderr",
          "text": [
            " 25%|██▌       | 255/1013 [00:43<02:13,  5.68it/s]"
          ]
        },
        {
          "output_type": "stream",
          "name": "stdout",
          "text": [
            "esm2_embeddings shape: torch.Size([245, 1280])\n",
            "ss_onehot shape: torch.Size([245, 4])\n",
            "phi_angles shape: torch.Size([245, 1])\n",
            "psi_angles shape: torch.Size([245, 1])\n",
            "b_factors shape: torch.Size([245, 1])\n",
            "Shape of labels: torch.Size([245])\n",
            "esm2_embeddings shape: torch.Size([138, 1280])\n",
            "ss_onehot shape: torch.Size([138, 4])\n",
            "phi_angles shape: torch.Size([138, 1])\n",
            "psi_angles shape: torch.Size([138, 1])\n",
            "b_factors shape: torch.Size([138, 1])\n",
            "Shape of labels: torch.Size([138])\n"
          ]
        },
        {
          "output_type": "stream",
          "name": "stderr",
          "text": [
            " 25%|██▌       | 257/1013 [00:44<02:11,  5.73it/s]"
          ]
        },
        {
          "output_type": "stream",
          "name": "stdout",
          "text": [
            "esm2_embeddings shape: torch.Size([241, 1280])\n",
            "ss_onehot shape: torch.Size([241, 4])\n",
            "phi_angles shape: torch.Size([241, 1])\n",
            "psi_angles shape: torch.Size([241, 1])\n",
            "b_factors shape: torch.Size([241, 1])\n",
            "Shape of labels: torch.Size([241])\n",
            "esm2_embeddings shape: torch.Size([185, 1280])\n",
            "ss_onehot shape: torch.Size([185, 4])\n",
            "phi_angles shape: torch.Size([185, 1])\n",
            "psi_angles shape: torch.Size([185, 1])\n",
            "b_factors shape: torch.Size([185, 1])\n",
            "Shape of labels: torch.Size([185])\n"
          ]
        },
        {
          "output_type": "stream",
          "name": "stderr",
          "text": [
            "\r 26%|██▌       | 259/1013 [00:44<01:54,  6.61it/s]"
          ]
        },
        {
          "output_type": "stream",
          "name": "stdout",
          "text": [
            "esm2_embeddings shape: torch.Size([86, 1280])\n",
            "ss_onehot shape: torch.Size([86, 4])\n",
            "phi_angles shape: torch.Size([86, 1])\n",
            "psi_angles shape: torch.Size([86, 1])\n",
            "b_factors shape: torch.Size([86, 1])\n",
            "Shape of labels: torch.Size([86])\n",
            "esm2_embeddings shape: torch.Size([215, 1280])\n",
            "ss_onehot shape: torch.Size([215, 4])\n",
            "phi_angles shape: torch.Size([215, 1])\n",
            "psi_angles shape: torch.Size([215, 1])\n",
            "b_factors shape: torch.Size([215, 1])\n",
            "Shape of labels: torch.Size([215])\n"
          ]
        },
        {
          "output_type": "stream",
          "name": "stderr",
          "text": [
            "\r 26%|██▌       | 261/1013 [00:44<01:45,  7.13it/s]"
          ]
        },
        {
          "output_type": "stream",
          "name": "stdout",
          "text": [
            "esm2_embeddings shape: torch.Size([122, 1280])\n",
            "ss_onehot shape: torch.Size([122, 4])\n",
            "phi_angles shape: torch.Size([122, 1])\n",
            "psi_angles shape: torch.Size([122, 1])\n",
            "b_factors shape: torch.Size([122, 1])\n",
            "Shape of labels: torch.Size([122])\n",
            "esm2_embeddings shape: torch.Size([195, 1280])\n",
            "ss_onehot shape: torch.Size([195, 4])\n",
            "phi_angles shape: torch.Size([195, 1])\n",
            "psi_angles shape: torch.Size([195, 1])\n",
            "b_factors shape: torch.Size([195, 1])\n",
            "Shape of labels: torch.Size([195])\n"
          ]
        },
        {
          "output_type": "stream",
          "name": "stderr",
          "text": [
            "\r 26%|██▌       | 263/1013 [00:44<01:32,  8.09it/s]"
          ]
        },
        {
          "output_type": "stream",
          "name": "stdout",
          "text": [
            "esm2_embeddings shape: torch.Size([93, 1280])\n",
            "ss_onehot shape: torch.Size([93, 4])\n",
            "phi_angles shape: torch.Size([93, 1])\n",
            "psi_angles shape: torch.Size([93, 1])\n",
            "b_factors shape: torch.Size([93, 1])\n",
            "Shape of labels: torch.Size([93])\n",
            "esm2_embeddings shape: torch.Size([165, 1280])\n",
            "ss_onehot shape: torch.Size([165, 4])\n",
            "phi_angles shape: torch.Size([165, 1])\n",
            "psi_angles shape: torch.Size([165, 1])\n",
            "b_factors shape: torch.Size([165, 1])\n",
            "Shape of labels: torch.Size([165])\n"
          ]
        },
        {
          "output_type": "stream",
          "name": "stderr",
          "text": [
            " 26%|██▌       | 265/1013 [00:45<02:40,  4.66it/s]"
          ]
        },
        {
          "output_type": "stream",
          "name": "stdout",
          "text": [
            "esm2_embeddings shape: torch.Size([324, 1280])\n",
            "ss_onehot shape: torch.Size([324, 4])\n",
            "phi_angles shape: torch.Size([324, 1])\n",
            "psi_angles shape: torch.Size([324, 1])\n",
            "b_factors shape: torch.Size([324, 1])\n",
            "Shape of labels: torch.Size([324])\n",
            "esm2_embeddings shape: torch.Size([161, 1280])\n",
            "ss_onehot shape: torch.Size([161, 4])\n",
            "phi_angles shape: torch.Size([161, 1])\n",
            "psi_angles shape: torch.Size([161, 1])\n",
            "b_factors shape: torch.Size([161, 1])\n",
            "Shape of labels: torch.Size([161])\n"
          ]
        },
        {
          "output_type": "stream",
          "name": "stderr",
          "text": [
            "\r 26%|██▋       | 266/1013 [00:45<02:22,  5.24it/s]"
          ]
        },
        {
          "output_type": "stream",
          "name": "stdout",
          "text": [
            "esm2_embeddings shape: torch.Size([142, 1280])\n",
            "ss_onehot shape: torch.Size([142, 4])\n",
            "phi_angles shape: torch.Size([142, 1])\n",
            "psi_angles shape: torch.Size([142, 1])\n",
            "b_factors shape: torch.Size([142, 1])\n",
            "Shape of labels: torch.Size([142])\n",
            "esm2_embeddings shape: torch.Size([93, 1280])\n",
            "ss_onehot shape: torch.Size([93, 4])\n",
            "phi_angles shape: torch.Size([93, 1])\n",
            "psi_angles shape: torch.Size([93, 1])\n",
            "b_factors shape: torch.Size([93, 1])\n",
            "Shape of labels: torch.Size([93])\n"
          ]
        },
        {
          "output_type": "stream",
          "name": "stderr",
          "text": [
            "\r 26%|██▋       | 268/1013 [00:46<02:14,  5.53it/s]"
          ]
        },
        {
          "output_type": "stream",
          "name": "stdout",
          "text": [
            "esm2_embeddings shape: torch.Size([289, 1280])\n",
            "ss_onehot shape: torch.Size([289, 4])\n",
            "phi_angles shape: torch.Size([289, 1])\n",
            "psi_angles shape: torch.Size([289, 1])\n",
            "b_factors shape: torch.Size([289, 1])\n",
            "Shape of labels: torch.Size([289])\n",
            "esm2_embeddings shape: torch.Size([104, 1280])\n",
            "ss_onehot shape: torch.Size([104, 4])\n",
            "phi_angles shape: torch.Size([104, 1])\n",
            "psi_angles shape: torch.Size([104, 1])\n",
            "b_factors shape: torch.Size([104, 1])\n",
            "Shape of labels: torch.Size([104])\n"
          ]
        },
        {
          "output_type": "stream",
          "name": "stderr",
          "text": [
            " 27%|██▋       | 272/1013 [00:46<01:36,  7.64it/s]"
          ]
        },
        {
          "output_type": "stream",
          "name": "stdout",
          "text": [
            "esm2_embeddings shape: torch.Size([267, 1280])\n",
            "ss_onehot shape: torch.Size([267, 4])\n",
            "phi_angles shape: torch.Size([267, 1])\n",
            "psi_angles shape: torch.Size([267, 1])\n",
            "b_factors shape: torch.Size([267, 1])\n",
            "Shape of labels: torch.Size([267])\n",
            "esm2_embeddings shape: torch.Size([98, 1280])\n",
            "ss_onehot shape: torch.Size([98, 4])\n",
            "phi_angles shape: torch.Size([98, 1])\n",
            "psi_angles shape: torch.Size([98, 1])\n",
            "b_factors shape: torch.Size([98, 1])\n",
            "Shape of labels: torch.Size([98])\n",
            "esm2_embeddings shape: torch.Size([80, 1280])\n",
            "ss_onehot shape: torch.Size([80, 4])\n",
            "phi_angles shape: torch.Size([80, 1])\n",
            "psi_angles shape: torch.Size([80, 1])\n",
            "b_factors shape: torch.Size([80, 1])\n",
            "Shape of labels: torch.Size([80])\n",
            "esm2_embeddings shape: torch.Size([97, 1280])\n",
            "ss_onehot shape: torch.Size([97, 4])\n",
            "phi_angles shape: torch.Size([97, 1])\n",
            "psi_angles shape: torch.Size([97, 1])\n",
            "b_factors shape: torch.Size([97, 1])\n",
            "Shape of labels: torch.Size([97])\n"
          ]
        },
        {
          "output_type": "stream",
          "name": "stderr",
          "text": [
            "\r 27%|██▋       | 274/1013 [00:46<01:24,  8.75it/s]"
          ]
        },
        {
          "output_type": "stream",
          "name": "stdout",
          "text": [
            "esm2_embeddings shape: torch.Size([140, 1280])\n",
            "ss_onehot shape: torch.Size([140, 4])\n",
            "phi_angles shape: torch.Size([140, 1])\n",
            "psi_angles shape: torch.Size([140, 1])\n",
            "b_factors shape: torch.Size([140, 1])\n",
            "Shape of labels: torch.Size([140])\n"
          ]
        },
        {
          "output_type": "stream",
          "name": "stderr",
          "text": [
            "\r 27%|██▋       | 276/1013 [00:47<02:50,  4.32it/s]"
          ]
        },
        {
          "output_type": "stream",
          "name": "stdout",
          "text": [
            "esm2_embeddings shape: torch.Size([402, 1280])\n",
            "ss_onehot shape: torch.Size([402, 4])\n",
            "phi_angles shape: torch.Size([402, 1])\n",
            "psi_angles shape: torch.Size([402, 1])\n",
            "b_factors shape: torch.Size([402, 1])\n",
            "Shape of labels: torch.Size([402])\n",
            "esm2_embeddings shape: torch.Size([167, 1280])\n",
            "ss_onehot shape: torch.Size([167, 4])\n",
            "phi_angles shape: torch.Size([167, 1])\n",
            "psi_angles shape: torch.Size([167, 1])\n",
            "b_factors shape: torch.Size([167, 1])\n",
            "Shape of labels: torch.Size([167])\n"
          ]
        },
        {
          "output_type": "stream",
          "name": "stderr",
          "text": [
            "\r 27%|██▋       | 277/1013 [00:47<02:45,  4.46it/s]"
          ]
        },
        {
          "output_type": "stream",
          "name": "stdout",
          "text": [
            "esm2_embeddings shape: torch.Size([231, 1280])\n",
            "ss_onehot shape: torch.Size([231, 4])\n",
            "phi_angles shape: torch.Size([231, 1])\n",
            "psi_angles shape: torch.Size([231, 1])\n",
            "b_factors shape: torch.Size([231, 1])\n",
            "Shape of labels: torch.Size([231])\n"
          ]
        },
        {
          "output_type": "stream",
          "name": "stderr",
          "text": [
            " 28%|██▊       | 280/1013 [00:48<02:05,  5.85it/s]"
          ]
        },
        {
          "output_type": "stream",
          "name": "stdout",
          "text": [
            "esm2_embeddings shape: torch.Size([267, 1280])\n",
            "ss_onehot shape: torch.Size([267, 4])\n",
            "phi_angles shape: torch.Size([267, 1])\n",
            "psi_angles shape: torch.Size([267, 1])\n",
            "b_factors shape: torch.Size([267, 1])\n",
            "Shape of labels: torch.Size([267])\n",
            "esm2_embeddings shape: torch.Size([129, 1280])\n",
            "ss_onehot shape: torch.Size([129, 4])\n",
            "phi_angles shape: torch.Size([129, 1])\n",
            "psi_angles shape: torch.Size([129, 1])\n",
            "b_factors shape: torch.Size([129, 1])\n",
            "Shape of labels: torch.Size([129])\n",
            "esm2_embeddings shape: torch.Size([94, 1280])\n",
            "ss_onehot shape: torch.Size([94, 4])\n",
            "phi_angles shape: torch.Size([94, 1])\n",
            "psi_angles shape: torch.Size([94, 1])\n",
            "b_factors shape: torch.Size([94, 1])\n",
            "Shape of labels: torch.Size([94])\n"
          ]
        },
        {
          "output_type": "stream",
          "name": "stderr",
          "text": [
            " 28%|██▊       | 284/1013 [00:48<01:31,  7.96it/s]"
          ]
        },
        {
          "output_type": "stream",
          "name": "stdout",
          "text": [
            "esm2_embeddings shape: torch.Size([246, 1280])\n",
            "ss_onehot shape: torch.Size([246, 4])\n",
            "phi_angles shape: torch.Size([246, 1])\n",
            "psi_angles shape: torch.Size([246, 1])\n",
            "b_factors shape: torch.Size([246, 1])\n",
            "Shape of labels: torch.Size([246])\n",
            "esm2_embeddings shape: torch.Size([68, 1280])\n",
            "ss_onehot shape: torch.Size([68, 4])\n",
            "phi_angles shape: torch.Size([68, 1])\n",
            "psi_angles shape: torch.Size([68, 1])\n",
            "b_factors shape: torch.Size([68, 1])\n",
            "Shape of labels: torch.Size([68])\n",
            "esm2_embeddings shape: torch.Size([88, 1280])\n",
            "ss_onehot shape: torch.Size([88, 4])\n",
            "phi_angles shape: torch.Size([88, 1])\n",
            "psi_angles shape: torch.Size([88, 1])\n",
            "b_factors shape: torch.Size([88, 1])\n",
            "Shape of labels: torch.Size([88])\n",
            "esm2_embeddings shape: torch.Size([144, 1280])\n",
            "ss_onehot shape: torch.Size([144, 4])\n",
            "phi_angles shape: torch.Size([144, 1])\n",
            "psi_angles shape: torch.Size([144, 1])\n",
            "b_factors shape: torch.Size([144, 1])\n",
            "Shape of labels: torch.Size([144])\n",
            "esm2_embeddings shape: torch.Size([103, 1280])\n",
            "ss_onehot shape: torch.Size([103, 4])\n",
            "phi_angles shape: torch.Size([103, 1])\n",
            "psi_angles shape: torch.Size([103, 1])\n",
            "b_factors shape: torch.Size([103, 1])\n",
            "Shape of labels: torch.Size([103])\n"
          ]
        },
        {
          "output_type": "stream",
          "name": "stderr",
          "text": [
            "\r 28%|██▊       | 286/1013 [00:49<02:24,  5.03it/s]"
          ]
        },
        {
          "output_type": "stream",
          "name": "stdout",
          "text": [
            "esm2_embeddings shape: torch.Size([276, 1280])\n",
            "ss_onehot shape: torch.Size([276, 4])\n",
            "phi_angles shape: torch.Size([276, 1])\n",
            "psi_angles shape: torch.Size([276, 1])\n",
            "b_factors shape: torch.Size([276, 1])\n",
            "Shape of labels: torch.Size([276])\n"
          ]
        },
        {
          "output_type": "stream",
          "name": "stderr",
          "text": [
            " 29%|██▊       | 289/1013 [00:49<02:02,  5.89it/s]"
          ]
        },
        {
          "output_type": "stream",
          "name": "stdout",
          "text": [
            "esm2_embeddings shape: torch.Size([283, 1280])\n",
            "ss_onehot shape: torch.Size([283, 4])\n",
            "phi_angles shape: torch.Size([283, 1])\n",
            "psi_angles shape: torch.Size([283, 1])\n",
            "b_factors shape: torch.Size([283, 1])\n",
            "Shape of labels: torch.Size([283])\n",
            "esm2_embeddings shape: torch.Size([79, 1280])\n",
            "ss_onehot shape: torch.Size([79, 4])\n",
            "phi_angles shape: torch.Size([79, 1])\n",
            "psi_angles shape: torch.Size([79, 1])\n",
            "b_factors shape: torch.Size([79, 1])\n",
            "Shape of labels: torch.Size([79])\n",
            "esm2_embeddings shape: torch.Size([160, 1280])\n",
            "ss_onehot shape: torch.Size([160, 4])\n",
            "phi_angles shape: torch.Size([160, 1])\n",
            "psi_angles shape: torch.Size([160, 1])\n",
            "b_factors shape: torch.Size([160, 1])\n",
            "Shape of labels: torch.Size([160])\n",
            "esm2_embeddings shape: torch.Size([34, 1280])\n",
            "ss_onehot shape: torch.Size([34, 4])\n",
            "phi_angles shape: torch.Size([34, 1])\n",
            "psi_angles shape: torch.Size([34, 1])\n",
            "b_factors shape: torch.Size([34, 1])\n",
            "Shape of labels: torch.Size([34])\n",
            "esm2_embeddings shape: torch.Size([81, 1280])\n",
            "ss_onehot shape: torch.Size([81, 4])\n",
            "phi_angles shape: torch.Size([81, 1])\n",
            "psi_angles shape: torch.Size([81, 1])\n",
            "b_factors shape: torch.Size([81, 1])\n",
            "Shape of labels: torch.Size([81])\n"
          ]
        },
        {
          "output_type": "stream",
          "name": "stderr",
          "text": [
            " 29%|██▉       | 293/1013 [00:50<01:41,  7.10it/s]"
          ]
        },
        {
          "output_type": "stream",
          "name": "stdout",
          "text": [
            "esm2_embeddings shape: torch.Size([254, 1280])\n",
            "ss_onehot shape: torch.Size([254, 4])\n",
            "phi_angles shape: torch.Size([254, 1])\n",
            "psi_angles shape: torch.Size([254, 1])\n",
            "b_factors shape: torch.Size([254, 1])\n",
            "Shape of labels: torch.Size([254])\n",
            "esm2_embeddings shape: torch.Size([156, 1280])\n",
            "ss_onehot shape: torch.Size([156, 4])\n",
            "phi_angles shape: torch.Size([156, 1])\n",
            "psi_angles shape: torch.Size([156, 1])\n",
            "b_factors shape: torch.Size([156, 1])\n",
            "Shape of labels: torch.Size([156])\n"
          ]
        },
        {
          "output_type": "stream",
          "name": "stderr",
          "text": [
            " 29%|██▉       | 296/1013 [00:50<01:32,  7.78it/s]"
          ]
        },
        {
          "output_type": "stream",
          "name": "stdout",
          "text": [
            "esm2_embeddings shape: torch.Size([227, 1280])\n",
            "ss_onehot shape: torch.Size([227, 4])\n",
            "phi_angles shape: torch.Size([227, 1])\n",
            "psi_angles shape: torch.Size([227, 1])\n",
            "b_factors shape: torch.Size([227, 1])\n",
            "Shape of labels: torch.Size([227])\n",
            "esm2_embeddings shape: torch.Size([99, 1280])\n",
            "ss_onehot shape: torch.Size([99, 4])\n",
            "phi_angles shape: torch.Size([99, 1])\n",
            "psi_angles shape: torch.Size([99, 1])\n",
            "b_factors shape: torch.Size([99, 1])\n",
            "Shape of labels: torch.Size([99])\n",
            "esm2_embeddings shape: torch.Size([152, 1280])\n",
            "ss_onehot shape: torch.Size([152, 4])\n",
            "phi_angles shape: torch.Size([152, 1])\n",
            "psi_angles shape: torch.Size([152, 1])\n",
            "b_factors shape: torch.Size([152, 1])\n",
            "Shape of labels: torch.Size([152])\n"
          ]
        },
        {
          "output_type": "stream",
          "name": "stderr",
          "text": [
            "\r 29%|██▉       | 298/1013 [00:50<01:30,  7.90it/s]"
          ]
        },
        {
          "output_type": "stream",
          "name": "stdout",
          "text": [
            "esm2_embeddings shape: torch.Size([126, 1280])\n",
            "ss_onehot shape: torch.Size([126, 4])\n",
            "phi_angles shape: torch.Size([126, 1])\n",
            "psi_angles shape: torch.Size([126, 1])\n",
            "b_factors shape: torch.Size([126, 1])\n",
            "Shape of labels: torch.Size([126])\n",
            "esm2_embeddings shape: torch.Size([194, 1280])\n",
            "ss_onehot shape: torch.Size([194, 4])\n",
            "phi_angles shape: torch.Size([194, 1])\n",
            "psi_angles shape: torch.Size([194, 1])\n",
            "b_factors shape: torch.Size([194, 1])\n",
            "Shape of labels: torch.Size([194])\n"
          ]
        },
        {
          "output_type": "stream",
          "name": "stderr",
          "text": [
            " 30%|██▉       | 300/1013 [00:51<02:14,  5.29it/s]"
          ]
        },
        {
          "output_type": "stream",
          "name": "stdout",
          "text": [
            "esm2_embeddings shape: torch.Size([153, 1280])\n",
            "ss_onehot shape: torch.Size([153, 4])\n",
            "phi_angles shape: torch.Size([153, 1])\n",
            "psi_angles shape: torch.Size([153, 1])\n",
            "b_factors shape: torch.Size([153, 1])\n",
            "Shape of labels: torch.Size([153])\n",
            "esm2_embeddings shape: torch.Size([185, 1280])\n",
            "ss_onehot shape: torch.Size([185, 4])\n",
            "phi_angles shape: torch.Size([185, 1])\n",
            "psi_angles shape: torch.Size([185, 1])\n",
            "b_factors shape: torch.Size([185, 1])\n",
            "Shape of labels: torch.Size([185])\n"
          ]
        },
        {
          "output_type": "stream",
          "name": "stderr",
          "text": [
            "\r 30%|██▉       | 301/1013 [00:51<02:05,  5.67it/s]"
          ]
        },
        {
          "output_type": "stream",
          "name": "stdout",
          "text": [
            "esm2_embeddings shape: torch.Size([179, 1280])\n",
            "ss_onehot shape: torch.Size([179, 4])\n",
            "phi_angles shape: torch.Size([179, 1])\n",
            "psi_angles shape: torch.Size([179, 1])\n",
            "b_factors shape: torch.Size([179, 1])\n",
            "Shape of labels: torch.Size([179])\n",
            "esm2_embeddings shape: torch.Size([105, 1280])\n",
            "ss_onehot shape: torch.Size([105, 4])\n",
            "phi_angles shape: torch.Size([105, 1])\n",
            "psi_angles shape: torch.Size([105, 1])\n",
            "b_factors shape: torch.Size([105, 1])\n",
            "Shape of labels: torch.Size([105])\n"
          ]
        },
        {
          "output_type": "stream",
          "name": "stderr",
          "text": [
            " 30%|███       | 304/1013 [00:52<01:52,  6.28it/s]"
          ]
        },
        {
          "output_type": "stream",
          "name": "stdout",
          "text": [
            "esm2_embeddings shape: torch.Size([235, 1280])\n",
            "ss_onehot shape: torch.Size([235, 4])\n",
            "phi_angles shape: torch.Size([235, 1])\n",
            "psi_angles shape: torch.Size([235, 1])\n",
            "b_factors shape: torch.Size([235, 1])\n",
            "Shape of labels: torch.Size([235])\n",
            "esm2_embeddings shape: torch.Size([176, 1280])\n",
            "ss_onehot shape: torch.Size([176, 4])\n",
            "phi_angles shape: torch.Size([176, 1])\n",
            "psi_angles shape: torch.Size([176, 1])\n",
            "b_factors shape: torch.Size([176, 1])\n",
            "Shape of labels: torch.Size([176])\n"
          ]
        },
        {
          "output_type": "stream",
          "name": "stderr",
          "text": [
            "\r 30%|███       | 305/1013 [00:52<01:45,  6.73it/s]"
          ]
        },
        {
          "output_type": "stream",
          "name": "stdout",
          "text": [
            "esm2_embeddings shape: torch.Size([151, 1280])\n",
            "ss_onehot shape: torch.Size([151, 4])\n",
            "phi_angles shape: torch.Size([151, 1])\n",
            "psi_angles shape: torch.Size([151, 1])\n",
            "b_factors shape: torch.Size([151, 1])\n",
            "Shape of labels: torch.Size([151])\n"
          ]
        },
        {
          "output_type": "stream",
          "name": "stderr",
          "text": [
            " 30%|███       | 308/1013 [00:52<01:35,  7.37it/s]"
          ]
        },
        {
          "output_type": "stream",
          "name": "stdout",
          "text": [
            "esm2_embeddings shape: torch.Size([285, 1280])\n",
            "ss_onehot shape: torch.Size([285, 4])\n",
            "phi_angles shape: torch.Size([285, 1])\n",
            "psi_angles shape: torch.Size([285, 1])\n",
            "b_factors shape: torch.Size([285, 1])\n",
            "Shape of labels: torch.Size([285])\n",
            "esm2_embeddings shape: torch.Size([115, 1280])\n",
            "ss_onehot shape: torch.Size([115, 4])\n",
            "phi_angles shape: torch.Size([115, 1])\n",
            "psi_angles shape: torch.Size([115, 1])\n",
            "b_factors shape: torch.Size([115, 1])\n",
            "Shape of labels: torch.Size([115])\n",
            "esm2_embeddings shape: torch.Size([115, 1280])\n",
            "ss_onehot shape: torch.Size([115, 4])\n",
            "phi_angles shape: torch.Size([115, 1])\n",
            "psi_angles shape: torch.Size([115, 1])\n",
            "b_factors shape: torch.Size([115, 1])\n",
            "Shape of labels: torch.Size([115])\n"
          ]
        },
        {
          "output_type": "stream",
          "name": "stderr",
          "text": [
            " 31%|███       | 310/1013 [00:52<01:34,  7.46it/s]"
          ]
        },
        {
          "output_type": "stream",
          "name": "stdout",
          "text": [
            "esm2_embeddings shape: torch.Size([152, 1280])\n",
            "ss_onehot shape: torch.Size([152, 4])\n",
            "phi_angles shape: torch.Size([152, 1])\n",
            "psi_angles shape: torch.Size([152, 1])\n",
            "b_factors shape: torch.Size([152, 1])\n",
            "Shape of labels: torch.Size([152])\n",
            "esm2_embeddings shape: torch.Size([196, 1280])\n",
            "ss_onehot shape: torch.Size([196, 4])\n",
            "phi_angles shape: torch.Size([196, 1])\n",
            "psi_angles shape: torch.Size([196, 1])\n",
            "b_factors shape: torch.Size([196, 1])\n",
            "Shape of labels: torch.Size([196])\n",
            "esm2_embeddings shape: torch.Size([96, 1280])\n",
            "ss_onehot shape: torch.Size([96, 4])\n",
            "phi_angles shape: torch.Size([96, 1])\n",
            "psi_angles shape: torch.Size([96, 1])\n",
            "b_factors shape: torch.Size([96, 1])\n",
            "Shape of labels: torch.Size([96])\n"
          ]
        },
        {
          "output_type": "stream",
          "name": "stderr",
          "text": [
            " 31%|███       | 313/1013 [00:53<02:14,  5.19it/s]"
          ]
        },
        {
          "output_type": "stream",
          "name": "stdout",
          "text": [
            "esm2_embeddings shape: torch.Size([211, 1280])\n",
            "ss_onehot shape: torch.Size([211, 4])\n",
            "phi_angles shape: torch.Size([211, 1])\n",
            "psi_angles shape: torch.Size([211, 1])\n",
            "b_factors shape: torch.Size([211, 1])\n",
            "Shape of labels: torch.Size([211])\n",
            "esm2_embeddings shape: torch.Size([177, 1280])\n",
            "ss_onehot shape: torch.Size([177, 4])\n",
            "phi_angles shape: torch.Size([177, 1])\n",
            "psi_angles shape: torch.Size([177, 1])\n",
            "b_factors shape: torch.Size([177, 1])\n",
            "Shape of labels: torch.Size([177])\n"
          ]
        },
        {
          "output_type": "stream",
          "name": "stderr",
          "text": [
            " 31%|███       | 315/1013 [00:54<02:02,  5.68it/s]"
          ]
        },
        {
          "output_type": "stream",
          "name": "stdout",
          "text": [
            "esm2_embeddings shape: torch.Size([220, 1280])\n",
            "ss_onehot shape: torch.Size([220, 4])\n",
            "phi_angles shape: torch.Size([220, 1])\n",
            "psi_angles shape: torch.Size([220, 1])\n",
            "b_factors shape: torch.Size([220, 1])\n",
            "Shape of labels: torch.Size([220])\n",
            "esm2_embeddings shape: torch.Size([156, 1280])\n",
            "ss_onehot shape: torch.Size([156, 4])\n",
            "phi_angles shape: torch.Size([156, 1])\n",
            "psi_angles shape: torch.Size([156, 1])\n",
            "b_factors shape: torch.Size([156, 1])\n",
            "Shape of labels: torch.Size([156])\n"
          ]
        },
        {
          "output_type": "stream",
          "name": "stderr",
          "text": [
            " 31%|███▏      | 317/1013 [00:54<01:54,  6.08it/s]"
          ]
        },
        {
          "output_type": "stream",
          "name": "stdout",
          "text": [
            "esm2_embeddings shape: torch.Size([150, 1280])\n",
            "ss_onehot shape: torch.Size([150, 4])\n",
            "phi_angles shape: torch.Size([150, 1])\n",
            "psi_angles shape: torch.Size([150, 1])\n",
            "b_factors shape: torch.Size([150, 1])\n",
            "Shape of labels: torch.Size([150])\n",
            "esm2_embeddings shape: torch.Size([216, 1280])\n",
            "ss_onehot shape: torch.Size([216, 4])\n",
            "phi_angles shape: torch.Size([216, 1])\n",
            "psi_angles shape: torch.Size([216, 1])\n",
            "b_factors shape: torch.Size([216, 1])\n",
            "Shape of labels: torch.Size([216])\n"
          ]
        },
        {
          "output_type": "stream",
          "name": "stderr",
          "text": [
            " 32%|███▏      | 320/1013 [00:54<01:22,  8.41it/s]"
          ]
        },
        {
          "output_type": "stream",
          "name": "stdout",
          "text": [
            "esm2_embeddings shape: torch.Size([142, 1280])\n",
            "ss_onehot shape: torch.Size([142, 4])\n",
            "phi_angles shape: torch.Size([142, 1])\n",
            "psi_angles shape: torch.Size([142, 1])\n",
            "b_factors shape: torch.Size([142, 1])\n",
            "Shape of labels: torch.Size([142])\n",
            "esm2_embeddings shape: torch.Size([98, 1280])\n",
            "ss_onehot shape: torch.Size([98, 4])\n",
            "phi_angles shape: torch.Size([98, 1])\n",
            "psi_angles shape: torch.Size([98, 1])\n",
            "b_factors shape: torch.Size([98, 1])\n",
            "Shape of labels: torch.Size([98])\n",
            "esm2_embeddings shape: torch.Size([122, 1280])\n",
            "ss_onehot shape: torch.Size([122, 4])\n",
            "phi_angles shape: torch.Size([122, 1])\n",
            "psi_angles shape: torch.Size([122, 1])\n",
            "b_factors shape: torch.Size([122, 1])\n",
            "Shape of labels: torch.Size([122])\n"
          ]
        },
        {
          "output_type": "stream",
          "name": "stderr",
          "text": [
            "\r 32%|███▏      | 321/1013 [00:54<01:33,  7.44it/s]"
          ]
        },
        {
          "output_type": "stream",
          "name": "stdout",
          "text": [
            "esm2_embeddings shape: torch.Size([194, 1280])\n",
            "ss_onehot shape: torch.Size([194, 4])\n",
            "phi_angles shape: torch.Size([194, 1])\n",
            "psi_angles shape: torch.Size([194, 1])\n",
            "b_factors shape: torch.Size([194, 1])\n",
            "Shape of labels: torch.Size([194])\n",
            "esm2_embeddings shape: torch.Size([61, 1280])\n",
            "ss_onehot shape: torch.Size([61, 4])\n",
            "phi_angles shape: torch.Size([61, 1])\n",
            "psi_angles shape: torch.Size([61, 1])\n",
            "b_factors shape: torch.Size([61, 1])\n",
            "Shape of labels: torch.Size([61])\n"
          ]
        },
        {
          "output_type": "stream",
          "name": "stderr",
          "text": [
            " 32%|███▏      | 324/1013 [00:55<02:06,  5.45it/s]"
          ]
        },
        {
          "output_type": "stream",
          "name": "stdout",
          "text": [
            "esm2_embeddings shape: torch.Size([210, 1280])\n",
            "ss_onehot shape: torch.Size([210, 4])\n",
            "phi_angles shape: torch.Size([210, 1])\n",
            "psi_angles shape: torch.Size([210, 1])\n",
            "b_factors shape: torch.Size([210, 1])\n",
            "Shape of labels: torch.Size([210])\n",
            "esm2_embeddings shape: torch.Size([161, 1280])\n",
            "ss_onehot shape: torch.Size([161, 4])\n",
            "phi_angles shape: torch.Size([161, 1])\n",
            "psi_angles shape: torch.Size([161, 1])\n",
            "b_factors shape: torch.Size([161, 1])\n",
            "Shape of labels: torch.Size([161])\n",
            "esm2_embeddings shape: torch.Size([70, 1280])\n",
            "ss_onehot shape: torch.Size([70, 4])\n",
            "phi_angles shape: torch.Size([70, 1])\n",
            "psi_angles shape: torch.Size([70, 1])\n",
            "b_factors shape: torch.Size([70, 1])\n",
            "Shape of labels: torch.Size([70])\n"
          ]
        },
        {
          "output_type": "stream",
          "name": "stderr",
          "text": [
            " 32%|███▏      | 328/1013 [00:55<01:22,  8.26it/s]"
          ]
        },
        {
          "output_type": "stream",
          "name": "stdout",
          "text": [
            "esm2_embeddings shape: torch.Size([131, 1280])\n",
            "ss_onehot shape: torch.Size([131, 4])\n",
            "phi_angles shape: torch.Size([131, 1])\n",
            "psi_angles shape: torch.Size([131, 1])\n",
            "b_factors shape: torch.Size([131, 1])\n",
            "Shape of labels: torch.Size([131])\n",
            "esm2_embeddings shape: torch.Size([105, 1280])\n",
            "ss_onehot shape: torch.Size([105, 4])\n",
            "phi_angles shape: torch.Size([105, 1])\n",
            "psi_angles shape: torch.Size([105, 1])\n",
            "b_factors shape: torch.Size([105, 1])\n",
            "Shape of labels: torch.Size([105])\n",
            "esm2_embeddings shape: torch.Size([155, 1280])\n",
            "ss_onehot shape: torch.Size([155, 4])\n",
            "phi_angles shape: torch.Size([155, 1])\n",
            "psi_angles shape: torch.Size([155, 1])\n",
            "b_factors shape: torch.Size([155, 1])\n",
            "Shape of labels: torch.Size([155])\n"
          ]
        },
        {
          "output_type": "stream",
          "name": "stderr",
          "text": [
            "\r 33%|███▎      | 330/1013 [00:55<01:09,  9.83it/s]"
          ]
        },
        {
          "output_type": "stream",
          "name": "stdout",
          "text": [
            "esm2_embeddings shape: torch.Size([71, 1280])\n",
            "ss_onehot shape: torch.Size([71, 4])\n",
            "phi_angles shape: torch.Size([71, 1])\n",
            "psi_angles shape: torch.Size([71, 1])\n",
            "b_factors shape: torch.Size([71, 1])\n",
            "Shape of labels: torch.Size([71])\n",
            "esm2_embeddings shape: torch.Size([120, 1280])\n",
            "ss_onehot shape: torch.Size([120, 4])\n",
            "phi_angles shape: torch.Size([120, 1])\n",
            "psi_angles shape: torch.Size([120, 1])\n",
            "b_factors shape: torch.Size([120, 1])\n",
            "Shape of labels: torch.Size([120])\n"
          ]
        },
        {
          "output_type": "stream",
          "name": "stderr",
          "text": [
            "\r 33%|███▎      | 332/1013 [00:56<01:30,  7.54it/s]"
          ]
        },
        {
          "output_type": "stream",
          "name": "stdout",
          "text": [
            "esm2_embeddings shape: torch.Size([279, 1280])\n",
            "ss_onehot shape: torch.Size([279, 4])\n",
            "phi_angles shape: torch.Size([279, 1])\n",
            "psi_angles shape: torch.Size([279, 1])\n",
            "b_factors shape: torch.Size([279, 1])\n",
            "Shape of labels: torch.Size([279])\n",
            "esm2_embeddings shape: torch.Size([172, 1280])\n",
            "ss_onehot shape: torch.Size([172, 4])\n",
            "phi_angles shape: torch.Size([172, 1])\n",
            "psi_angles shape: torch.Size([172, 1])\n",
            "b_factors shape: torch.Size([172, 1])\n",
            "Shape of labels: torch.Size([172])\n"
          ]
        },
        {
          "output_type": "stream",
          "name": "stderr",
          "text": [
            " 33%|███▎      | 336/1013 [00:56<01:10,  9.58it/s]"
          ]
        },
        {
          "output_type": "stream",
          "name": "stdout",
          "text": [
            "esm2_embeddings shape: torch.Size([286, 1280])\n",
            "ss_onehot shape: torch.Size([286, 4])\n",
            "phi_angles shape: torch.Size([286, 1])\n",
            "psi_angles shape: torch.Size([286, 1])\n",
            "b_factors shape: torch.Size([286, 1])\n",
            "Shape of labels: torch.Size([286])\n",
            "esm2_embeddings shape: torch.Size([84, 1280])\n",
            "ss_onehot shape: torch.Size([84, 4])\n",
            "phi_angles shape: torch.Size([84, 1])\n",
            "psi_angles shape: torch.Size([84, 1])\n",
            "b_factors shape: torch.Size([84, 1])\n",
            "Shape of labels: torch.Size([84])\n",
            "esm2_embeddings shape: torch.Size([45, 1280])\n",
            "ss_onehot shape: torch.Size([45, 4])\n",
            "phi_angles shape: torch.Size([45, 1])\n",
            "psi_angles shape: torch.Size([45, 1])\n",
            "b_factors shape: torch.Size([45, 1])\n",
            "Shape of labels: torch.Size([45])\n",
            "esm2_embeddings shape: torch.Size([38, 1280])\n",
            "ss_onehot shape: torch.Size([38, 4])\n",
            "phi_angles shape: torch.Size([38, 1])\n",
            "psi_angles shape: torch.Size([38, 1])\n",
            "b_factors shape: torch.Size([38, 1])\n",
            "Shape of labels: torch.Size([38])\n",
            "esm2_embeddings shape: torch.Size([37, 1280])\n",
            "ss_onehot shape: torch.Size([37, 4])\n",
            "phi_angles shape: torch.Size([37, 1])\n",
            "psi_angles shape: torch.Size([37, 1])\n",
            "b_factors shape: torch.Size([37, 1])\n",
            "Shape of labels: torch.Size([37])\n",
            "esm2_embeddings shape: torch.Size([53, 1280])\n",
            "ss_onehot shape: torch.Size([53, 4])\n",
            "phi_angles shape: torch.Size([53, 1])\n",
            "psi_angles shape: torch.Size([53, 1])\n",
            "b_factors shape: torch.Size([53, 1])\n",
            "Shape of labels: torch.Size([53])\n"
          ]
        },
        {
          "output_type": "stream",
          "name": "stderr",
          "text": [
            "\r 33%|███▎      | 339/1013 [00:56<00:51, 12.98it/s]"
          ]
        },
        {
          "output_type": "stream",
          "name": "stdout",
          "text": [
            "esm2_embeddings shape: torch.Size([36, 1280])\n",
            "ss_onehot shape: torch.Size([36, 4])\n",
            "phi_angles shape: torch.Size([36, 1])\n",
            "psi_angles shape: torch.Size([36, 1])\n",
            "b_factors shape: torch.Size([36, 1])\n",
            "Shape of labels: torch.Size([36])\n",
            "esm2_embeddings shape: torch.Size([126, 1280])\n",
            "ss_onehot shape: torch.Size([126, 4])\n",
            "phi_angles shape: torch.Size([126, 1])\n",
            "psi_angles shape: torch.Size([126, 1])\n",
            "b_factors shape: torch.Size([126, 1])\n",
            "Shape of labels: torch.Size([126])\n"
          ]
        },
        {
          "output_type": "stream",
          "name": "stderr",
          "text": [
            " 34%|███▍      | 343/1013 [00:57<01:21,  8.21it/s]"
          ]
        },
        {
          "output_type": "stream",
          "name": "stdout",
          "text": [
            "esm2_embeddings shape: torch.Size([85, 1280])\n",
            "ss_onehot shape: torch.Size([85, 4])\n",
            "phi_angles shape: torch.Size([85, 1])\n",
            "psi_angles shape: torch.Size([85, 1])\n",
            "b_factors shape: torch.Size([85, 1])\n",
            "Shape of labels: torch.Size([85])\n",
            "esm2_embeddings shape: torch.Size([116, 1280])\n",
            "ss_onehot shape: torch.Size([116, 4])\n",
            "phi_angles shape: torch.Size([116, 1])\n",
            "psi_angles shape: torch.Size([116, 1])\n",
            "b_factors shape: torch.Size([116, 1])\n",
            "Shape of labels: torch.Size([116])\n",
            "esm2_embeddings shape: torch.Size([165, 1280])\n",
            "ss_onehot shape: torch.Size([165, 4])\n",
            "phi_angles shape: torch.Size([165, 1])\n",
            "psi_angles shape: torch.Size([165, 1])\n",
            "b_factors shape: torch.Size([165, 1])\n",
            "Shape of labels: torch.Size([165])\n"
          ]
        },
        {
          "output_type": "stream",
          "name": "stderr",
          "text": [
            "\r 34%|███▍      | 345/1013 [00:58<01:38,  6.75it/s]"
          ]
        },
        {
          "output_type": "stream",
          "name": "stdout",
          "text": [
            "esm2_embeddings shape: torch.Size([306, 1280])\n",
            "ss_onehot shape: torch.Size([306, 4])\n",
            "phi_angles shape: torch.Size([306, 1])\n",
            "psi_angles shape: torch.Size([306, 1])\n",
            "b_factors shape: torch.Size([306, 1])\n",
            "Shape of labels: torch.Size([306])\n",
            "esm2_embeddings shape: torch.Size([161, 1280])\n",
            "ss_onehot shape: torch.Size([161, 4])\n",
            "phi_angles shape: torch.Size([161, 1])\n",
            "psi_angles shape: torch.Size([161, 1])\n",
            "b_factors shape: torch.Size([161, 1])\n",
            "Shape of labels: torch.Size([161])\n",
            "esm2_embeddings shape: torch.Size([66, 1280])\n",
            "ss_onehot shape: torch.Size([66, 4])\n",
            "phi_angles shape: torch.Size([66, 1])\n",
            "psi_angles shape: torch.Size([66, 1])\n",
            "b_factors shape: torch.Size([66, 1])\n",
            "Shape of labels: torch.Size([66])\n"
          ]
        },
        {
          "output_type": "stream",
          "name": "stderr",
          "text": [
            "\r 34%|███▍      | 348/1013 [00:58<01:14,  8.98it/s]"
          ]
        },
        {
          "output_type": "stream",
          "name": "stdout",
          "text": [
            "esm2_embeddings shape: torch.Size([80, 1280])\n",
            "ss_onehot shape: torch.Size([80, 4])\n",
            "phi_angles shape: torch.Size([80, 1])\n",
            "psi_angles shape: torch.Size([80, 1])\n",
            "b_factors shape: torch.Size([80, 1])\n",
            "Shape of labels: torch.Size([80])\n",
            "esm2_embeddings shape: torch.Size([82, 1280])\n",
            "ss_onehot shape: torch.Size([82, 4])\n",
            "phi_angles shape: torch.Size([82, 1])\n",
            "psi_angles shape: torch.Size([82, 1])\n",
            "b_factors shape: torch.Size([82, 1])\n",
            "Shape of labels: torch.Size([82])\n",
            "esm2_embeddings shape: torch.Size([226, 1280])\n",
            "ss_onehot shape: torch.Size([226, 4])\n",
            "phi_angles shape: torch.Size([226, 1])\n",
            "psi_angles shape: torch.Size([226, 1])\n",
            "b_factors shape: torch.Size([226, 1])\n",
            "Shape of labels: torch.Size([226])\n"
          ]
        },
        {
          "output_type": "stream",
          "name": "stderr",
          "text": [
            "\r 35%|███▍      | 350/1013 [00:58<01:48,  6.10it/s]"
          ]
        },
        {
          "output_type": "stream",
          "name": "stdout",
          "text": [
            "esm2_embeddings shape: torch.Size([374, 1280])\n",
            "ss_onehot shape: torch.Size([374, 4])\n",
            "phi_angles shape: torch.Size([374, 1])\n",
            "psi_angles shape: torch.Size([374, 1])\n",
            "b_factors shape: torch.Size([374, 1])\n",
            "Shape of labels: torch.Size([374])\n",
            "esm2_embeddings shape: torch.Size([201, 1280])\n",
            "ss_onehot shape: torch.Size([201, 4])\n",
            "phi_angles shape: torch.Size([201, 1])\n",
            "psi_angles shape: torch.Size([201, 1])\n",
            "b_factors shape: torch.Size([201, 1])\n",
            "Shape of labels: torch.Size([201])\n"
          ]
        },
        {
          "output_type": "stream",
          "name": "stderr",
          "text": [
            " 35%|███▍      | 354/1013 [00:59<02:04,  5.29it/s]"
          ]
        },
        {
          "output_type": "stream",
          "name": "stdout",
          "text": [
            "esm2_embeddings shape: torch.Size([273, 1280])\n",
            "ss_onehot shape: torch.Size([273, 4])\n",
            "phi_angles shape: torch.Size([273, 1])\n",
            "psi_angles shape: torch.Size([273, 1])\n",
            "b_factors shape: torch.Size([273, 1])\n",
            "Shape of labels: torch.Size([273])\n",
            "esm2_embeddings shape: torch.Size([67, 1280])\n",
            "ss_onehot shape: torch.Size([67, 4])\n",
            "phi_angles shape: torch.Size([67, 1])\n",
            "psi_angles shape: torch.Size([67, 1])\n",
            "b_factors shape: torch.Size([67, 1])\n",
            "Shape of labels: torch.Size([67])\n",
            "esm2_embeddings shape: torch.Size([149, 1280])\n",
            "ss_onehot shape: torch.Size([149, 4])\n",
            "phi_angles shape: torch.Size([149, 1])\n",
            "psi_angles shape: torch.Size([149, 1])\n",
            "b_factors shape: torch.Size([149, 1])\n",
            "Shape of labels: torch.Size([149])\n"
          ]
        },
        {
          "output_type": "stream",
          "name": "stderr",
          "text": [
            " 35%|███▌      | 356/1013 [01:00<01:50,  5.92it/s]"
          ]
        },
        {
          "output_type": "stream",
          "name": "stdout",
          "text": [
            "esm2_embeddings shape: torch.Size([154, 1280])\n",
            "ss_onehot shape: torch.Size([154, 4])\n",
            "phi_angles shape: torch.Size([154, 1])\n",
            "psi_angles shape: torch.Size([154, 1])\n",
            "b_factors shape: torch.Size([154, 1])\n",
            "Shape of labels: torch.Size([154])\n",
            "esm2_embeddings shape: torch.Size([178, 1280])\n",
            "ss_onehot shape: torch.Size([178, 4])\n",
            "phi_angles shape: torch.Size([178, 1])\n",
            "psi_angles shape: torch.Size([178, 1])\n",
            "b_factors shape: torch.Size([178, 1])\n",
            "Shape of labels: torch.Size([178])\n"
          ]
        },
        {
          "output_type": "stream",
          "name": "stderr",
          "text": [
            "\r 35%|███▌      | 357/1013 [01:00<02:08,  5.10it/s]"
          ]
        },
        {
          "output_type": "stream",
          "name": "stdout",
          "text": [
            "esm2_embeddings shape: torch.Size([295, 1280])\n",
            "ss_onehot shape: torch.Size([295, 4])\n",
            "phi_angles shape: torch.Size([295, 1])\n",
            "psi_angles shape: torch.Size([295, 1])\n",
            "b_factors shape: torch.Size([295, 1])\n",
            "Shape of labels: torch.Size([295])\n"
          ]
        },
        {
          "output_type": "stream",
          "name": "stderr",
          "text": [
            "\r 35%|███▌      | 358/1013 [01:00<02:12,  4.93it/s]"
          ]
        },
        {
          "output_type": "stream",
          "name": "stdout",
          "text": [
            "esm2_embeddings shape: torch.Size([260, 1280])\n",
            "ss_onehot shape: torch.Size([260, 4])\n",
            "phi_angles shape: torch.Size([260, 1])\n",
            "psi_angles shape: torch.Size([260, 1])\n",
            "b_factors shape: torch.Size([260, 1])\n",
            "Shape of labels: torch.Size([260])\n",
            "esm2_embeddings shape: torch.Size([118, 1280])\n",
            "ss_onehot shape: torch.Size([118, 4])\n",
            "phi_angles shape: torch.Size([118, 1])\n",
            "psi_angles shape: torch.Size([118, 1])\n",
            "b_factors shape: torch.Size([118, 1])\n",
            "Shape of labels: torch.Size([118])\n"
          ]
        },
        {
          "output_type": "stream",
          "name": "stderr",
          "text": [
            "\r 36%|███▌      | 360/1013 [01:00<01:54,  5.70it/s]"
          ]
        },
        {
          "output_type": "stream",
          "name": "stdout",
          "text": [
            "esm2_embeddings shape: torch.Size([232, 1280])\n",
            "ss_onehot shape: torch.Size([232, 4])\n",
            "phi_angles shape: torch.Size([232, 1])\n",
            "psi_angles shape: torch.Size([232, 1])\n",
            "b_factors shape: torch.Size([232, 1])\n",
            "Shape of labels: torch.Size([232])\n"
          ]
        },
        {
          "output_type": "stream",
          "name": "stderr",
          "text": [
            " 36%|███▌      | 363/1013 [01:01<02:12,  4.92it/s]"
          ]
        },
        {
          "output_type": "stream",
          "name": "stdout",
          "text": [
            "esm2_embeddings shape: torch.Size([270, 1280])\n",
            "ss_onehot shape: torch.Size([270, 4])\n",
            "phi_angles shape: torch.Size([270, 1])\n",
            "psi_angles shape: torch.Size([270, 1])\n",
            "b_factors shape: torch.Size([270, 1])\n",
            "Shape of labels: torch.Size([270])\n",
            "esm2_embeddings shape: torch.Size([125, 1280])\n",
            "ss_onehot shape: torch.Size([125, 4])\n",
            "phi_angles shape: torch.Size([125, 1])\n",
            "psi_angles shape: torch.Size([125, 1])\n",
            "b_factors shape: torch.Size([125, 1])\n",
            "Shape of labels: torch.Size([125])\n",
            "esm2_embeddings shape: torch.Size([125, 1280])\n",
            "ss_onehot shape: torch.Size([125, 4])\n",
            "phi_angles shape: torch.Size([125, 1])\n",
            "psi_angles shape: torch.Size([125, 1])\n",
            "b_factors shape: torch.Size([125, 1])\n",
            "Shape of labels: torch.Size([125])\n"
          ]
        },
        {
          "output_type": "stream",
          "name": "stderr",
          "text": [
            "\r 36%|███▌      | 364/1013 [01:02<02:41,  4.01it/s]"
          ]
        },
        {
          "output_type": "stream",
          "name": "stdout",
          "text": [
            "esm2_embeddings shape: torch.Size([385, 1280])\n",
            "ss_onehot shape: torch.Size([385, 4])\n",
            "phi_angles shape: torch.Size([385, 1])\n",
            "psi_angles shape: torch.Size([385, 1])\n",
            "b_factors shape: torch.Size([385, 1])\n",
            "Shape of labels: torch.Size([385])\n"
          ]
        },
        {
          "output_type": "stream",
          "name": "stderr",
          "text": [
            "\r 36%|███▌      | 365/1013 [01:02<02:39,  4.06it/s]"
          ]
        },
        {
          "output_type": "stream",
          "name": "stdout",
          "text": [
            "esm2_embeddings shape: torch.Size([256, 1280])\n",
            "ss_onehot shape: torch.Size([256, 4])\n",
            "phi_angles shape: torch.Size([256, 1])\n",
            "psi_angles shape: torch.Size([256, 1])\n",
            "b_factors shape: torch.Size([256, 1])\n",
            "Shape of labels: torch.Size([256])\n",
            "esm2_embeddings shape: torch.Size([85, 1280])\n",
            "ss_onehot shape: torch.Size([85, 4])\n",
            "phi_angles shape: torch.Size([85, 1])\n",
            "psi_angles shape: torch.Size([85, 1])\n",
            "b_factors shape: torch.Size([85, 1])\n",
            "Shape of labels: torch.Size([85])\n"
          ]
        },
        {
          "output_type": "stream",
          "name": "stderr",
          "text": [
            " 36%|███▋      | 368/1013 [01:02<01:56,  5.54it/s]"
          ]
        },
        {
          "output_type": "stream",
          "name": "stdout",
          "text": [
            "esm2_embeddings shape: torch.Size([193, 1280])\n",
            "ss_onehot shape: torch.Size([193, 4])\n",
            "phi_angles shape: torch.Size([193, 1])\n",
            "psi_angles shape: torch.Size([193, 1])\n",
            "b_factors shape: torch.Size([193, 1])\n",
            "Shape of labels: torch.Size([193])\n",
            "esm2_embeddings shape: torch.Size([180, 1280])\n",
            "ss_onehot shape: torch.Size([180, 4])\n",
            "phi_angles shape: torch.Size([180, 1])\n",
            "psi_angles shape: torch.Size([180, 1])\n",
            "b_factors shape: torch.Size([180, 1])\n",
            "Shape of labels: torch.Size([180])\n"
          ]
        },
        {
          "output_type": "stream",
          "name": "stderr",
          "text": [
            "\r 37%|███▋      | 370/1013 [01:02<01:33,  6.87it/s]"
          ]
        },
        {
          "output_type": "stream",
          "name": "stdout",
          "text": [
            "esm2_embeddings shape: torch.Size([92, 1280])\n",
            "ss_onehot shape: torch.Size([92, 4])\n",
            "phi_angles shape: torch.Size([92, 1])\n",
            "psi_angles shape: torch.Size([92, 1])\n",
            "b_factors shape: torch.Size([92, 1])\n",
            "Shape of labels: torch.Size([92])\n",
            "esm2_embeddings shape: torch.Size([158, 1280])\n",
            "ss_onehot shape: torch.Size([158, 4])\n",
            "phi_angles shape: torch.Size([158, 1])\n",
            "psi_angles shape: torch.Size([158, 1])\n",
            "b_factors shape: torch.Size([158, 1])\n",
            "Shape of labels: torch.Size([158])\n"
          ]
        },
        {
          "output_type": "stream",
          "name": "stderr",
          "text": [
            " 37%|███▋      | 374/1013 [01:03<01:45,  6.04it/s]"
          ]
        },
        {
          "output_type": "stream",
          "name": "stdout",
          "text": [
            "esm2_embeddings shape: torch.Size([290, 1280])\n",
            "ss_onehot shape: torch.Size([290, 4])\n",
            "phi_angles shape: torch.Size([290, 1])\n",
            "psi_angles shape: torch.Size([290, 1])\n",
            "b_factors shape: torch.Size([290, 1])\n",
            "Shape of labels: torch.Size([290])\n",
            "esm2_embeddings shape: torch.Size([69, 1280])\n",
            "ss_onehot shape: torch.Size([69, 4])\n",
            "phi_angles shape: torch.Size([69, 1])\n",
            "psi_angles shape: torch.Size([69, 1])\n",
            "b_factors shape: torch.Size([69, 1])\n",
            "Shape of labels: torch.Size([69])\n",
            "esm2_embeddings shape: torch.Size([65, 1280])\n",
            "ss_onehot shape: torch.Size([65, 4])\n",
            "phi_angles shape: torch.Size([65, 1])\n",
            "psi_angles shape: torch.Size([65, 1])\n",
            "b_factors shape: torch.Size([65, 1])\n",
            "Shape of labels: torch.Size([65])\n",
            "esm2_embeddings shape: torch.Size([112, 1280])\n",
            "ss_onehot shape: torch.Size([112, 4])\n",
            "phi_angles shape: torch.Size([112, 1])\n",
            "psi_angles shape: torch.Size([112, 1])\n",
            "b_factors shape: torch.Size([112, 1])\n",
            "Shape of labels: torch.Size([112])\n"
          ]
        },
        {
          "output_type": "stream",
          "name": "stderr",
          "text": [
            " 37%|███▋      | 378/1013 [01:03<01:11,  8.85it/s]"
          ]
        },
        {
          "output_type": "stream",
          "name": "stdout",
          "text": [
            "esm2_embeddings shape: torch.Size([109, 1280])\n",
            "ss_onehot shape: torch.Size([109, 4])\n",
            "phi_angles shape: torch.Size([109, 1])\n",
            "psi_angles shape: torch.Size([109, 1])\n",
            "b_factors shape: torch.Size([109, 1])\n",
            "Shape of labels: torch.Size([109])\n",
            "esm2_embeddings shape: torch.Size([122, 1280])\n",
            "ss_onehot shape: torch.Size([122, 4])\n",
            "phi_angles shape: torch.Size([122, 1])\n",
            "psi_angles shape: torch.Size([122, 1])\n",
            "b_factors shape: torch.Size([122, 1])\n",
            "Shape of labels: torch.Size([122])\n",
            "esm2_embeddings shape: torch.Size([67, 1280])\n",
            "ss_onehot shape: torch.Size([67, 4])\n",
            "phi_angles shape: torch.Size([67, 1])\n",
            "psi_angles shape: torch.Size([67, 1])\n",
            "b_factors shape: torch.Size([67, 1])\n",
            "Shape of labels: torch.Size([67])\n",
            "esm2_embeddings shape: torch.Size([100, 1280])\n",
            "ss_onehot shape: torch.Size([100, 4])\n",
            "phi_angles shape: torch.Size([100, 1])\n",
            "psi_angles shape: torch.Size([100, 1])\n",
            "b_factors shape: torch.Size([100, 1])\n",
            "Shape of labels: torch.Size([100])\n"
          ]
        },
        {
          "output_type": "stream",
          "name": "stderr",
          "text": [
            "\r 38%|███▊      | 380/1013 [01:04<01:43,  6.11it/s]"
          ]
        },
        {
          "output_type": "stream",
          "name": "stdout",
          "text": [
            "esm2_embeddings shape: torch.Size([354, 1280])\n",
            "ss_onehot shape: torch.Size([354, 4])\n",
            "phi_angles shape: torch.Size([354, 1])\n",
            "psi_angles shape: torch.Size([354, 1])\n",
            "b_factors shape: torch.Size([354, 1])\n",
            "Shape of labels: torch.Size([354])\n",
            "esm2_embeddings shape: torch.Size([200, 1280])\n",
            "ss_onehot shape: torch.Size([200, 4])\n",
            "phi_angles shape: torch.Size([200, 1])\n",
            "psi_angles shape: torch.Size([200, 1])\n",
            "b_factors shape: torch.Size([200, 1])\n",
            "Shape of labels: torch.Size([200])\n"
          ]
        },
        {
          "output_type": "stream",
          "name": "stderr",
          "text": [
            " 38%|███▊      | 383/1013 [01:04<01:23,  7.57it/s]"
          ]
        },
        {
          "output_type": "stream",
          "name": "stdout",
          "text": [
            "esm2_embeddings shape: torch.Size([200, 1280])\n",
            "ss_onehot shape: torch.Size([200, 4])\n",
            "phi_angles shape: torch.Size([200, 1])\n",
            "psi_angles shape: torch.Size([200, 1])\n",
            "b_factors shape: torch.Size([200, 1])\n",
            "Shape of labels: torch.Size([200])\n",
            "esm2_embeddings shape: torch.Size([70, 1280])\n",
            "ss_onehot shape: torch.Size([70, 4])\n",
            "phi_angles shape: torch.Size([70, 1])\n",
            "psi_angles shape: torch.Size([70, 1])\n",
            "b_factors shape: torch.Size([70, 1])\n",
            "Shape of labels: torch.Size([70])\n",
            "esm2_embeddings shape: torch.Size([132, 1280])\n",
            "ss_onehot shape: torch.Size([132, 4])\n",
            "phi_angles shape: torch.Size([132, 1])\n",
            "psi_angles shape: torch.Size([132, 1])\n",
            "b_factors shape: torch.Size([132, 1])\n",
            "Shape of labels: torch.Size([132])\n"
          ]
        },
        {
          "output_type": "stream",
          "name": "stderr",
          "text": [
            " 38%|███▊      | 387/1013 [01:05<01:02, 10.07it/s]"
          ]
        },
        {
          "output_type": "stream",
          "name": "stdout",
          "text": [
            "esm2_embeddings shape: torch.Size([132, 1280])\n",
            "ss_onehot shape: torch.Size([132, 4])\n",
            "phi_angles shape: torch.Size([132, 1])\n",
            "psi_angles shape: torch.Size([132, 1])\n",
            "b_factors shape: torch.Size([132, 1])\n",
            "Shape of labels: torch.Size([132])\n",
            "esm2_embeddings shape: torch.Size([50, 1280])\n",
            "ss_onehot shape: torch.Size([50, 4])\n",
            "phi_angles shape: torch.Size([50, 1])\n",
            "psi_angles shape: torch.Size([50, 1])\n",
            "b_factors shape: torch.Size([50, 1])\n",
            "Shape of labels: torch.Size([50])\n",
            "esm2_embeddings shape: torch.Size([69, 1280])\n",
            "ss_onehot shape: torch.Size([69, 4])\n",
            "phi_angles shape: torch.Size([69, 1])\n",
            "psi_angles shape: torch.Size([69, 1])\n",
            "b_factors shape: torch.Size([69, 1])\n",
            "Shape of labels: torch.Size([69])\n",
            "esm2_embeddings shape: torch.Size([159, 1280])\n",
            "ss_onehot shape: torch.Size([159, 4])\n",
            "phi_angles shape: torch.Size([159, 1])\n",
            "psi_angles shape: torch.Size([159, 1])\n",
            "b_factors shape: torch.Size([159, 1])\n",
            "Shape of labels: torch.Size([159])\n",
            "esm2_embeddings shape: torch.Size([57, 1280])\n",
            "ss_onehot shape: torch.Size([57, 4])\n",
            "phi_angles shape: torch.Size([57, 1])\n",
            "psi_angles shape: torch.Size([57, 1])\n",
            "b_factors shape: torch.Size([57, 1])\n",
            "Shape of labels: torch.Size([57])\n"
          ]
        },
        {
          "output_type": "stream",
          "name": "stderr",
          "text": [
            " 38%|███▊      | 390/1013 [01:05<01:32,  6.73it/s]"
          ]
        },
        {
          "output_type": "stream",
          "name": "stdout",
          "text": [
            "esm2_embeddings shape: torch.Size([157, 1280])\n",
            "ss_onehot shape: torch.Size([157, 4])\n",
            "phi_angles shape: torch.Size([157, 1])\n",
            "psi_angles shape: torch.Size([157, 1])\n",
            "b_factors shape: torch.Size([157, 1])\n",
            "Shape of labels: torch.Size([157])\n",
            "esm2_embeddings shape: torch.Size([162, 1280])\n",
            "ss_onehot shape: torch.Size([162, 4])\n",
            "phi_angles shape: torch.Size([162, 1])\n",
            "psi_angles shape: torch.Size([162, 1])\n",
            "b_factors shape: torch.Size([162, 1])\n",
            "Shape of labels: torch.Size([162])\n",
            "esm2_embeddings shape: torch.Size([88, 1280])\n",
            "ss_onehot shape: torch.Size([88, 4])\n",
            "phi_angles shape: torch.Size([88, 1])\n",
            "psi_angles shape: torch.Size([88, 1])\n",
            "b_factors shape: torch.Size([88, 1])\n",
            "Shape of labels: torch.Size([88])\n"
          ]
        },
        {
          "output_type": "stream",
          "name": "stderr",
          "text": [
            "\r 39%|███▊      | 392/1013 [01:06<01:31,  6.82it/s]"
          ]
        },
        {
          "output_type": "stream",
          "name": "stdout",
          "text": [
            "esm2_embeddings shape: torch.Size([256, 1280])\n",
            "ss_onehot shape: torch.Size([256, 4])\n",
            "phi_angles shape: torch.Size([256, 1])\n",
            "psi_angles shape: torch.Size([256, 1])\n",
            "b_factors shape: torch.Size([256, 1])\n",
            "Shape of labels: torch.Size([256])\n"
          ]
        },
        {
          "output_type": "stream",
          "name": "stderr",
          "text": [
            " 39%|███▉      | 395/1013 [01:06<01:23,  7.41it/s]"
          ]
        },
        {
          "output_type": "stream",
          "name": "stdout",
          "text": [
            "esm2_embeddings shape: torch.Size([295, 1280])\n",
            "ss_onehot shape: torch.Size([295, 4])\n",
            "phi_angles shape: torch.Size([295, 1])\n",
            "psi_angles shape: torch.Size([295, 1])\n",
            "b_factors shape: torch.Size([295, 1])\n",
            "Shape of labels: torch.Size([295])\n",
            "esm2_embeddings shape: torch.Size([126, 1280])\n",
            "ss_onehot shape: torch.Size([126, 4])\n",
            "phi_angles shape: torch.Size([126, 1])\n",
            "psi_angles shape: torch.Size([126, 1])\n",
            "b_factors shape: torch.Size([126, 1])\n",
            "Shape of labels: torch.Size([126])\n",
            "esm2_embeddings shape: torch.Size([54, 1280])\n",
            "ss_onehot shape: torch.Size([54, 4])\n",
            "phi_angles shape: torch.Size([54, 1])\n",
            "psi_angles shape: torch.Size([54, 1])\n",
            "b_factors shape: torch.Size([54, 1])\n",
            "Shape of labels: torch.Size([54])\n"
          ]
        },
        {
          "output_type": "stream",
          "name": "stderr",
          "text": [
            "\r 39%|███▉      | 397/1013 [01:06<01:22,  7.45it/s]"
          ]
        },
        {
          "output_type": "stream",
          "name": "stdout",
          "text": [
            "esm2_embeddings shape: torch.Size([105, 1280])\n",
            "ss_onehot shape: torch.Size([105, 4])\n",
            "phi_angles shape: torch.Size([105, 1])\n",
            "psi_angles shape: torch.Size([105, 1])\n",
            "b_factors shape: torch.Size([105, 1])\n",
            "Shape of labels: torch.Size([105])\n",
            "esm2_embeddings shape: torch.Size([226, 1280])\n",
            "ss_onehot shape: torch.Size([226, 4])\n",
            "phi_angles shape: torch.Size([226, 1])\n",
            "psi_angles shape: torch.Size([226, 1])\n",
            "b_factors shape: torch.Size([226, 1])\n",
            "Shape of labels: torch.Size([226])\n"
          ]
        },
        {
          "output_type": "stream",
          "name": "stderr",
          "text": [
            "\r 39%|███▉      | 398/1013 [01:06<01:32,  6.68it/s]"
          ]
        },
        {
          "output_type": "stream",
          "name": "stdout",
          "text": [
            "esm2_embeddings shape: torch.Size([236, 1280])\n",
            "ss_onehot shape: torch.Size([236, 4])\n",
            "phi_angles shape: torch.Size([236, 1])\n",
            "psi_angles shape: torch.Size([236, 1])\n",
            "b_factors shape: torch.Size([236, 1])\n",
            "Shape of labels: torch.Size([236])\n"
          ]
        },
        {
          "output_type": "stream",
          "name": "stderr",
          "text": [
            " 40%|███▉      | 401/1013 [01:07<02:07,  4.80it/s]"
          ]
        },
        {
          "output_type": "stream",
          "name": "stdout",
          "text": [
            "esm2_embeddings shape: torch.Size([385, 1280])\n",
            "ss_onehot shape: torch.Size([385, 4])\n",
            "phi_angles shape: torch.Size([385, 1])\n",
            "psi_angles shape: torch.Size([385, 1])\n",
            "b_factors shape: torch.Size([385, 1])\n",
            "Shape of labels: torch.Size([385])\n",
            "esm2_embeddings shape: torch.Size([135, 1280])\n",
            "ss_onehot shape: torch.Size([135, 4])\n",
            "phi_angles shape: torch.Size([135, 1])\n",
            "psi_angles shape: torch.Size([135, 1])\n",
            "b_factors shape: torch.Size([135, 1])\n",
            "Shape of labels: torch.Size([135])\n",
            "esm2_embeddings shape: torch.Size([53, 1280])\n",
            "ss_onehot shape: torch.Size([53, 4])\n",
            "phi_angles shape: torch.Size([53, 1])\n",
            "psi_angles shape: torch.Size([53, 1])\n",
            "b_factors shape: torch.Size([53, 1])\n",
            "Shape of labels: torch.Size([53])\n",
            "esm2_embeddings shape: torch.Size([41, 1280])\n",
            "ss_onehot shape: torch.Size([41, 4])\n",
            "phi_angles shape: torch.Size([41, 1])\n",
            "psi_angles shape: torch.Size([41, 1])\n",
            "b_factors shape: torch.Size([41, 1])\n",
            "Shape of labels: torch.Size([41])\n"
          ]
        },
        {
          "output_type": "stream",
          "name": "stderr",
          "text": [
            "\r 40%|███▉      | 403/1013 [01:08<01:41,  6.03it/s]"
          ]
        },
        {
          "output_type": "stream",
          "name": "stdout",
          "text": [
            "esm2_embeddings shape: torch.Size([177, 1280])\n",
            "ss_onehot shape: torch.Size([177, 4])\n",
            "phi_angles shape: torch.Size([177, 1])\n",
            "psi_angles shape: torch.Size([177, 1])\n",
            "b_factors shape: torch.Size([177, 1])\n",
            "Shape of labels: torch.Size([177])\n"
          ]
        },
        {
          "output_type": "stream",
          "name": "stderr",
          "text": [
            "\r 40%|███▉      | 404/1013 [01:08<01:48,  5.63it/s]"
          ]
        },
        {
          "output_type": "stream",
          "name": "stdout",
          "text": [
            "esm2_embeddings shape: torch.Size([251, 1280])\n",
            "ss_onehot shape: torch.Size([251, 4])\n",
            "phi_angles shape: torch.Size([251, 1])\n",
            "psi_angles shape: torch.Size([251, 1])\n",
            "b_factors shape: torch.Size([251, 1])\n",
            "Shape of labels: torch.Size([251])\n"
          ]
        },
        {
          "output_type": "stream",
          "name": "stderr",
          "text": [
            "\r 40%|███▉      | 405/1013 [01:08<01:55,  5.25it/s]"
          ]
        },
        {
          "output_type": "stream",
          "name": "stdout",
          "text": [
            "esm2_embeddings shape: torch.Size([260, 1280])\n",
            "ss_onehot shape: torch.Size([260, 4])\n",
            "phi_angles shape: torch.Size([260, 1])\n",
            "psi_angles shape: torch.Size([260, 1])\n",
            "b_factors shape: torch.Size([260, 1])\n",
            "Shape of labels: torch.Size([260])\n"
          ]
        },
        {
          "output_type": "stream",
          "name": "stderr",
          "text": [
            " 40%|████      | 408/1013 [01:09<01:53,  5.34it/s]"
          ]
        },
        {
          "output_type": "stream",
          "name": "stdout",
          "text": [
            "esm2_embeddings shape: torch.Size([417, 1280])\n",
            "ss_onehot shape: torch.Size([417, 4])\n",
            "phi_angles shape: torch.Size([417, 1])\n",
            "psi_angles shape: torch.Size([417, 1])\n",
            "b_factors shape: torch.Size([417, 1])\n",
            "Shape of labels: torch.Size([417])\n",
            "esm2_embeddings shape: torch.Size([106, 1280])\n",
            "ss_onehot shape: torch.Size([106, 4])\n",
            "phi_angles shape: torch.Size([106, 1])\n",
            "psi_angles shape: torch.Size([106, 1])\n",
            "b_factors shape: torch.Size([106, 1])\n",
            "Shape of labels: torch.Size([106])\n",
            "esm2_embeddings shape: torch.Size([122, 1280])\n",
            "ss_onehot shape: torch.Size([122, 4])\n",
            "phi_angles shape: torch.Size([122, 1])\n",
            "psi_angles shape: torch.Size([122, 1])\n",
            "b_factors shape: torch.Size([122, 1])\n",
            "Shape of labels: torch.Size([122])\n"
          ]
        },
        {
          "output_type": "stream",
          "name": "stderr",
          "text": [
            " 40%|████      | 410/1013 [01:09<02:32,  3.96it/s]"
          ]
        },
        {
          "output_type": "stream",
          "name": "stdout",
          "text": [
            "esm2_embeddings shape: torch.Size([263, 1280])\n",
            "ss_onehot shape: torch.Size([263, 4])\n",
            "phi_angles shape: torch.Size([263, 1])\n",
            "psi_angles shape: torch.Size([263, 1])\n",
            "b_factors shape: torch.Size([263, 1])\n",
            "Shape of labels: torch.Size([263])\n",
            "esm2_embeddings shape: torch.Size([165, 1280])\n",
            "ss_onehot shape: torch.Size([165, 4])\n",
            "phi_angles shape: torch.Size([165, 1])\n",
            "psi_angles shape: torch.Size([165, 1])\n",
            "b_factors shape: torch.Size([165, 1])\n",
            "Shape of labels: torch.Size([165])\n"
          ]
        },
        {
          "output_type": "stream",
          "name": "stderr",
          "text": [
            "\r 41%|████      | 411/1013 [01:10<02:10,  4.62it/s]"
          ]
        },
        {
          "output_type": "stream",
          "name": "stdout",
          "text": [
            "esm2_embeddings shape: torch.Size([137, 1280])\n",
            "ss_onehot shape: torch.Size([137, 4])\n",
            "phi_angles shape: torch.Size([137, 1])\n",
            "psi_angles shape: torch.Size([137, 1])\n",
            "b_factors shape: torch.Size([137, 1])\n",
            "Shape of labels: torch.Size([137])\n"
          ]
        },
        {
          "output_type": "stream",
          "name": "stderr",
          "text": [
            " 41%|████      | 413/1013 [01:10<02:36,  3.83it/s]"
          ]
        },
        {
          "output_type": "stream",
          "name": "stdout",
          "text": [
            "esm2_embeddings shape: torch.Size([438, 1280])\n",
            "ss_onehot shape: torch.Size([438, 4])\n",
            "phi_angles shape: torch.Size([438, 1])\n",
            "psi_angles shape: torch.Size([438, 1])\n",
            "b_factors shape: torch.Size([438, 1])\n",
            "Shape of labels: torch.Size([438])\n",
            "esm2_embeddings shape: torch.Size([189, 1280])\n",
            "ss_onehot shape: torch.Size([189, 4])\n",
            "phi_angles shape: torch.Size([189, 1])\n",
            "psi_angles shape: torch.Size([189, 1])\n",
            "b_factors shape: torch.Size([189, 1])\n",
            "Shape of labels: torch.Size([189])\n"
          ]
        },
        {
          "output_type": "stream",
          "name": "stderr",
          "text": [
            "\r 41%|████      | 414/1013 [01:11<02:55,  3.41it/s]"
          ]
        },
        {
          "output_type": "stream",
          "name": "stdout",
          "text": [
            "esm2_embeddings shape: torch.Size([350, 1280])\n",
            "ss_onehot shape: torch.Size([350, 4])\n",
            "phi_angles shape: torch.Size([350, 1])\n",
            "psi_angles shape: torch.Size([350, 1])\n",
            "b_factors shape: torch.Size([350, 1])\n",
            "Shape of labels: torch.Size([350])\n"
          ]
        },
        {
          "output_type": "stream",
          "name": "stderr",
          "text": [
            " 41%|████      | 416/1013 [01:12<03:23,  2.94it/s]"
          ]
        },
        {
          "output_type": "stream",
          "name": "stdout",
          "text": [
            "esm2_embeddings shape: torch.Size([321, 1280])\n",
            "ss_onehot shape: torch.Size([321, 4])\n",
            "phi_angles shape: torch.Size([321, 1])\n",
            "psi_angles shape: torch.Size([321, 1])\n",
            "b_factors shape: torch.Size([321, 1])\n",
            "Shape of labels: torch.Size([321])\n",
            "esm2_embeddings shape: torch.Size([194, 1280])\n",
            "ss_onehot shape: torch.Size([194, 4])\n",
            "phi_angles shape: torch.Size([194, 1])\n",
            "psi_angles shape: torch.Size([194, 1])\n",
            "b_factors shape: torch.Size([194, 1])\n",
            "Shape of labels: torch.Size([194])\n"
          ]
        },
        {
          "output_type": "stream",
          "name": "stderr",
          "text": [
            " 41%|████▏     | 419/1013 [01:12<01:44,  5.66it/s]"
          ]
        },
        {
          "output_type": "stream",
          "name": "stdout",
          "text": [
            "esm2_embeddings shape: torch.Size([178, 1280])\n",
            "ss_onehot shape: torch.Size([178, 4])\n",
            "phi_angles shape: torch.Size([178, 1])\n",
            "psi_angles shape: torch.Size([178, 1])\n",
            "b_factors shape: torch.Size([178, 1])\n",
            "Shape of labels: torch.Size([178])\n",
            "esm2_embeddings shape: torch.Size([57, 1280])\n",
            "ss_onehot shape: torch.Size([57, 4])\n",
            "phi_angles shape: torch.Size([57, 1])\n",
            "psi_angles shape: torch.Size([57, 1])\n",
            "b_factors shape: torch.Size([57, 1])\n",
            "Shape of labels: torch.Size([57])\n",
            "esm2_embeddings shape: torch.Size([92, 1280])\n",
            "ss_onehot shape: torch.Size([92, 4])\n",
            "phi_angles shape: torch.Size([92, 1])\n",
            "psi_angles shape: torch.Size([92, 1])\n",
            "b_factors shape: torch.Size([92, 1])\n",
            "Shape of labels: torch.Size([92])\n"
          ]
        },
        {
          "output_type": "stream",
          "name": "stderr",
          "text": [
            " 42%|████▏     | 422/1013 [01:12<01:17,  7.61it/s]"
          ]
        },
        {
          "output_type": "stream",
          "name": "stdout",
          "text": [
            "esm2_embeddings shape: torch.Size([218, 1280])\n",
            "ss_onehot shape: torch.Size([218, 4])\n",
            "phi_angles shape: torch.Size([218, 1])\n",
            "psi_angles shape: torch.Size([218, 1])\n",
            "b_factors shape: torch.Size([218, 1])\n",
            "Shape of labels: torch.Size([218])\n",
            "esm2_embeddings shape: torch.Size([62, 1280])\n",
            "ss_onehot shape: torch.Size([62, 4])\n",
            "phi_angles shape: torch.Size([62, 1])\n",
            "psi_angles shape: torch.Size([62, 1])\n",
            "b_factors shape: torch.Size([62, 1])\n",
            "Shape of labels: torch.Size([62])\n",
            "esm2_embeddings shape: torch.Size([127, 1280])\n",
            "ss_onehot shape: torch.Size([127, 4])\n",
            "phi_angles shape: torch.Size([127, 1])\n",
            "psi_angles shape: torch.Size([127, 1])\n",
            "b_factors shape: torch.Size([127, 1])\n",
            "Shape of labels: torch.Size([127])\n"
          ]
        },
        {
          "output_type": "stream",
          "name": "stderr",
          "text": [
            "\r 42%|████▏     | 424/1013 [01:12<01:08,  8.64it/s]"
          ]
        },
        {
          "output_type": "stream",
          "name": "stdout",
          "text": [
            "esm2_embeddings shape: torch.Size([121, 1280])\n",
            "ss_onehot shape: torch.Size([121, 4])\n",
            "phi_angles shape: torch.Size([121, 1])\n",
            "psi_angles shape: torch.Size([121, 1])\n",
            "b_factors shape: torch.Size([121, 1])\n",
            "Shape of labels: torch.Size([121])\n",
            "esm2_embeddings shape: torch.Size([133, 1280])\n",
            "ss_onehot shape: torch.Size([133, 4])\n",
            "phi_angles shape: torch.Size([133, 1])\n",
            "psi_angles shape: torch.Size([133, 1])\n",
            "b_factors shape: torch.Size([133, 1])\n",
            "Shape of labels: torch.Size([133])\n"
          ]
        },
        {
          "output_type": "stream",
          "name": "stderr",
          "text": [
            "\r 42%|████▏     | 426/1013 [01:13<01:14,  7.87it/s]"
          ]
        },
        {
          "output_type": "stream",
          "name": "stdout",
          "text": [
            "esm2_embeddings shape: torch.Size([201, 1280])\n",
            "ss_onehot shape: torch.Size([201, 4])\n",
            "phi_angles shape: torch.Size([201, 1])\n",
            "psi_angles shape: torch.Size([201, 1])\n",
            "b_factors shape: torch.Size([201, 1])\n",
            "Shape of labels: torch.Size([201])\n",
            "esm2_embeddings shape: torch.Size([186, 1280])\n",
            "ss_onehot shape: torch.Size([186, 4])\n",
            "phi_angles shape: torch.Size([186, 1])\n",
            "psi_angles shape: torch.Size([186, 1])\n",
            "b_factors shape: torch.Size([186, 1])\n",
            "Shape of labels: torch.Size([186])\n"
          ]
        },
        {
          "output_type": "stream",
          "name": "stderr",
          "text": [
            "\r 42%|████▏     | 427/1013 [01:13<01:17,  7.60it/s]"
          ]
        },
        {
          "output_type": "stream",
          "name": "stdout",
          "text": [
            "esm2_embeddings shape: torch.Size([186, 1280])\n",
            "ss_onehot shape: torch.Size([186, 4])\n",
            "phi_angles shape: torch.Size([186, 1])\n",
            "psi_angles shape: torch.Size([186, 1])\n",
            "b_factors shape: torch.Size([186, 1])\n",
            "Shape of labels: torch.Size([186])\n"
          ]
        },
        {
          "output_type": "stream",
          "name": "stderr",
          "text": [
            " 42%|████▏     | 429/1013 [01:13<01:51,  5.25it/s]"
          ]
        },
        {
          "output_type": "stream",
          "name": "stdout",
          "text": [
            "esm2_embeddings shape: torch.Size([136, 1280])\n",
            "ss_onehot shape: torch.Size([136, 4])\n",
            "phi_angles shape: torch.Size([136, 1])\n",
            "psi_angles shape: torch.Size([136, 1])\n",
            "b_factors shape: torch.Size([136, 1])\n",
            "Shape of labels: torch.Size([136])\n",
            "esm2_embeddings shape: torch.Size([148, 1280])\n",
            "ss_onehot shape: torch.Size([148, 4])\n",
            "phi_angles shape: torch.Size([148, 1])\n",
            "psi_angles shape: torch.Size([148, 1])\n",
            "b_factors shape: torch.Size([148, 1])\n",
            "Shape of labels: torch.Size([148])\n"
          ]
        },
        {
          "output_type": "stream",
          "name": "stderr",
          "text": [
            "\r 42%|████▏     | 430/1013 [01:13<01:47,  5.44it/s]"
          ]
        },
        {
          "output_type": "stream",
          "name": "stdout",
          "text": [
            "esm2_embeddings shape: torch.Size([195, 1280])\n",
            "ss_onehot shape: torch.Size([195, 4])\n",
            "phi_angles shape: torch.Size([195, 1])\n",
            "psi_angles shape: torch.Size([195, 1])\n",
            "b_factors shape: torch.Size([195, 1])\n",
            "Shape of labels: torch.Size([195])\n",
            "esm2_embeddings shape: torch.Size([73, 1280])\n",
            "ss_onehot shape: torch.Size([73, 4])\n",
            "phi_angles shape: torch.Size([73, 1])\n",
            "psi_angles shape: torch.Size([73, 1])\n",
            "b_factors shape: torch.Size([73, 1])\n",
            "Shape of labels: torch.Size([73])\n"
          ]
        },
        {
          "output_type": "stream",
          "name": "stderr",
          "text": [
            " 43%|████▎     | 434/1013 [01:14<01:18,  7.36it/s]"
          ]
        },
        {
          "output_type": "stream",
          "name": "stdout",
          "text": [
            "esm2_embeddings shape: torch.Size([224, 1280])\n",
            "ss_onehot shape: torch.Size([224, 4])\n",
            "phi_angles shape: torch.Size([224, 1])\n",
            "psi_angles shape: torch.Size([224, 1])\n",
            "b_factors shape: torch.Size([224, 1])\n",
            "Shape of labels: torch.Size([224])\n",
            "esm2_embeddings shape: torch.Size([98, 1280])\n",
            "ss_onehot shape: torch.Size([98, 4])\n",
            "phi_angles shape: torch.Size([98, 1])\n",
            "psi_angles shape: torch.Size([98, 1])\n",
            "b_factors shape: torch.Size([98, 1])\n",
            "Shape of labels: torch.Size([98])\n",
            "esm2_embeddings shape: torch.Size([169, 1280])\n",
            "ss_onehot shape: torch.Size([169, 4])\n",
            "phi_angles shape: torch.Size([169, 1])\n",
            "psi_angles shape: torch.Size([169, 1])\n",
            "b_factors shape: torch.Size([169, 1])\n",
            "Shape of labels: torch.Size([169])\n",
            "esm2_embeddings shape: torch.Size([97, 1280])\n",
            "ss_onehot shape: torch.Size([97, 4])\n",
            "phi_angles shape: torch.Size([97, 1])\n",
            "psi_angles shape: torch.Size([97, 1])\n",
            "b_factors shape: torch.Size([97, 1])\n",
            "Shape of labels: torch.Size([97])\n"
          ]
        },
        {
          "output_type": "stream",
          "name": "stderr",
          "text": [
            "\r 43%|████▎     | 436/1013 [01:15<01:54,  5.02it/s]"
          ]
        },
        {
          "output_type": "stream",
          "name": "stdout",
          "text": [
            "esm2_embeddings shape: torch.Size([465, 1280])\n",
            "ss_onehot shape: torch.Size([465, 4])\n",
            "phi_angles shape: torch.Size([465, 1])\n",
            "psi_angles shape: torch.Size([465, 1])\n",
            "b_factors shape: torch.Size([465, 1])\n",
            "Shape of labels: torch.Size([465])\n",
            "esm2_embeddings shape: torch.Size([78, 1280])\n",
            "ss_onehot shape: torch.Size([78, 4])\n",
            "phi_angles shape: torch.Size([78, 1])\n",
            "psi_angles shape: torch.Size([78, 1])\n",
            "b_factors shape: torch.Size([78, 1])\n",
            "Shape of labels: torch.Size([78])\n"
          ]
        },
        {
          "output_type": "stream",
          "name": "stderr",
          "text": [
            " 43%|████▎     | 440/1013 [01:15<01:24,  6.75it/s]"
          ]
        },
        {
          "output_type": "stream",
          "name": "stdout",
          "text": [
            "esm2_embeddings shape: torch.Size([235, 1280])\n",
            "ss_onehot shape: torch.Size([235, 4])\n",
            "phi_angles shape: torch.Size([235, 1])\n",
            "psi_angles shape: torch.Size([235, 1])\n",
            "b_factors shape: torch.Size([235, 1])\n",
            "Shape of labels: torch.Size([235])\n",
            "esm2_embeddings shape: torch.Size([70, 1280])\n",
            "ss_onehot shape: torch.Size([70, 4])\n",
            "phi_angles shape: torch.Size([70, 1])\n",
            "psi_angles shape: torch.Size([70, 1])\n",
            "b_factors shape: torch.Size([70, 1])\n",
            "Shape of labels: torch.Size([70])\n",
            "esm2_embeddings shape: torch.Size([151, 1280])\n",
            "ss_onehot shape: torch.Size([151, 4])\n",
            "phi_angles shape: torch.Size([151, 1])\n",
            "psi_angles shape: torch.Size([151, 1])\n",
            "b_factors shape: torch.Size([151, 1])\n",
            "Shape of labels: torch.Size([151])\n"
          ]
        },
        {
          "output_type": "stream",
          "name": "stderr",
          "text": [
            " 44%|████▎     | 442/1013 [01:16<01:51,  5.10it/s]"
          ]
        },
        {
          "output_type": "stream",
          "name": "stdout",
          "text": [
            "esm2_embeddings shape: torch.Size([101, 1280])\n",
            "ss_onehot shape: torch.Size([101, 4])\n",
            "phi_angles shape: torch.Size([101, 1])\n",
            "psi_angles shape: torch.Size([101, 1])\n",
            "b_factors shape: torch.Size([101, 1])\n",
            "Shape of labels: torch.Size([101])\n",
            "esm2_embeddings shape: torch.Size([192, 1280])\n",
            "ss_onehot shape: torch.Size([192, 4])\n",
            "phi_angles shape: torch.Size([192, 1])\n",
            "psi_angles shape: torch.Size([192, 1])\n",
            "b_factors shape: torch.Size([192, 1])\n",
            "Shape of labels: torch.Size([192])\n"
          ]
        },
        {
          "output_type": "stream",
          "name": "stderr",
          "text": [
            " 44%|████▍     | 444/1013 [01:16<01:33,  6.08it/s]"
          ]
        },
        {
          "output_type": "stream",
          "name": "stdout",
          "text": [
            "esm2_embeddings shape: torch.Size([156, 1280])\n",
            "ss_onehot shape: torch.Size([156, 4])\n",
            "phi_angles shape: torch.Size([156, 1])\n",
            "psi_angles shape: torch.Size([156, 1])\n",
            "b_factors shape: torch.Size([156, 1])\n",
            "Shape of labels: torch.Size([156])\n",
            "esm2_embeddings shape: torch.Size([160, 1280])\n",
            "ss_onehot shape: torch.Size([160, 4])\n",
            "phi_angles shape: torch.Size([160, 1])\n",
            "psi_angles shape: torch.Size([160, 1])\n",
            "b_factors shape: torch.Size([160, 1])\n",
            "Shape of labels: torch.Size([160])\n",
            "esm2_embeddings shape: torch.Size([114, 1280])\n",
            "ss_onehot shape: torch.Size([114, 4])\n",
            "phi_angles shape: torch.Size([114, 1])\n",
            "psi_angles shape: torch.Size([114, 1])\n",
            "b_factors shape: torch.Size([114, 1])\n"
          ]
        },
        {
          "output_type": "stream",
          "name": "stderr",
          "text": [
            "\r 44%|████▍     | 446/1013 [01:16<01:18,  7.25it/s]"
          ]
        },
        {
          "output_type": "stream",
          "name": "stdout",
          "text": [
            "Shape of labels: torch.Size([114])\n",
            "esm2_embeddings shape: torch.Size([163, 1280])\n",
            "ss_onehot shape: torch.Size([163, 4])\n",
            "phi_angles shape: torch.Size([163, 1])\n",
            "psi_angles shape: torch.Size([163, 1])\n",
            "b_factors shape: torch.Size([163, 1])\n",
            "Shape of labels: torch.Size([163])\n"
          ]
        },
        {
          "output_type": "stream",
          "name": "stderr",
          "text": [
            " 44%|████▍     | 449/1013 [01:16<01:03,  8.86it/s]"
          ]
        },
        {
          "output_type": "stream",
          "name": "stdout",
          "text": [
            "esm2_embeddings shape: torch.Size([135, 1280])\n",
            "ss_onehot shape: torch.Size([135, 4])\n",
            "phi_angles shape: torch.Size([135, 1])\n",
            "psi_angles shape: torch.Size([135, 1])\n",
            "b_factors shape: torch.Size([135, 1])\n",
            "Shape of labels: torch.Size([135])\n",
            "esm2_embeddings shape: torch.Size([98, 1280])\n",
            "ss_onehot shape: torch.Size([98, 4])\n",
            "phi_angles shape: torch.Size([98, 1])\n",
            "psi_angles shape: torch.Size([98, 1])\n",
            "b_factors shape: torch.Size([98, 1])\n",
            "Shape of labels: torch.Size([98])\n",
            "esm2_embeddings shape: torch.Size([142, 1280])\n",
            "ss_onehot shape: torch.Size([142, 4])\n",
            "phi_angles shape: torch.Size([142, 1])\n",
            "psi_angles shape: torch.Size([142, 1])\n",
            "b_factors shape: torch.Size([142, 1])\n",
            "Shape of labels: torch.Size([142])\n",
            "esm2_embeddings shape: torch.Size([60, 1280])\n",
            "ss_onehot shape: torch.Size([60, 4])\n",
            "phi_angles shape: torch.Size([60, 1])\n",
            "psi_angles shape: torch.Size([60, 1])\n",
            "b_factors shape: torch.Size([60, 1])\n",
            "Shape of labels: torch.Size([60])\n"
          ]
        },
        {
          "output_type": "stream",
          "name": "stderr",
          "text": [
            "\r 45%|████▍     | 451/1013 [01:17<01:11,  7.85it/s]"
          ]
        },
        {
          "output_type": "stream",
          "name": "stdout",
          "text": [
            "esm2_embeddings shape: torch.Size([289, 1280])\n",
            "ss_onehot shape: torch.Size([289, 4])\n",
            "phi_angles shape: torch.Size([289, 1])\n",
            "psi_angles shape: torch.Size([289, 1])\n",
            "b_factors shape: torch.Size([289, 1])\n",
            "Shape of labels: torch.Size([289])\n"
          ]
        },
        {
          "output_type": "stream",
          "name": "stderr",
          "text": [
            "\r 45%|████▍     | 452/1013 [01:17<01:26,  6.45it/s]"
          ]
        },
        {
          "output_type": "stream",
          "name": "stdout",
          "text": [
            "esm2_embeddings shape: torch.Size([286, 1280])\n",
            "ss_onehot shape: torch.Size([286, 4])\n",
            "phi_angles shape: torch.Size([286, 1])\n",
            "psi_angles shape: torch.Size([286, 1])\n",
            "b_factors shape: torch.Size([286, 1])\n",
            "Shape of labels: torch.Size([286])\n",
            "esm2_embeddings shape: torch.Size([123, 1280])\n",
            "ss_onehot shape: torch.Size([123, 4])\n",
            "phi_angles shape: torch.Size([123, 1])\n",
            "psi_angles shape: torch.Size([123, 1])\n",
            "b_factors shape: torch.Size([123, 1])\n",
            "Shape of labels: torch.Size([123])\n"
          ]
        },
        {
          "output_type": "stream",
          "name": "stderr",
          "text": [
            " 45%|████▌     | 456/1013 [01:18<01:43,  5.39it/s]"
          ]
        },
        {
          "output_type": "stream",
          "name": "stdout",
          "text": [
            "esm2_embeddings shape: torch.Size([266, 1280])\n",
            "ss_onehot shape: torch.Size([266, 4])\n",
            "phi_angles shape: torch.Size([266, 1])\n",
            "psi_angles shape: torch.Size([266, 1])\n",
            "b_factors shape: torch.Size([266, 1])\n",
            "Shape of labels: torch.Size([266])\n",
            "esm2_embeddings shape: torch.Size([93, 1280])\n",
            "ss_onehot shape: torch.Size([93, 4])\n",
            "phi_angles shape: torch.Size([93, 1])\n",
            "psi_angles shape: torch.Size([93, 1])\n",
            "b_factors shape: torch.Size([93, 1])\n",
            "Shape of labels: torch.Size([93])\n",
            "esm2_embeddings shape: torch.Size([180, 1280])\n",
            "ss_onehot shape: torch.Size([180, 4])\n",
            "phi_angles shape: torch.Size([180, 1])\n",
            "psi_angles shape: torch.Size([180, 1])\n",
            "b_factors shape: torch.Size([180, 1])\n",
            "Shape of labels: torch.Size([180])\n",
            "esm2_embeddings shape: torch.Size([86, 1280])\n",
            "ss_onehot shape: torch.Size([86, 4])\n",
            "phi_angles shape: torch.Size([86, 1])\n",
            "psi_angles shape: torch.Size([86, 1])\n",
            "b_factors shape: torch.Size([86, 1])\n",
            "Shape of labels: torch.Size([86])\n"
          ]
        },
        {
          "output_type": "stream",
          "name": "stderr",
          "text": [
            " 45%|████▌     | 459/1013 [01:18<01:26,  6.40it/s]"
          ]
        },
        {
          "output_type": "stream",
          "name": "stdout",
          "text": [
            "esm2_embeddings shape: torch.Size([235, 1280])\n",
            "ss_onehot shape: torch.Size([235, 4])\n",
            "phi_angles shape: torch.Size([235, 1])\n",
            "psi_angles shape: torch.Size([235, 1])\n",
            "b_factors shape: torch.Size([235, 1])\n",
            "Shape of labels: torch.Size([235])\n",
            "esm2_embeddings shape: torch.Size([147, 1280])\n",
            "ss_onehot shape: torch.Size([147, 4])\n",
            "phi_angles shape: torch.Size([147, 1])\n",
            "psi_angles shape: torch.Size([147, 1])\n",
            "b_factors shape: torch.Size([147, 1])\n",
            "Shape of labels: torch.Size([147])\n",
            "esm2_embeddings shape: torch.Size([103, 1280])\n",
            "ss_onehot shape: torch.Size([103, 4])\n",
            "phi_angles shape: torch.Size([103, 1])\n",
            "psi_angles shape: torch.Size([103, 1])\n",
            "b_factors shape: torch.Size([103, 1])\n",
            "Shape of labels: torch.Size([103])\n"
          ]
        },
        {
          "output_type": "stream",
          "name": "stderr",
          "text": [
            "\r 46%|████▌     | 461/1013 [01:18<01:13,  7.55it/s]"
          ]
        },
        {
          "output_type": "stream",
          "name": "stdout",
          "text": [
            "esm2_embeddings shape: torch.Size([147, 1280])\n",
            "ss_onehot shape: torch.Size([147, 4])\n",
            "phi_angles shape: torch.Size([147, 1])\n",
            "psi_angles shape: torch.Size([147, 1])\n",
            "b_factors shape: torch.Size([147, 1])\n",
            "Shape of labels: torch.Size([147])\n"
          ]
        },
        {
          "output_type": "stream",
          "name": "stderr",
          "text": [
            "\r 46%|████▌     | 462/1013 [01:19<01:32,  5.93it/s]"
          ]
        },
        {
          "output_type": "stream",
          "name": "stdout",
          "text": [
            "esm2_embeddings shape: torch.Size([317, 1280])\n",
            "ss_onehot shape: torch.Size([317, 4])\n",
            "phi_angles shape: torch.Size([317, 1])\n",
            "psi_angles shape: torch.Size([317, 1])\n",
            "b_factors shape: torch.Size([317, 1])\n",
            "Shape of labels: torch.Size([317])\n"
          ]
        },
        {
          "output_type": "stream",
          "name": "stderr",
          "text": [
            "\r 46%|████▌     | 463/1013 [01:19<01:55,  4.77it/s]"
          ]
        },
        {
          "output_type": "stream",
          "name": "stdout",
          "text": [
            "esm2_embeddings shape: torch.Size([345, 1280])\n",
            "ss_onehot shape: torch.Size([345, 4])\n",
            "phi_angles shape: torch.Size([345, 1])\n",
            "psi_angles shape: torch.Size([345, 1])\n",
            "b_factors shape: torch.Size([345, 1])\n",
            "Shape of labels: torch.Size([345])\n",
            "esm2_embeddings shape: torch.Size([130, 1280])\n",
            "ss_onehot shape: torch.Size([130, 4])\n",
            "phi_angles shape: torch.Size([130, 1])\n",
            "psi_angles shape: torch.Size([130, 1])\n",
            "b_factors shape: torch.Size([130, 1])\n",
            "Shape of labels: torch.Size([130])\n"
          ]
        },
        {
          "output_type": "stream",
          "name": "stderr",
          "text": [
            "\r 46%|████▌     | 465/1013 [01:20<02:09,  4.22it/s]"
          ]
        },
        {
          "output_type": "stream",
          "name": "stdout",
          "text": [
            "esm2_embeddings shape: torch.Size([86, 1280])\n",
            "ss_onehot shape: torch.Size([86, 4])\n",
            "phi_angles shape: torch.Size([86, 1])\n",
            "psi_angles shape: torch.Size([86, 1])\n",
            "b_factors shape: torch.Size([86, 1])\n",
            "Shape of labels: torch.Size([86])\n"
          ]
        },
        {
          "output_type": "stream",
          "name": "stderr",
          "text": [
            " 46%|████▌     | 468/1013 [01:20<01:37,  5.61it/s]"
          ]
        },
        {
          "output_type": "stream",
          "name": "stdout",
          "text": [
            "esm2_embeddings shape: torch.Size([274, 1280])\n",
            "ss_onehot shape: torch.Size([274, 4])\n",
            "phi_angles shape: torch.Size([274, 1])\n",
            "psi_angles shape: torch.Size([274, 1])\n",
            "b_factors shape: torch.Size([274, 1])\n",
            "Shape of labels: torch.Size([274])\n",
            "esm2_embeddings shape: torch.Size([97, 1280])\n",
            "ss_onehot shape: torch.Size([97, 4])\n",
            "phi_angles shape: torch.Size([97, 1])\n",
            "psi_angles shape: torch.Size([97, 1])\n",
            "b_factors shape: torch.Size([97, 1])\n",
            "Shape of labels: torch.Size([97])\n",
            "esm2_embeddings shape: torch.Size([135, 1280])\n",
            "ss_onehot shape: torch.Size([135, 4])\n",
            "phi_angles shape: torch.Size([135, 1])\n",
            "psi_angles shape: torch.Size([135, 1])\n",
            "b_factors shape: torch.Size([135, 1])\n",
            "Shape of labels: torch.Size([135])\n"
          ]
        },
        {
          "output_type": "stream",
          "name": "stderr",
          "text": [
            "\r 46%|████▋     | 469/1013 [01:20<01:33,  5.81it/s]"
          ]
        },
        {
          "output_type": "stream",
          "name": "stdout",
          "text": [
            "esm2_embeddings shape: torch.Size([177, 1280])\n",
            "ss_onehot shape: torch.Size([177, 4])\n",
            "phi_angles shape: torch.Size([177, 1])\n",
            "psi_angles shape: torch.Size([177, 1])\n",
            "b_factors shape: torch.Size([177, 1])\n",
            "Shape of labels: torch.Size([177])\n"
          ]
        },
        {
          "output_type": "stream",
          "name": "stderr",
          "text": [
            "\r 46%|████▋     | 470/1013 [01:20<01:39,  5.48it/s]"
          ]
        },
        {
          "output_type": "stream",
          "name": "stdout",
          "text": [
            "esm2_embeddings shape: torch.Size([240, 1280])\n",
            "ss_onehot shape: torch.Size([240, 4])\n",
            "phi_angles shape: torch.Size([240, 1])\n",
            "psi_angles shape: torch.Size([240, 1])\n",
            "b_factors shape: torch.Size([240, 1])\n",
            "Shape of labels: torch.Size([240])\n"
          ]
        },
        {
          "output_type": "stream",
          "name": "stderr",
          "text": [
            " 47%|████▋     | 472/1013 [01:21<01:40,  5.39it/s]"
          ]
        },
        {
          "output_type": "stream",
          "name": "stdout",
          "text": [
            "esm2_embeddings shape: torch.Size([289, 1280])\n",
            "ss_onehot shape: torch.Size([289, 4])\n",
            "phi_angles shape: torch.Size([289, 1])\n",
            "psi_angles shape: torch.Size([289, 1])\n",
            "b_factors shape: torch.Size([289, 1])\n",
            "Shape of labels: torch.Size([289])\n",
            "esm2_embeddings shape: torch.Size([172, 1280])\n",
            "ss_onehot shape: torch.Size([172, 4])\n",
            "phi_angles shape: torch.Size([172, 1])\n",
            "psi_angles shape: torch.Size([172, 1])\n",
            "b_factors shape: torch.Size([172, 1])\n",
            "Shape of labels: torch.Size([172])\n",
            "esm2_embeddings shape: torch.Size([37, 1280])\n",
            "ss_onehot shape: torch.Size([37, 4])\n",
            "phi_angles shape: torch.Size([37, 1])\n",
            "psi_angles shape: torch.Size([37, 1])\n",
            "b_factors shape: torch.Size([37, 1])\n",
            "Shape of labels: torch.Size([37])\n",
            "esm2_embeddings shape: torch.Size([46, 1280])\n",
            "ss_onehot shape: torch.Size([46, 4])\n",
            "phi_angles shape: torch.Size([46, 1])\n",
            "psi_angles shape: torch.Size([46, 1])\n",
            "b_factors shape: torch.Size([46, 1])\n",
            "Shape of labels: torch.Size([46])\n"
          ]
        },
        {
          "output_type": "stream",
          "name": "stderr",
          "text": [
            " 47%|████▋     | 478/1013 [01:21<00:47, 11.27it/s]"
          ]
        },
        {
          "output_type": "stream",
          "name": "stdout",
          "text": [
            "esm2_embeddings shape: torch.Size([44, 1280])\n",
            "ss_onehot shape: torch.Size([44, 4])\n",
            "phi_angles shape: torch.Size([44, 1])\n",
            "psi_angles shape: torch.Size([44, 1])\n",
            "b_factors shape: torch.Size([44, 1])\n",
            "Shape of labels: torch.Size([44])\n",
            "esm2_embeddings shape: torch.Size([49, 1280])\n",
            "ss_onehot shape: torch.Size([49, 4])\n",
            "phi_angles shape: torch.Size([49, 1])\n",
            "psi_angles shape: torch.Size([49, 1])\n",
            "b_factors shape: torch.Size([49, 1])\n",
            "Shape of labels: torch.Size([49])\n",
            "esm2_embeddings shape: torch.Size([169, 1280])\n",
            "ss_onehot shape: torch.Size([169, 4])\n",
            "phi_angles shape: torch.Size([169, 1])\n",
            "psi_angles shape: torch.Size([169, 1])\n",
            "b_factors shape: torch.Size([169, 1])\n",
            "Shape of labels: torch.Size([169])\n",
            "esm2_embeddings shape: torch.Size([40, 1280])\n",
            "ss_onehot shape: torch.Size([40, 4])\n",
            "phi_angles shape: torch.Size([40, 1])\n",
            "psi_angles shape: torch.Size([40, 1])\n",
            "b_factors shape: torch.Size([40, 1])\n",
            "Shape of labels: torch.Size([40])\n"
          ]
        },
        {
          "output_type": "stream",
          "name": "stderr",
          "text": [
            "\r 47%|████▋     | 480/1013 [01:21<00:42, 12.69it/s]"
          ]
        },
        {
          "output_type": "stream",
          "name": "stdout",
          "text": [
            "esm2_embeddings shape: torch.Size([94, 1280])\n",
            "ss_onehot shape: torch.Size([94, 4])\n",
            "phi_angles shape: torch.Size([94, 1])\n",
            "psi_angles shape: torch.Size([94, 1])\n",
            "b_factors shape: torch.Size([94, 1])\n",
            "Shape of labels: torch.Size([94])\n",
            "esm2_embeddings shape: torch.Size([68, 1280])\n",
            "ss_onehot shape: torch.Size([68, 4])\n",
            "phi_angles shape: torch.Size([68, 1])\n",
            "psi_angles shape: torch.Size([68, 1])\n",
            "b_factors shape: torch.Size([68, 1])\n",
            "Shape of labels: torch.Size([68])\n"
          ]
        },
        {
          "output_type": "stream",
          "name": "stderr",
          "text": [
            "\r 48%|████▊     | 482/1013 [01:22<01:25,  6.20it/s]"
          ]
        },
        {
          "output_type": "stream",
          "name": "stdout",
          "text": [
            "esm2_embeddings shape: torch.Size([236, 1280])\n",
            "ss_onehot shape: torch.Size([236, 4])\n",
            "phi_angles shape: torch.Size([236, 1])\n",
            "psi_angles shape: torch.Size([236, 1])\n",
            "b_factors shape: torch.Size([236, 1])\n",
            "Shape of labels: torch.Size([236])\n",
            "esm2_embeddings shape: torch.Size([153, 1280])\n",
            "ss_onehot shape: torch.Size([153, 4])\n",
            "phi_angles shape: torch.Size([153, 1])\n",
            "psi_angles shape: torch.Size([153, 1])\n",
            "b_factors shape: torch.Size([153, 1])\n",
            "Shape of labels: torch.Size([153])\n",
            "esm2_embeddings shape: torch.Size([95, 1280])\n",
            "ss_onehot shape: torch.Size([95, 4])\n",
            "phi_angles shape: torch.Size([95, 1])\n",
            "psi_angles shape: torch.Size([95, 1])\n",
            "b_factors shape: torch.Size([95, 1])\n",
            "Shape of labels: torch.Size([95])\n"
          ]
        },
        {
          "output_type": "stream",
          "name": "stderr",
          "text": [
            " 48%|████▊     | 486/1013 [01:22<01:07,  7.81it/s]"
          ]
        },
        {
          "output_type": "stream",
          "name": "stdout",
          "text": [
            "esm2_embeddings shape: torch.Size([196, 1280])\n",
            "ss_onehot shape: torch.Size([196, 4])\n",
            "phi_angles shape: torch.Size([196, 1])\n",
            "psi_angles shape: torch.Size([196, 1])\n",
            "b_factors shape: torch.Size([196, 1])\n",
            "Shape of labels: torch.Size([196])\n",
            "esm2_embeddings shape: torch.Size([92, 1280])\n",
            "ss_onehot shape: torch.Size([92, 4])\n",
            "phi_angles shape: torch.Size([92, 1])\n",
            "psi_angles shape: torch.Size([92, 1])\n",
            "b_factors shape: torch.Size([92, 1])\n",
            "Shape of labels: torch.Size([92])\n",
            "esm2_embeddings shape: torch.Size([104, 1280])\n",
            "ss_onehot shape: torch.Size([104, 4])\n",
            "phi_angles shape: torch.Size([104, 1])\n",
            "psi_angles shape: torch.Size([104, 1])\n",
            "b_factors shape: torch.Size([104, 1])\n",
            "Shape of labels: torch.Size([104])\n"
          ]
        },
        {
          "output_type": "stream",
          "name": "stderr",
          "text": [
            "\r 48%|████▊     | 488/1013 [01:23<01:05,  8.01it/s]"
          ]
        },
        {
          "output_type": "stream",
          "name": "stdout",
          "text": [
            "esm2_embeddings shape: torch.Size([165, 1280])\n",
            "ss_onehot shape: torch.Size([165, 4])\n",
            "phi_angles shape: torch.Size([165, 1])\n",
            "psi_angles shape: torch.Size([165, 1])\n",
            "b_factors shape: torch.Size([165, 1])\n",
            "Shape of labels: torch.Size([165])\n",
            "esm2_embeddings shape: torch.Size([137, 1280])\n",
            "ss_onehot shape: torch.Size([137, 4])\n",
            "phi_angles shape: torch.Size([137, 1])\n",
            "psi_angles shape: torch.Size([137, 1])\n",
            "b_factors shape: torch.Size([137, 1])\n",
            "Shape of labels: torch.Size([137])\n",
            "esm2_embeddings shape: torch.Size([106, 1280])\n",
            "ss_onehot shape: torch.Size([106, 4])\n",
            "phi_angles shape: torch.Size([106, 1])\n",
            "psi_angles shape: torch.Size([106, 1])\n",
            "b_factors shape: torch.Size([106, 1])\n",
            "Shape of labels: torch.Size([106])\n"
          ]
        },
        {
          "output_type": "stream",
          "name": "stderr",
          "text": [
            "\r 48%|████▊     | 490/1013 [01:23<00:59,  8.86it/s]"
          ]
        },
        {
          "output_type": "stream",
          "name": "stdout",
          "text": [
            "esm2_embeddings shape: torch.Size([128, 1280])\n",
            "ss_onehot shape: torch.Size([128, 4])\n",
            "phi_angles shape: torch.Size([128, 1])\n",
            "psi_angles shape: torch.Size([128, 1])\n",
            "b_factors shape: torch.Size([128, 1])\n",
            "Shape of labels: torch.Size([128])\n",
            "esm2_embeddings shape: torch.Size([191, 1280])\n",
            "ss_onehot shape: torch.Size([191, 4])\n",
            "phi_angles shape: torch.Size([191, 1])\n",
            "psi_angles shape: torch.Size([191, 1])\n",
            "b_factors shape: torch.Size([191, 1])\n",
            "Shape of labels: torch.Size([191])\n"
          ]
        },
        {
          "output_type": "stream",
          "name": "stderr",
          "text": [
            " 49%|████▉     | 494/1013 [01:23<00:53,  9.77it/s]"
          ]
        },
        {
          "output_type": "stream",
          "name": "stdout",
          "text": [
            "esm2_embeddings shape: torch.Size([117, 1280])\n",
            "ss_onehot shape: torch.Size([117, 4])\n",
            "phi_angles shape: torch.Size([117, 1])\n",
            "psi_angles shape: torch.Size([117, 1])\n",
            "b_factors shape: torch.Size([117, 1])\n",
            "Shape of labels: torch.Size([117])\n",
            "esm2_embeddings shape: torch.Size([119, 1280])\n",
            "ss_onehot shape: torch.Size([119, 4])\n",
            "phi_angles shape: torch.Size([119, 1])\n",
            "psi_angles shape: torch.Size([119, 1])\n",
            "b_factors shape: torch.Size([119, 1])\n",
            "Shape of labels: torch.Size([119])\n",
            "esm2_embeddings shape: torch.Size([72, 1280])\n",
            "ss_onehot shape: torch.Size([72, 4])\n",
            "phi_angles shape: torch.Size([72, 1])\n",
            "psi_angles shape: torch.Size([72, 1])\n",
            "b_factors shape: torch.Size([72, 1])\n",
            "Shape of labels: torch.Size([72])\n"
          ]
        },
        {
          "output_type": "stream",
          "name": "stderr",
          "text": [
            "\r 49%|████▉     | 496/1013 [01:23<00:50, 10.24it/s]"
          ]
        },
        {
          "output_type": "stream",
          "name": "stdout",
          "text": [
            "esm2_embeddings shape: torch.Size([148, 1280])\n",
            "ss_onehot shape: torch.Size([148, 4])\n",
            "phi_angles shape: torch.Size([148, 1])\n",
            "psi_angles shape: torch.Size([148, 1])\n",
            "b_factors shape: torch.Size([148, 1])\n",
            "Shape of labels: torch.Size([148])\n",
            "esm2_embeddings shape: torch.Size([94, 1280])\n",
            "ss_onehot shape: torch.Size([94, 4])\n",
            "phi_angles shape: torch.Size([94, 1])\n",
            "psi_angles shape: torch.Size([94, 1])\n",
            "b_factors shape: torch.Size([94, 1])\n",
            "Shape of labels: torch.Size([94])\n",
            "esm2_embeddings shape: torch.Size([324, 1280])\n",
            "ss_onehot shape: torch.Size([324, 4])\n",
            "phi_angles shape: torch.Size([324, 1])\n",
            "psi_angles shape: torch.Size([324, 1])\n",
            "b_factors shape: torch.Size([324, 1])\n",
            "Shape of labels: torch.Size([324])\n"
          ]
        },
        {
          "output_type": "stream",
          "name": "stderr",
          "text": [
            " 49%|████▉     | 499/1013 [01:24<01:45,  4.87it/s]"
          ]
        },
        {
          "output_type": "stream",
          "name": "stdout",
          "text": [
            "esm2_embeddings shape: torch.Size([248, 1280])\n",
            "ss_onehot shape: torch.Size([248, 4])\n",
            "phi_angles shape: torch.Size([248, 1])\n",
            "psi_angles shape: torch.Size([248, 1])\n",
            "b_factors shape: torch.Size([248, 1])\n",
            "Shape of labels: torch.Size([248])\n",
            "esm2_embeddings shape: torch.Size([215, 1280])\n",
            "ss_onehot shape: torch.Size([215, 4])\n",
            "phi_angles shape: torch.Size([215, 1])\n",
            "psi_angles shape: torch.Size([215, 1])\n",
            "b_factors shape: torch.Size([215, 1])\n",
            "Shape of labels: torch.Size([215])\n"
          ]
        },
        {
          "output_type": "stream",
          "name": "stderr",
          "text": [
            " 49%|████▉     | 501/1013 [01:25<01:35,  5.33it/s]"
          ]
        },
        {
          "output_type": "stream",
          "name": "stdout",
          "text": [
            "esm2_embeddings shape: torch.Size([162, 1280])\n",
            "ss_onehot shape: torch.Size([162, 4])\n",
            "phi_angles shape: torch.Size([162, 1])\n",
            "psi_angles shape: torch.Size([162, 1])\n",
            "b_factors shape: torch.Size([162, 1])\n",
            "Shape of labels: torch.Size([162])\n",
            "esm2_embeddings shape: torch.Size([209, 1280])\n",
            "ss_onehot shape: torch.Size([209, 4])\n",
            "phi_angles shape: torch.Size([209, 1])\n",
            "psi_angles shape: torch.Size([209, 1])\n",
            "b_factors shape: torch.Size([209, 1])\n",
            "Shape of labels: torch.Size([209])\n"
          ]
        },
        {
          "output_type": "stream",
          "name": "stderr",
          "text": [
            "\r 50%|████▉     | 503/1013 [01:25<01:22,  6.22it/s]"
          ]
        },
        {
          "output_type": "stream",
          "name": "stdout",
          "text": [
            "esm2_embeddings shape: torch.Size([94, 1280])\n",
            "ss_onehot shape: torch.Size([94, 4])\n",
            "phi_angles shape: torch.Size([94, 1])\n",
            "psi_angles shape: torch.Size([94, 1])\n",
            "b_factors shape: torch.Size([94, 1])\n",
            "Shape of labels: torch.Size([94])\n",
            "esm2_embeddings shape: torch.Size([216, 1280])\n",
            "ss_onehot shape: torch.Size([216, 4])\n",
            "phi_angles shape: torch.Size([216, 1])\n",
            "psi_angles shape: torch.Size([216, 1])\n",
            "b_factors shape: torch.Size([216, 1])\n",
            "Shape of labels: torch.Size([216])\n"
          ]
        },
        {
          "output_type": "stream",
          "name": "stderr",
          "text": [
            "\r 50%|████▉     | 504/1013 [01:25<01:24,  6.05it/s]"
          ]
        },
        {
          "output_type": "stream",
          "name": "stdout",
          "text": [
            "esm2_embeddings shape: torch.Size([220, 1280])\n",
            "ss_onehot shape: torch.Size([220, 4])\n",
            "phi_angles shape: torch.Size([220, 1])\n",
            "psi_angles shape: torch.Size([220, 1])\n",
            "b_factors shape: torch.Size([220, 1])\n",
            "Shape of labels: torch.Size([220])\n",
            "esm2_embeddings shape: torch.Size([78, 1280])\n",
            "ss_onehot shape: torch.Size([78, 4])\n",
            "phi_angles shape: torch.Size([78, 1])\n",
            "psi_angles shape: torch.Size([78, 1])\n",
            "b_factors shape: torch.Size([78, 1])\n",
            "Shape of labels: torch.Size([78])\n"
          ]
        },
        {
          "output_type": "stream",
          "name": "stderr",
          "text": [
            " 50%|█████     | 508/1013 [01:26<01:24,  6.01it/s]"
          ]
        },
        {
          "output_type": "stream",
          "name": "stdout",
          "text": [
            "esm2_embeddings shape: torch.Size([169, 1280])\n",
            "ss_onehot shape: torch.Size([169, 4])\n",
            "phi_angles shape: torch.Size([169, 1])\n",
            "psi_angles shape: torch.Size([169, 1])\n",
            "b_factors shape: torch.Size([169, 1])\n",
            "Shape of labels: torch.Size([169])\n",
            "esm2_embeddings shape: torch.Size([118, 1280])\n",
            "ss_onehot shape: torch.Size([118, 4])\n",
            "phi_angles shape: torch.Size([118, 1])\n",
            "psi_angles shape: torch.Size([118, 1])\n",
            "b_factors shape: torch.Size([118, 1])\n",
            "Shape of labels: torch.Size([118])\n",
            "esm2_embeddings shape: torch.Size([115, 1280])\n",
            "ss_onehot shape: torch.Size([115, 4])\n",
            "phi_angles shape: torch.Size([115, 1])\n",
            "psi_angles shape: torch.Size([115, 1])\n",
            "b_factors shape: torch.Size([115, 1])\n",
            "Shape of labels: torch.Size([115])\n"
          ]
        },
        {
          "output_type": "stream",
          "name": "stderr",
          "text": [
            " 50%|█████     | 511/1013 [01:26<01:12,  6.90it/s]"
          ]
        },
        {
          "output_type": "stream",
          "name": "stdout",
          "text": [
            "esm2_embeddings shape: torch.Size([233, 1280])\n",
            "ss_onehot shape: torch.Size([233, 4])\n",
            "phi_angles shape: torch.Size([233, 1])\n",
            "psi_angles shape: torch.Size([233, 1])\n",
            "b_factors shape: torch.Size([233, 1])\n",
            "Shape of labels: torch.Size([233])\n",
            "esm2_embeddings shape: torch.Size([103, 1280])\n",
            "ss_onehot shape: torch.Size([103, 4])\n",
            "phi_angles shape: torch.Size([103, 1])\n",
            "psi_angles shape: torch.Size([103, 1])\n",
            "b_factors shape: torch.Size([103, 1])\n",
            "Shape of labels: torch.Size([103])\n",
            "esm2_embeddings shape: torch.Size([149, 1280])\n",
            "ss_onehot shape: torch.Size([149, 4])\n",
            "phi_angles shape: torch.Size([149, 1])\n",
            "psi_angles shape: torch.Size([149, 1])\n",
            "b_factors shape: torch.Size([149, 1])\n",
            "Shape of labels: torch.Size([149])\n"
          ]
        },
        {
          "output_type": "stream",
          "name": "stderr",
          "text": [
            "\r 51%|█████     | 513/1013 [01:26<00:57,  8.65it/s]"
          ]
        },
        {
          "output_type": "stream",
          "name": "stdout",
          "text": [
            "esm2_embeddings shape: torch.Size([64, 1280])\n",
            "ss_onehot shape: torch.Size([64, 4])\n",
            "phi_angles shape: torch.Size([64, 1])\n",
            "psi_angles shape: torch.Size([64, 1])\n",
            "b_factors shape: torch.Size([64, 1])\n",
            "Shape of labels: torch.Size([64])\n",
            "esm2_embeddings shape: torch.Size([110, 1280])\n",
            "ss_onehot shape: torch.Size([110, 4])\n",
            "phi_angles shape: torch.Size([110, 1])\n",
            "psi_angles shape: torch.Size([110, 1])\n",
            "b_factors shape: torch.Size([110, 1])\n",
            "Shape of labels: torch.Size([110])\n",
            "esm2_embeddings shape: torch.Size([133, 1280])\n",
            "ss_onehot shape: torch.Size([133, 4])\n",
            "phi_angles shape: torch.Size([133, 1])\n",
            "psi_angles shape: torch.Size([133, 1])\n",
            "b_factors shape: torch.Size([133, 1])\n",
            "Shape of labels: torch.Size([133])\n"
          ]
        },
        {
          "output_type": "stream",
          "name": "stderr",
          "text": [
            "\r 51%|█████     | 515/1013 [01:27<00:50,  9.81it/s]"
          ]
        },
        {
          "output_type": "stream",
          "name": "stdout",
          "text": [
            "esm2_embeddings shape: torch.Size([90, 1280])\n",
            "ss_onehot shape: torch.Size([90, 4])\n",
            "phi_angles shape: torch.Size([90, 1])\n",
            "psi_angles shape: torch.Size([90, 1])\n",
            "b_factors shape: torch.Size([90, 1])\n",
            "Shape of labels: torch.Size([90])\n",
            "esm2_embeddings shape: torch.Size([104, 1280])\n",
            "ss_onehot shape: torch.Size([104, 4])\n",
            "phi_angles shape: torch.Size([104, 1])\n",
            "psi_angles shape: torch.Size([104, 1])\n",
            "b_factors shape: torch.Size([104, 1])\n",
            "Shape of labels: torch.Size([104])\n"
          ]
        },
        {
          "output_type": "stream",
          "name": "stderr",
          "text": [
            "\r 51%|█████     | 517/1013 [01:27<00:55,  8.92it/s]"
          ]
        },
        {
          "output_type": "stream",
          "name": "stdout",
          "text": [
            "esm2_embeddings shape: torch.Size([230, 1280])\n",
            "ss_onehot shape: torch.Size([230, 4])\n",
            "phi_angles shape: torch.Size([230, 1])\n",
            "psi_angles shape: torch.Size([230, 1])\n",
            "b_factors shape: torch.Size([230, 1])\n",
            "Shape of labels: torch.Size([230])\n",
            "esm2_embeddings shape: torch.Size([164, 1280])\n",
            "ss_onehot shape: torch.Size([164, 4])\n",
            "phi_angles shape: torch.Size([164, 1])\n",
            "psi_angles shape: torch.Size([164, 1])\n",
            "b_factors shape: torch.Size([164, 1])\n",
            "Shape of labels: torch.Size([164])\n"
          ]
        },
        {
          "output_type": "stream",
          "name": "stderr",
          "text": [
            "\r 51%|█████     | 519/1013 [01:27<01:03,  7.78it/s]"
          ]
        },
        {
          "output_type": "stream",
          "name": "stdout",
          "text": [
            "esm2_embeddings shape: torch.Size([210, 1280])\n",
            "ss_onehot shape: torch.Size([210, 4])\n",
            "phi_angles shape: torch.Size([210, 1])\n",
            "psi_angles shape: torch.Size([210, 1])\n",
            "b_factors shape: torch.Size([210, 1])\n",
            "Shape of labels: torch.Size([210])\n"
          ]
        },
        {
          "output_type": "stream",
          "name": "stderr",
          "text": [
            "\r 51%|█████▏    | 520/1013 [01:28<01:55,  4.27it/s]"
          ]
        },
        {
          "output_type": "stream",
          "name": "stdout",
          "text": [
            "esm2_embeddings shape: torch.Size([301, 1280])\n",
            "ss_onehot shape: torch.Size([301, 4])\n",
            "phi_angles shape: torch.Size([301, 1])\n",
            "psi_angles shape: torch.Size([301, 1])\n",
            "b_factors shape: torch.Size([301, 1])\n",
            "Shape of labels: torch.Size([301])\n"
          ]
        },
        {
          "output_type": "stream",
          "name": "stderr",
          "text": [
            "\r 51%|█████▏    | 521/1013 [01:28<02:02,  4.00it/s]"
          ]
        },
        {
          "output_type": "stream",
          "name": "stdout",
          "text": [
            "esm2_embeddings shape: torch.Size([309, 1280])\n",
            "ss_onehot shape: torch.Size([309, 4])\n",
            "phi_angles shape: torch.Size([309, 1])\n",
            "psi_angles shape: torch.Size([309, 1])\n",
            "b_factors shape: torch.Size([309, 1])\n",
            "Shape of labels: torch.Size([309])\n",
            "esm2_embeddings shape: torch.Size([122, 1280])\n",
            "ss_onehot shape: torch.Size([122, 4])\n",
            "phi_angles shape: torch.Size([122, 1])\n",
            "psi_angles shape: torch.Size([122, 1])\n",
            "b_factors shape: torch.Size([122, 1])\n",
            "Shape of labels: torch.Size([122])\n"
          ]
        },
        {
          "output_type": "stream",
          "name": "stderr",
          "text": [
            " 52%|█████▏    | 525/1013 [01:29<01:19,  6.12it/s]"
          ]
        },
        {
          "output_type": "stream",
          "name": "stdout",
          "text": [
            "esm2_embeddings shape: torch.Size([160, 1280])\n",
            "ss_onehot shape: torch.Size([160, 4])\n",
            "phi_angles shape: torch.Size([160, 1])\n",
            "psi_angles shape: torch.Size([160, 1])\n",
            "b_factors shape: torch.Size([160, 1])\n",
            "Shape of labels: torch.Size([160])\n",
            "esm2_embeddings shape: torch.Size([110, 1280])\n",
            "ss_onehot shape: torch.Size([110, 4])\n",
            "phi_angles shape: torch.Size([110, 1])\n",
            "psi_angles shape: torch.Size([110, 1])\n",
            "b_factors shape: torch.Size([110, 1])\n",
            "Shape of labels: torch.Size([110])\n",
            "esm2_embeddings shape: torch.Size([161, 1280])\n",
            "ss_onehot shape: torch.Size([161, 4])\n",
            "phi_angles shape: torch.Size([161, 1])\n",
            "psi_angles shape: torch.Size([161, 1])\n",
            "b_factors shape: torch.Size([161, 1])\n",
            "Shape of labels: torch.Size([161])\n"
          ]
        },
        {
          "output_type": "stream",
          "name": "stderr",
          "text": [
            " 52%|█████▏    | 528/1013 [01:29<01:01,  7.93it/s]"
          ]
        },
        {
          "output_type": "stream",
          "name": "stdout",
          "text": [
            "esm2_embeddings shape: torch.Size([157, 1280])\n",
            "ss_onehot shape: torch.Size([157, 4])\n",
            "phi_angles shape: torch.Size([157, 1])\n",
            "psi_angles shape: torch.Size([157, 1])\n",
            "b_factors shape: torch.Size([157, 1])\n",
            "Shape of labels: torch.Size([157])\n",
            "esm2_embeddings shape: torch.Size([83, 1280])\n",
            "ss_onehot shape: torch.Size([83, 4])\n",
            "phi_angles shape: torch.Size([83, 1])\n",
            "psi_angles shape: torch.Size([83, 1])\n",
            "b_factors shape: torch.Size([83, 1])\n",
            "Shape of labels: torch.Size([83])\n",
            "esm2_embeddings shape: torch.Size([148, 1280])\n",
            "ss_onehot shape: torch.Size([148, 4])\n",
            "phi_angles shape: torch.Size([148, 1])\n",
            "psi_angles shape: torch.Size([148, 1])\n",
            "b_factors shape: torch.Size([148, 1])\n",
            "Shape of labels: torch.Size([148])\n"
          ]
        },
        {
          "output_type": "stream",
          "name": "stderr",
          "text": [
            "\r 52%|█████▏    | 530/1013 [01:29<00:52,  9.18it/s]"
          ]
        },
        {
          "output_type": "stream",
          "name": "stdout",
          "text": [
            "esm2_embeddings shape: torch.Size([126, 1280])\n",
            "ss_onehot shape: torch.Size([126, 4])\n",
            "phi_angles shape: torch.Size([126, 1])\n",
            "psi_angles shape: torch.Size([126, 1])\n",
            "b_factors shape: torch.Size([126, 1])\n",
            "Shape of labels: torch.Size([126])\n",
            "esm2_embeddings shape: torch.Size([88, 1280])\n",
            "ss_onehot shape: torch.Size([88, 4])\n",
            "phi_angles shape: torch.Size([88, 1])\n",
            "psi_angles shape: torch.Size([88, 1])\n",
            "b_factors shape: torch.Size([88, 1])\n",
            "Shape of labels: torch.Size([88])\n",
            "esm2_embeddings shape: torch.Size([148, 1280])\n",
            "ss_onehot shape: torch.Size([148, 4])\n",
            "phi_angles shape: torch.Size([148, 1])\n",
            "psi_angles shape: torch.Size([148, 1])\n",
            "b_factors shape: torch.Size([148, 1])\n",
            "Shape of labels: torch.Size([148])\n"
          ]
        },
        {
          "output_type": "stream",
          "name": "stderr",
          "text": [
            " 53%|█████▎    | 534/1013 [01:29<00:42, 11.20it/s]"
          ]
        },
        {
          "output_type": "stream",
          "name": "stdout",
          "text": [
            "esm2_embeddings shape: torch.Size([131, 1280])\n",
            "ss_onehot shape: torch.Size([131, 4])\n",
            "phi_angles shape: torch.Size([131, 1])\n",
            "psi_angles shape: torch.Size([131, 1])\n",
            "b_factors shape: torch.Size([131, 1])\n",
            "Shape of labels: torch.Size([131])\n",
            "esm2_embeddings shape: torch.Size([101, 1280])\n",
            "ss_onehot shape: torch.Size([101, 4])\n",
            "phi_angles shape: torch.Size([101, 1])\n",
            "psi_angles shape: torch.Size([101, 1])\n",
            "b_factors shape: torch.Size([101, 1])\n",
            "Shape of labels: torch.Size([101])\n",
            "esm2_embeddings shape: torch.Size([60, 1280])\n",
            "ss_onehot shape: torch.Size([60, 4])\n",
            "phi_angles shape: torch.Size([60, 1])\n",
            "psi_angles shape: torch.Size([60, 1])\n",
            "b_factors shape: torch.Size([60, 1])\n",
            "Shape of labels: torch.Size([60])\n",
            "esm2_embeddings shape: torch.Size([110, 1280])\n",
            "ss_onehot shape: torch.Size([110, 4])\n",
            "phi_angles shape: torch.Size([110, 1])\n",
            "psi_angles shape: torch.Size([110, 1])\n",
            "b_factors shape: torch.Size([110, 1])\n",
            "Shape of labels: torch.Size([110])\n"
          ]
        },
        {
          "output_type": "stream",
          "name": "stderr",
          "text": [
            "\r 53%|█████▎    | 536/1013 [01:29<00:42, 11.18it/s]"
          ]
        },
        {
          "output_type": "stream",
          "name": "stdout",
          "text": [
            "esm2_embeddings shape: torch.Size([138, 1280])\n",
            "ss_onehot shape: torch.Size([138, 4])\n",
            "phi_angles shape: torch.Size([138, 1])\n",
            "psi_angles shape: torch.Size([138, 1])\n",
            "b_factors shape: torch.Size([138, 1])\n",
            "Shape of labels: torch.Size([138])\n"
          ]
        },
        {
          "output_type": "stream",
          "name": "stderr",
          "text": [
            "\r 53%|█████▎    | 538/1013 [01:30<01:10,  6.79it/s]"
          ]
        },
        {
          "output_type": "stream",
          "name": "stdout",
          "text": [
            "esm2_embeddings shape: torch.Size([131, 1280])\n",
            "ss_onehot shape: torch.Size([131, 4])\n",
            "phi_angles shape: torch.Size([131, 1])\n",
            "psi_angles shape: torch.Size([131, 1])\n",
            "b_factors shape: torch.Size([131, 1])\n",
            "Shape of labels: torch.Size([131])\n",
            "esm2_embeddings shape: torch.Size([91, 1280])\n",
            "ss_onehot shape: torch.Size([91, 4])\n",
            "phi_angles shape: torch.Size([91, 1])\n",
            "psi_angles shape: torch.Size([91, 1])\n",
            "b_factors shape: torch.Size([91, 1])\n",
            "Shape of labels: torch.Size([91])\n",
            "esm2_embeddings shape: torch.Size([138, 1280])\n",
            "ss_onehot shape: torch.Size([138, 4])\n",
            "phi_angles shape: torch.Size([138, 1])\n",
            "psi_angles shape: torch.Size([138, 1])\n",
            "b_factors shape: torch.Size([138, 1])\n",
            "Shape of labels: torch.Size([138])\n"
          ]
        },
        {
          "output_type": "stream",
          "name": "stderr",
          "text": [
            "\r 53%|█████▎    | 540/1013 [01:30<01:13,  6.41it/s]"
          ]
        },
        {
          "output_type": "stream",
          "name": "stdout",
          "text": [
            "esm2_embeddings shape: torch.Size([277, 1280])\n",
            "ss_onehot shape: torch.Size([277, 4])\n",
            "phi_angles shape: torch.Size([277, 1])\n",
            "psi_angles shape: torch.Size([277, 1])\n",
            "b_factors shape: torch.Size([277, 1])\n",
            "Shape of labels: torch.Size([277])\n",
            "esm2_embeddings shape: torch.Size([121, 1280])\n",
            "ss_onehot shape: torch.Size([121, 4])\n",
            "phi_angles shape: torch.Size([121, 1])\n",
            "psi_angles shape: torch.Size([121, 1])\n",
            "b_factors shape: torch.Size([121, 1])\n",
            "Shape of labels: torch.Size([121])\n"
          ]
        },
        {
          "output_type": "stream",
          "name": "stderr",
          "text": [
            "\r 54%|█████▎    | 542/1013 [01:31<01:06,  7.07it/s]"
          ]
        },
        {
          "output_type": "stream",
          "name": "stdout",
          "text": [
            "esm2_embeddings shape: torch.Size([182, 1280])\n",
            "ss_onehot shape: torch.Size([182, 4])\n",
            "phi_angles shape: torch.Size([182, 1])\n",
            "psi_angles shape: torch.Size([182, 1])\n",
            "b_factors shape: torch.Size([182, 1])\n",
            "Shape of labels: torch.Size([182])\n",
            "esm2_embeddings shape: torch.Size([113, 1280])\n",
            "ss_onehot shape: torch.Size([113, 4])\n",
            "phi_angles shape: torch.Size([113, 1])\n",
            "psi_angles shape: torch.Size([113, 1])\n",
            "b_factors shape: torch.Size([113, 1])\n",
            "Shape of labels: torch.Size([113])\n"
          ]
        },
        {
          "output_type": "stream",
          "name": "stderr",
          "text": [
            " 54%|█████▍    | 546/1013 [01:31<00:51,  9.04it/s]"
          ]
        },
        {
          "output_type": "stream",
          "name": "stdout",
          "text": [
            "esm2_embeddings shape: torch.Size([195, 1280])\n",
            "ss_onehot shape: torch.Size([195, 4])\n",
            "phi_angles shape: torch.Size([195, 1])\n",
            "psi_angles shape: torch.Size([195, 1])\n",
            "b_factors shape: torch.Size([195, 1])\n",
            "Shape of labels: torch.Size([195])\n",
            "esm2_embeddings shape: torch.Size([127, 1280])\n",
            "ss_onehot shape: torch.Size([127, 4])\n",
            "phi_angles shape: torch.Size([127, 1])\n",
            "psi_angles shape: torch.Size([127, 1])\n",
            "b_factors shape: torch.Size([127, 1])\n",
            "Shape of labels: torch.Size([127])\n",
            "esm2_embeddings shape: torch.Size([46, 1280])\n",
            "ss_onehot shape: torch.Size([46, 4])\n",
            "phi_angles shape: torch.Size([46, 1])\n",
            "psi_angles shape: torch.Size([46, 1])\n",
            "b_factors shape: torch.Size([46, 1])\n",
            "Shape of labels: torch.Size([46])\n",
            "esm2_embeddings shape: torch.Size([57, 1280])\n",
            "ss_onehot shape: torch.Size([57, 4])\n",
            "phi_angles shape: torch.Size([57, 1])\n",
            "psi_angles shape: torch.Size([57, 1])\n",
            "b_factors shape: torch.Size([57, 1])\n",
            "Shape of labels: torch.Size([57])\n"
          ]
        },
        {
          "output_type": "stream",
          "name": "stderr",
          "text": [
            "\r 54%|█████▍    | 548/1013 [01:31<00:43, 10.77it/s]"
          ]
        },
        {
          "output_type": "stream",
          "name": "stdout",
          "text": [
            "esm2_embeddings shape: torch.Size([94, 1280])\n",
            "ss_onehot shape: torch.Size([94, 4])\n",
            "phi_angles shape: torch.Size([94, 1])\n",
            "psi_angles shape: torch.Size([94, 1])\n",
            "b_factors shape: torch.Size([94, 1])\n",
            "Shape of labels: torch.Size([94])\n",
            "esm2_embeddings shape: torch.Size([217, 1280])\n",
            "ss_onehot shape: torch.Size([217, 4])\n",
            "phi_angles shape: torch.Size([217, 1])\n",
            "psi_angles shape: torch.Size([217, 1])\n",
            "b_factors shape: torch.Size([217, 1])\n",
            "Shape of labels: torch.Size([217])\n"
          ]
        },
        {
          "output_type": "stream",
          "name": "stderr",
          "text": [
            " 54%|█████▍    | 552/1013 [01:32<00:47,  9.64it/s]"
          ]
        },
        {
          "output_type": "stream",
          "name": "stdout",
          "text": [
            "esm2_embeddings shape: torch.Size([169, 1280])\n",
            "ss_onehot shape: torch.Size([217, 4])\n",
            "phi_angles shape: torch.Size([216, 1])\n",
            "psi_angles shape: torch.Size([216, 1])\n",
            "b_factors shape: torch.Size([217, 1])\n",
            "Shape of labels: torch.Size([169])\n",
            "esm2_embeddings shape: torch.Size([128, 1280])\n",
            "ss_onehot shape: torch.Size([128, 4])\n",
            "phi_angles shape: torch.Size([128, 1])\n",
            "psi_angles shape: torch.Size([128, 1])\n",
            "b_factors shape: torch.Size([128, 1])\n",
            "Shape of labels: torch.Size([128])\n",
            "esm2_embeddings shape: torch.Size([84, 1280])\n",
            "ss_onehot shape: torch.Size([84, 4])\n",
            "phi_angles shape: torch.Size([84, 1])\n",
            "psi_angles shape: torch.Size([84, 1])\n",
            "b_factors shape: torch.Size([84, 1])\n",
            "Shape of labels: torch.Size([84])\n"
          ]
        },
        {
          "output_type": "stream",
          "name": "stderr",
          "text": [
            "\r 55%|█████▍    | 554/1013 [01:32<00:42, 10.76it/s]"
          ]
        },
        {
          "output_type": "stream",
          "name": "stdout",
          "text": [
            "esm2_embeddings shape: torch.Size([112, 1280])\n",
            "ss_onehot shape: torch.Size([112, 4])\n",
            "phi_angles shape: torch.Size([112, 1])\n",
            "psi_angles shape: torch.Size([112, 1])\n",
            "b_factors shape: torch.Size([112, 1])\n",
            "Shape of labels: torch.Size([112])\n",
            "esm2_embeddings shape: torch.Size([63, 1280])\n",
            "ss_onehot shape: torch.Size([63, 4])\n",
            "phi_angles shape: torch.Size([63, 1])\n",
            "psi_angles shape: torch.Size([63, 1])\n",
            "b_factors shape: torch.Size([63, 1])\n",
            "Shape of labels: torch.Size([63])\n",
            "esm2_embeddings shape: torch.Size([135, 1280])\n",
            "ss_onehot shape: torch.Size([135, 4])\n",
            "phi_angles shape: torch.Size([135, 1])\n",
            "psi_angles shape: torch.Size([135, 1])\n",
            "b_factors shape: torch.Size([135, 1])\n",
            "Shape of labels: torch.Size([135])\n"
          ]
        },
        {
          "output_type": "stream",
          "name": "stderr",
          "text": [
            "\r 55%|█████▍    | 556/1013 [01:32<01:13,  6.19it/s]"
          ]
        },
        {
          "output_type": "stream",
          "name": "stdout",
          "text": [
            "esm2_embeddings shape: torch.Size([189, 1280])\n",
            "ss_onehot shape: torch.Size([189, 4])\n",
            "phi_angles shape: torch.Size([189, 1])\n",
            "psi_angles shape: torch.Size([189, 1])\n",
            "b_factors shape: torch.Size([189, 1])\n",
            "Shape of labels: torch.Size([189])\n"
          ]
        },
        {
          "output_type": "stream",
          "name": "stderr",
          "text": [
            " 55%|█████▌    | 558/1013 [01:33<01:16,  5.98it/s]"
          ]
        },
        {
          "output_type": "stream",
          "name": "stdout",
          "text": [
            "esm2_embeddings shape: torch.Size([297, 1280])\n",
            "ss_onehot shape: torch.Size([297, 4])\n",
            "phi_angles shape: torch.Size([297, 1])\n",
            "psi_angles shape: torch.Size([297, 1])\n",
            "b_factors shape: torch.Size([297, 1])\n",
            "Shape of labels: torch.Size([297])\n",
            "esm2_embeddings shape: torch.Size([151, 1280])\n",
            "ss_onehot shape: torch.Size([151, 4])\n",
            "phi_angles shape: torch.Size([151, 1])\n",
            "psi_angles shape: torch.Size([151, 1])\n",
            "b_factors shape: torch.Size([151, 1])\n",
            "Shape of labels: torch.Size([151])\n"
          ]
        },
        {
          "output_type": "stream",
          "name": "stderr",
          "text": [
            "\r 55%|█████▌    | 559/1013 [01:33<01:11,  6.36it/s]"
          ]
        },
        {
          "output_type": "stream",
          "name": "stdout",
          "text": [
            "esm2_embeddings shape: torch.Size([148, 1280])\n",
            "ss_onehot shape: torch.Size([148, 4])\n",
            "phi_angles shape: torch.Size([148, 1])\n",
            "psi_angles shape: torch.Size([148, 1])\n",
            "b_factors shape: torch.Size([148, 1])\n",
            "Shape of labels: torch.Size([148])\n",
            "esm2_embeddings shape: torch.Size([123, 1280])\n",
            "ss_onehot shape: torch.Size([123, 4])\n",
            "phi_angles shape: torch.Size([123, 1])\n",
            "psi_angles shape: torch.Size([123, 1])\n",
            "b_factors shape: torch.Size([123, 1])\n",
            "Shape of labels: torch.Size([123])\n"
          ]
        },
        {
          "output_type": "stream",
          "name": "stderr",
          "text": [
            " 56%|█████▌    | 563/1013 [01:33<00:54,  8.29it/s]"
          ]
        },
        {
          "output_type": "stream",
          "name": "stdout",
          "text": [
            "esm2_embeddings shape: torch.Size([146, 1280])\n",
            "ss_onehot shape: torch.Size([146, 4])\n",
            "phi_angles shape: torch.Size([146, 1])\n",
            "psi_angles shape: torch.Size([146, 1])\n",
            "b_factors shape: torch.Size([146, 1])\n",
            "Shape of labels: torch.Size([146])\n",
            "esm2_embeddings shape: torch.Size([122, 1280])\n",
            "ss_onehot shape: torch.Size([122, 4])\n",
            "phi_angles shape: torch.Size([122, 1])\n",
            "psi_angles shape: torch.Size([122, 1])\n",
            "b_factors shape: torch.Size([122, 1])\n",
            "Shape of labels: torch.Size([122])\n",
            "esm2_embeddings shape: torch.Size([142, 1280])\n",
            "ss_onehot shape: torch.Size([142, 4])\n",
            "phi_angles shape: torch.Size([142, 1])\n",
            "psi_angles shape: torch.Size([142, 1])\n",
            "b_factors shape: torch.Size([142, 1])\n",
            "Shape of labels: torch.Size([142])\n"
          ]
        },
        {
          "output_type": "stream",
          "name": "stderr",
          "text": [
            "\r 56%|█████▌    | 564/1013 [01:33<00:55,  8.09it/s]"
          ]
        },
        {
          "output_type": "stream",
          "name": "stdout",
          "text": [
            "esm2_embeddings shape: torch.Size([175, 1280])\n",
            "ss_onehot shape: torch.Size([175, 4])\n",
            "phi_angles shape: torch.Size([175, 1])\n",
            "psi_angles shape: torch.Size([175, 1])\n",
            "b_factors shape: torch.Size([175, 1])\n",
            "Shape of labels: torch.Size([175])\n",
            "esm2_embeddings shape: torch.Size([142, 1280])\n",
            "ss_onehot shape: torch.Size([142, 4])\n",
            "phi_angles shape: torch.Size([142, 1])\n",
            "psi_angles shape: torch.Size([142, 1])\n",
            "b_factors shape: torch.Size([142, 1])\n",
            "Shape of labels: torch.Size([142])\n"
          ]
        },
        {
          "output_type": "stream",
          "name": "stderr",
          "text": [
            "\r 56%|█████▌    | 566/1013 [01:34<01:43,  4.33it/s]"
          ]
        },
        {
          "output_type": "stream",
          "name": "stdout",
          "text": [
            "esm2_embeddings shape: torch.Size([323, 1280])\n",
            "ss_onehot shape: torch.Size([323, 4])\n",
            "phi_angles shape: torch.Size([323, 1])\n",
            "psi_angles shape: torch.Size([323, 1])\n",
            "b_factors shape: torch.Size([323, 1])\n",
            "Shape of labels: torch.Size([323])\n"
          ]
        },
        {
          "output_type": "stream",
          "name": "stderr",
          "text": [
            " 56%|█████▌    | 568/1013 [01:35<01:36,  4.63it/s]"
          ]
        },
        {
          "output_type": "stream",
          "name": "stdout",
          "text": [
            "esm2_embeddings shape: torch.Size([295, 1280])\n",
            "ss_onehot shape: torch.Size([295, 4])\n",
            "phi_angles shape: torch.Size([295, 1])\n",
            "psi_angles shape: torch.Size([295, 1])\n",
            "b_factors shape: torch.Size([295, 1])\n",
            "Shape of labels: torch.Size([295])\n",
            "esm2_embeddings shape: torch.Size([162, 1280])\n",
            "ss_onehot shape: torch.Size([162, 4])\n",
            "phi_angles shape: torch.Size([162, 1])\n",
            "psi_angles shape: torch.Size([162, 1])\n",
            "b_factors shape: torch.Size([162, 1])\n",
            "Shape of labels: torch.Size([162])\n"
          ]
        },
        {
          "output_type": "stream",
          "name": "stderr",
          "text": [
            " 56%|█████▋    | 570/1013 [01:35<01:34,  4.67it/s]"
          ]
        },
        {
          "output_type": "stream",
          "name": "stdout",
          "text": [
            "esm2_embeddings shape: torch.Size([271, 1280])\n",
            "ss_onehot shape: torch.Size([271, 4])\n",
            "phi_angles shape: torch.Size([271, 1])\n",
            "psi_angles shape: torch.Size([271, 1])\n",
            "b_factors shape: torch.Size([271, 1])\n",
            "Shape of labels: torch.Size([271])\n",
            "esm2_embeddings shape: torch.Size([216, 1280])\n",
            "ss_onehot shape: torch.Size([216, 4])\n",
            "phi_angles shape: torch.Size([216, 1])\n",
            "psi_angles shape: torch.Size([216, 1])\n",
            "b_factors shape: torch.Size([216, 1])\n",
            "Shape of labels: torch.Size([216])\n"
          ]
        },
        {
          "output_type": "stream",
          "name": "stderr",
          "text": [
            "\r 56%|█████▋    | 571/1013 [01:35<01:22,  5.35it/s]"
          ]
        },
        {
          "output_type": "stream",
          "name": "stdout",
          "text": [
            "esm2_embeddings shape: torch.Size([147, 1280])\n",
            "ss_onehot shape: torch.Size([147, 4])\n",
            "phi_angles shape: torch.Size([147, 1])\n",
            "psi_angles shape: torch.Size([147, 1])\n",
            "b_factors shape: torch.Size([147, 1])\n",
            "Shape of labels: torch.Size([147])\n"
          ]
        },
        {
          "output_type": "stream",
          "name": "stderr",
          "text": [
            "\r 56%|█████▋    | 572/1013 [01:35<01:24,  5.21it/s]"
          ]
        },
        {
          "output_type": "stream",
          "name": "stdout",
          "text": [
            "esm2_embeddings shape: torch.Size([236, 1280])\n",
            "ss_onehot shape: torch.Size([236, 4])\n",
            "phi_angles shape: torch.Size([236, 1])\n",
            "psi_angles shape: torch.Size([236, 1])\n",
            "b_factors shape: torch.Size([236, 1])\n",
            "Shape of labels: torch.Size([236])\n"
          ]
        },
        {
          "output_type": "stream",
          "name": "stderr",
          "text": [
            "\r 57%|█████▋    | 573/1013 [01:36<01:38,  4.46it/s]"
          ]
        },
        {
          "output_type": "stream",
          "name": "stdout",
          "text": [
            "esm2_embeddings shape: torch.Size([302, 1280])\n",
            "ss_onehot shape: torch.Size([302, 4])\n",
            "phi_angles shape: torch.Size([302, 1])\n",
            "psi_angles shape: torch.Size([302, 1])\n",
            "b_factors shape: torch.Size([302, 1])\n",
            "Shape of labels: torch.Size([302])\n"
          ]
        },
        {
          "output_type": "stream",
          "name": "stderr",
          "text": [
            " 57%|█████▋    | 575/1013 [01:36<01:54,  3.81it/s]"
          ]
        },
        {
          "output_type": "stream",
          "name": "stdout",
          "text": [
            "esm2_embeddings shape: torch.Size([149, 1280])\n",
            "ss_onehot shape: torch.Size([149, 4])\n",
            "phi_angles shape: torch.Size([149, 1])\n",
            "psi_angles shape: torch.Size([149, 1])\n",
            "b_factors shape: torch.Size([149, 1])\n",
            "Shape of labels: torch.Size([149])\n",
            "esm2_embeddings shape: torch.Size([195, 1280])\n",
            "ss_onehot shape: torch.Size([195, 4])\n",
            "phi_angles shape: torch.Size([195, 1])\n",
            "psi_angles shape: torch.Size([195, 1])\n",
            "b_factors shape: torch.Size([195, 1])\n",
            "Shape of labels: torch.Size([195])\n",
            "esm2_embeddings shape: torch.Size([127, 1280])\n",
            "ss_onehot shape: torch.Size([127, 4])\n",
            "phi_angles shape: torch.Size([127, 1])\n",
            "psi_angles shape: torch.Size([127, 1])\n",
            "b_factors shape: torch.Size([127, 1])\n",
            "Shape of labels: torch.Size([127])\n"
          ]
        },
        {
          "output_type": "stream",
          "name": "stderr",
          "text": [
            " 57%|█████▋    | 579/1013 [01:37<01:15,  5.75it/s]"
          ]
        },
        {
          "output_type": "stream",
          "name": "stdout",
          "text": [
            "esm2_embeddings shape: torch.Size([283, 1280])\n",
            "ss_onehot shape: torch.Size([283, 4])\n",
            "phi_angles shape: torch.Size([283, 1])\n",
            "psi_angles shape: torch.Size([283, 1])\n",
            "b_factors shape: torch.Size([283, 1])\n",
            "Shape of labels: torch.Size([283])\n",
            "esm2_embeddings shape: torch.Size([122, 1280])\n",
            "ss_onehot shape: torch.Size([122, 4])\n",
            "phi_angles shape: torch.Size([122, 1])\n",
            "psi_angles shape: torch.Size([122, 1])\n",
            "b_factors shape: torch.Size([122, 1])\n",
            "Shape of labels: torch.Size([122])\n",
            "esm2_embeddings shape: torch.Size([146, 1280])\n",
            "ss_onehot shape: torch.Size([146, 4])\n",
            "phi_angles shape: torch.Size([146, 1])\n",
            "psi_angles shape: torch.Size([146, 1])\n",
            "b_factors shape: torch.Size([146, 1])\n",
            "Shape of labels: torch.Size([146])\n"
          ]
        },
        {
          "output_type": "stream",
          "name": "stderr",
          "text": [
            "\r 57%|█████▋    | 581/1013 [01:37<01:04,  6.70it/s]"
          ]
        },
        {
          "output_type": "stream",
          "name": "stdout",
          "text": [
            "esm2_embeddings shape: torch.Size([103, 1280])\n",
            "ss_onehot shape: torch.Size([103, 4])\n",
            "phi_angles shape: torch.Size([103, 1])\n",
            "psi_angles shape: torch.Size([103, 1])\n",
            "b_factors shape: torch.Size([103, 1])\n",
            "Shape of labels: torch.Size([103])\n",
            "esm2_embeddings shape: torch.Size([180, 1280])\n",
            "ss_onehot shape: torch.Size([180, 4])\n",
            "phi_angles shape: torch.Size([180, 1])\n",
            "psi_angles shape: torch.Size([180, 1])\n",
            "b_factors shape: torch.Size([180, 1])\n",
            "Shape of labels: torch.Size([180])\n"
          ]
        },
        {
          "output_type": "stream",
          "name": "stderr",
          "text": [
            "\r 57%|█████▋    | 582/1013 [01:37<01:01,  7.03it/s]"
          ]
        },
        {
          "output_type": "stream",
          "name": "stdout",
          "text": [
            "esm2_embeddings shape: torch.Size([158, 1280])\n",
            "ss_onehot shape: torch.Size([158, 4])\n",
            "phi_angles shape: torch.Size([158, 1])\n",
            "psi_angles shape: torch.Size([158, 1])\n",
            "b_factors shape: torch.Size([158, 1])\n",
            "Shape of labels: torch.Size([158])\n",
            "esm2_embeddings shape: torch.Size([127, 1280])\n",
            "ss_onehot shape: torch.Size([127, 4])\n",
            "phi_angles shape: torch.Size([127, 1])\n",
            "psi_angles shape: torch.Size([127, 1])\n",
            "b_factors shape: torch.Size([127, 1])\n",
            "Shape of labels: torch.Size([127])\n"
          ]
        },
        {
          "output_type": "stream",
          "name": "stderr",
          "text": [
            "\r 58%|█████▊    | 584/1013 [01:38<01:05,  6.57it/s]"
          ]
        },
        {
          "output_type": "stream",
          "name": "stdout",
          "text": [
            "esm2_embeddings shape: torch.Size([270, 1280])\n",
            "ss_onehot shape: torch.Size([270, 4])\n",
            "phi_angles shape: torch.Size([270, 1])\n",
            "psi_angles shape: torch.Size([270, 1])\n",
            "b_factors shape: torch.Size([270, 1])\n",
            "Shape of labels: torch.Size([270])\n"
          ]
        },
        {
          "output_type": "stream",
          "name": "stderr",
          "text": [
            " 58%|█████▊    | 586/1013 [01:39<01:57,  3.64it/s]"
          ]
        },
        {
          "output_type": "stream",
          "name": "stdout",
          "text": [
            "esm2_embeddings shape: torch.Size([470, 1280])\n",
            "ss_onehot shape: torch.Size([470, 4])\n",
            "phi_angles shape: torch.Size([470, 1])\n",
            "psi_angles shape: torch.Size([470, 1])\n",
            "b_factors shape: torch.Size([470, 1])\n",
            "Shape of labels: torch.Size([470])\n",
            "esm2_embeddings shape: torch.Size([150, 1280])\n",
            "ss_onehot shape: torch.Size([150, 4])\n",
            "phi_angles shape: torch.Size([150, 1])\n",
            "psi_angles shape: torch.Size([150, 1])\n",
            "b_factors shape: torch.Size([150, 1])\n",
            "Shape of labels: torch.Size([150])\n",
            "esm2_embeddings shape: torch.Size([112, 1280])\n",
            "ss_onehot shape: torch.Size([112, 4])\n",
            "phi_angles shape: torch.Size([112, 1])\n",
            "psi_angles shape: torch.Size([112, 1])\n",
            "b_factors shape: torch.Size([112, 1])\n",
            "Shape of labels: torch.Size([112])\n"
          ]
        },
        {
          "output_type": "stream",
          "name": "stderr",
          "text": [
            " 58%|█████▊    | 589/1013 [01:39<01:18,  5.38it/s]"
          ]
        },
        {
          "output_type": "stream",
          "name": "stdout",
          "text": [
            "esm2_embeddings shape: torch.Size([176, 1280])\n",
            "ss_onehot shape: torch.Size([176, 4])\n",
            "phi_angles shape: torch.Size([176, 1])\n",
            "psi_angles shape: torch.Size([176, 1])\n",
            "b_factors shape: torch.Size([176, 1])\n",
            "Shape of labels: torch.Size([176])\n",
            "esm2_embeddings shape: torch.Size([139, 1280])\n",
            "ss_onehot shape: torch.Size([139, 4])\n",
            "phi_angles shape: torch.Size([139, 1])\n",
            "psi_angles shape: torch.Size([139, 1])\n",
            "b_factors shape: torch.Size([139, 1])\n",
            "Shape of labels: torch.Size([139])\n",
            "esm2_embeddings shape: torch.Size([116, 1280])\n",
            "ss_onehot shape: torch.Size([116, 4])\n",
            "phi_angles shape: torch.Size([116, 1])\n",
            "psi_angles shape: torch.Size([116, 1])\n",
            "b_factors shape: torch.Size([116, 1])\n",
            "Shape of labels: torch.Size([116])\n"
          ]
        },
        {
          "output_type": "stream",
          "name": "stderr",
          "text": [
            " 59%|█████▊    | 593/1013 [01:39<00:54,  7.65it/s]"
          ]
        },
        {
          "output_type": "stream",
          "name": "stdout",
          "text": [
            "esm2_embeddings shape: torch.Size([138, 1280])\n",
            "ss_onehot shape: torch.Size([138, 4])\n",
            "phi_angles shape: torch.Size([138, 1])\n",
            "psi_angles shape: torch.Size([138, 1])\n",
            "b_factors shape: torch.Size([138, 1])\n",
            "Shape of labels: torch.Size([138])\n",
            "esm2_embeddings shape: torch.Size([132, 1280])\n",
            "ss_onehot shape: torch.Size([132, 4])\n",
            "phi_angles shape: torch.Size([132, 1])\n",
            "psi_angles shape: torch.Size([132, 1])\n",
            "b_factors shape: torch.Size([132, 1])\n",
            "Shape of labels: torch.Size([132])\n",
            "esm2_embeddings shape: torch.Size([126, 1280])\n",
            "ss_onehot shape: torch.Size([126, 4])\n",
            "phi_angles shape: torch.Size([126, 1])\n",
            "psi_angles shape: torch.Size([126, 1])\n",
            "b_factors shape: torch.Size([126, 1])\n",
            "Shape of labels: torch.Size([126])\n"
          ]
        },
        {
          "output_type": "stream",
          "name": "stderr",
          "text": [
            "\r 59%|█████▊    | 594/1013 [01:39<00:52,  8.03it/s]"
          ]
        },
        {
          "output_type": "stream",
          "name": "stdout",
          "text": [
            "esm2_embeddings shape: torch.Size([135, 1280])\n",
            "ss_onehot shape: torch.Size([135, 4])\n",
            "phi_angles shape: torch.Size([135, 1])\n",
            "psi_angles shape: torch.Size([135, 1])\n",
            "b_factors shape: torch.Size([135, 1])\n",
            "Shape of labels: torch.Size([135])\n",
            "esm2_embeddings shape: torch.Size([135, 1280])\n",
            "ss_onehot shape: torch.Size([135, 4])\n",
            "phi_angles shape: torch.Size([135, 1])\n",
            "psi_angles shape: torch.Size([135, 1])\n",
            "b_factors shape: torch.Size([135, 1])\n",
            "Shape of labels: torch.Size([135])\n"
          ]
        },
        {
          "output_type": "stream",
          "name": "stderr",
          "text": [
            "\r 59%|█████▉    | 596/1013 [01:40<00:49,  8.37it/s]"
          ]
        },
        {
          "output_type": "stream",
          "name": "stdout",
          "text": [
            "esm2_embeddings shape: torch.Size([164, 1280])\n",
            "ss_onehot shape: torch.Size([164, 4])\n",
            "phi_angles shape: torch.Size([164, 1])\n",
            "psi_angles shape: torch.Size([164, 1])\n",
            "b_factors shape: torch.Size([164, 1])\n",
            "Shape of labels: torch.Size([164])\n"
          ]
        },
        {
          "output_type": "stream",
          "name": "stderr",
          "text": [
            " 59%|█████▉    | 598/1013 [01:40<01:23,  4.99it/s]"
          ]
        },
        {
          "output_type": "stream",
          "name": "stdout",
          "text": [
            "esm2_embeddings shape: torch.Size([255, 1280])\n",
            "ss_onehot shape: torch.Size([255, 4])\n",
            "phi_angles shape: torch.Size([255, 1])\n",
            "psi_angles shape: torch.Size([255, 1])\n",
            "b_factors shape: torch.Size([255, 1])\n",
            "Shape of labels: torch.Size([255])\n",
            "esm2_embeddings shape: torch.Size([152, 1280])\n",
            "ss_onehot shape: torch.Size([152, 4])\n",
            "phi_angles shape: torch.Size([152, 1])\n",
            "psi_angles shape: torch.Size([152, 1])\n",
            "b_factors shape: torch.Size([152, 1])\n",
            "Shape of labels: torch.Size([152])\n"
          ]
        },
        {
          "output_type": "stream",
          "name": "stderr",
          "text": [
            " 59%|█████▉    | 601/1013 [01:41<00:56,  7.29it/s]"
          ]
        },
        {
          "output_type": "stream",
          "name": "stdout",
          "text": [
            "esm2_embeddings shape: torch.Size([159, 1280])\n",
            "ss_onehot shape: torch.Size([159, 4])\n",
            "phi_angles shape: torch.Size([159, 1])\n",
            "psi_angles shape: torch.Size([159, 1])\n",
            "b_factors shape: torch.Size([159, 1])\n",
            "Shape of labels: torch.Size([159])\n",
            "esm2_embeddings shape: torch.Size([121, 1280])\n",
            "ss_onehot shape: torch.Size([121, 4])\n",
            "phi_angles shape: torch.Size([121, 1])\n",
            "psi_angles shape: torch.Size([121, 1])\n",
            "b_factors shape: torch.Size([121, 1])\n",
            "Shape of labels: torch.Size([121])\n",
            "esm2_embeddings shape: torch.Size([94, 1280])\n",
            "ss_onehot shape: torch.Size([94, 4])\n",
            "phi_angles shape: torch.Size([94, 1])\n",
            "psi_angles shape: torch.Size([94, 1])\n",
            "b_factors shape: torch.Size([94, 1])\n",
            "Shape of labels: torch.Size([94])\n",
            "esm2_embeddings shape: torch.Size([137, 1280])\n",
            "ss_onehot shape: torch.Size([137, 4])\n",
            "phi_angles shape: torch.Size([137, 1])\n",
            "psi_angles shape: torch.Size([137, 1])\n",
            "b_factors shape: torch.Size([137, 1])\n",
            "Shape of labels: torch.Size([137])\n"
          ]
        },
        {
          "output_type": "stream",
          "name": "stderr",
          "text": [
            " 60%|█████▉    | 604/1013 [01:41<01:02,  6.53it/s]"
          ]
        },
        {
          "output_type": "stream",
          "name": "stdout",
          "text": [
            "esm2_embeddings shape: torch.Size([264, 1280])\n",
            "ss_onehot shape: torch.Size([264, 4])\n",
            "phi_angles shape: torch.Size([264, 1])\n",
            "psi_angles shape: torch.Size([264, 1])\n",
            "b_factors shape: torch.Size([264, 1])\n",
            "Shape of labels: torch.Size([264])\n",
            "esm2_embeddings shape: torch.Size([190, 1280])\n",
            "ss_onehot shape: torch.Size([190, 4])\n",
            "phi_angles shape: torch.Size([190, 1])\n",
            "psi_angles shape: torch.Size([190, 1])\n",
            "b_factors shape: torch.Size([190, 1])\n",
            "Shape of labels: torch.Size([190])\n"
          ]
        },
        {
          "output_type": "stream",
          "name": "stderr",
          "text": [
            "\r 60%|█████▉    | 605/1013 [01:42<01:22,  4.95it/s]"
          ]
        },
        {
          "output_type": "stream",
          "name": "stdout",
          "text": [
            "esm2_embeddings shape: torch.Size([350, 1280])\n",
            "ss_onehot shape: torch.Size([350, 4])\n",
            "phi_angles shape: torch.Size([350, 1])\n",
            "psi_angles shape: torch.Size([350, 1])\n",
            "b_factors shape: torch.Size([350, 1])\n",
            "Shape of labels: torch.Size([350])\n",
            "esm2_embeddings shape: torch.Size([134, 1280])\n",
            "ss_onehot shape: torch.Size([134, 4])\n",
            "phi_angles shape: torch.Size([134, 1])\n",
            "psi_angles shape: torch.Size([134, 1])\n",
            "b_factors shape: torch.Size([134, 1])\n",
            "Shape of labels: torch.Size([134])\n"
          ]
        },
        {
          "output_type": "stream",
          "name": "stderr",
          "text": [
            "\r 60%|█████▉    | 607/1013 [01:42<01:06,  6.12it/s]"
          ]
        },
        {
          "output_type": "stream",
          "name": "stdout",
          "text": [
            "esm2_embeddings shape: torch.Size([160, 1280])\n",
            "ss_onehot shape: torch.Size([160, 4])\n",
            "phi_angles shape: torch.Size([160, 1])\n",
            "psi_angles shape: torch.Size([160, 1])\n",
            "b_factors shape: torch.Size([160, 1])\n",
            "Shape of labels: torch.Size([160])\n",
            "esm2_embeddings shape: torch.Size([120, 1280])\n",
            "ss_onehot shape: torch.Size([120, 4])\n",
            "phi_angles shape: torch.Size([120, 1])\n",
            "psi_angles shape: torch.Size([120, 1])\n",
            "b_factors shape: torch.Size([120, 1])\n",
            "Shape of labels: torch.Size([120])\n"
          ]
        },
        {
          "output_type": "stream",
          "name": "stderr",
          "text": [
            " 60%|██████    | 610/1013 [01:42<01:18,  5.12it/s]"
          ]
        },
        {
          "output_type": "stream",
          "name": "stdout",
          "text": [
            "esm2_embeddings shape: torch.Size([69, 1280])\n",
            "ss_onehot shape: torch.Size([69, 4])\n",
            "phi_angles shape: torch.Size([69, 1])\n",
            "psi_angles shape: torch.Size([69, 1])\n",
            "b_factors shape: torch.Size([69, 1])\n",
            "Shape of labels: torch.Size([69])\n",
            "esm2_embeddings shape: torch.Size([190, 1280])\n",
            "ss_onehot shape: torch.Size([190, 4])\n",
            "phi_angles shape: torch.Size([190, 1])\n",
            "psi_angles shape: torch.Size([190, 1])\n",
            "b_factors shape: torch.Size([190, 1])\n",
            "Shape of labels: torch.Size([190])\n"
          ]
        },
        {
          "output_type": "stream",
          "name": "stderr",
          "text": [
            " 61%|██████    | 613/1013 [01:43<01:07,  5.96it/s]"
          ]
        },
        {
          "output_type": "stream",
          "name": "stdout",
          "text": [
            "esm2_embeddings shape: torch.Size([295, 1280])\n",
            "ss_onehot shape: torch.Size([295, 4])\n",
            "phi_angles shape: torch.Size([295, 1])\n",
            "psi_angles shape: torch.Size([295, 1])\n",
            "b_factors shape: torch.Size([295, 1])\n",
            "Shape of labels: torch.Size([295])\n",
            "esm2_embeddings shape: torch.Size([133, 1280])\n",
            "ss_onehot shape: torch.Size([133, 4])\n",
            "phi_angles shape: torch.Size([133, 1])\n",
            "psi_angles shape: torch.Size([133, 1])\n",
            "b_factors shape: torch.Size([133, 1])\n",
            "Shape of labels: torch.Size([133])\n",
            "esm2_embeddings shape: torch.Size([140, 1280])\n",
            "ss_onehot shape: torch.Size([140, 4])\n",
            "phi_angles shape: torch.Size([140, 1])\n",
            "psi_angles shape: torch.Size([140, 1])\n",
            "b_factors shape: torch.Size([140, 1])\n",
            "Shape of labels: torch.Size([140])\n",
            "esm2_embeddings shape: torch.Size([121, 1280])\n",
            "ss_onehot shape: torch.Size([121, 4])\n",
            "phi_angles shape: torch.Size([121, 1])\n",
            "psi_angles shape: torch.Size([121, 1])\n",
            "b_factors shape: torch.Size([121, 1])\n",
            "Shape of labels: torch.Size([121])\n"
          ]
        },
        {
          "output_type": "stream",
          "name": "stderr",
          "text": [
            "\r 61%|██████    | 615/1013 [01:43<01:06,  5.95it/s]"
          ]
        },
        {
          "output_type": "stream",
          "name": "stdout",
          "text": [
            "esm2_embeddings shape: torch.Size([279, 1280])\n",
            "ss_onehot shape: torch.Size([279, 4])\n",
            "phi_angles shape: torch.Size([279, 1])\n",
            "psi_angles shape: torch.Size([279, 1])\n",
            "b_factors shape: torch.Size([279, 1])\n",
            "Shape of labels: torch.Size([279])\n"
          ]
        },
        {
          "output_type": "stream",
          "name": "stderr",
          "text": [
            "\r 61%|██████    | 616/1013 [01:44<02:23,  2.76it/s]"
          ]
        },
        {
          "output_type": "stream",
          "name": "stdout",
          "text": [
            "esm2_embeddings shape: torch.Size([540, 1280])\n",
            "ss_onehot shape: torch.Size([540, 4])\n",
            "phi_angles shape: torch.Size([540, 1])\n",
            "psi_angles shape: torch.Size([540, 1])\n",
            "b_factors shape: torch.Size([540, 1])\n",
            "Shape of labels: torch.Size([540])\n"
          ]
        },
        {
          "output_type": "stream",
          "name": "stderr",
          "text": [
            " 61%|██████    | 618/1013 [01:45<01:52,  3.50it/s]"
          ]
        },
        {
          "output_type": "stream",
          "name": "stdout",
          "text": [
            "esm2_embeddings shape: torch.Size([274, 1280])\n",
            "ss_onehot shape: torch.Size([274, 4])\n",
            "phi_angles shape: torch.Size([274, 1])\n",
            "psi_angles shape: torch.Size([274, 1])\n",
            "b_factors shape: torch.Size([274, 1])\n",
            "Shape of labels: torch.Size([274])\n",
            "esm2_embeddings shape: torch.Size([166, 1280])\n",
            "ss_onehot shape: torch.Size([166, 4])\n",
            "phi_angles shape: torch.Size([166, 1])\n",
            "psi_angles shape: torch.Size([166, 1])\n",
            "b_factors shape: torch.Size([166, 1])\n",
            "Shape of labels: torch.Size([166])\n",
            "esm2_embeddings shape: torch.Size([79, 1280])\n",
            "ss_onehot shape: torch.Size([79, 4])\n",
            "phi_angles shape: torch.Size([79, 1])\n",
            "psi_angles shape: torch.Size([79, 1])\n",
            "b_factors shape: torch.Size([79, 1])\n",
            "Shape of labels: torch.Size([79])\n"
          ]
        },
        {
          "output_type": "stream",
          "name": "stderr",
          "text": [
            " 61%|██████▏   | 622/1013 [01:45<00:59,  6.56it/s]"
          ]
        },
        {
          "output_type": "stream",
          "name": "stdout",
          "text": [
            "esm2_embeddings shape: torch.Size([98, 1280])\n",
            "ss_onehot shape: torch.Size([98, 4])\n",
            "phi_angles shape: torch.Size([98, 1])\n",
            "psi_angles shape: torch.Size([98, 1])\n",
            "b_factors shape: torch.Size([98, 1])\n",
            "Shape of labels: torch.Size([98])\n",
            "esm2_embeddings shape: torch.Size([71, 1280])\n",
            "ss_onehot shape: torch.Size([71, 4])\n",
            "phi_angles shape: torch.Size([71, 1])\n",
            "psi_angles shape: torch.Size([71, 1])\n",
            "b_factors shape: torch.Size([71, 1])\n",
            "Shape of labels: torch.Size([71])\n",
            "esm2_embeddings shape: torch.Size([161, 1280])\n",
            "ss_onehot shape: torch.Size([161, 4])\n",
            "phi_angles shape: torch.Size([161, 1])\n",
            "psi_angles shape: torch.Size([161, 1])\n",
            "b_factors shape: torch.Size([161, 1])\n",
            "Shape of labels: torch.Size([161])\n"
          ]
        },
        {
          "output_type": "stream",
          "name": "stderr",
          "text": [
            "\r 62%|██████▏   | 624/1013 [01:45<00:51,  7.51it/s]"
          ]
        },
        {
          "output_type": "stream",
          "name": "stdout",
          "text": [
            "esm2_embeddings shape: torch.Size([86, 1280])\n",
            "ss_onehot shape: torch.Size([86, 4])\n",
            "phi_angles shape: torch.Size([86, 1])\n",
            "psi_angles shape: torch.Size([86, 1])\n",
            "b_factors shape: torch.Size([86, 1])\n",
            "Shape of labels: torch.Size([86])\n",
            "esm2_embeddings shape: torch.Size([179, 1280])\n",
            "ss_onehot shape: torch.Size([179, 4])\n",
            "phi_angles shape: torch.Size([179, 1])\n",
            "psi_angles shape: torch.Size([179, 1])\n",
            "b_factors shape: torch.Size([179, 1])\n",
            "Shape of labels: torch.Size([179])\n"
          ]
        },
        {
          "output_type": "stream",
          "name": "stderr",
          "text": [
            " 62%|██████▏   | 626/1013 [01:46<00:58,  6.56it/s]"
          ]
        },
        {
          "output_type": "stream",
          "name": "stdout",
          "text": [
            "esm2_embeddings shape: torch.Size([217, 1280])\n",
            "ss_onehot shape: torch.Size([217, 4])\n",
            "phi_angles shape: torch.Size([217, 1])\n",
            "psi_angles shape: torch.Size([217, 1])\n",
            "b_factors shape: torch.Size([217, 1])\n",
            "Shape of labels: torch.Size([217])\n",
            "esm2_embeddings shape: torch.Size([216, 1280])\n",
            "ss_onehot shape: torch.Size([216, 4])\n",
            "phi_angles shape: torch.Size([216, 1])\n",
            "psi_angles shape: torch.Size([216, 1])\n",
            "b_factors shape: torch.Size([216, 1])\n",
            "Shape of labels: torch.Size([216])\n"
          ]
        },
        {
          "output_type": "stream",
          "name": "stderr",
          "text": [
            "\r 62%|██████▏   | 628/1013 [01:46<00:54,  7.07it/s]"
          ]
        },
        {
          "output_type": "stream",
          "name": "stdout",
          "text": [
            "esm2_embeddings shape: torch.Size([134, 1280])\n",
            "ss_onehot shape: torch.Size([134, 4])\n",
            "phi_angles shape: torch.Size([134, 1])\n",
            "psi_angles shape: torch.Size([134, 1])\n",
            "b_factors shape: torch.Size([134, 1])\n",
            "Shape of labels: torch.Size([134])\n",
            "esm2_embeddings shape: torch.Size([198, 1280])\n",
            "ss_onehot shape: torch.Size([198, 4])\n",
            "phi_angles shape: torch.Size([198, 1])\n",
            "psi_angles shape: torch.Size([198, 1])\n",
            "b_factors shape: torch.Size([198, 1])\n",
            "Shape of labels: torch.Size([198])\n"
          ]
        },
        {
          "output_type": "stream",
          "name": "stderr",
          "text": [
            " 62%|██████▏   | 631/1013 [01:47<01:14,  5.11it/s]"
          ]
        },
        {
          "output_type": "stream",
          "name": "stdout",
          "text": [
            "esm2_embeddings shape: torch.Size([312, 1280])\n",
            "ss_onehot shape: torch.Size([312, 4])\n",
            "phi_angles shape: torch.Size([312, 1])\n",
            "psi_angles shape: torch.Size([312, 1])\n",
            "b_factors shape: torch.Size([312, 1])\n",
            "Shape of labels: torch.Size([312])\n",
            "esm2_embeddings shape: torch.Size([99, 1280])\n",
            "ss_onehot shape: torch.Size([99, 4])\n",
            "phi_angles shape: torch.Size([99, 1])\n",
            "psi_angles shape: torch.Size([99, 1])\n",
            "b_factors shape: torch.Size([99, 1])\n",
            "Shape of labels: torch.Size([99])\n",
            "esm2_embeddings shape: torch.Size([141, 1280])\n",
            "ss_onehot shape: torch.Size([141, 4])\n",
            "phi_angles shape: torch.Size([141, 1])\n",
            "psi_angles shape: torch.Size([141, 1])\n",
            "b_factors shape: torch.Size([141, 1])\n",
            "Shape of labels: torch.Size([141])\n"
          ]
        },
        {
          "output_type": "stream",
          "name": "stderr",
          "text": [
            " 62%|██████▏   | 633/1013 [01:47<01:01,  6.18it/s]"
          ]
        },
        {
          "output_type": "stream",
          "name": "stdout",
          "text": [
            "esm2_embeddings shape: torch.Size([145, 1280])\n",
            "ss_onehot shape: torch.Size([145, 4])\n",
            "phi_angles shape: torch.Size([145, 1])\n",
            "psi_angles shape: torch.Size([145, 1])\n",
            "b_factors shape: torch.Size([145, 1])\n",
            "Shape of labels: torch.Size([145])\n",
            "esm2_embeddings shape: torch.Size([150, 1280])\n",
            "ss_onehot shape: torch.Size([150, 4])\n",
            "phi_angles shape: torch.Size([150, 1])\n",
            "psi_angles shape: torch.Size([150, 1])\n",
            "b_factors shape: torch.Size([150, 1])\n",
            "Shape of labels: torch.Size([150])\n"
          ]
        },
        {
          "output_type": "stream",
          "name": "stderr",
          "text": [
            " 63%|██████▎   | 636/1013 [01:47<00:47,  7.89it/s]"
          ]
        },
        {
          "output_type": "stream",
          "name": "stdout",
          "text": [
            "esm2_embeddings shape: torch.Size([223, 1280])\n",
            "ss_onehot shape: torch.Size([223, 4])\n",
            "phi_angles shape: torch.Size([223, 1])\n",
            "psi_angles shape: torch.Size([223, 1])\n",
            "b_factors shape: torch.Size([223, 1])\n",
            "Shape of labels: torch.Size([223])\n",
            "esm2_embeddings shape: torch.Size([78, 1280])\n",
            "ss_onehot shape: torch.Size([78, 4])\n",
            "phi_angles shape: torch.Size([78, 1])\n",
            "psi_angles shape: torch.Size([78, 1])\n",
            "b_factors shape: torch.Size([78, 1])\n",
            "Shape of labels: torch.Size([78])\n",
            "esm2_embeddings shape: torch.Size([122, 1280])\n",
            "ss_onehot shape: torch.Size([122, 4])\n",
            "phi_angles shape: torch.Size([122, 1])\n",
            "psi_angles shape: torch.Size([122, 1])\n",
            "b_factors shape: torch.Size([122, 1])\n",
            "Shape of labels: torch.Size([122])\n",
            "esm2_embeddings shape: torch.Size([131, 1280])\n",
            "ss_onehot shape: torch.Size([131, 4])\n",
            "phi_angles shape: torch.Size([131, 1])\n",
            "psi_angles shape: torch.Size([131, 1])\n",
            "b_factors shape: torch.Size([131, 1])\n",
            "Shape of labels: torch.Size([131])\n"
          ]
        },
        {
          "output_type": "stream",
          "name": "stderr",
          "text": [
            " 63%|██████▎   | 639/1013 [01:48<00:55,  6.72it/s]"
          ]
        },
        {
          "output_type": "stream",
          "name": "stdout",
          "text": [
            "esm2_embeddings shape: torch.Size([267, 1280])\n",
            "ss_onehot shape: torch.Size([267, 4])\n",
            "phi_angles shape: torch.Size([267, 1])\n",
            "psi_angles shape: torch.Size([267, 1])\n",
            "b_factors shape: torch.Size([267, 1])\n",
            "Shape of labels: torch.Size([267])\n",
            "esm2_embeddings shape: torch.Size([207, 1280])\n",
            "ss_onehot shape: torch.Size([207, 4])\n",
            "phi_angles shape: torch.Size([207, 1])\n",
            "psi_angles shape: torch.Size([207, 1])\n",
            "b_factors shape: torch.Size([207, 1])\n",
            "Shape of labels: torch.Size([207])\n"
          ]
        },
        {
          "output_type": "stream",
          "name": "stderr",
          "text": [
            " 63%|██████▎   | 641/1013 [01:48<01:22,  4.52it/s]"
          ]
        },
        {
          "output_type": "stream",
          "name": "stdout",
          "text": [
            "esm2_embeddings shape: torch.Size([222, 1280])\n",
            "ss_onehot shape: torch.Size([222, 4])\n",
            "phi_angles shape: torch.Size([222, 1])\n",
            "psi_angles shape: torch.Size([222, 1])\n",
            "b_factors shape: torch.Size([222, 1])\n",
            "Shape of labels: torch.Size([222])\n",
            "esm2_embeddings shape: torch.Size([182, 1280])\n",
            "ss_onehot shape: torch.Size([182, 4])\n",
            "phi_angles shape: torch.Size([182, 1])\n",
            "psi_angles shape: torch.Size([182, 1])\n",
            "b_factors shape: torch.Size([182, 1])\n",
            "Shape of labels: torch.Size([182])\n"
          ]
        },
        {
          "output_type": "stream",
          "name": "stderr",
          "text": [
            "\r 63%|██████▎   | 643/1013 [01:49<01:06,  5.53it/s]"
          ]
        },
        {
          "output_type": "stream",
          "name": "stdout",
          "text": [
            "esm2_embeddings shape: torch.Size([105, 1280])\n",
            "ss_onehot shape: torch.Size([105, 4])\n",
            "phi_angles shape: torch.Size([105, 1])\n",
            "psi_angles shape: torch.Size([105, 1])\n",
            "b_factors shape: torch.Size([105, 1])\n",
            "Shape of labels: torch.Size([105])\n",
            "esm2_embeddings shape: torch.Size([219, 1280])\n",
            "ss_onehot shape: torch.Size([219, 4])\n",
            "phi_angles shape: torch.Size([219, 1])\n",
            "psi_angles shape: torch.Size([219, 1])\n",
            "b_factors shape: torch.Size([219, 1])\n",
            "Shape of labels: torch.Size([219])\n"
          ]
        },
        {
          "output_type": "stream",
          "name": "stderr",
          "text": [
            " 64%|██████▎   | 645/1013 [01:49<01:00,  6.13it/s]"
          ]
        },
        {
          "output_type": "stream",
          "name": "stdout",
          "text": [
            "esm2_embeddings shape: torch.Size([193, 1280])\n",
            "ss_onehot shape: torch.Size([193, 4])\n",
            "phi_angles shape: torch.Size([193, 1])\n",
            "psi_angles shape: torch.Size([193, 1])\n",
            "b_factors shape: torch.Size([193, 1])\n",
            "Shape of labels: torch.Size([193])\n",
            "esm2_embeddings shape: torch.Size([159, 1280])\n",
            "ss_onehot shape: torch.Size([159, 4])\n",
            "phi_angles shape: torch.Size([159, 1])\n",
            "psi_angles shape: torch.Size([159, 1])\n",
            "b_factors shape: torch.Size([159, 1])\n",
            "Shape of labels: torch.Size([159])\n"
          ]
        },
        {
          "output_type": "stream",
          "name": "stderr",
          "text": [
            " 64%|██████▍   | 647/1013 [01:49<01:01,  5.91it/s]"
          ]
        },
        {
          "output_type": "stream",
          "name": "stdout",
          "text": [
            "esm2_embeddings shape: torch.Size([183, 1280])\n",
            "ss_onehot shape: torch.Size([183, 4])\n",
            "phi_angles shape: torch.Size([183, 1])\n",
            "psi_angles shape: torch.Size([183, 1])\n",
            "b_factors shape: torch.Size([183, 1])\n",
            "Shape of labels: torch.Size([183])\n",
            "esm2_embeddings shape: torch.Size([228, 1280])\n",
            "ss_onehot shape: torch.Size([228, 4])\n",
            "phi_angles shape: torch.Size([228, 1])\n",
            "psi_angles shape: torch.Size([228, 1])\n",
            "b_factors shape: torch.Size([228, 1])\n",
            "Shape of labels: torch.Size([228])\n"
          ]
        },
        {
          "output_type": "stream",
          "name": "stderr",
          "text": [
            "\r 64%|██████▍   | 648/1013 [01:50<01:12,  5.01it/s]"
          ]
        },
        {
          "output_type": "stream",
          "name": "stdout",
          "text": [
            "esm2_embeddings shape: torch.Size([294, 1280])\n",
            "ss_onehot shape: torch.Size([294, 4])\n",
            "phi_angles shape: torch.Size([294, 1])\n",
            "psi_angles shape: torch.Size([294, 1])\n",
            "b_factors shape: torch.Size([294, 1])\n",
            "Shape of labels: torch.Size([294])\n"
          ]
        },
        {
          "output_type": "stream",
          "name": "stderr",
          "text": [
            "\r 64%|██████▍   | 649/1013 [01:50<01:59,  3.04it/s]"
          ]
        },
        {
          "output_type": "stream",
          "name": "stdout",
          "text": [
            "esm2_embeddings shape: torch.Size([261, 1280])\n",
            "ss_onehot shape: torch.Size([261, 4])\n",
            "phi_angles shape: torch.Size([261, 1])\n",
            "psi_angles shape: torch.Size([261, 1])\n",
            "b_factors shape: torch.Size([261, 1])\n",
            "Shape of labels: torch.Size([261])\n"
          ]
        },
        {
          "output_type": "stream",
          "name": "stderr",
          "text": [
            " 64%|██████▍   | 651/1013 [01:51<01:28,  4.10it/s]"
          ]
        },
        {
          "output_type": "stream",
          "name": "stdout",
          "text": [
            "esm2_embeddings shape: torch.Size([235, 1280])\n",
            "ss_onehot shape: torch.Size([235, 4])\n",
            "phi_angles shape: torch.Size([235, 1])\n",
            "psi_angles shape: torch.Size([235, 1])\n",
            "b_factors shape: torch.Size([235, 1])\n",
            "Shape of labels: torch.Size([235])\n",
            "esm2_embeddings shape: torch.Size([159, 1280])\n",
            "ss_onehot shape: torch.Size([159, 4])\n",
            "phi_angles shape: torch.Size([159, 1])\n",
            "psi_angles shape: torch.Size([159, 1])\n",
            "b_factors shape: torch.Size([159, 1])\n",
            "Shape of labels: torch.Size([159])\n"
          ]
        },
        {
          "output_type": "stream",
          "name": "stderr",
          "text": [
            "\r 64%|██████▍   | 653/1013 [01:51<01:00,  6.00it/s]"
          ]
        },
        {
          "output_type": "stream",
          "name": "stdout",
          "text": [
            "esm2_embeddings shape: torch.Size([130, 1280])\n",
            "ss_onehot shape: torch.Size([130, 4])\n",
            "phi_angles shape: torch.Size([130, 1])\n",
            "psi_angles shape: torch.Size([130, 1])\n",
            "b_factors shape: torch.Size([130, 1])\n",
            "Shape of labels: torch.Size([130])\n",
            "esm2_embeddings shape: torch.Size([78, 1280])\n",
            "ss_onehot shape: torch.Size([78, 4])\n",
            "phi_angles shape: torch.Size([78, 1])\n",
            "psi_angles shape: torch.Size([78, 1])\n",
            "b_factors shape: torch.Size([78, 1])\n",
            "Shape of labels: torch.Size([78])\n"
          ]
        },
        {
          "output_type": "stream",
          "name": "stderr",
          "text": [
            " 65%|██████▍   | 655/1013 [01:51<01:12,  4.96it/s]"
          ]
        },
        {
          "output_type": "stream",
          "name": "stdout",
          "text": [
            "esm2_embeddings shape: torch.Size([356, 1280])\n",
            "ss_onehot shape: torch.Size([356, 4])\n",
            "phi_angles shape: torch.Size([356, 1])\n",
            "psi_angles shape: torch.Size([356, 1])\n",
            "b_factors shape: torch.Size([356, 1])\n",
            "Shape of labels: torch.Size([356])\n",
            "esm2_embeddings shape: torch.Size([178, 1280])\n",
            "ss_onehot shape: torch.Size([178, 4])\n",
            "phi_angles shape: torch.Size([178, 1])\n",
            "psi_angles shape: torch.Size([178, 1])\n",
            "b_factors shape: torch.Size([178, 1])\n",
            "Shape of labels: torch.Size([178])\n"
          ]
        },
        {
          "output_type": "stream",
          "name": "stderr",
          "text": [
            " 65%|██████▍   | 657/1013 [01:52<01:04,  5.54it/s]"
          ]
        },
        {
          "output_type": "stream",
          "name": "stdout",
          "text": [
            "esm2_embeddings shape: torch.Size([200, 1280])\n",
            "ss_onehot shape: torch.Size([200, 4])\n",
            "phi_angles shape: torch.Size([200, 1])\n",
            "psi_angles shape: torch.Size([200, 1])\n",
            "b_factors shape: torch.Size([200, 1])\n",
            "Shape of labels: torch.Size([200])\n",
            "esm2_embeddings shape: torch.Size([177, 1280])\n",
            "ss_onehot shape: torch.Size([177, 4])\n",
            "phi_angles shape: torch.Size([177, 1])\n",
            "psi_angles shape: torch.Size([177, 1])\n",
            "b_factors shape: torch.Size([177, 1])\n",
            "Shape of labels: torch.Size([177])\n"
          ]
        },
        {
          "output_type": "stream",
          "name": "stderr",
          "text": [
            " 65%|██████▌   | 660/1013 [01:52<01:00,  5.85it/s]"
          ]
        },
        {
          "output_type": "stream",
          "name": "stdout",
          "text": [
            "esm2_embeddings shape: torch.Size([113, 1280])\n",
            "ss_onehot shape: torch.Size([113, 4])\n",
            "phi_angles shape: torch.Size([113, 1])\n",
            "psi_angles shape: torch.Size([113, 1])\n",
            "b_factors shape: torch.Size([113, 1])\n",
            "Shape of labels: torch.Size([113])\n",
            "esm2_embeddings shape: torch.Size([103, 1280])\n",
            "ss_onehot shape: torch.Size([103, 4])\n",
            "phi_angles shape: torch.Size([103, 1])\n",
            "psi_angles shape: torch.Size([103, 1])\n",
            "b_factors shape: torch.Size([103, 1])\n",
            "Shape of labels: torch.Size([103])\n",
            "esm2_embeddings shape: torch.Size([68, 1280])\n",
            "ss_onehot shape: torch.Size([68, 4])\n",
            "phi_angles shape: torch.Size([68, 1])\n",
            "psi_angles shape: torch.Size([68, 1])\n",
            "b_factors shape: torch.Size([68, 1])\n",
            "Shape of labels: torch.Size([68])\n"
          ]
        },
        {
          "output_type": "stream",
          "name": "stderr",
          "text": [
            " 65%|██████▌   | 663/1013 [01:52<00:42,  8.29it/s]"
          ]
        },
        {
          "output_type": "stream",
          "name": "stdout",
          "text": [
            "esm2_embeddings shape: torch.Size([147, 1280])\n",
            "ss_onehot shape: torch.Size([147, 4])\n",
            "phi_angles shape: torch.Size([147, 1])\n",
            "psi_angles shape: torch.Size([147, 1])\n",
            "b_factors shape: torch.Size([147, 1])\n",
            "Shape of labels: torch.Size([147])\n",
            "esm2_embeddings shape: torch.Size([40, 1280])\n",
            "ss_onehot shape: torch.Size([40, 4])\n",
            "phi_angles shape: torch.Size([40, 1])\n",
            "psi_angles shape: torch.Size([40, 1])\n",
            "b_factors shape: torch.Size([40, 1])\n",
            "Shape of labels: torch.Size([40])\n",
            "esm2_embeddings shape: torch.Size([138, 1280])\n",
            "ss_onehot shape: torch.Size([138, 4])\n",
            "phi_angles shape: torch.Size([138, 1])\n",
            "psi_angles shape: torch.Size([138, 1])\n",
            "b_factors shape: torch.Size([138, 1])\n",
            "Shape of labels: torch.Size([138])\n"
          ]
        },
        {
          "output_type": "stream",
          "name": "stderr",
          "text": [
            "\r 66%|██████▌   | 665/1013 [01:53<00:40,  8.64it/s]"
          ]
        },
        {
          "output_type": "stream",
          "name": "stdout",
          "text": [
            "esm2_embeddings shape: torch.Size([205, 1280])\n",
            "ss_onehot shape: torch.Size([205, 4])\n",
            "phi_angles shape: torch.Size([205, 1])\n",
            "psi_angles shape: torch.Size([205, 1])\n",
            "b_factors shape: torch.Size([205, 1])\n",
            "Shape of labels: torch.Size([205])\n",
            "esm2_embeddings shape: torch.Size([71, 1280])\n",
            "ss_onehot shape: torch.Size([71, 4])\n",
            "phi_angles shape: torch.Size([71, 1])\n",
            "psi_angles shape: torch.Size([71, 1])\n",
            "b_factors shape: torch.Size([71, 1])\n",
            "Shape of labels: torch.Size([71])\n"
          ]
        },
        {
          "output_type": "stream",
          "name": "stderr",
          "text": [
            " 66%|██████▌   | 668/1013 [01:53<00:42,  8.04it/s]"
          ]
        },
        {
          "output_type": "stream",
          "name": "stdout",
          "text": [
            "esm2_embeddings shape: torch.Size([244, 1280])\n",
            "ss_onehot shape: torch.Size([244, 4])\n",
            "phi_angles shape: torch.Size([244, 1])\n",
            "psi_angles shape: torch.Size([244, 1])\n",
            "b_factors shape: torch.Size([244, 1])\n",
            "Shape of labels: torch.Size([244])\n",
            "esm2_embeddings shape: torch.Size([121, 1280])\n",
            "ss_onehot shape: torch.Size([121, 4])\n",
            "phi_angles shape: torch.Size([121, 1])\n",
            "psi_angles shape: torch.Size([121, 1])\n",
            "b_factors shape: torch.Size([121, 1])\n",
            "Shape of labels: torch.Size([121])\n",
            "esm2_embeddings shape: torch.Size([157, 1280])\n",
            "ss_onehot shape: torch.Size([157, 4])\n",
            "phi_angles shape: torch.Size([157, 1])\n",
            "psi_angles shape: torch.Size([157, 1])\n",
            "b_factors shape: torch.Size([157, 1])\n",
            "Shape of labels: torch.Size([157])\n"
          ]
        },
        {
          "output_type": "stream",
          "name": "stderr",
          "text": [
            " 66%|██████▌   | 670/1013 [01:53<00:43,  7.97it/s]"
          ]
        },
        {
          "output_type": "stream",
          "name": "stdout",
          "text": [
            "esm2_embeddings shape: torch.Size([185, 1280])\n",
            "ss_onehot shape: torch.Size([185, 4])\n",
            "phi_angles shape: torch.Size([185, 1])\n",
            "psi_angles shape: torch.Size([185, 1])\n",
            "b_factors shape: torch.Size([185, 1])\n",
            "Shape of labels: torch.Size([185])\n",
            "esm2_embeddings shape: torch.Size([156, 1280])\n",
            "ss_onehot shape: torch.Size([156, 4])\n",
            "phi_angles shape: torch.Size([156, 1])\n",
            "psi_angles shape: torch.Size([156, 1])\n",
            "b_factors shape: torch.Size([156, 1])\n",
            "Shape of labels: torch.Size([156])\n"
          ]
        },
        {
          "output_type": "stream",
          "name": "stderr",
          "text": [
            " 66%|██████▋   | 673/1013 [01:54<00:32, 10.45it/s]"
          ]
        },
        {
          "output_type": "stream",
          "name": "stdout",
          "text": [
            "esm2_embeddings shape: torch.Size([170, 1280])\n",
            "ss_onehot shape: torch.Size([170, 4])\n",
            "phi_angles shape: torch.Size([170, 1])\n",
            "psi_angles shape: torch.Size([170, 1])\n",
            "b_factors shape: torch.Size([170, 1])\n",
            "Shape of labels: torch.Size([170])\n",
            "esm2_embeddings shape: torch.Size([71, 1280])\n",
            "ss_onehot shape: torch.Size([71, 4])\n",
            "phi_angles shape: torch.Size([71, 1])\n",
            "psi_angles shape: torch.Size([71, 1])\n",
            "b_factors shape: torch.Size([71, 1])\n",
            "Shape of labels: torch.Size([71])\n",
            "esm2_embeddings shape: torch.Size([94, 1280])\n",
            "ss_onehot shape: torch.Size([94, 4])\n",
            "phi_angles shape: torch.Size([94, 1])\n",
            "psi_angles shape: torch.Size([94, 1])\n",
            "b_factors shape: torch.Size([94, 1])\n",
            "Shape of labels: torch.Size([94])\n",
            "esm2_embeddings shape: torch.Size([146, 1280])\n",
            "ss_onehot shape: torch.Size([146, 4])\n",
            "phi_angles shape: torch.Size([146, 1])\n",
            "psi_angles shape: torch.Size([146, 1])\n",
            "b_factors shape: torch.Size([146, 1])\n",
            "Shape of labels: torch.Size([146])\n"
          ]
        },
        {
          "output_type": "stream",
          "name": "stderr",
          "text": [
            " 67%|██████▋   | 676/1013 [01:54<00:55,  6.10it/s]"
          ]
        },
        {
          "output_type": "stream",
          "name": "stdout",
          "text": [
            "esm2_embeddings shape: torch.Size([178, 1280])\n",
            "ss_onehot shape: torch.Size([178, 4])\n",
            "phi_angles shape: torch.Size([178, 1])\n",
            "psi_angles shape: torch.Size([178, 1])\n",
            "b_factors shape: torch.Size([178, 1])\n",
            "Shape of labels: torch.Size([178])\n",
            "esm2_embeddings shape: torch.Size([147, 1280])\n",
            "ss_onehot shape: torch.Size([147, 4])\n",
            "phi_angles shape: torch.Size([147, 1])\n",
            "psi_angles shape: torch.Size([147, 1])\n",
            "b_factors shape: torch.Size([147, 1])\n",
            "Shape of labels: torch.Size([147])\n",
            "esm2_embeddings shape: torch.Size([125, 1280])\n",
            "ss_onehot shape: torch.Size([125, 4])\n",
            "phi_angles shape: torch.Size([125, 1])\n",
            "psi_angles shape: torch.Size([125, 1])\n",
            "b_factors shape: torch.Size([125, 1])\n",
            "Shape of labels: torch.Size([125])\n"
          ]
        },
        {
          "output_type": "stream",
          "name": "stderr",
          "text": [
            " 67%|██████▋   | 679/1013 [01:55<00:55,  6.03it/s]"
          ]
        },
        {
          "output_type": "stream",
          "name": "stdout",
          "text": [
            "esm2_embeddings shape: torch.Size([257, 1280])\n",
            "ss_onehot shape: torch.Size([257, 4])\n",
            "phi_angles shape: torch.Size([257, 1])\n",
            "psi_angles shape: torch.Size([257, 1])\n",
            "b_factors shape: torch.Size([257, 1])\n",
            "Shape of labels: torch.Size([257])\n",
            "esm2_embeddings shape: torch.Size([218, 1280])\n",
            "ss_onehot shape: torch.Size([218, 4])\n",
            "phi_angles shape: torch.Size([218, 1])\n",
            "psi_angles shape: torch.Size([218, 1])\n",
            "b_factors shape: torch.Size([218, 1])\n",
            "Shape of labels: torch.Size([218])\n"
          ]
        },
        {
          "output_type": "stream",
          "name": "stderr",
          "text": [
            " 67%|██████▋   | 681/1013 [01:55<00:51,  6.39it/s]"
          ]
        },
        {
          "output_type": "stream",
          "name": "stdout",
          "text": [
            "esm2_embeddings shape: torch.Size([228, 1280])\n",
            "ss_onehot shape: torch.Size([228, 4])\n",
            "phi_angles shape: torch.Size([228, 1])\n",
            "psi_angles shape: torch.Size([228, 1])\n",
            "b_factors shape: torch.Size([228, 1])\n",
            "Shape of labels: torch.Size([228])\n",
            "esm2_embeddings shape: torch.Size([139, 1280])\n",
            "ss_onehot shape: torch.Size([139, 4])\n",
            "phi_angles shape: torch.Size([139, 1])\n",
            "psi_angles shape: torch.Size([139, 1])\n",
            "b_factors shape: torch.Size([139, 1])\n",
            "Shape of labels: torch.Size([139])\n",
            "esm2_embeddings shape: torch.Size([119, 1280])\n",
            "ss_onehot shape: torch.Size([119, 4])\n",
            "phi_angles shape: torch.Size([119, 1])\n",
            "psi_angles shape: torch.Size([119, 1])\n",
            "b_factors shape: torch.Size([119, 1])\n",
            "Shape of labels: torch.Size([119])\n"
          ]
        },
        {
          "output_type": "stream",
          "name": "stderr",
          "text": [
            "\r 67%|██████▋   | 683/1013 [01:55<00:47,  6.99it/s]"
          ]
        },
        {
          "output_type": "stream",
          "name": "stdout",
          "text": [
            "esm2_embeddings shape: torch.Size([200, 1280])\n",
            "ss_onehot shape: torch.Size([200, 4])\n",
            "phi_angles shape: torch.Size([200, 1])\n",
            "psi_angles shape: torch.Size([200, 1])\n",
            "b_factors shape: torch.Size([200, 1])\n",
            "Shape of labels: torch.Size([200])\n"
          ]
        },
        {
          "output_type": "stream",
          "name": "stderr",
          "text": [
            "\r 68%|██████▊   | 684/1013 [01:56<00:52,  6.26it/s]"
          ]
        },
        {
          "output_type": "stream",
          "name": "stdout",
          "text": [
            "esm2_embeddings shape: torch.Size([249, 1280])\n",
            "ss_onehot shape: torch.Size([249, 4])\n",
            "phi_angles shape: torch.Size([249, 1])\n",
            "psi_angles shape: torch.Size([249, 1])\n",
            "b_factors shape: torch.Size([249, 1])\n",
            "Shape of labels: torch.Size([249])\n",
            "esm2_embeddings shape: torch.Size([133, 1280])\n",
            "ss_onehot shape: torch.Size([133, 4])\n",
            "phi_angles shape: torch.Size([133, 1])\n",
            "psi_angles shape: torch.Size([133, 1])\n",
            "b_factors shape: torch.Size([133, 1])\n",
            "Shape of labels: torch.Size([133])\n"
          ]
        },
        {
          "output_type": "stream",
          "name": "stderr",
          "text": [
            " 68%|██████▊   | 687/1013 [01:56<01:02,  5.18it/s]"
          ]
        },
        {
          "output_type": "stream",
          "name": "stdout",
          "text": [
            "esm2_embeddings shape: torch.Size([117, 1280])\n",
            "ss_onehot shape: torch.Size([117, 4])\n",
            "phi_angles shape: torch.Size([117, 1])\n",
            "psi_angles shape: torch.Size([117, 1])\n",
            "b_factors shape: torch.Size([117, 1])\n",
            "Shape of labels: torch.Size([117])\n",
            "esm2_embeddings shape: torch.Size([170, 1280])\n",
            "ss_onehot shape: torch.Size([170, 4])\n",
            "phi_angles shape: torch.Size([170, 1])\n",
            "psi_angles shape: torch.Size([170, 1])\n",
            "b_factors shape: torch.Size([170, 1])\n",
            "Shape of labels: torch.Size([170])\n"
          ]
        },
        {
          "output_type": "stream",
          "name": "stderr",
          "text": [
            " 68%|██████▊   | 690/1013 [01:57<00:46,  7.00it/s]"
          ]
        },
        {
          "output_type": "stream",
          "name": "stdout",
          "text": [
            "esm2_embeddings shape: torch.Size([236, 1280])\n",
            "ss_onehot shape: torch.Size([236, 4])\n",
            "phi_angles shape: torch.Size([236, 1])\n",
            "psi_angles shape: torch.Size([236, 1])\n",
            "b_factors shape: torch.Size([236, 1])\n",
            "Shape of labels: torch.Size([236])\n",
            "esm2_embeddings shape: torch.Size([76, 1280])\n",
            "ss_onehot shape: torch.Size([76, 4])\n",
            "phi_angles shape: torch.Size([76, 1])\n",
            "psi_angles shape: torch.Size([76, 1])\n",
            "b_factors shape: torch.Size([76, 1])\n",
            "Shape of labels: torch.Size([76])\n",
            "esm2_embeddings shape: torch.Size([119, 1280])\n",
            "ss_onehot shape: torch.Size([119, 4])\n",
            "phi_angles shape: torch.Size([119, 1])\n",
            "psi_angles shape: torch.Size([119, 1])\n",
            "b_factors shape: torch.Size([119, 1])\n",
            "Shape of labels: torch.Size([119])\n",
            "esm2_embeddings shape: torch.Size([86, 1280])\n",
            "ss_onehot shape: torch.Size([86, 4])\n",
            "phi_angles shape: torch.Size([86, 1])\n",
            "psi_angles shape: torch.Size([86, 1])\n",
            "b_factors shape: torch.Size([86, 1])\n",
            "Shape of labels: torch.Size([86])\n"
          ]
        },
        {
          "output_type": "stream",
          "name": "stderr",
          "text": [
            " 68%|██████▊   | 693/1013 [01:57<00:43,  7.39it/s]"
          ]
        },
        {
          "output_type": "stream",
          "name": "stdout",
          "text": [
            "esm2_embeddings shape: torch.Size([246, 1280])\n",
            "ss_onehot shape: torch.Size([246, 4])\n",
            "phi_angles shape: torch.Size([246, 1])\n",
            "psi_angles shape: torch.Size([246, 1])\n",
            "b_factors shape: torch.Size([246, 1])\n",
            "Shape of labels: torch.Size([246])\n",
            "esm2_embeddings shape: torch.Size([157, 1280])\n",
            "ss_onehot shape: torch.Size([157, 4])\n",
            "phi_angles shape: torch.Size([157, 1])\n",
            "psi_angles shape: torch.Size([157, 1])\n",
            "b_factors shape: torch.Size([157, 1])\n",
            "Shape of labels: torch.Size([157])\n"
          ]
        },
        {
          "output_type": "stream",
          "name": "stderr",
          "text": [
            "\r 69%|██████▊   | 695/1013 [01:57<00:36,  8.79it/s]"
          ]
        },
        {
          "output_type": "stream",
          "name": "stdout",
          "text": [
            "esm2_embeddings shape: torch.Size([132, 1280])\n",
            "ss_onehot shape: torch.Size([132, 4])\n",
            "phi_angles shape: torch.Size([132, 1])\n",
            "psi_angles shape: torch.Size([132, 1])\n",
            "b_factors shape: torch.Size([132, 1])\n",
            "Shape of labels: torch.Size([132])\n",
            "esm2_embeddings shape: torch.Size([93, 1280])\n",
            "ss_onehot shape: torch.Size([93, 4])\n",
            "phi_angles shape: torch.Size([93, 1])\n",
            "psi_angles shape: torch.Size([93, 1])\n",
            "b_factors shape: torch.Size([93, 1])\n",
            "Shape of labels: torch.Size([93])\n"
          ]
        },
        {
          "output_type": "stream",
          "name": "stderr",
          "text": [
            "\r 69%|██████▊   | 696/1013 [01:57<00:41,  7.65it/s]"
          ]
        },
        {
          "output_type": "stream",
          "name": "stdout",
          "text": [
            "esm2_embeddings shape: torch.Size([237, 1280])\n",
            "ss_onehot shape: torch.Size([237, 4])\n",
            "phi_angles shape: torch.Size([237, 1])\n",
            "psi_angles shape: torch.Size([237, 1])\n",
            "b_factors shape: torch.Size([237, 1])\n",
            "Shape of labels: torch.Size([237])\n",
            "esm2_embeddings shape: torch.Size([89, 1280])\n",
            "ss_onehot shape: torch.Size([89, 4])\n",
            "phi_angles shape: torch.Size([89, 1])\n",
            "psi_angles shape: torch.Size([89, 1])\n",
            "b_factors shape: torch.Size([89, 1])\n",
            "Shape of labels: torch.Size([89])\n"
          ]
        },
        {
          "output_type": "stream",
          "name": "stderr",
          "text": [
            " 69%|██████▉   | 700/1013 [01:58<00:31,  9.91it/s]"
          ]
        },
        {
          "output_type": "stream",
          "name": "stdout",
          "text": [
            "esm2_embeddings shape: torch.Size([196, 1280])\n",
            "ss_onehot shape: torch.Size([196, 4])\n",
            "phi_angles shape: torch.Size([196, 1])\n",
            "psi_angles shape: torch.Size([196, 1])\n",
            "b_factors shape: torch.Size([196, 1])\n",
            "Shape of labels: torch.Size([196])\n",
            "esm2_embeddings shape: torch.Size([88, 1280])\n",
            "ss_onehot shape: torch.Size([88, 4])\n",
            "phi_angles shape: torch.Size([88, 1])\n",
            "psi_angles shape: torch.Size([88, 1])\n",
            "b_factors shape: torch.Size([88, 1])\n",
            "Shape of labels: torch.Size([88])\n",
            "esm2_embeddings shape: torch.Size([90, 1280])\n",
            "ss_onehot shape: torch.Size([90, 4])\n",
            "phi_angles shape: torch.Size([90, 1])\n",
            "psi_angles shape: torch.Size([90, 1])\n",
            "b_factors shape: torch.Size([90, 1])\n",
            "Shape of labels: torch.Size([90])\n"
          ]
        },
        {
          "output_type": "stream",
          "name": "stderr",
          "text": [
            "\r 69%|██████▉   | 702/1013 [01:58<00:50,  6.22it/s]"
          ]
        },
        {
          "output_type": "stream",
          "name": "stdout",
          "text": [
            "esm2_embeddings shape: torch.Size([149, 1280])\n",
            "ss_onehot shape: torch.Size([149, 4])\n",
            "phi_angles shape: torch.Size([149, 1])\n",
            "psi_angles shape: torch.Size([149, 1])\n",
            "b_factors shape: torch.Size([149, 1])\n",
            "Shape of labels: torch.Size([149])\n",
            "esm2_embeddings shape: torch.Size([87, 1280])\n",
            "ss_onehot shape: torch.Size([87, 4])\n",
            "phi_angles shape: torch.Size([87, 1])\n",
            "psi_angles shape: torch.Size([87, 1])\n",
            "b_factors shape: torch.Size([87, 1])\n",
            "Shape of labels: torch.Size([87])\n",
            "esm2_embeddings shape: torch.Size([101, 1280])\n",
            "ss_onehot shape: torch.Size([101, 4])\n",
            "phi_angles shape: torch.Size([101, 1])\n",
            "psi_angles shape: torch.Size([101, 1])\n",
            "b_factors shape: torch.Size([101, 1])\n",
            "Shape of labels: torch.Size([101])\n"
          ]
        },
        {
          "output_type": "stream",
          "name": "stderr",
          "text": [
            " 70%|██████▉   | 705/1013 [01:59<00:47,  6.51it/s]"
          ]
        },
        {
          "output_type": "stream",
          "name": "stdout",
          "text": [
            "esm2_embeddings shape: torch.Size([220, 1280])\n",
            "ss_onehot shape: torch.Size([220, 4])\n",
            "phi_angles shape: torch.Size([220, 1])\n",
            "psi_angles shape: torch.Size([220, 1])\n",
            "b_factors shape: torch.Size([220, 1])\n",
            "Shape of labels: torch.Size([220])\n",
            "esm2_embeddings shape: torch.Size([214, 1280])\n",
            "ss_onehot shape: torch.Size([214, 4])\n",
            "phi_angles shape: torch.Size([214, 1])\n",
            "psi_angles shape: torch.Size([214, 1])\n",
            "b_factors shape: torch.Size([214, 1])\n",
            "Shape of labels: torch.Size([214])\n"
          ]
        },
        {
          "output_type": "stream",
          "name": "stderr",
          "text": [
            " 70%|██████▉   | 707/1013 [01:59<00:57,  5.31it/s]"
          ]
        },
        {
          "output_type": "stream",
          "name": "stdout",
          "text": [
            "esm2_embeddings shape: torch.Size([387, 1280])\n",
            "ss_onehot shape: torch.Size([387, 4])\n",
            "phi_angles shape: torch.Size([387, 1])\n",
            "psi_angles shape: torch.Size([387, 1])\n",
            "b_factors shape: torch.Size([387, 1])\n",
            "Shape of labels: torch.Size([387])\n",
            "esm2_embeddings shape: torch.Size([139, 1280])\n",
            "ss_onehot shape: torch.Size([139, 4])\n",
            "phi_angles shape: torch.Size([139, 1])\n",
            "psi_angles shape: torch.Size([139, 1])\n",
            "b_factors shape: torch.Size([139, 1])\n",
            "Shape of labels: torch.Size([139])\n"
          ]
        },
        {
          "output_type": "stream",
          "name": "stderr",
          "text": [
            " 70%|██████▉   | 709/1013 [02:00<00:51,  5.90it/s]"
          ]
        },
        {
          "output_type": "stream",
          "name": "stdout",
          "text": [
            "esm2_embeddings shape: torch.Size([147, 1280])\n",
            "ss_onehot shape: torch.Size([147, 4])\n",
            "phi_angles shape: torch.Size([147, 1])\n",
            "psi_angles shape: torch.Size([147, 1])\n",
            "b_factors shape: torch.Size([147, 1])\n",
            "Shape of labels: torch.Size([147])\n",
            "esm2_embeddings shape: torch.Size([216, 1280])\n",
            "ss_onehot shape: torch.Size([216, 4])\n",
            "phi_angles shape: torch.Size([216, 1])\n",
            "psi_angles shape: torch.Size([216, 1])\n",
            "b_factors shape: torch.Size([216, 1])\n",
            "Shape of labels: torch.Size([216])\n"
          ]
        },
        {
          "output_type": "stream",
          "name": "stderr",
          "text": [
            "\r 70%|███████   | 710/1013 [02:00<00:51,  5.87it/s]"
          ]
        },
        {
          "output_type": "stream",
          "name": "stdout",
          "text": [
            "esm2_embeddings shape: torch.Size([214, 1280])\n",
            "ss_onehot shape: torch.Size([214, 4])\n",
            "phi_angles shape: torch.Size([214, 1])\n",
            "psi_angles shape: torch.Size([214, 1])\n",
            "b_factors shape: torch.Size([214, 1])\n",
            "Shape of labels: torch.Size([214])\n"
          ]
        },
        {
          "output_type": "stream",
          "name": "stderr",
          "text": [
            " 70%|███████   | 712/1013 [02:00<01:06,  4.52it/s]"
          ]
        },
        {
          "output_type": "stream",
          "name": "stdout",
          "text": [
            "esm2_embeddings shape: torch.Size([131, 1280])\n",
            "ss_onehot shape: torch.Size([131, 4])\n",
            "phi_angles shape: torch.Size([131, 1])\n",
            "psi_angles shape: torch.Size([131, 1])\n",
            "b_factors shape: torch.Size([131, 1])\n",
            "Shape of labels: torch.Size([131])\n",
            "esm2_embeddings shape: torch.Size([163, 1280])\n",
            "ss_onehot shape: torch.Size([163, 4])\n",
            "phi_angles shape: torch.Size([163, 1])\n",
            "psi_angles shape: torch.Size([163, 1])\n",
            "b_factors shape: torch.Size([163, 1])\n",
            "Shape of labels: torch.Size([163])\n"
          ]
        },
        {
          "output_type": "stream",
          "name": "stderr",
          "text": [
            " 70%|███████   | 714/1013 [02:01<00:59,  5.03it/s]"
          ]
        },
        {
          "output_type": "stream",
          "name": "stdout",
          "text": [
            "esm2_embeddings shape: torch.Size([298, 1280])\n",
            "ss_onehot shape: torch.Size([298, 4])\n",
            "phi_angles shape: torch.Size([298, 1])\n",
            "psi_angles shape: torch.Size([298, 1])\n",
            "b_factors shape: torch.Size([298, 1])\n",
            "Shape of labels: torch.Size([298])\n",
            "esm2_embeddings shape: torch.Size([145, 1280])\n",
            "ss_onehot shape: torch.Size([145, 4])\n",
            "phi_angles shape: torch.Size([145, 1])\n",
            "psi_angles shape: torch.Size([145, 1])\n",
            "b_factors shape: torch.Size([145, 1])\n",
            "Shape of labels: torch.Size([145])\n",
            "esm2_embeddings shape: torch.Size([119, 1280])\n",
            "ss_onehot shape: torch.Size([119, 4])\n",
            "phi_angles shape: torch.Size([119, 1])\n",
            "psi_angles shape: torch.Size([119, 1])\n",
            "b_factors shape: torch.Size([119, 1])\n",
            "Shape of labels: torch.Size([119])\n"
          ]
        },
        {
          "output_type": "stream",
          "name": "stderr",
          "text": [
            " 71%|███████   | 718/1013 [02:01<00:37,  7.89it/s]"
          ]
        },
        {
          "output_type": "stream",
          "name": "stdout",
          "text": [
            "esm2_embeddings shape: torch.Size([146, 1280])\n",
            "ss_onehot shape: torch.Size([146, 4])\n",
            "phi_angles shape: torch.Size([146, 1])\n",
            "psi_angles shape: torch.Size([146, 1])\n",
            "b_factors shape: torch.Size([146, 1])\n",
            "Shape of labels: torch.Size([146])\n",
            "esm2_embeddings shape: torch.Size([53, 1280])\n",
            "ss_onehot shape: torch.Size([53, 4])\n",
            "phi_angles shape: torch.Size([53, 1])\n",
            "psi_angles shape: torch.Size([53, 1])\n",
            "b_factors shape: torch.Size([53, 1])\n",
            "Shape of labels: torch.Size([53])\n",
            "esm2_embeddings shape: torch.Size([175, 1280])\n",
            "ss_onehot shape: torch.Size([175, 4])\n",
            "phi_angles shape: torch.Size([175, 1])\n",
            "psi_angles shape: torch.Size([175, 1])\n",
            "b_factors shape: torch.Size([175, 1])\n",
            "Shape of labels: torch.Size([175])\n"
          ]
        },
        {
          "output_type": "stream",
          "name": "stderr",
          "text": [
            "\r 71%|███████   | 719/1013 [02:01<00:40,  7.32it/s]"
          ]
        },
        {
          "output_type": "stream",
          "name": "stdout",
          "text": [
            "esm2_embeddings shape: torch.Size([211, 1280])\n",
            "ss_onehot shape: torch.Size([211, 4])\n",
            "phi_angles shape: torch.Size([211, 1])\n",
            "psi_angles shape: torch.Size([211, 1])\n",
            "b_factors shape: torch.Size([211, 1])\n",
            "Shape of labels: torch.Size([211])\n",
            "esm2_embeddings shape: torch.Size([131, 1280])\n",
            "ss_onehot shape: torch.Size([131, 4])\n",
            "phi_angles shape: torch.Size([131, 1])\n",
            "psi_angles shape: torch.Size([131, 1])\n",
            "b_factors shape: torch.Size([131, 1])\n",
            "Shape of labels: torch.Size([131])\n"
          ]
        },
        {
          "output_type": "stream",
          "name": "stderr",
          "text": [
            "\r 71%|███████   | 721/1013 [02:02<01:14,  3.90it/s]"
          ]
        },
        {
          "output_type": "stream",
          "name": "stdout",
          "text": [
            "esm2_embeddings shape: torch.Size([373, 1280])\n",
            "ss_onehot shape: torch.Size([373, 4])\n",
            "phi_angles shape: torch.Size([373, 1])\n",
            "psi_angles shape: torch.Size([373, 1])\n",
            "b_factors shape: torch.Size([373, 1])\n",
            "Shape of labels: torch.Size([373])\n"
          ]
        },
        {
          "output_type": "stream",
          "name": "stderr",
          "text": [
            "\r 71%|███████▏  | 722/1013 [02:02<01:19,  3.68it/s]"
          ]
        },
        {
          "output_type": "stream",
          "name": "stdout",
          "text": [
            "esm2_embeddings shape: torch.Size([318, 1280])\n",
            "ss_onehot shape: torch.Size([318, 4])\n",
            "phi_angles shape: torch.Size([318, 1])\n",
            "psi_angles shape: torch.Size([318, 1])\n",
            "b_factors shape: torch.Size([318, 1])\n",
            "Shape of labels: torch.Size([318])\n"
          ]
        },
        {
          "output_type": "stream",
          "name": "stderr",
          "text": [
            "\r 71%|███████▏  | 723/1013 [02:03<01:20,  3.59it/s]"
          ]
        },
        {
          "output_type": "stream",
          "name": "stdout",
          "text": [
            "esm2_embeddings shape: torch.Size([310, 1280])\n",
            "ss_onehot shape: torch.Size([310, 4])\n",
            "phi_angles shape: torch.Size([310, 1])\n",
            "psi_angles shape: torch.Size([310, 1])\n",
            "b_factors shape: torch.Size([310, 1])\n",
            "Shape of labels: torch.Size([310])\n"
          ]
        },
        {
          "output_type": "stream",
          "name": "stderr",
          "text": [
            "\r 71%|███████▏  | 724/1013 [02:03<01:40,  2.87it/s]"
          ]
        },
        {
          "output_type": "stream",
          "name": "stdout",
          "text": [
            "esm2_embeddings shape: torch.Size([446, 1280])\n",
            "ss_onehot shape: torch.Size([446, 4])\n",
            "phi_angles shape: torch.Size([446, 1])\n",
            "psi_angles shape: torch.Size([446, 1])\n",
            "b_factors shape: torch.Size([446, 1])\n",
            "Shape of labels: torch.Size([446])\n",
            "esm2_embeddings shape: torch.Size([117, 1280])\n",
            "ss_onehot shape: torch.Size([117, 4])\n",
            "phi_angles shape: torch.Size([117, 1])\n",
            "psi_angles shape: torch.Size([117, 1])\n",
            "b_factors shape: torch.Size([117, 1])\n",
            "Shape of labels: torch.Size([117])\n"
          ]
        },
        {
          "output_type": "stream",
          "name": "stderr",
          "text": [
            " 72%|███████▏  | 728/1013 [02:04<00:54,  5.21it/s]"
          ]
        },
        {
          "output_type": "stream",
          "name": "stdout",
          "text": [
            "esm2_embeddings shape: torch.Size([169, 1280])\n",
            "ss_onehot shape: torch.Size([169, 4])\n",
            "phi_angles shape: torch.Size([169, 1])\n",
            "psi_angles shape: torch.Size([169, 1])\n",
            "b_factors shape: torch.Size([169, 1])\n",
            "Shape of labels: torch.Size([169])\n",
            "esm2_embeddings shape: torch.Size([98, 1280])\n",
            "ss_onehot shape: torch.Size([98, 4])\n",
            "phi_angles shape: torch.Size([98, 1])\n",
            "psi_angles shape: torch.Size([98, 1])\n",
            "b_factors shape: torch.Size([98, 1])\n",
            "Shape of labels: torch.Size([98])\n",
            "esm2_embeddings shape: torch.Size([167, 1280])\n",
            "ss_onehot shape: torch.Size([167, 4])\n",
            "phi_angles shape: torch.Size([167, 1])\n",
            "psi_angles shape: torch.Size([167, 1])\n",
            "b_factors shape: torch.Size([167, 1])\n",
            "Shape of labels: torch.Size([167])\n"
          ]
        },
        {
          "output_type": "stream",
          "name": "stderr",
          "text": [
            "\r 72%|███████▏  | 729/1013 [02:04<01:17,  3.68it/s]"
          ]
        },
        {
          "output_type": "stream",
          "name": "stdout",
          "text": [
            "esm2_embeddings shape: torch.Size([220, 1280])\n",
            "ss_onehot shape: torch.Size([220, 4])\n",
            "phi_angles shape: torch.Size([220, 1])\n",
            "psi_angles shape: torch.Size([220, 1])\n",
            "b_factors shape: torch.Size([220, 1])\n",
            "Shape of labels: torch.Size([220])\n"
          ]
        },
        {
          "output_type": "stream",
          "name": "stderr",
          "text": [
            " 72%|███████▏  | 731/1013 [02:05<01:12,  3.91it/s]"
          ]
        },
        {
          "output_type": "stream",
          "name": "stdout",
          "text": [
            "esm2_embeddings shape: torch.Size([338, 1280])\n",
            "ss_onehot shape: torch.Size([338, 4])\n",
            "phi_angles shape: torch.Size([338, 1])\n",
            "psi_angles shape: torch.Size([338, 1])\n",
            "b_factors shape: torch.Size([338, 1])\n",
            "Shape of labels: torch.Size([338])\n",
            "esm2_embeddings shape: torch.Size([199, 1280])\n",
            "ss_onehot shape: torch.Size([199, 4])\n",
            "phi_angles shape: torch.Size([199, 1])\n",
            "psi_angles shape: torch.Size([199, 1])\n",
            "b_factors shape: torch.Size([199, 1])\n",
            "Shape of labels: torch.Size([199])\n"
          ]
        },
        {
          "output_type": "stream",
          "name": "stderr",
          "text": [
            " 72%|███████▏  | 733/1013 [02:05<00:53,  5.27it/s]"
          ]
        },
        {
          "output_type": "stream",
          "name": "stdout",
          "text": [
            "esm2_embeddings shape: torch.Size([164, 1280])\n",
            "ss_onehot shape: torch.Size([164, 4])\n",
            "phi_angles shape: torch.Size([164, 1])\n",
            "psi_angles shape: torch.Size([164, 1])\n",
            "b_factors shape: torch.Size([164, 1])\n",
            "Shape of labels: torch.Size([164])\n",
            "esm2_embeddings shape: torch.Size([150, 1280])\n",
            "ss_onehot shape: torch.Size([150, 4])\n",
            "phi_angles shape: torch.Size([150, 1])\n",
            "psi_angles shape: torch.Size([150, 1])\n",
            "b_factors shape: torch.Size([150, 1])\n",
            "Shape of labels: torch.Size([150])\n"
          ]
        },
        {
          "output_type": "stream",
          "name": "stderr",
          "text": [
            "\r 72%|███████▏  | 734/1013 [02:05<00:58,  4.76it/s]"
          ]
        },
        {
          "output_type": "stream",
          "name": "stdout",
          "text": [
            "esm2_embeddings shape: torch.Size([274, 1280])\n",
            "ss_onehot shape: torch.Size([274, 4])\n",
            "phi_angles shape: torch.Size([274, 1])\n",
            "psi_angles shape: torch.Size([274, 1])\n",
            "b_factors shape: torch.Size([274, 1])\n",
            "Shape of labels: torch.Size([274])\n"
          ]
        },
        {
          "output_type": "stream",
          "name": "stderr",
          "text": [
            " 73%|███████▎  | 736/1013 [02:06<00:57,  4.78it/s]"
          ]
        },
        {
          "output_type": "stream",
          "name": "stdout",
          "text": [
            "esm2_embeddings shape: torch.Size([329, 1280])\n",
            "ss_onehot shape: torch.Size([329, 4])\n",
            "phi_angles shape: torch.Size([329, 1])\n",
            "psi_angles shape: torch.Size([329, 1])\n",
            "b_factors shape: torch.Size([329, 1])\n",
            "Shape of labels: torch.Size([329])\n",
            "esm2_embeddings shape: torch.Size([167, 1280])\n",
            "ss_onehot shape: torch.Size([167, 4])\n",
            "phi_angles shape: torch.Size([167, 1])\n",
            "psi_angles shape: torch.Size([167, 1])\n",
            "b_factors shape: torch.Size([167, 1])\n",
            "Shape of labels: torch.Size([167])\n"
          ]
        },
        {
          "output_type": "stream",
          "name": "stderr",
          "text": [
            " 73%|███████▎  | 739/1013 [02:06<00:56,  4.84it/s]"
          ]
        },
        {
          "output_type": "stream",
          "name": "stdout",
          "text": [
            "esm2_embeddings shape: torch.Size([201, 1280])\n",
            "ss_onehot shape: torch.Size([201, 4])\n",
            "phi_angles shape: torch.Size([201, 1])\n",
            "psi_angles shape: torch.Size([201, 1])\n",
            "b_factors shape: torch.Size([201, 1])\n",
            "Shape of labels: torch.Size([201])\n",
            "esm2_embeddings shape: torch.Size([130, 1280])\n",
            "ss_onehot shape: torch.Size([130, 4])\n",
            "phi_angles shape: torch.Size([130, 1])\n",
            "psi_angles shape: torch.Size([130, 1])\n",
            "b_factors shape: torch.Size([130, 1])\n",
            "Shape of labels: torch.Size([130])\n",
            "esm2_embeddings shape: torch.Size([99, 1280])\n",
            "ss_onehot shape: torch.Size([99, 4])\n",
            "phi_angles shape: torch.Size([99, 1])\n",
            "psi_angles shape: torch.Size([99, 1])\n",
            "b_factors shape: torch.Size([99, 1])\n",
            "Shape of labels: torch.Size([99])\n"
          ]
        },
        {
          "output_type": "stream",
          "name": "stderr",
          "text": [
            " 73%|███████▎  | 741/1013 [02:07<00:52,  5.16it/s]"
          ]
        },
        {
          "output_type": "stream",
          "name": "stdout",
          "text": [
            "esm2_embeddings shape: torch.Size([282, 1280])\n",
            "ss_onehot shape: torch.Size([282, 4])\n",
            "phi_angles shape: torch.Size([282, 1])\n",
            "psi_angles shape: torch.Size([282, 1])\n",
            "b_factors shape: torch.Size([282, 1])\n",
            "Shape of labels: torch.Size([282])\n",
            "esm2_embeddings shape: torch.Size([160, 1280])\n",
            "ss_onehot shape: torch.Size([160, 4])\n",
            "phi_angles shape: torch.Size([160, 1])\n",
            "psi_angles shape: torch.Size([160, 1])\n",
            "b_factors shape: torch.Size([160, 1])\n",
            "Shape of labels: torch.Size([160])\n"
          ]
        },
        {
          "output_type": "stream",
          "name": "stderr",
          "text": [
            " 73%|███████▎  | 743/1013 [02:07<00:51,  5.24it/s]"
          ]
        },
        {
          "output_type": "stream",
          "name": "stdout",
          "text": [
            "esm2_embeddings shape: torch.Size([264, 1280])\n",
            "ss_onehot shape: torch.Size([264, 4])\n",
            "phi_angles shape: torch.Size([264, 1])\n",
            "psi_angles shape: torch.Size([264, 1])\n",
            "b_factors shape: torch.Size([264, 1])\n",
            "Shape of labels: torch.Size([264])\n",
            "esm2_embeddings shape: torch.Size([185, 1280])\n",
            "ss_onehot shape: torch.Size([185, 4])\n",
            "phi_angles shape: torch.Size([185, 1])\n",
            "psi_angles shape: torch.Size([185, 1])\n",
            "b_factors shape: torch.Size([185, 1])\n",
            "Shape of labels: torch.Size([185])\n",
            "esm2_embeddings shape: torch.Size([65, 1280])\n",
            "ss_onehot shape: torch.Size([65, 4])\n",
            "phi_angles shape: torch.Size([65, 1])\n",
            "psi_angles shape: torch.Size([65, 1])\n",
            "b_factors shape: torch.Size([65, 1])\n",
            "Shape of labels: torch.Size([65])\n"
          ]
        },
        {
          "output_type": "stream",
          "name": "stderr",
          "text": [
            " 74%|███████▎  | 747/1013 [02:08<00:31,  8.57it/s]"
          ]
        },
        {
          "output_type": "stream",
          "name": "stdout",
          "text": [
            "esm2_embeddings shape: torch.Size([145, 1280])\n",
            "ss_onehot shape: torch.Size([145, 4])\n",
            "phi_angles shape: torch.Size([145, 1])\n",
            "psi_angles shape: torch.Size([145, 1])\n",
            "b_factors shape: torch.Size([145, 1])\n",
            "Shape of labels: torch.Size([145])\n",
            "esm2_embeddings shape: torch.Size([138, 1280])\n",
            "ss_onehot shape: torch.Size([138, 4])\n",
            "phi_angles shape: torch.Size([138, 1])\n",
            "psi_angles shape: torch.Size([138, 1])\n",
            "b_factors shape: torch.Size([138, 1])\n",
            "Shape of labels: torch.Size([138])\n",
            "esm2_embeddings shape: torch.Size([94, 1280])\n",
            "ss_onehot shape: torch.Size([94, 4])\n",
            "phi_angles shape: torch.Size([94, 1])\n",
            "psi_angles shape: torch.Size([94, 1])\n",
            "b_factors shape: torch.Size([94, 1])\n",
            "Shape of labels: torch.Size([94])\n"
          ]
        },
        {
          "output_type": "stream",
          "name": "stderr",
          "text": [
            "\r 74%|███████▍  | 749/1013 [02:08<00:25, 10.24it/s]"
          ]
        },
        {
          "output_type": "stream",
          "name": "stdout",
          "text": [
            "esm2_embeddings shape: torch.Size([104, 1280])\n",
            "ss_onehot shape: torch.Size([104, 4])\n",
            "phi_angles shape: torch.Size([104, 1])\n",
            "psi_angles shape: torch.Size([104, 1])\n",
            "b_factors shape: torch.Size([104, 1])\n",
            "Shape of labels: torch.Size([104])\n",
            "esm2_embeddings shape: torch.Size([95, 1280])\n",
            "ss_onehot shape: torch.Size([95, 4])\n",
            "phi_angles shape: torch.Size([95, 1])\n",
            "psi_angles shape: torch.Size([95, 1])\n",
            "b_factors shape: torch.Size([95, 1])\n",
            "Shape of labels: torch.Size([95])\n"
          ]
        },
        {
          "output_type": "stream",
          "name": "stderr",
          "text": [
            "\r 74%|███████▍  | 751/1013 [02:08<00:47,  5.50it/s]"
          ]
        },
        {
          "output_type": "stream",
          "name": "stdout",
          "text": [
            "esm2_embeddings shape: torch.Size([185, 1280])\n",
            "ss_onehot shape: torch.Size([185, 4])\n",
            "phi_angles shape: torch.Size([185, 1])\n",
            "psi_angles shape: torch.Size([185, 1])\n",
            "b_factors shape: torch.Size([185, 1])\n",
            "Shape of labels: torch.Size([185])\n",
            "esm2_embeddings shape: torch.Size([195, 1280])\n",
            "ss_onehot shape: torch.Size([195, 4])\n",
            "phi_angles shape: torch.Size([195, 1])\n",
            "psi_angles shape: torch.Size([195, 1])\n",
            "b_factors shape: torch.Size([195, 1])\n",
            "Shape of labels: torch.Size([195])\n"
          ]
        },
        {
          "output_type": "stream",
          "name": "stderr",
          "text": [
            " 74%|███████▍  | 753/1013 [02:09<00:48,  5.36it/s]"
          ]
        },
        {
          "output_type": "stream",
          "name": "stdout",
          "text": [
            "esm2_embeddings shape: torch.Size([288, 1280])\n",
            "ss_onehot shape: torch.Size([288, 4])\n",
            "phi_angles shape: torch.Size([288, 1])\n",
            "psi_angles shape: torch.Size([288, 1])\n",
            "b_factors shape: torch.Size([288, 1])\n",
            "Shape of labels: torch.Size([288])\n",
            "esm2_embeddings shape: torch.Size([172, 1280])\n",
            "ss_onehot shape: torch.Size([172, 4])\n",
            "phi_angles shape: torch.Size([172, 1])\n",
            "psi_angles shape: torch.Size([172, 1])\n",
            "b_factors shape: torch.Size([172, 1])\n",
            "Shape of labels: torch.Size([172])\n"
          ]
        },
        {
          "output_type": "stream",
          "name": "stderr",
          "text": [
            "\r 75%|███████▍  | 755/1013 [02:09<00:40,  6.35it/s]"
          ]
        },
        {
          "output_type": "stream",
          "name": "stdout",
          "text": [
            "esm2_embeddings shape: torch.Size([135, 1280])\n",
            "ss_onehot shape: torch.Size([135, 4])\n",
            "phi_angles shape: torch.Size([135, 1])\n",
            "psi_angles shape: torch.Size([135, 1])\n",
            "b_factors shape: torch.Size([135, 1])\n",
            "Shape of labels: torch.Size([135])\n",
            "esm2_embeddings shape: torch.Size([167, 1280])\n",
            "ss_onehot shape: torch.Size([167, 4])\n",
            "phi_angles shape: torch.Size([167, 1])\n",
            "psi_angles shape: torch.Size([167, 1])\n",
            "b_factors shape: torch.Size([167, 1])\n",
            "Shape of labels: torch.Size([167])\n"
          ]
        },
        {
          "output_type": "stream",
          "name": "stderr",
          "text": [
            " 75%|███████▍  | 758/1013 [02:09<00:31,  8.21it/s]"
          ]
        },
        {
          "output_type": "stream",
          "name": "stdout",
          "text": [
            "esm2_embeddings shape: torch.Size([144, 1280])\n",
            "ss_onehot shape: torch.Size([144, 4])\n",
            "phi_angles shape: torch.Size([144, 1])\n",
            "psi_angles shape: torch.Size([144, 1])\n",
            "b_factors shape: torch.Size([144, 1])\n",
            "Shape of labels: torch.Size([144])\n",
            "esm2_embeddings shape: torch.Size([115, 1280])\n",
            "ss_onehot shape: torch.Size([115, 4])\n",
            "phi_angles shape: torch.Size([115, 1])\n",
            "psi_angles shape: torch.Size([115, 1])\n",
            "b_factors shape: torch.Size([115, 1])\n",
            "Shape of labels: torch.Size([115])\n",
            "esm2_embeddings shape: torch.Size([123, 1280])\n",
            "ss_onehot shape: torch.Size([123, 4])\n",
            "phi_angles shape: torch.Size([123, 1])\n",
            "psi_angles shape: torch.Size([123, 1])\n",
            "b_factors shape: torch.Size([123, 1])\n",
            "Shape of labels: torch.Size([123])\n"
          ]
        },
        {
          "output_type": "stream",
          "name": "stderr",
          "text": [
            "\r 75%|███████▍  | 759/1013 [02:09<00:32,  7.76it/s]"
          ]
        },
        {
          "output_type": "stream",
          "name": "stdout",
          "text": [
            "esm2_embeddings shape: torch.Size([191, 1280])\n",
            "ss_onehot shape: torch.Size([191, 4])\n",
            "phi_angles shape: torch.Size([191, 1])\n",
            "psi_angles shape: torch.Size([191, 1])\n",
            "b_factors shape: torch.Size([191, 1])\n",
            "Shape of labels: torch.Size([191])\n"
          ]
        },
        {
          "output_type": "stream",
          "name": "stderr",
          "text": [
            "\r 75%|███████▌  | 760/1013 [02:10<00:42,  5.89it/s]"
          ]
        },
        {
          "output_type": "stream",
          "name": "stdout",
          "text": [
            "esm2_embeddings shape: torch.Size([322, 1280])\n",
            "ss_onehot shape: torch.Size([322, 4])\n",
            "phi_angles shape: torch.Size([322, 1])\n",
            "psi_angles shape: torch.Size([322, 1])\n",
            "b_factors shape: torch.Size([322, 1])\n",
            "Shape of labels: torch.Size([322])\n"
          ]
        },
        {
          "output_type": "stream",
          "name": "stderr",
          "text": [
            "\r 75%|███████▌  | 761/1013 [02:10<01:04,  3.90it/s]"
          ]
        },
        {
          "output_type": "stream",
          "name": "stdout",
          "text": [
            "esm2_embeddings shape: torch.Size([157, 1280])\n",
            "ss_onehot shape: torch.Size([157, 4])\n",
            "phi_angles shape: torch.Size([157, 1])\n",
            "psi_angles shape: torch.Size([157, 1])\n",
            "b_factors shape: torch.Size([157, 1])\n",
            "Shape of labels: torch.Size([157])\n",
            "esm2_embeddings shape: torch.Size([133, 1280])\n",
            "ss_onehot shape: torch.Size([133, 4])\n",
            "phi_angles shape: torch.Size([133, 1])\n",
            "psi_angles shape: torch.Size([133, 1])\n",
            "b_factors shape: torch.Size([133, 1])\n",
            "Shape of labels: torch.Size([133])\n"
          ]
        },
        {
          "output_type": "stream",
          "name": "stderr",
          "text": [
            " 76%|███████▌  | 765/1013 [02:11<00:42,  5.88it/s]"
          ]
        },
        {
          "output_type": "stream",
          "name": "stdout",
          "text": [
            "esm2_embeddings shape: torch.Size([246, 1280])\n",
            "ss_onehot shape: torch.Size([246, 4])\n",
            "phi_angles shape: torch.Size([246, 1])\n",
            "psi_angles shape: torch.Size([246, 1])\n",
            "b_factors shape: torch.Size([246, 1])\n",
            "Shape of labels: torch.Size([246])\n",
            "esm2_embeddings shape: torch.Size([60, 1280])\n",
            "ss_onehot shape: torch.Size([60, 4])\n",
            "phi_angles shape: torch.Size([60, 1])\n",
            "psi_angles shape: torch.Size([60, 1])\n",
            "b_factors shape: torch.Size([60, 1])\n",
            "Shape of labels: torch.Size([60])\n",
            "esm2_embeddings shape: torch.Size([191, 1280])\n",
            "ss_onehot shape: torch.Size([191, 4])\n",
            "phi_angles shape: torch.Size([191, 1])\n",
            "psi_angles shape: torch.Size([191, 1])\n",
            "b_factors shape: torch.Size([191, 1])\n",
            "Shape of labels: torch.Size([191])\n"
          ]
        },
        {
          "output_type": "stream",
          "name": "stderr",
          "text": [
            " 76%|███████▌  | 767/1013 [02:11<00:36,  6.76it/s]"
          ]
        },
        {
          "output_type": "stream",
          "name": "stdout",
          "text": [
            "esm2_embeddings shape: torch.Size([144, 1280])\n",
            "ss_onehot shape: torch.Size([144, 4])\n",
            "phi_angles shape: torch.Size([144, 1])\n",
            "psi_angles shape: torch.Size([144, 1])\n",
            "b_factors shape: torch.Size([144, 1])\n",
            "Shape of labels: torch.Size([144])\n",
            "esm2_embeddings shape: torch.Size([154, 1280])\n",
            "ss_onehot shape: torch.Size([154, 4])\n",
            "phi_angles shape: torch.Size([154, 1])\n",
            "psi_angles shape: torch.Size([154, 1])\n",
            "b_factors shape: torch.Size([154, 1])\n",
            "Shape of labels: torch.Size([154])\n",
            "esm2_embeddings shape: torch.Size([110, 1280])\n",
            "ss_onehot shape: torch.Size([110, 4])\n",
            "phi_angles shape: torch.Size([110, 1])\n",
            "psi_angles shape: torch.Size([110, 1])\n",
            "b_factors shape: torch.Size([110, 1])\n",
            "Shape of labels: torch.Size([110])\n"
          ]
        },
        {
          "output_type": "stream",
          "name": "stderr",
          "text": [
            " 76%|███████▌  | 770/1013 [02:11<00:33,  7.27it/s]"
          ]
        },
        {
          "output_type": "stream",
          "name": "stdout",
          "text": [
            "esm2_embeddings shape: torch.Size([227, 1280])\n",
            "ss_onehot shape: torch.Size([227, 4])\n",
            "phi_angles shape: torch.Size([227, 1])\n",
            "psi_angles shape: torch.Size([227, 1])\n",
            "b_factors shape: torch.Size([227, 1])\n",
            "Shape of labels: torch.Size([227])\n",
            "esm2_embeddings shape: torch.Size([146, 1280])\n",
            "ss_onehot shape: torch.Size([146, 4])\n",
            "phi_angles shape: torch.Size([146, 1])\n",
            "psi_angles shape: torch.Size([146, 1])\n",
            "b_factors shape: torch.Size([146, 1])\n",
            "Shape of labels: torch.Size([146])\n"
          ]
        },
        {
          "output_type": "stream",
          "name": "stderr",
          "text": [
            "\r 76%|███████▌  | 772/1013 [02:12<00:30,  8.01it/s]"
          ]
        },
        {
          "output_type": "stream",
          "name": "stdout",
          "text": [
            "esm2_embeddings shape: torch.Size([128, 1280])\n",
            "ss_onehot shape: torch.Size([128, 4])\n",
            "phi_angles shape: torch.Size([128, 1])\n",
            "psi_angles shape: torch.Size([128, 1])\n",
            "b_factors shape: torch.Size([128, 1])\n",
            "Shape of labels: torch.Size([128])\n",
            "esm2_embeddings shape: torch.Size([159, 1280])\n",
            "ss_onehot shape: torch.Size([159, 4])\n",
            "phi_angles shape: torch.Size([159, 1])\n",
            "psi_angles shape: torch.Size([159, 1])\n",
            "b_factors shape: torch.Size([159, 1])\n",
            "Shape of labels: torch.Size([159])\n"
          ]
        },
        {
          "output_type": "stream",
          "name": "stderr",
          "text": [
            "\r 76%|███████▋  | 773/1013 [02:12<00:32,  7.49it/s]"
          ]
        },
        {
          "output_type": "stream",
          "name": "stdout",
          "text": [
            "esm2_embeddings shape: torch.Size([204, 1280])\n",
            "ss_onehot shape: torch.Size([204, 4])\n",
            "phi_angles shape: torch.Size([204, 1])\n",
            "psi_angles shape: torch.Size([204, 1])\n",
            "b_factors shape: torch.Size([204, 1])\n",
            "Shape of labels: torch.Size([204])\n"
          ]
        },
        {
          "output_type": "stream",
          "name": "stderr",
          "text": [
            "\r 76%|███████▋  | 774/1013 [02:12<00:50,  4.75it/s]"
          ]
        },
        {
          "output_type": "stream",
          "name": "stdout",
          "text": [
            "esm2_embeddings shape: torch.Size([97, 1280])\n",
            "ss_onehot shape: torch.Size([97, 4])\n",
            "phi_angles shape: torch.Size([97, 1])\n",
            "psi_angles shape: torch.Size([97, 1])\n",
            "b_factors shape: torch.Size([97, 1])\n",
            "Shape of labels: torch.Size([97])\n"
          ]
        },
        {
          "output_type": "stream",
          "name": "stderr",
          "text": [
            " 77%|███████▋  | 776/1013 [02:13<00:45,  5.21it/s]"
          ]
        },
        {
          "output_type": "stream",
          "name": "stdout",
          "text": [
            "esm2_embeddings shape: torch.Size([233, 1280])\n",
            "ss_onehot shape: torch.Size([233, 4])\n",
            "phi_angles shape: torch.Size([233, 1])\n",
            "psi_angles shape: torch.Size([233, 1])\n",
            "b_factors shape: torch.Size([233, 1])\n",
            "Shape of labels: torch.Size([233])\n",
            "esm2_embeddings shape: torch.Size([186, 1280])\n",
            "ss_onehot shape: torch.Size([186, 4])\n",
            "phi_angles shape: torch.Size([186, 1])\n",
            "psi_angles shape: torch.Size([186, 1])\n",
            "b_factors shape: torch.Size([186, 1])\n",
            "Shape of labels: torch.Size([186])\n"
          ]
        },
        {
          "output_type": "stream",
          "name": "stderr",
          "text": [
            "\r 77%|███████▋  | 778/1013 [02:13<00:33,  7.05it/s]"
          ]
        },
        {
          "output_type": "stream",
          "name": "stdout",
          "text": [
            "esm2_embeddings shape: torch.Size([96, 1280])\n",
            "ss_onehot shape: torch.Size([96, 4])\n",
            "phi_angles shape: torch.Size([96, 1])\n",
            "psi_angles shape: torch.Size([96, 1])\n",
            "b_factors shape: torch.Size([96, 1])\n",
            "Shape of labels: torch.Size([96])\n",
            "esm2_embeddings shape: torch.Size([125, 1280])\n",
            "ss_onehot shape: torch.Size([125, 4])\n",
            "phi_angles shape: torch.Size([125, 1])\n",
            "psi_angles shape: torch.Size([125, 1])\n",
            "b_factors shape: torch.Size([125, 1])\n",
            "Shape of labels: torch.Size([125])\n"
          ]
        },
        {
          "output_type": "stream",
          "name": "stderr",
          "text": [
            " 77%|███████▋  | 780/1013 [02:13<00:30,  7.70it/s]"
          ]
        },
        {
          "output_type": "stream",
          "name": "stdout",
          "text": [
            "esm2_embeddings shape: torch.Size([169, 1280])\n",
            "ss_onehot shape: torch.Size([169, 4])\n",
            "phi_angles shape: torch.Size([169, 1])\n",
            "psi_angles shape: torch.Size([169, 1])\n",
            "b_factors shape: torch.Size([169, 1])\n",
            "Shape of labels: torch.Size([169])\n",
            "esm2_embeddings shape: torch.Size([146, 1280])\n",
            "ss_onehot shape: torch.Size([146, 4])\n",
            "phi_angles shape: torch.Size([146, 1])\n",
            "psi_angles shape: torch.Size([146, 1])\n",
            "b_factors shape: torch.Size([146, 1])\n",
            "Shape of labels: torch.Size([146])\n"
          ]
        },
        {
          "output_type": "stream",
          "name": "stderr",
          "text": [
            " 77%|███████▋  | 782/1013 [02:13<00:27,  8.49it/s]"
          ]
        },
        {
          "output_type": "stream",
          "name": "stdout",
          "text": [
            "esm2_embeddings shape: torch.Size([140, 1280])\n",
            "ss_onehot shape: torch.Size([140, 4])\n",
            "phi_angles shape: torch.Size([140, 1])\n",
            "psi_angles shape: torch.Size([140, 1])\n",
            "b_factors shape: torch.Size([140, 1])\n",
            "Shape of labels: torch.Size([140])\n",
            "esm2_embeddings shape: torch.Size([150, 1280])\n",
            "ss_onehot shape: torch.Size([150, 4])\n",
            "phi_angles shape: torch.Size([150, 1])\n",
            "psi_angles shape: torch.Size([150, 1])\n",
            "b_factors shape: torch.Size([150, 1])\n",
            "Shape of labels: torch.Size([150])\n",
            "esm2_embeddings shape: torch.Size([126, 1280])\n",
            "ss_onehot shape: torch.Size([126, 4])\n",
            "phi_angles shape: torch.Size([126, 1])\n",
            "psi_angles shape: torch.Size([126, 1])\n",
            "b_factors shape: torch.Size([126, 1])\n",
            "Shape of labels: torch.Size([126])\n"
          ]
        },
        {
          "output_type": "stream",
          "name": "stderr",
          "text": [
            "\r 77%|███████▋  | 784/1013 [02:13<00:23,  9.75it/s]"
          ]
        },
        {
          "output_type": "stream",
          "name": "stdout",
          "text": [
            "esm2_embeddings shape: torch.Size([119, 1280])\n",
            "ss_onehot shape: torch.Size([119, 4])\n",
            "phi_angles shape: torch.Size([119, 1])\n",
            "psi_angles shape: torch.Size([119, 1])\n",
            "b_factors shape: torch.Size([119, 1])\n",
            "Shape of labels: torch.Size([119])\n",
            "esm2_embeddings shape: torch.Size([101, 1280])\n",
            "ss_onehot shape: torch.Size([101, 4])\n",
            "phi_angles shape: torch.Size([101, 1])\n",
            "psi_angles shape: torch.Size([101, 1])\n",
            "b_factors shape: torch.Size([101, 1])\n",
            "Shape of labels: torch.Size([101])\n"
          ]
        },
        {
          "output_type": "stream",
          "name": "stderr",
          "text": [
            "\r 78%|███████▊  | 786/1013 [02:14<00:30,  7.42it/s]"
          ]
        },
        {
          "output_type": "stream",
          "name": "stdout",
          "text": [
            "esm2_embeddings shape: torch.Size([300, 1280])\n",
            "ss_onehot shape: torch.Size([300, 4])\n",
            "phi_angles shape: torch.Size([300, 1])\n",
            "psi_angles shape: torch.Size([300, 1])\n",
            "b_factors shape: torch.Size([300, 1])\n",
            "Shape of labels: torch.Size([300])\n"
          ]
        },
        {
          "output_type": "stream",
          "name": "stderr",
          "text": [
            " 78%|███████▊  | 788/1013 [02:14<00:43,  5.22it/s]"
          ]
        },
        {
          "output_type": "stream",
          "name": "stdout",
          "text": [
            "esm2_embeddings shape: torch.Size([135, 1280])\n",
            "ss_onehot shape: torch.Size([135, 4])\n",
            "phi_angles shape: torch.Size([135, 1])\n",
            "psi_angles shape: torch.Size([135, 1])\n",
            "b_factors shape: torch.Size([135, 1])\n",
            "Shape of labels: torch.Size([135])\n",
            "esm2_embeddings shape: torch.Size([143, 1280])\n",
            "ss_onehot shape: torch.Size([143, 4])\n",
            "phi_angles shape: torch.Size([143, 1])\n",
            "psi_angles shape: torch.Size([143, 1])\n",
            "b_factors shape: torch.Size([143, 1])\n",
            "Shape of labels: torch.Size([143])\n"
          ]
        },
        {
          "output_type": "stream",
          "name": "stderr",
          "text": [
            " 78%|███████▊  | 791/1013 [02:15<00:29,  7.44it/s]"
          ]
        },
        {
          "output_type": "stream",
          "name": "stdout",
          "text": [
            "esm2_embeddings shape: torch.Size([163, 1280])\n",
            "ss_onehot shape: torch.Size([163, 4])\n",
            "phi_angles shape: torch.Size([163, 1])\n",
            "psi_angles shape: torch.Size([163, 1])\n",
            "b_factors shape: torch.Size([163, 1])\n",
            "Shape of labels: torch.Size([163])\n",
            "esm2_embeddings shape: torch.Size([90, 1280])\n",
            "ss_onehot shape: torch.Size([90, 4])\n",
            "phi_angles shape: torch.Size([90, 1])\n",
            "psi_angles shape: torch.Size([90, 1])\n",
            "b_factors shape: torch.Size([90, 1])\n",
            "Shape of labels: torch.Size([90])\n",
            "esm2_embeddings shape: torch.Size([131, 1280])\n",
            "ss_onehot shape: torch.Size([131, 4])\n",
            "phi_angles shape: torch.Size([131, 1])\n",
            "psi_angles shape: torch.Size([131, 1])\n",
            "b_factors shape: torch.Size([131, 1])\n",
            "Shape of labels: torch.Size([131])\n"
          ]
        },
        {
          "output_type": "stream",
          "name": "stderr",
          "text": [
            " 78%|███████▊  | 793/1013 [02:15<00:27,  7.93it/s]"
          ]
        },
        {
          "output_type": "stream",
          "name": "stdout",
          "text": [
            "esm2_embeddings shape: torch.Size([175, 1280])\n",
            "ss_onehot shape: torch.Size([175, 4])\n",
            "phi_angles shape: torch.Size([175, 1])\n",
            "psi_angles shape: torch.Size([175, 1])\n",
            "b_factors shape: torch.Size([175, 1])\n",
            "Shape of labels: torch.Size([175])\n",
            "esm2_embeddings shape: torch.Size([141, 1280])\n",
            "ss_onehot shape: torch.Size([141, 4])\n",
            "phi_angles shape: torch.Size([141, 1])\n",
            "psi_angles shape: torch.Size([141, 1])\n",
            "b_factors shape: torch.Size([141, 1])\n",
            "Shape of labels: torch.Size([141])\n",
            "esm2_embeddings shape: torch.Size([120, 1280])\n",
            "ss_onehot shape: torch.Size([120, 4])\n",
            "phi_angles shape: torch.Size([120, 1])\n",
            "psi_angles shape: torch.Size([120, 1])\n",
            "b_factors shape: torch.Size([120, 1])\n",
            "Shape of labels: torch.Size([120])\n"
          ]
        },
        {
          "output_type": "stream",
          "name": "stderr",
          "text": [
            " 79%|███████▊  | 797/1013 [02:16<00:30,  7.05it/s]"
          ]
        },
        {
          "output_type": "stream",
          "name": "stdout",
          "text": [
            "esm2_embeddings shape: torch.Size([421, 1280])\n",
            "ss_onehot shape: torch.Size([421, 4])\n",
            "phi_angles shape: torch.Size([421, 1])\n",
            "psi_angles shape: torch.Size([421, 1])\n",
            "b_factors shape: torch.Size([421, 1])\n",
            "Shape of labels: torch.Size([421])\n",
            "esm2_embeddings shape: torch.Size([41, 1280])\n",
            "ss_onehot shape: torch.Size([41, 4])\n",
            "phi_angles shape: torch.Size([41, 1])\n",
            "psi_angles shape: torch.Size([41, 1])\n",
            "b_factors shape: torch.Size([41, 1])\n",
            "Shape of labels: torch.Size([41])\n",
            "esm2_embeddings shape: torch.Size([112, 1280])\n",
            "ss_onehot shape: torch.Size([112, 4])\n",
            "phi_angles shape: torch.Size([112, 1])\n",
            "psi_angles shape: torch.Size([112, 1])\n",
            "b_factors shape: torch.Size([112, 1])\n",
            "Shape of labels: torch.Size([112])\n"
          ]
        },
        {
          "output_type": "stream",
          "name": "stderr",
          "text": [
            "\r 79%|███████▉  | 799/1013 [02:16<00:28,  7.44it/s]"
          ]
        },
        {
          "output_type": "stream",
          "name": "stdout",
          "text": [
            "esm2_embeddings shape: torch.Size([191, 1280])\n",
            "ss_onehot shape: torch.Size([191, 4])\n",
            "phi_angles shape: torch.Size([191, 1])\n",
            "psi_angles shape: torch.Size([191, 1])\n",
            "b_factors shape: torch.Size([191, 1])\n",
            "Shape of labels: torch.Size([191])\n",
            "esm2_embeddings shape: torch.Size([129, 1280])\n",
            "ss_onehot shape: torch.Size([129, 4])\n",
            "phi_angles shape: torch.Size([129, 1])\n",
            "psi_angles shape: torch.Size([129, 1])\n",
            "b_factors shape: torch.Size([129, 1])\n",
            "Shape of labels: torch.Size([129])\n",
            "esm2_embeddings shape: torch.Size([79, 1280])\n",
            "ss_onehot shape: torch.Size([79, 4])\n",
            "phi_angles shape: torch.Size([79, 1])\n",
            "psi_angles shape: torch.Size([79, 1])\n",
            "b_factors shape: torch.Size([79, 1])\n",
            "Shape of labels: torch.Size([79])\n"
          ]
        },
        {
          "output_type": "stream",
          "name": "stderr",
          "text": [
            "\r 79%|███████▉  | 801/1013 [02:17<00:50,  4.18it/s]"
          ]
        },
        {
          "output_type": "stream",
          "name": "stdout",
          "text": [
            "esm2_embeddings shape: torch.Size([398, 1280])\n",
            "ss_onehot shape: torch.Size([398, 4])\n",
            "phi_angles shape: torch.Size([398, 1])\n",
            "psi_angles shape: torch.Size([398, 1])\n",
            "b_factors shape: torch.Size([398, 1])\n",
            "Shape of labels: torch.Size([398])\n"
          ]
        },
        {
          "output_type": "stream",
          "name": "stderr",
          "text": [
            " 79%|███████▉  | 803/1013 [02:17<00:55,  3.78it/s]"
          ]
        },
        {
          "output_type": "stream",
          "name": "stdout",
          "text": [
            "esm2_embeddings shape: torch.Size([461, 1280])\n",
            "ss_onehot shape: torch.Size([461, 4])\n",
            "phi_angles shape: torch.Size([461, 1])\n",
            "psi_angles shape: torch.Size([461, 1])\n",
            "b_factors shape: torch.Size([461, 1])\n",
            "Shape of labels: torch.Size([461])\n",
            "esm2_embeddings shape: torch.Size([166, 1280])\n",
            "ss_onehot shape: torch.Size([166, 4])\n",
            "phi_angles shape: torch.Size([166, 1])\n",
            "psi_angles shape: torch.Size([166, 1])\n",
            "b_factors shape: torch.Size([166, 1])\n",
            "Shape of labels: torch.Size([166])\n"
          ]
        },
        {
          "output_type": "stream",
          "name": "stderr",
          "text": [
            "\r 79%|███████▉  | 805/1013 [02:18<00:43,  4.83it/s]"
          ]
        },
        {
          "output_type": "stream",
          "name": "stdout",
          "text": [
            "esm2_embeddings shape: torch.Size([116, 1280])\n",
            "ss_onehot shape: torch.Size([116, 4])\n",
            "phi_angles shape: torch.Size([116, 1])\n",
            "psi_angles shape: torch.Size([116, 1])\n",
            "b_factors shape: torch.Size([116, 1])\n",
            "Shape of labels: torch.Size([116])\n",
            "esm2_embeddings shape: torch.Size([181, 1280])\n",
            "ss_onehot shape: torch.Size([181, 4])\n",
            "phi_angles shape: torch.Size([181, 1])\n",
            "psi_angles shape: torch.Size([181, 1])\n",
            "b_factors shape: torch.Size([181, 1])\n",
            "Shape of labels: torch.Size([181])\n"
          ]
        },
        {
          "output_type": "stream",
          "name": "stderr",
          "text": [
            "\r 80%|███████▉  | 807/1013 [02:18<00:34,  6.02it/s]"
          ]
        },
        {
          "output_type": "stream",
          "name": "stdout",
          "text": [
            "esm2_embeddings shape: torch.Size([123, 1280])\n",
            "ss_onehot shape: torch.Size([123, 4])\n",
            "phi_angles shape: torch.Size([123, 1])\n",
            "psi_angles shape: torch.Size([123, 1])\n",
            "b_factors shape: torch.Size([123, 1])\n",
            "Shape of labels: torch.Size([123])\n",
            "esm2_embeddings shape: torch.Size([125, 1280])\n",
            "ss_onehot shape: torch.Size([125, 4])\n",
            "phi_angles shape: torch.Size([125, 1])\n",
            "psi_angles shape: torch.Size([125, 1])\n",
            "b_factors shape: torch.Size([125, 1])\n",
            "Shape of labels: torch.Size([125])\n"
          ]
        },
        {
          "output_type": "stream",
          "name": "stderr",
          "text": [
            " 80%|███████▉  | 810/1013 [02:18<00:27,  7.46it/s]"
          ]
        },
        {
          "output_type": "stream",
          "name": "stdout",
          "text": [
            "esm2_embeddings shape: torch.Size([215, 1280])\n",
            "ss_onehot shape: torch.Size([215, 4])\n",
            "phi_angles shape: torch.Size([215, 1])\n",
            "psi_angles shape: torch.Size([215, 1])\n",
            "b_factors shape: torch.Size([215, 1])\n",
            "Shape of labels: torch.Size([215])\n",
            "esm2_embeddings shape: torch.Size([79, 1280])\n",
            "ss_onehot shape: torch.Size([79, 4])\n",
            "phi_angles shape: torch.Size([79, 1])\n",
            "psi_angles shape: torch.Size([79, 1])\n",
            "b_factors shape: torch.Size([79, 1])\n",
            "Shape of labels: torch.Size([79])\n",
            "esm2_embeddings shape: torch.Size([129, 1280])\n",
            "ss_onehot shape: torch.Size([129, 4])\n",
            "phi_angles shape: torch.Size([129, 1])\n",
            "psi_angles shape: torch.Size([129, 1])\n",
            "b_factors shape: torch.Size([129, 1])\n",
            "Shape of labels: torch.Size([129])\n"
          ]
        },
        {
          "output_type": "stream",
          "name": "stderr",
          "text": [
            "\r 80%|████████  | 811/1013 [02:19<00:40,  4.94it/s]"
          ]
        },
        {
          "output_type": "stream",
          "name": "stdout",
          "text": [
            "esm2_embeddings shape: torch.Size([105, 1280])\n",
            "ss_onehot shape: torch.Size([105, 4])\n",
            "phi_angles shape: torch.Size([105, 1])\n",
            "psi_angles shape: torch.Size([105, 1])\n",
            "b_factors shape: torch.Size([105, 1])\n",
            "Shape of labels: torch.Size([105])\n",
            "esm2_embeddings shape: torch.Size([236, 1280])\n",
            "ss_onehot shape: torch.Size([236, 4])\n",
            "phi_angles shape: torch.Size([236, 1])\n",
            "psi_angles shape: torch.Size([236, 1])\n",
            "b_factors shape: torch.Size([236, 1])\n"
          ]
        },
        {
          "output_type": "stream",
          "name": "stderr",
          "text": [
            "\r 80%|████████  | 812/1013 [02:19<00:40,  4.95it/s]"
          ]
        },
        {
          "output_type": "stream",
          "name": "stdout",
          "text": [
            "Shape of labels: torch.Size([236])\n",
            "esm2_embeddings shape: torch.Size([90, 1280])\n",
            "ss_onehot shape: torch.Size([90, 4])\n",
            "phi_angles shape: torch.Size([90, 1])\n",
            "psi_angles shape: torch.Size([90, 1])\n",
            "b_factors shape: torch.Size([90, 1])\n",
            "Shape of labels: torch.Size([90])\n"
          ]
        },
        {
          "output_type": "stream",
          "name": "stderr",
          "text": [
            " 80%|████████  | 815/1013 [02:19<00:33,  5.97it/s]"
          ]
        },
        {
          "output_type": "stream",
          "name": "stdout",
          "text": [
            "esm2_embeddings shape: torch.Size([280, 1280])\n",
            "ss_onehot shape: torch.Size([280, 4])\n",
            "phi_angles shape: torch.Size([280, 1])\n",
            "psi_angles shape: torch.Size([280, 1])\n",
            "b_factors shape: torch.Size([280, 1])\n",
            "Shape of labels: torch.Size([280])\n",
            "esm2_embeddings shape: torch.Size([136, 1280])\n",
            "ss_onehot shape: torch.Size([136, 4])\n",
            "phi_angles shape: torch.Size([136, 1])\n",
            "psi_angles shape: torch.Size([136, 1])\n",
            "b_factors shape: torch.Size([136, 1])\n",
            "Shape of labels: torch.Size([136])\n"
          ]
        },
        {
          "output_type": "stream",
          "name": "stderr",
          "text": [
            " 81%|████████  | 817/1013 [02:20<00:39,  4.98it/s]"
          ]
        },
        {
          "output_type": "stream",
          "name": "stdout",
          "text": [
            "esm2_embeddings shape: torch.Size([365, 1280])\n",
            "ss_onehot shape: torch.Size([365, 4])\n",
            "phi_angles shape: torch.Size([365, 1])\n",
            "psi_angles shape: torch.Size([365, 1])\n",
            "b_factors shape: torch.Size([365, 1])\n",
            "Shape of labels: torch.Size([365])\n",
            "esm2_embeddings shape: torch.Size([157, 1280])\n",
            "ss_onehot shape: torch.Size([157, 4])\n",
            "phi_angles shape: torch.Size([157, 1])\n",
            "psi_angles shape: torch.Size([157, 1])\n",
            "b_factors shape: torch.Size([157, 1])\n",
            "Shape of labels: torch.Size([157])\n"
          ]
        },
        {
          "output_type": "stream",
          "name": "stderr",
          "text": [
            " 81%|████████  | 820/1013 [02:20<00:27,  7.04it/s]"
          ]
        },
        {
          "output_type": "stream",
          "name": "stdout",
          "text": [
            "esm2_embeddings shape: torch.Size([158, 1280])\n",
            "ss_onehot shape: torch.Size([158, 4])\n",
            "phi_angles shape: torch.Size([158, 1])\n",
            "psi_angles shape: torch.Size([158, 1])\n",
            "b_factors shape: torch.Size([158, 1])\n",
            "Shape of labels: torch.Size([158])\n",
            "esm2_embeddings shape: torch.Size([137, 1280])\n",
            "ss_onehot shape: torch.Size([137, 4])\n",
            "phi_angles shape: torch.Size([137, 1])\n",
            "psi_angles shape: torch.Size([137, 1])\n",
            "b_factors shape: torch.Size([137, 1])\n",
            "Shape of labels: torch.Size([137])\n",
            "esm2_embeddings shape: torch.Size([135, 1280])\n",
            "ss_onehot shape: torch.Size([135, 4])\n",
            "phi_angles shape: torch.Size([135, 1])\n",
            "psi_angles shape: torch.Size([135, 1])\n",
            "b_factors shape: torch.Size([135, 1])\n",
            "Shape of labels: torch.Size([135])\n"
          ]
        },
        {
          "output_type": "stream",
          "name": "stderr",
          "text": [
            " 81%|████████  | 822/1013 [02:21<00:35,  5.31it/s]"
          ]
        },
        {
          "output_type": "stream",
          "name": "stdout",
          "text": [
            "esm2_embeddings shape: torch.Size([88, 1280])\n",
            "ss_onehot shape: torch.Size([88, 4])\n",
            "phi_angles shape: torch.Size([88, 1])\n",
            "psi_angles shape: torch.Size([88, 1])\n",
            "b_factors shape: torch.Size([88, 1])\n",
            "Shape of labels: torch.Size([88])\n",
            "esm2_embeddings shape: torch.Size([146, 1280])\n",
            "ss_onehot shape: torch.Size([146, 4])\n",
            "phi_angles shape: torch.Size([146, 1])\n",
            "psi_angles shape: torch.Size([146, 1])\n",
            "b_factors shape: torch.Size([146, 1])\n",
            "Shape of labels: torch.Size([146])\n"
          ]
        },
        {
          "output_type": "stream",
          "name": "stderr",
          "text": [
            " 81%|████████▏ | 824/1013 [02:21<00:33,  5.66it/s]"
          ]
        },
        {
          "output_type": "stream",
          "name": "stdout",
          "text": [
            "esm2_embeddings shape: torch.Size([254, 1280])\n",
            "ss_onehot shape: torch.Size([254, 4])\n",
            "phi_angles shape: torch.Size([254, 1])\n",
            "psi_angles shape: torch.Size([254, 1])\n",
            "b_factors shape: torch.Size([254, 1])\n",
            "Shape of labels: torch.Size([254])\n",
            "esm2_embeddings shape: torch.Size([145, 1280])\n",
            "ss_onehot shape: torch.Size([145, 4])\n",
            "phi_angles shape: torch.Size([145, 1])\n",
            "psi_angles shape: torch.Size([145, 1])\n",
            "b_factors shape: torch.Size([145, 1])\n",
            "Shape of labels: torch.Size([145])\n"
          ]
        },
        {
          "output_type": "stream",
          "name": "stderr",
          "text": [
            "\r 82%|████████▏ | 826/1013 [02:21<00:24,  7.51it/s]"
          ]
        },
        {
          "output_type": "stream",
          "name": "stdout",
          "text": [
            "esm2_embeddings shape: torch.Size([126, 1280])\n",
            "ss_onehot shape: torch.Size([126, 4])\n",
            "phi_angles shape: torch.Size([126, 1])\n",
            "psi_angles shape: torch.Size([126, 1])\n",
            "b_factors shape: torch.Size([126, 1])\n",
            "Shape of labels: torch.Size([126])\n",
            "esm2_embeddings shape: torch.Size([103, 1280])\n",
            "ss_onehot shape: torch.Size([103, 4])\n",
            "phi_angles shape: torch.Size([103, 1])\n",
            "psi_angles shape: torch.Size([103, 1])\n",
            "b_factors shape: torch.Size([103, 1])\n",
            "Shape of labels: torch.Size([103])\n"
          ]
        },
        {
          "output_type": "stream",
          "name": "stderr",
          "text": [
            "\r 82%|████████▏ | 827/1013 [02:21<00:26,  7.11it/s]"
          ]
        },
        {
          "output_type": "stream",
          "name": "stdout",
          "text": [
            "esm2_embeddings shape: torch.Size([207, 1280])\n",
            "ss_onehot shape: torch.Size([207, 4])\n",
            "phi_angles shape: torch.Size([207, 1])\n",
            "psi_angles shape: torch.Size([207, 1])\n",
            "b_factors shape: torch.Size([207, 1])\n",
            "Shape of labels: torch.Size([207])\n",
            "esm2_embeddings shape: torch.Size([113, 1280])\n",
            "ss_onehot shape: torch.Size([113, 4])\n",
            "phi_angles shape: torch.Size([113, 1])\n",
            "psi_angles shape: torch.Size([113, 1])\n",
            "b_factors shape: torch.Size([113, 1])\n",
            "Shape of labels: torch.Size([113])\n"
          ]
        },
        {
          "output_type": "stream",
          "name": "stderr",
          "text": [
            "\r 82%|████████▏ | 829/1013 [02:22<00:29,  6.29it/s]"
          ]
        },
        {
          "output_type": "stream",
          "name": "stdout",
          "text": [
            "esm2_embeddings shape: torch.Size([309, 1280])\n",
            "ss_onehot shape: torch.Size([309, 4])\n",
            "phi_angles shape: torch.Size([309, 1])\n",
            "psi_angles shape: torch.Size([309, 1])\n",
            "b_factors shape: torch.Size([309, 1])\n",
            "Shape of labels: torch.Size([309])\n",
            "esm2_embeddings shape: torch.Size([114, 1280])\n",
            "ss_onehot shape: torch.Size([114, 4])\n",
            "phi_angles shape: torch.Size([114, 1])\n",
            "psi_angles shape: torch.Size([114, 1])\n",
            "b_factors shape: torch.Size([114, 1])\n",
            "Shape of labels: torch.Size([114])\n"
          ]
        },
        {
          "output_type": "stream",
          "name": "stderr",
          "text": [
            " 82%|████████▏ | 832/1013 [02:22<00:25,  6.99it/s]"
          ]
        },
        {
          "output_type": "stream",
          "name": "stdout",
          "text": [
            "esm2_embeddings shape: torch.Size([220, 1280])\n",
            "ss_onehot shape: torch.Size([220, 4])\n",
            "phi_angles shape: torch.Size([220, 1])\n",
            "psi_angles shape: torch.Size([220, 1])\n",
            "b_factors shape: torch.Size([220, 1])\n",
            "Shape of labels: torch.Size([220])\n",
            "esm2_embeddings shape: torch.Size([167, 1280])\n",
            "ss_onehot shape: torch.Size([167, 4])\n",
            "phi_angles shape: torch.Size([167, 1])\n",
            "psi_angles shape: torch.Size([167, 1])\n",
            "b_factors shape: torch.Size([167, 1])\n",
            "Shape of labels: torch.Size([167])\n"
          ]
        },
        {
          "output_type": "stream",
          "name": "stderr",
          "text": [
            "\r 82%|████████▏ | 833/1013 [02:22<00:24,  7.41it/s]"
          ]
        },
        {
          "output_type": "stream",
          "name": "stdout",
          "text": [
            "esm2_embeddings shape: torch.Size([153, 1280])\n",
            "ss_onehot shape: torch.Size([153, 4])\n",
            "phi_angles shape: torch.Size([153, 1])\n",
            "psi_angles shape: torch.Size([153, 1])\n",
            "b_factors shape: torch.Size([153, 1])\n",
            "Shape of labels: torch.Size([153])\n"
          ]
        },
        {
          "output_type": "stream",
          "name": "stderr",
          "text": [
            " 83%|████████▎ | 836/1013 [02:23<00:29,  5.98it/s]"
          ]
        },
        {
          "output_type": "stream",
          "name": "stdout",
          "text": [
            "esm2_embeddings shape: torch.Size([168, 1280])\n",
            "ss_onehot shape: torch.Size([168, 4])\n",
            "phi_angles shape: torch.Size([168, 1])\n",
            "psi_angles shape: torch.Size([168, 1])\n",
            "b_factors shape: torch.Size([168, 1])\n",
            "Shape of labels: torch.Size([168])\n",
            "esm2_embeddings shape: torch.Size([99, 1280])\n",
            "ss_onehot shape: torch.Size([99, 4])\n",
            "phi_angles shape: torch.Size([99, 1])\n",
            "psi_angles shape: torch.Size([99, 1])\n",
            "b_factors shape: torch.Size([99, 1])\n",
            "Shape of labels: torch.Size([99])\n",
            "esm2_embeddings shape: torch.Size([125, 1280])\n",
            "ss_onehot shape: torch.Size([125, 4])\n",
            "phi_angles shape: torch.Size([125, 1])\n",
            "psi_angles shape: torch.Size([125, 1])\n",
            "b_factors shape: torch.Size([125, 1])\n",
            "Shape of labels: torch.Size([125])\n"
          ]
        },
        {
          "output_type": "stream",
          "name": "stderr",
          "text": [
            "\r 83%|████████▎ | 837/1013 [02:23<00:29,  5.95it/s]"
          ]
        },
        {
          "output_type": "stream",
          "name": "stdout",
          "text": [
            "esm2_embeddings shape: torch.Size([203, 1280])\n",
            "ss_onehot shape: torch.Size([203, 4])\n",
            "phi_angles shape: torch.Size([203, 1])\n",
            "psi_angles shape: torch.Size([203, 1])\n",
            "b_factors shape: torch.Size([203, 1])\n",
            "Shape of labels: torch.Size([203])\n"
          ]
        },
        {
          "output_type": "stream",
          "name": "stderr",
          "text": [
            " 83%|████████▎ | 839/1013 [02:23<00:34,  4.99it/s]"
          ]
        },
        {
          "output_type": "stream",
          "name": "stdout",
          "text": [
            "esm2_embeddings shape: torch.Size([342, 1280])\n",
            "ss_onehot shape: torch.Size([342, 4])\n",
            "phi_angles shape: torch.Size([342, 1])\n",
            "psi_angles shape: torch.Size([342, 1])\n",
            "b_factors shape: torch.Size([342, 1])\n",
            "Shape of labels: torch.Size([342])\n",
            "esm2_embeddings shape: torch.Size([195, 1280])\n",
            "ss_onehot shape: torch.Size([195, 4])\n",
            "phi_angles shape: torch.Size([195, 1])\n",
            "psi_angles shape: torch.Size([195, 1])\n",
            "b_factors shape: torch.Size([195, 1])\n",
            "Shape of labels: torch.Size([195])\n",
            "esm2_embeddings shape: torch.Size([101, 1280])\n",
            "ss_onehot shape: torch.Size([101, 4])\n",
            "phi_angles shape: torch.Size([101, 1])\n",
            "psi_angles shape: torch.Size([101, 1])\n",
            "b_factors shape: torch.Size([101, 1])\n",
            "Shape of labels: torch.Size([101])\n"
          ]
        },
        {
          "output_type": "stream",
          "name": "stderr",
          "text": [
            " 83%|████████▎ | 842/1013 [02:24<00:31,  5.39it/s]"
          ]
        },
        {
          "output_type": "stream",
          "name": "stdout",
          "text": [
            "esm2_embeddings shape: torch.Size([351, 1280])\n",
            "ss_onehot shape: torch.Size([351, 4])\n",
            "phi_angles shape: torch.Size([351, 1])\n",
            "psi_angles shape: torch.Size([351, 1])\n",
            "b_factors shape: torch.Size([351, 1])\n",
            "Shape of labels: torch.Size([351])\n",
            "esm2_embeddings shape: torch.Size([140, 1280])\n",
            "ss_onehot shape: torch.Size([140, 4])\n",
            "phi_angles shape: torch.Size([140, 1])\n",
            "psi_angles shape: torch.Size([140, 1])\n",
            "b_factors shape: torch.Size([140, 1])\n",
            "Shape of labels: torch.Size([140])\n",
            "esm2_embeddings shape: torch.Size([61, 1280])\n",
            "ss_onehot shape: torch.Size([61, 4])\n",
            "phi_angles shape: torch.Size([61, 1])\n",
            "psi_angles shape: torch.Size([61, 1])\n",
            "b_factors shape: torch.Size([61, 1])\n",
            "Shape of labels: torch.Size([61])\n"
          ]
        },
        {
          "output_type": "stream",
          "name": "stderr",
          "text": [
            "\r 83%|████████▎ | 845/1013 [02:24<00:19,  8.67it/s]"
          ]
        },
        {
          "output_type": "stream",
          "name": "stdout",
          "text": [
            "esm2_embeddings shape: torch.Size([70, 1280])\n",
            "ss_onehot shape: torch.Size([70, 4])\n",
            "phi_angles shape: torch.Size([70, 1])\n",
            "psi_angles shape: torch.Size([70, 1])\n",
            "b_factors shape: torch.Size([70, 1])\n",
            "Shape of labels: torch.Size([70])\n",
            "esm2_embeddings shape: torch.Size([66, 1280])\n",
            "ss_onehot shape: torch.Size([66, 4])\n",
            "phi_angles shape: torch.Size([66, 1])\n",
            "psi_angles shape: torch.Size([66, 1])\n",
            "b_factors shape: torch.Size([66, 1])\n",
            "Shape of labels: torch.Size([66])\n"
          ]
        },
        {
          "output_type": "stream",
          "name": "stderr",
          "text": [
            "\r 84%|████████▎ | 847/1013 [02:25<00:31,  5.29it/s]"
          ]
        },
        {
          "output_type": "stream",
          "name": "stdout",
          "text": [
            "esm2_embeddings shape: torch.Size([221, 1280])\n",
            "ss_onehot shape: torch.Size([221, 4])\n",
            "phi_angles shape: torch.Size([221, 1])\n",
            "psi_angles shape: torch.Size([221, 1])\n",
            "b_factors shape: torch.Size([221, 1])\n",
            "Shape of labels: torch.Size([221])\n",
            "esm2_embeddings shape: torch.Size([102, 1280])\n",
            "ss_onehot shape: torch.Size([102, 4])\n",
            "phi_angles shape: torch.Size([102, 1])\n",
            "psi_angles shape: torch.Size([102, 1])\n",
            "b_factors shape: torch.Size([102, 1])\n",
            "Shape of labels: torch.Size([102])\n"
          ]
        },
        {
          "output_type": "stream",
          "name": "stderr",
          "text": [
            "\r 84%|████████▎ | 848/1013 [02:25<00:31,  5.24it/s]"
          ]
        },
        {
          "output_type": "stream",
          "name": "stdout",
          "text": [
            "esm2_embeddings shape: torch.Size([234, 1280])\n",
            "ss_onehot shape: torch.Size([234, 4])\n",
            "phi_angles shape: torch.Size([234, 1])\n",
            "psi_angles shape: torch.Size([234, 1])\n",
            "b_factors shape: torch.Size([234, 1])\n",
            "Shape of labels: torch.Size([234])\n"
          ]
        },
        {
          "output_type": "stream",
          "name": "stderr",
          "text": [
            " 84%|████████▍ | 850/1013 [02:25<00:29,  5.58it/s]"
          ]
        },
        {
          "output_type": "stream",
          "name": "stdout",
          "text": [
            "esm2_embeddings shape: torch.Size([262, 1280])\n",
            "ss_onehot shape: torch.Size([262, 4])\n",
            "phi_angles shape: torch.Size([262, 1])\n",
            "psi_angles shape: torch.Size([262, 1])\n",
            "b_factors shape: torch.Size([262, 1])\n",
            "Shape of labels: torch.Size([262])\n",
            "esm2_embeddings shape: torch.Size([144, 1280])\n",
            "ss_onehot shape: torch.Size([144, 4])\n",
            "phi_angles shape: torch.Size([144, 1])\n",
            "psi_angles shape: torch.Size([144, 1])\n",
            "b_factors shape: torch.Size([144, 1])\n",
            "Shape of labels: torch.Size([144])\n",
            "esm2_embeddings shape: torch.Size([72, 1280])\n",
            "ss_onehot shape: torch.Size([72, 4])\n",
            "phi_angles shape: torch.Size([72, 1])\n",
            "psi_angles shape: torch.Size([72, 1])\n",
            "b_factors shape: torch.Size([72, 1])\n",
            "Shape of labels: torch.Size([72])\n"
          ]
        },
        {
          "output_type": "stream",
          "name": "stderr",
          "text": [
            "\r 84%|████████▍ | 852/1013 [02:26<00:28,  5.58it/s]"
          ]
        },
        {
          "output_type": "stream",
          "name": "stdout",
          "text": [
            "esm2_embeddings shape: torch.Size([313, 1280])\n",
            "ss_onehot shape: torch.Size([313, 4])\n",
            "phi_angles shape: torch.Size([313, 1])\n",
            "psi_angles shape: torch.Size([313, 1])\n",
            "b_factors shape: torch.Size([313, 1])\n",
            "Shape of labels: torch.Size([313])\n"
          ]
        },
        {
          "output_type": "stream",
          "name": "stderr",
          "text": [
            " 84%|████████▍ | 855/1013 [02:26<00:22,  6.90it/s]"
          ]
        },
        {
          "output_type": "stream",
          "name": "stdout",
          "text": [
            "esm2_embeddings shape: torch.Size([279, 1280])\n",
            "ss_onehot shape: torch.Size([279, 4])\n",
            "phi_angles shape: torch.Size([279, 1])\n",
            "psi_angles shape: torch.Size([279, 1])\n",
            "b_factors shape: torch.Size([279, 1])\n",
            "Shape of labels: torch.Size([279])\n",
            "esm2_embeddings shape: torch.Size([75, 1280])\n",
            "ss_onehot shape: torch.Size([75, 4])\n",
            "phi_angles shape: torch.Size([75, 1])\n",
            "psi_angles shape: torch.Size([75, 1])\n",
            "b_factors shape: torch.Size([75, 1])\n",
            "Shape of labels: torch.Size([75])\n",
            "esm2_embeddings shape: torch.Size([109, 1280])\n",
            "ss_onehot shape: torch.Size([109, 4])\n",
            "phi_angles shape: torch.Size([109, 1])\n",
            "psi_angles shape: torch.Size([109, 1])\n",
            "b_factors shape: torch.Size([109, 1])\n",
            "Shape of labels: torch.Size([109])\n"
          ]
        },
        {
          "output_type": "stream",
          "name": "stderr",
          "text": [
            " 85%|████████▍ | 858/1013 [02:27<00:27,  5.70it/s]"
          ]
        },
        {
          "output_type": "stream",
          "name": "stdout",
          "text": [
            "esm2_embeddings shape: torch.Size([217, 1280])\n",
            "ss_onehot shape: torch.Size([217, 4])\n",
            "phi_angles shape: torch.Size([217, 1])\n",
            "psi_angles shape: torch.Size([217, 1])\n",
            "b_factors shape: torch.Size([217, 1])\n",
            "Shape of labels: torch.Size([217])\n",
            "esm2_embeddings shape: torch.Size([32, 1280])\n",
            "ss_onehot shape: torch.Size([32, 4])\n",
            "phi_angles shape: torch.Size([32, 1])\n",
            "psi_angles shape: torch.Size([32, 1])\n",
            "b_factors shape: torch.Size([32, 1])\n",
            "Shape of labels: torch.Size([32])\n",
            "esm2_embeddings shape: torch.Size([151, 1280])\n",
            "ss_onehot shape: torch.Size([151, 4])\n",
            "phi_angles shape: torch.Size([151, 1])\n",
            "psi_angles shape: torch.Size([151, 1])\n",
            "b_factors shape: torch.Size([151, 1])\n",
            "Shape of labels: torch.Size([151])\n",
            "esm2_embeddings shape: torch.Size([31, 1280])\n",
            "ss_onehot shape: torch.Size([31, 4])\n",
            "phi_angles shape: torch.Size([31, 1])\n",
            "psi_angles shape: torch.Size([31, 1])\n",
            "b_factors shape: torch.Size([31, 1])\n",
            "Shape of labels: torch.Size([31])\n"
          ]
        },
        {
          "output_type": "stream",
          "name": "stderr",
          "text": [
            "\r 85%|████████▍ | 860/1013 [02:27<00:20,  7.46it/s]"
          ]
        },
        {
          "output_type": "stream",
          "name": "stdout",
          "text": [
            "esm2_embeddings shape: torch.Size([126, 1280])\n",
            "ss_onehot shape: torch.Size([126, 4])\n",
            "phi_angles shape: torch.Size([126, 1])\n",
            "psi_angles shape: torch.Size([126, 1])\n",
            "b_factors shape: torch.Size([126, 1])\n",
            "Shape of labels: torch.Size([126])\n"
          ]
        },
        {
          "output_type": "stream",
          "name": "stderr",
          "text": [
            "\r 85%|████████▌ | 862/1013 [02:27<00:22,  6.83it/s]"
          ]
        },
        {
          "output_type": "stream",
          "name": "stdout",
          "text": [
            "esm2_embeddings shape: torch.Size([230, 1280])\n",
            "ss_onehot shape: torch.Size([230, 4])\n",
            "phi_angles shape: torch.Size([230, 1])\n",
            "psi_angles shape: torch.Size([230, 1])\n",
            "b_factors shape: torch.Size([230, 1])\n",
            "Shape of labels: torch.Size([230])\n",
            "esm2_embeddings shape: torch.Size([171, 1280])\n",
            "ss_onehot shape: torch.Size([171, 4])\n",
            "phi_angles shape: torch.Size([171, 1])\n",
            "psi_angles shape: torch.Size([171, 1])\n",
            "b_factors shape: torch.Size([171, 1])\n",
            "Shape of labels: torch.Size([171])\n"
          ]
        },
        {
          "output_type": "stream",
          "name": "stderr",
          "text": [
            "\r 85%|████████▌ | 863/1013 [02:27<00:21,  7.13it/s]"
          ]
        },
        {
          "output_type": "stream",
          "name": "stdout",
          "text": [
            "esm2_embeddings shape: torch.Size([152, 1280])\n",
            "ss_onehot shape: torch.Size([152, 4])\n",
            "phi_angles shape: torch.Size([152, 1])\n",
            "psi_angles shape: torch.Size([152, 1])\n",
            "b_factors shape: torch.Size([152, 1])\n",
            "Shape of labels: torch.Size([152])\n"
          ]
        },
        {
          "output_type": "stream",
          "name": "stderr",
          "text": [
            " 85%|████████▌ | 865/1013 [02:28<00:23,  6.23it/s]"
          ]
        },
        {
          "output_type": "stream",
          "name": "stdout",
          "text": [
            "esm2_embeddings shape: torch.Size([253, 1280])\n",
            "ss_onehot shape: torch.Size([253, 4])\n",
            "phi_angles shape: torch.Size([253, 1])\n",
            "psi_angles shape: torch.Size([253, 1])\n",
            "b_factors shape: torch.Size([253, 1])\n",
            "Shape of labels: torch.Size([253])\n",
            "esm2_embeddings shape: torch.Size([179, 1280])\n",
            "ss_onehot shape: torch.Size([179, 4])\n",
            "phi_angles shape: torch.Size([179, 1])\n",
            "psi_angles shape: torch.Size([179, 1])\n",
            "b_factors shape: torch.Size([179, 1])\n",
            "Shape of labels: torch.Size([179])\n"
          ]
        },
        {
          "output_type": "stream",
          "name": "stderr",
          "text": [
            "\r 85%|████████▌ | 866/1013 [02:28<00:22,  6.64it/s]"
          ]
        },
        {
          "output_type": "stream",
          "name": "stdout",
          "text": [
            "esm2_embeddings shape: torch.Size([164, 1280])\n",
            "ss_onehot shape: torch.Size([164, 4])\n",
            "phi_angles shape: torch.Size([164, 1])\n",
            "psi_angles shape: torch.Size([164, 1])\n",
            "b_factors shape: torch.Size([164, 1])\n",
            "Shape of labels: torch.Size([164])\n",
            "esm2_embeddings shape: torch.Size([138, 1280])\n",
            "ss_onehot shape: torch.Size([138, 4])\n",
            "phi_angles shape: torch.Size([138, 1])\n",
            "psi_angles shape: torch.Size([138, 1])\n",
            "b_factors shape: torch.Size([138, 1])\n",
            "Shape of labels: torch.Size([138])\n"
          ]
        },
        {
          "output_type": "stream",
          "name": "stderr",
          "text": [
            "\r 86%|████████▌ | 868/1013 [02:28<00:20,  7.24it/s]"
          ]
        },
        {
          "output_type": "stream",
          "name": "stdout",
          "text": [
            "esm2_embeddings shape: torch.Size([161, 1280])\n",
            "ss_onehot shape: torch.Size([161, 4])\n",
            "phi_angles shape: torch.Size([161, 1])\n",
            "psi_angles shape: torch.Size([161, 1])\n",
            "b_factors shape: torch.Size([161, 1])\n",
            "Shape of labels: torch.Size([161])\n"
          ]
        },
        {
          "output_type": "stream",
          "name": "stderr",
          "text": [
            "\r 86%|████████▌ | 869/1013 [02:29<00:37,  3.86it/s]"
          ]
        },
        {
          "output_type": "stream",
          "name": "stdout",
          "text": [
            "esm2_embeddings shape: torch.Size([249, 1280])\n",
            "ss_onehot shape: torch.Size([249, 4])\n",
            "phi_angles shape: torch.Size([249, 1])\n",
            "psi_angles shape: torch.Size([249, 1])\n",
            "b_factors shape: torch.Size([249, 1])\n",
            "Shape of labels: torch.Size([249])\n",
            "esm2_embeddings shape: torch.Size([82, 1280])\n",
            "ss_onehot shape: torch.Size([82, 4])\n",
            "phi_angles shape: torch.Size([82, 1])\n",
            "psi_angles shape: torch.Size([82, 1])\n",
            "b_factors shape: torch.Size([82, 1])\n",
            "Shape of labels: torch.Size([82])\n"
          ]
        },
        {
          "output_type": "stream",
          "name": "stderr",
          "text": [
            " 86%|████████▌ | 872/1013 [02:29<00:28,  4.97it/s]"
          ]
        },
        {
          "output_type": "stream",
          "name": "stdout",
          "text": [
            "esm2_embeddings shape: torch.Size([232, 1280])\n",
            "ss_onehot shape: torch.Size([232, 4])\n",
            "phi_angles shape: torch.Size([232, 1])\n",
            "psi_angles shape: torch.Size([232, 1])\n",
            "b_factors shape: torch.Size([232, 1])\n",
            "Shape of labels: torch.Size([232])\n",
            "esm2_embeddings shape: torch.Size([215, 1280])\n",
            "ss_onehot shape: torch.Size([215, 4])\n",
            "phi_angles shape: torch.Size([215, 1])\n",
            "psi_angles shape: torch.Size([215, 1])\n",
            "b_factors shape: torch.Size([215, 1])\n",
            "Shape of labels: torch.Size([215])\n",
            "esm2_embeddings shape: torch.Size([113, 1280])\n",
            "ss_onehot shape: torch.Size([113, 4])\n",
            "phi_angles shape: torch.Size([113, 1])\n",
            "psi_angles shape: torch.Size([113, 1])\n",
            "b_factors shape: torch.Size([113, 1])\n",
            "Shape of labels: torch.Size([113])\n",
            "esm2_embeddings shape: torch.Size([236, 1280])\n",
            "ss_onehot shape: torch.Size([236, 4])\n",
            "phi_angles shape: torch.Size([236, 1])\n",
            "psi_angles shape: torch.Size([236, 1])\n",
            "b_factors shape: torch.Size([236, 1])\n"
          ]
        },
        {
          "output_type": "stream",
          "name": "stderr",
          "text": [
            " 86%|████████▋ | 876/1013 [02:30<00:19,  6.90it/s]"
          ]
        },
        {
          "output_type": "stream",
          "name": "stdout",
          "text": [
            "Shape of labels: torch.Size([236])\n",
            "esm2_embeddings shape: torch.Size([112, 1280])\n",
            "ss_onehot shape: torch.Size([112, 4])\n",
            "phi_angles shape: torch.Size([112, 1])\n",
            "psi_angles shape: torch.Size([112, 1])\n",
            "b_factors shape: torch.Size([112, 1])\n",
            "Shape of labels: torch.Size([112])\n",
            "esm2_embeddings shape: torch.Size([133, 1280])\n",
            "ss_onehot shape: torch.Size([133, 4])\n",
            "phi_angles shape: torch.Size([133, 1])\n",
            "psi_angles shape: torch.Size([133, 1])\n",
            "b_factors shape: torch.Size([133, 1])\n",
            "Shape of labels: torch.Size([133])\n"
          ]
        },
        {
          "output_type": "stream",
          "name": "stderr",
          "text": [
            " 87%|████████▋ | 878/1013 [02:30<00:19,  6.83it/s]"
          ]
        },
        {
          "output_type": "stream",
          "name": "stdout",
          "text": [
            "esm2_embeddings shape: torch.Size([215, 1280])\n",
            "ss_onehot shape: torch.Size([215, 4])\n",
            "phi_angles shape: torch.Size([215, 1])\n",
            "psi_angles shape: torch.Size([215, 1])\n",
            "b_factors shape: torch.Size([215, 1])\n",
            "Shape of labels: torch.Size([215])\n",
            "esm2_embeddings shape: torch.Size([160, 1280])\n",
            "ss_onehot shape: torch.Size([160, 4])\n",
            "phi_angles shape: torch.Size([160, 1])\n",
            "psi_angles shape: torch.Size([160, 1])\n",
            "b_factors shape: torch.Size([160, 1])\n",
            "Shape of labels: torch.Size([160])\n"
          ]
        },
        {
          "output_type": "stream",
          "name": "stderr",
          "text": [
            "\r 87%|████████▋ | 879/1013 [02:30<00:26,  4.98it/s]"
          ]
        },
        {
          "output_type": "stream",
          "name": "stdout",
          "text": [
            "esm2_embeddings shape: torch.Size([341, 1280])\n",
            "ss_onehot shape: torch.Size([341, 4])\n",
            "phi_angles shape: torch.Size([341, 1])\n",
            "psi_angles shape: torch.Size([341, 1])\n",
            "b_factors shape: torch.Size([341, 1])\n",
            "Shape of labels: torch.Size([341])\n"
          ]
        },
        {
          "output_type": "stream",
          "name": "stderr",
          "text": [
            "\r 87%|████████▋ | 880/1013 [02:31<00:35,  3.72it/s]"
          ]
        },
        {
          "output_type": "stream",
          "name": "stdout",
          "text": [
            "esm2_embeddings shape: torch.Size([110, 1280])\n",
            "ss_onehot shape: torch.Size([110, 4])\n",
            "phi_angles shape: torch.Size([110, 1])\n",
            "psi_angles shape: torch.Size([110, 1])\n",
            "b_factors shape: torch.Size([110, 1])\n",
            "Shape of labels: torch.Size([110])\n"
          ]
        },
        {
          "output_type": "stream",
          "name": "stderr",
          "text": [
            " 87%|████████▋ | 882/1013 [02:31<00:32,  4.09it/s]"
          ]
        },
        {
          "output_type": "stream",
          "name": "stdout",
          "text": [
            "esm2_embeddings shape: torch.Size([273, 1280])\n",
            "ss_onehot shape: torch.Size([273, 4])\n",
            "phi_angles shape: torch.Size([273, 1])\n",
            "psi_angles shape: torch.Size([273, 1])\n",
            "b_factors shape: torch.Size([273, 1])\n",
            "Shape of labels: torch.Size([273])\n",
            "esm2_embeddings shape: torch.Size([222, 1280])\n",
            "ss_onehot shape: torch.Size([222, 4])\n",
            "phi_angles shape: torch.Size([222, 1])\n",
            "psi_angles shape: torch.Size([222, 1])\n",
            "b_factors shape: torch.Size([222, 1])\n",
            "Shape of labels: torch.Size([222])\n"
          ]
        },
        {
          "output_type": "stream",
          "name": "stderr",
          "text": [
            "\r 87%|████████▋ | 883/1013 [02:32<00:32,  4.02it/s]"
          ]
        },
        {
          "output_type": "stream",
          "name": "stdout",
          "text": [
            "esm2_embeddings shape: torch.Size([273, 1280])\n",
            "ss_onehot shape: torch.Size([273, 4])\n",
            "phi_angles shape: torch.Size([273, 1])\n",
            "psi_angles shape: torch.Size([273, 1])\n",
            "b_factors shape: torch.Size([273, 1])\n",
            "Shape of labels: torch.Size([273])\n",
            "esm2_embeddings shape: torch.Size([89, 1280])\n",
            "ss_onehot shape: torch.Size([89, 4])\n",
            "phi_angles shape: torch.Size([89, 1])\n",
            "psi_angles shape: torch.Size([89, 1])\n",
            "b_factors shape: torch.Size([89, 1])\n",
            "Shape of labels: torch.Size([89])\n"
          ]
        },
        {
          "output_type": "stream",
          "name": "stderr",
          "text": [
            " 88%|████████▊ | 887/1013 [02:32<00:19,  6.57it/s]"
          ]
        },
        {
          "output_type": "stream",
          "name": "stdout",
          "text": [
            "esm2_embeddings shape: torch.Size([205, 1280])\n",
            "ss_onehot shape: torch.Size([205, 4])\n",
            "phi_angles shape: torch.Size([205, 1])\n",
            "psi_angles shape: torch.Size([205, 1])\n",
            "b_factors shape: torch.Size([205, 1])\n",
            "Shape of labels: torch.Size([205])\n",
            "esm2_embeddings shape: torch.Size([134, 1280])\n",
            "ss_onehot shape: torch.Size([134, 4])\n",
            "phi_angles shape: torch.Size([134, 1])\n",
            "psi_angles shape: torch.Size([134, 1])\n",
            "b_factors shape: torch.Size([134, 1])\n",
            "Shape of labels: torch.Size([134])\n",
            "esm2_embeddings shape: torch.Size([136, 1280])\n",
            "ss_onehot shape: torch.Size([136, 4])\n",
            "phi_angles shape: torch.Size([136, 1])\n",
            "psi_angles shape: torch.Size([136, 1])\n",
            "b_factors shape: torch.Size([136, 1])\n",
            "Shape of labels: torch.Size([136])\n"
          ]
        },
        {
          "output_type": "stream",
          "name": "stderr",
          "text": [
            "\r 88%|████████▊ | 889/1013 [02:32<00:15,  8.25it/s]"
          ]
        },
        {
          "output_type": "stream",
          "name": "stdout",
          "text": [
            "esm2_embeddings shape: torch.Size([56, 1280])\n",
            "ss_onehot shape: torch.Size([56, 4])\n",
            "phi_angles shape: torch.Size([56, 1])\n",
            "psi_angles shape: torch.Size([56, 1])\n",
            "b_factors shape: torch.Size([56, 1])\n",
            "Shape of labels: torch.Size([56])\n",
            "esm2_embeddings shape: torch.Size([131, 1280])\n",
            "ss_onehot shape: torch.Size([131, 4])\n",
            "phi_angles shape: torch.Size([131, 1])\n",
            "psi_angles shape: torch.Size([131, 1])\n",
            "b_factors shape: torch.Size([131, 1])\n",
            "Shape of labels: torch.Size([131])\n"
          ]
        },
        {
          "output_type": "stream",
          "name": "stderr",
          "text": [
            "\r 88%|████████▊ | 890/1013 [02:32<00:15,  7.72it/s]"
          ]
        },
        {
          "output_type": "stream",
          "name": "stdout",
          "text": [
            "esm2_embeddings shape: torch.Size([202, 1280])\n",
            "ss_onehot shape: torch.Size([202, 4])\n",
            "phi_angles shape: torch.Size([202, 1])\n",
            "psi_angles shape: torch.Size([202, 1])\n",
            "b_factors shape: torch.Size([202, 1])\n",
            "Shape of labels: torch.Size([202])\n"
          ]
        },
        {
          "output_type": "stream",
          "name": "stderr",
          "text": [
            " 88%|████████▊ | 892/1013 [02:33<00:22,  5.38it/s]"
          ]
        },
        {
          "output_type": "stream",
          "name": "stdout",
          "text": [
            "esm2_embeddings shape: torch.Size([134, 1280])\n",
            "ss_onehot shape: torch.Size([134, 4])\n",
            "phi_angles shape: torch.Size([134, 1])\n",
            "psi_angles shape: torch.Size([134, 1])\n",
            "b_factors shape: torch.Size([134, 1])\n",
            "Shape of labels: torch.Size([134])\n",
            "esm2_embeddings shape: torch.Size([144, 1280])\n",
            "ss_onehot shape: torch.Size([144, 4])\n",
            "phi_angles shape: torch.Size([144, 1])\n",
            "psi_angles shape: torch.Size([144, 1])\n",
            "b_factors shape: torch.Size([144, 1])\n",
            "Shape of labels: torch.Size([144])\n",
            "esm2_embeddings shape: torch.Size([60, 1280])\n",
            "ss_onehot shape: torch.Size([60, 4])\n",
            "phi_angles shape: torch.Size([60, 1])\n",
            "psi_angles shape: torch.Size([60, 1])\n",
            "b_factors shape: torch.Size([60, 1])\n",
            "Shape of labels: torch.Size([60])\n"
          ]
        },
        {
          "output_type": "stream",
          "name": "stderr",
          "text": [
            "\r 88%|████████▊ | 895/1013 [02:33<00:14,  8.13it/s]"
          ]
        },
        {
          "output_type": "stream",
          "name": "stdout",
          "text": [
            "esm2_embeddings shape: torch.Size([89, 1280])\n",
            "ss_onehot shape: torch.Size([89, 4])\n",
            "phi_angles shape: torch.Size([89, 1])\n",
            "psi_angles shape: torch.Size([89, 1])\n",
            "b_factors shape: torch.Size([89, 1])\n",
            "Shape of labels: torch.Size([89])\n",
            "esm2_embeddings shape: torch.Size([128, 1280])\n",
            "ss_onehot shape: torch.Size([128, 4])\n",
            "phi_angles shape: torch.Size([128, 1])\n",
            "psi_angles shape: torch.Size([128, 1])\n",
            "b_factors shape: torch.Size([128, 1])\n",
            "Shape of labels: torch.Size([128])\n",
            "esm2_embeddings shape: torch.Size([98, 1280])\n",
            "ss_onehot shape: torch.Size([98, 4])\n",
            "phi_angles shape: torch.Size([98, 1])\n",
            "psi_angles shape: torch.Size([98, 1])\n",
            "b_factors shape: torch.Size([98, 1])\n",
            "Shape of labels: torch.Size([98])\n"
          ]
        },
        {
          "output_type": "stream",
          "name": "stderr",
          "text": [
            " 89%|████████▊ | 899/1013 [02:33<00:11,  9.82it/s]"
          ]
        },
        {
          "output_type": "stream",
          "name": "stdout",
          "text": [
            "esm2_embeddings shape: torch.Size([98, 1280])\n",
            "ss_onehot shape: torch.Size([98, 4])\n",
            "phi_angles shape: torch.Size([98, 1])\n",
            "psi_angles shape: torch.Size([98, 1])\n",
            "b_factors shape: torch.Size([98, 1])\n",
            "Shape of labels: torch.Size([98])\n",
            "esm2_embeddings shape: torch.Size([97, 1280])\n",
            "ss_onehot shape: torch.Size([97, 4])\n",
            "phi_angles shape: torch.Size([97, 1])\n",
            "psi_angles shape: torch.Size([97, 1])\n",
            "b_factors shape: torch.Size([97, 1])\n",
            "Shape of labels: torch.Size([97])\n",
            "esm2_embeddings shape: torch.Size([159, 1280])\n",
            "ss_onehot shape: torch.Size([159, 4])\n",
            "phi_angles shape: torch.Size([159, 1])\n",
            "psi_angles shape: torch.Size([159, 1])\n",
            "b_factors shape: torch.Size([159, 1])\n",
            "Shape of labels: torch.Size([159])\n"
          ]
        },
        {
          "output_type": "stream",
          "name": "stderr",
          "text": [
            "\r 89%|████████▉ | 901/1013 [02:34<00:11, 10.06it/s]"
          ]
        },
        {
          "output_type": "stream",
          "name": "stdout",
          "text": [
            "esm2_embeddings shape: torch.Size([119, 1280])\n",
            "ss_onehot shape: torch.Size([119, 4])\n",
            "phi_angles shape: torch.Size([119, 1])\n",
            "psi_angles shape: torch.Size([119, 1])\n",
            "b_factors shape: torch.Size([119, 1])\n",
            "Shape of labels: torch.Size([119])\n",
            "esm2_embeddings shape: torch.Size([145, 1280])\n",
            "ss_onehot shape: torch.Size([145, 4])\n",
            "phi_angles shape: torch.Size([145, 1])\n",
            "psi_angles shape: torch.Size([145, 1])\n",
            "b_factors shape: torch.Size([145, 1])\n",
            "Shape of labels: torch.Size([145])\n"
          ]
        },
        {
          "output_type": "stream",
          "name": "stderr",
          "text": [
            "\r 89%|████████▉ | 903/1013 [02:34<00:13,  8.17it/s]"
          ]
        },
        {
          "output_type": "stream",
          "name": "stdout",
          "text": [
            "esm2_embeddings shape: torch.Size([215, 1280])\n",
            "ss_onehot shape: torch.Size([215, 4])\n",
            "phi_angles shape: torch.Size([215, 1])\n",
            "psi_angles shape: torch.Size([215, 1])\n",
            "b_factors shape: torch.Size([215, 1])\n",
            "Shape of labels: torch.Size([215])\n",
            "esm2_embeddings shape: torch.Size([212, 1280])\n",
            "ss_onehot shape: torch.Size([212, 4])\n",
            "phi_angles shape: torch.Size([212, 1])\n",
            "psi_angles shape: torch.Size([212, 1])\n",
            "b_factors shape: torch.Size([212, 1])\n",
            "Shape of labels: torch.Size([212])\n"
          ]
        },
        {
          "output_type": "stream",
          "name": "stderr",
          "text": [
            " 89%|████████▉ | 906/1013 [02:34<00:11,  9.01it/s]"
          ]
        },
        {
          "output_type": "stream",
          "name": "stdout",
          "text": [
            "esm2_embeddings shape: torch.Size([163, 1280])\n",
            "ss_onehot shape: torch.Size([163, 4])\n",
            "phi_angles shape: torch.Size([163, 1])\n",
            "psi_angles shape: torch.Size([163, 1])\n",
            "b_factors shape: torch.Size([163, 1])\n",
            "Shape of labels: torch.Size([163])\n",
            "esm2_embeddings shape: torch.Size([123, 1280])\n",
            "ss_onehot shape: torch.Size([123, 4])\n",
            "phi_angles shape: torch.Size([123, 1])\n",
            "psi_angles shape: torch.Size([123, 1])\n",
            "b_factors shape: torch.Size([123, 1])\n",
            "Shape of labels: torch.Size([123])\n",
            "esm2_embeddings shape: torch.Size([137, 1280])\n",
            "ss_onehot shape: torch.Size([137, 4])\n",
            "phi_angles shape: torch.Size([137, 1])\n",
            "psi_angles shape: torch.Size([137, 1])\n",
            "b_factors shape: torch.Size([137, 1])\n",
            "Shape of labels: torch.Size([137])\n"
          ]
        },
        {
          "output_type": "stream",
          "name": "stderr",
          "text": [
            "\r 90%|████████▉ | 907/1013 [02:34<00:11,  8.85it/s]"
          ]
        },
        {
          "output_type": "stream",
          "name": "stdout",
          "text": [
            "esm2_embeddings shape: torch.Size([164, 1280])\n",
            "ss_onehot shape: torch.Size([164, 4])\n",
            "phi_angles shape: torch.Size([164, 1])\n",
            "psi_angles shape: torch.Size([164, 1])\n",
            "b_factors shape: torch.Size([164, 1])\n",
            "Shape of labels: torch.Size([164])\n"
          ]
        },
        {
          "output_type": "stream",
          "name": "stderr",
          "text": [
            " 90%|████████▉ | 909/1013 [02:35<00:19,  5.35it/s]"
          ]
        },
        {
          "output_type": "stream",
          "name": "stdout",
          "text": [
            "esm2_embeddings shape: torch.Size([146, 1280])\n",
            "ss_onehot shape: torch.Size([146, 4])\n",
            "phi_angles shape: torch.Size([146, 1])\n",
            "psi_angles shape: torch.Size([146, 1])\n",
            "b_factors shape: torch.Size([146, 1])\n",
            "Shape of labels: torch.Size([146])\n",
            "esm2_embeddings shape: torch.Size([185, 1280])\n",
            "ss_onehot shape: torch.Size([185, 4])\n",
            "phi_angles shape: torch.Size([185, 1])\n",
            "psi_angles shape: torch.Size([185, 1])\n",
            "b_factors shape: torch.Size([185, 1])\n",
            "Shape of labels: torch.Size([185])\n"
          ]
        },
        {
          "output_type": "stream",
          "name": "stderr",
          "text": [
            " 90%|█████████ | 913/1013 [02:35<00:12,  8.03it/s]"
          ]
        },
        {
          "output_type": "stream",
          "name": "stdout",
          "text": [
            "esm2_embeddings shape: torch.Size([326, 1280])\n",
            "ss_onehot shape: torch.Size([326, 4])\n",
            "phi_angles shape: torch.Size([326, 1])\n",
            "psi_angles shape: torch.Size([326, 1])\n",
            "b_factors shape: torch.Size([326, 1])\n",
            "Shape of labels: torch.Size([326])\n",
            "esm2_embeddings shape: torch.Size([71, 1280])\n",
            "ss_onehot shape: torch.Size([71, 4])\n",
            "phi_angles shape: torch.Size([71, 1])\n",
            "psi_angles shape: torch.Size([71, 1])\n",
            "b_factors shape: torch.Size([71, 1])\n",
            "Shape of labels: torch.Size([71])\n",
            "esm2_embeddings shape: torch.Size([46, 1280])\n",
            "ss_onehot shape: torch.Size([46, 4])\n",
            "phi_angles shape: torch.Size([46, 1])\n",
            "psi_angles shape: torch.Size([46, 1])\n",
            "b_factors shape: torch.Size([46, 1])\n",
            "Shape of labels: torch.Size([46])\n",
            "esm2_embeddings shape: torch.Size([41, 1280])\n",
            "ss_onehot shape: torch.Size([41, 4])\n",
            "phi_angles shape: torch.Size([41, 1])\n",
            "psi_angles shape: torch.Size([41, 1])\n",
            "b_factors shape: torch.Size([41, 1])\n",
            "Shape of labels: torch.Size([41])\n",
            "esm2_embeddings shape: torch.Size([170, 1280])\n",
            "ss_onehot shape: torch.Size([170, 4])\n",
            "phi_angles shape: torch.Size([170, 1])\n",
            "psi_angles shape: torch.Size([170, 1])\n",
            "b_factors shape: torch.Size([170, 1])\n",
            "Shape of labels: torch.Size([170])\n"
          ]
        },
        {
          "output_type": "stream",
          "name": "stderr",
          "text": [
            "\r 90%|█████████ | 915/1013 [02:36<00:13,  7.19it/s]"
          ]
        },
        {
          "output_type": "stream",
          "name": "stdout",
          "text": [
            "esm2_embeddings shape: torch.Size([236, 1280])\n",
            "ss_onehot shape: torch.Size([236, 4])\n",
            "phi_angles shape: torch.Size([236, 1])\n",
            "psi_angles shape: torch.Size([236, 1])\n",
            "b_factors shape: torch.Size([236, 1])\n",
            "Shape of labels: torch.Size([236])\n",
            "esm2_embeddings shape: torch.Size([160, 1280])\n",
            "ss_onehot shape: torch.Size([160, 4])\n",
            "phi_angles shape: torch.Size([160, 1])\n",
            "psi_angles shape: torch.Size([160, 1])\n",
            "b_factors shape: torch.Size([160, 1])\n",
            "Shape of labels: torch.Size([160])\n"
          ]
        },
        {
          "output_type": "stream",
          "name": "stderr",
          "text": [
            "\r 91%|█████████ | 917/1013 [02:36<00:16,  5.71it/s]"
          ]
        },
        {
          "output_type": "stream",
          "name": "stdout",
          "text": [
            "esm2_embeddings shape: torch.Size([363, 1280])\n",
            "ss_onehot shape: torch.Size([363, 4])\n",
            "phi_angles shape: torch.Size([363, 1])\n",
            "psi_angles shape: torch.Size([363, 1])\n",
            "b_factors shape: torch.Size([363, 1])\n",
            "Shape of labels: torch.Size([363])\n",
            "esm2_embeddings shape: torch.Size([91, 1280])\n",
            "ss_onehot shape: torch.Size([91, 4])\n",
            "phi_angles shape: torch.Size([91, 1])\n",
            "psi_angles shape: torch.Size([91, 1])\n",
            "b_factors shape: torch.Size([91, 1])\n",
            "Shape of labels: torch.Size([91])\n"
          ]
        },
        {
          "output_type": "stream",
          "name": "stderr",
          "text": [
            " 91%|█████████ | 920/1013 [02:37<00:18,  4.92it/s]"
          ]
        },
        {
          "output_type": "stream",
          "name": "stdout",
          "text": [
            "esm2_embeddings shape: torch.Size([216, 1280])\n",
            "ss_onehot shape: torch.Size([216, 4])\n",
            "phi_angles shape: torch.Size([216, 1])\n",
            "psi_angles shape: torch.Size([216, 1])\n",
            "b_factors shape: torch.Size([216, 1])\n",
            "Shape of labels: torch.Size([216])\n",
            "esm2_embeddings shape: torch.Size([161, 1280])\n",
            "ss_onehot shape: torch.Size([161, 4])\n",
            "phi_angles shape: torch.Size([161, 1])\n",
            "psi_angles shape: torch.Size([161, 1])\n",
            "b_factors shape: torch.Size([161, 1])\n",
            "Shape of labels: torch.Size([161])\n"
          ]
        },
        {
          "output_type": "stream",
          "name": "stderr",
          "text": [
            "\r 91%|█████████ | 921/1013 [02:37<00:16,  5.46it/s]"
          ]
        },
        {
          "output_type": "stream",
          "name": "stdout",
          "text": [
            "esm2_embeddings shape: torch.Size([139, 1280])\n",
            "ss_onehot shape: torch.Size([139, 4])\n",
            "phi_angles shape: torch.Size([139, 1])\n",
            "psi_angles shape: torch.Size([139, 1])\n",
            "b_factors shape: torch.Size([139, 1])\n",
            "Shape of labels: torch.Size([139])\n",
            "esm2_embeddings shape: torch.Size([92, 1280])\n",
            "ss_onehot shape: torch.Size([92, 4])\n",
            "phi_angles shape: torch.Size([92, 1])\n",
            "psi_angles shape: torch.Size([92, 1])\n",
            "b_factors shape: torch.Size([92, 1])\n",
            "Shape of labels: torch.Size([92])\n"
          ]
        },
        {
          "output_type": "stream",
          "name": "stderr",
          "text": [
            "\r 91%|█████████ | 923/1013 [02:37<00:13,  6.52it/s]"
          ]
        },
        {
          "output_type": "stream",
          "name": "stdout",
          "text": [
            "esm2_embeddings shape: torch.Size([189, 1280])\n",
            "ss_onehot shape: torch.Size([189, 4])\n",
            "phi_angles shape: torch.Size([189, 1])\n",
            "psi_angles shape: torch.Size([189, 1])\n",
            "b_factors shape: torch.Size([189, 1])\n",
            "Shape of labels: torch.Size([189])\n",
            "esm2_embeddings shape: torch.Size([116, 1280])\n",
            "ss_onehot shape: torch.Size([116, 4])\n",
            "phi_angles shape: torch.Size([116, 1])\n",
            "psi_angles shape: torch.Size([116, 1])\n",
            "b_factors shape: torch.Size([116, 1])\n",
            "Shape of labels: torch.Size([116])\n"
          ]
        },
        {
          "output_type": "stream",
          "name": "stderr",
          "text": [
            " 91%|█████████▏| 926/1013 [02:38<00:14,  6.00it/s]"
          ]
        },
        {
          "output_type": "stream",
          "name": "stdout",
          "text": [
            "esm2_embeddings shape: torch.Size([349, 1280])\n",
            "ss_onehot shape: torch.Size([349, 4])\n",
            "phi_angles shape: torch.Size([349, 1])\n",
            "psi_angles shape: torch.Size([349, 1])\n",
            "b_factors shape: torch.Size([349, 1])\n",
            "Shape of labels: torch.Size([349])\n",
            "esm2_embeddings shape: torch.Size([160, 1280])\n",
            "ss_onehot shape: torch.Size([160, 4])\n",
            "phi_angles shape: torch.Size([160, 1])\n",
            "psi_angles shape: torch.Size([160, 1])\n",
            "b_factors shape: torch.Size([160, 1])\n",
            "Shape of labels: torch.Size([160])\n"
          ]
        },
        {
          "output_type": "stream",
          "name": "stderr",
          "text": [
            " 92%|█████████▏| 929/1013 [02:38<00:11,  7.33it/s]"
          ]
        },
        {
          "output_type": "stream",
          "name": "stdout",
          "text": [
            "esm2_embeddings shape: torch.Size([232, 1280])\n",
            "ss_onehot shape: torch.Size([232, 4])\n",
            "phi_angles shape: torch.Size([232, 1])\n",
            "psi_angles shape: torch.Size([232, 1])\n",
            "b_factors shape: torch.Size([232, 1])\n",
            "Shape of labels: torch.Size([232])\n",
            "esm2_embeddings shape: torch.Size([73, 1280])\n",
            "ss_onehot shape: torch.Size([73, 4])\n",
            "phi_angles shape: torch.Size([73, 1])\n",
            "psi_angles shape: torch.Size([73, 1])\n",
            "b_factors shape: torch.Size([73, 1])\n",
            "Shape of labels: torch.Size([73])\n",
            "esm2_embeddings shape: torch.Size([146, 1280])\n",
            "ss_onehot shape: torch.Size([146, 4])\n",
            "phi_angles shape: torch.Size([146, 1])\n",
            "psi_angles shape: torch.Size([146, 1])\n",
            "b_factors shape: torch.Size([146, 1])\n",
            "Shape of labels: torch.Size([146])\n"
          ]
        },
        {
          "output_type": "stream",
          "name": "stderr",
          "text": [
            "\r 92%|█████████▏| 930/1013 [02:38<00:10,  7.60it/s]"
          ]
        },
        {
          "output_type": "stream",
          "name": "stdout",
          "text": [
            "esm2_embeddings shape: torch.Size([157, 1280])\n",
            "ss_onehot shape: torch.Size([157, 4])\n",
            "phi_angles shape: torch.Size([157, 1])\n",
            "psi_angles shape: torch.Size([157, 1])\n",
            "b_factors shape: torch.Size([157, 1])\n",
            "Shape of labels: torch.Size([157])\n"
          ]
        },
        {
          "output_type": "stream",
          "name": "stderr",
          "text": [
            "\r 92%|█████████▏| 931/1013 [02:39<00:18,  4.37it/s]"
          ]
        },
        {
          "output_type": "stream",
          "name": "stdout",
          "text": [
            "esm2_embeddings shape: torch.Size([190, 1280])\n",
            "ss_onehot shape: torch.Size([190, 4])\n",
            "phi_angles shape: torch.Size([190, 1])\n",
            "psi_angles shape: torch.Size([190, 1])\n",
            "b_factors shape: torch.Size([190, 1])\n",
            "Shape of labels: torch.Size([190])\n"
          ]
        },
        {
          "output_type": "stream",
          "name": "stderr",
          "text": [
            " 92%|█████████▏| 933/1013 [02:39<00:18,  4.42it/s]"
          ]
        },
        {
          "output_type": "stream",
          "name": "stdout",
          "text": [
            "esm2_embeddings shape: torch.Size([269, 1280])\n",
            "ss_onehot shape: torch.Size([269, 4])\n",
            "phi_angles shape: torch.Size([269, 1])\n",
            "psi_angles shape: torch.Size([269, 1])\n",
            "b_factors shape: torch.Size([269, 1])\n",
            "Shape of labels: torch.Size([269])\n",
            "esm2_embeddings shape: torch.Size([230, 1280])\n",
            "ss_onehot shape: torch.Size([230, 4])\n",
            "phi_angles shape: torch.Size([230, 1])\n",
            "psi_angles shape: torch.Size([230, 1])\n",
            "b_factors shape: torch.Size([230, 1])\n",
            "Shape of labels: torch.Size([230])\n"
          ]
        },
        {
          "output_type": "stream",
          "name": "stderr",
          "text": [
            " 92%|█████████▏| 935/1013 [02:40<00:14,  5.50it/s]"
          ]
        },
        {
          "output_type": "stream",
          "name": "stdout",
          "text": [
            "esm2_embeddings shape: torch.Size([169, 1280])\n",
            "ss_onehot shape: torch.Size([169, 4])\n",
            "phi_angles shape: torch.Size([169, 1])\n",
            "psi_angles shape: torch.Size([169, 1])\n",
            "b_factors shape: torch.Size([169, 1])\n",
            "Shape of labels: torch.Size([169])\n",
            "esm2_embeddings shape: torch.Size([177, 1280])\n",
            "ss_onehot shape: torch.Size([177, 4])\n",
            "phi_angles shape: torch.Size([177, 1])\n",
            "psi_angles shape: torch.Size([177, 1])\n",
            "b_factors shape: torch.Size([177, 1])\n",
            "Shape of labels: torch.Size([177])\n"
          ]
        },
        {
          "output_type": "stream",
          "name": "stderr",
          "text": [
            "\r 92%|█████████▏| 937/1013 [02:40<00:10,  7.57it/s]"
          ]
        },
        {
          "output_type": "stream",
          "name": "stdout",
          "text": [
            "esm2_embeddings shape: torch.Size([127, 1280])\n",
            "ss_onehot shape: torch.Size([127, 4])\n",
            "phi_angles shape: torch.Size([127, 1])\n",
            "psi_angles shape: torch.Size([127, 1])\n",
            "b_factors shape: torch.Size([127, 1])\n",
            "Shape of labels: torch.Size([127])\n",
            "esm2_embeddings shape: torch.Size([76, 1280])\n",
            "ss_onehot shape: torch.Size([76, 4])\n",
            "phi_angles shape: torch.Size([76, 1])\n",
            "psi_angles shape: torch.Size([76, 1])\n",
            "b_factors shape: torch.Size([76, 1])\n",
            "Shape of labels: torch.Size([76])\n",
            "esm2_embeddings shape: torch.Size([138, 1280])\n",
            "ss_onehot shape: torch.Size([138, 4])\n",
            "phi_angles shape: torch.Size([138, 1])\n",
            "psi_angles shape: torch.Size([138, 1])\n",
            "b_factors shape: torch.Size([138, 1])\n",
            "Shape of labels: torch.Size([138])\n"
          ]
        },
        {
          "output_type": "stream",
          "name": "stderr",
          "text": [
            " 93%|█████████▎| 940/1013 [02:40<00:09,  7.49it/s]"
          ]
        },
        {
          "output_type": "stream",
          "name": "stdout",
          "text": [
            "esm2_embeddings shape: torch.Size([184, 1280])\n",
            "ss_onehot shape: torch.Size([184, 4])\n",
            "phi_angles shape: torch.Size([184, 1])\n",
            "psi_angles shape: torch.Size([184, 1])\n",
            "b_factors shape: torch.Size([184, 1])\n",
            "Shape of labels: torch.Size([184])\n",
            "esm2_embeddings shape: torch.Size([170, 1280])\n",
            "ss_onehot shape: torch.Size([170, 4])\n",
            "phi_angles shape: torch.Size([170, 1])\n",
            "psi_angles shape: torch.Size([170, 1])\n",
            "b_factors shape: torch.Size([170, 1])\n",
            "Shape of labels: torch.Size([170])\n"
          ]
        },
        {
          "output_type": "stream",
          "name": "stderr",
          "text": [
            "\r 93%|█████████▎| 942/1013 [02:40<00:08,  8.38it/s]"
          ]
        },
        {
          "output_type": "stream",
          "name": "stdout",
          "text": [
            "esm2_embeddings shape: torch.Size([126, 1280])\n",
            "ss_onehot shape: torch.Size([126, 4])\n",
            "phi_angles shape: torch.Size([126, 1])\n",
            "psi_angles shape: torch.Size([126, 1])\n",
            "b_factors shape: torch.Size([126, 1])\n",
            "Shape of labels: torch.Size([126])\n",
            "esm2_embeddings shape: torch.Size([145, 1280])\n",
            "ss_onehot shape: torch.Size([145, 4])\n",
            "phi_angles shape: torch.Size([145, 1])\n",
            "psi_angles shape: torch.Size([145, 1])\n",
            "b_factors shape: torch.Size([145, 1])\n",
            "Shape of labels: torch.Size([145])\n"
          ]
        },
        {
          "output_type": "stream",
          "name": "stderr",
          "text": [
            "\r 93%|█████████▎| 943/1013 [02:41<00:14,  4.80it/s]"
          ]
        },
        {
          "output_type": "stream",
          "name": "stdout",
          "text": [
            "esm2_embeddings shape: torch.Size([181, 1280])\n",
            "ss_onehot shape: torch.Size([181, 4])\n",
            "phi_angles shape: torch.Size([181, 1])\n",
            "psi_angles shape: torch.Size([181, 1])\n",
            "b_factors shape: torch.Size([181, 1])\n",
            "Shape of labels: torch.Size([181])\n"
          ]
        },
        {
          "output_type": "stream",
          "name": "stderr",
          "text": [
            " 93%|█████████▎| 945/1013 [02:41<00:13,  4.95it/s]"
          ]
        },
        {
          "output_type": "stream",
          "name": "stdout",
          "text": [
            "esm2_embeddings shape: torch.Size([281, 1280])\n",
            "ss_onehot shape: torch.Size([281, 4])\n",
            "phi_angles shape: torch.Size([281, 1])\n",
            "psi_angles shape: torch.Size([281, 1])\n",
            "b_factors shape: torch.Size([281, 1])\n",
            "Shape of labels: torch.Size([281])\n",
            "esm2_embeddings shape: torch.Size([183, 1280])\n",
            "ss_onehot shape: torch.Size([183, 4])\n",
            "phi_angles shape: torch.Size([183, 1])\n",
            "psi_angles shape: torch.Size([183, 1])\n",
            "b_factors shape: torch.Size([183, 1])\n",
            "Shape of labels: torch.Size([183])\n"
          ]
        },
        {
          "output_type": "stream",
          "name": "stderr",
          "text": [
            "\r 93%|█████████▎| 947/1013 [02:42<00:10,  6.10it/s]"
          ]
        },
        {
          "output_type": "stream",
          "name": "stdout",
          "text": [
            "esm2_embeddings shape: torch.Size([107, 1280])\n",
            "ss_onehot shape: torch.Size([107, 4])\n",
            "phi_angles shape: torch.Size([107, 1])\n",
            "psi_angles shape: torch.Size([107, 1])\n",
            "b_factors shape: torch.Size([107, 1])\n",
            "Shape of labels: torch.Size([107])\n",
            "esm2_embeddings shape: torch.Size([191, 1280])\n",
            "ss_onehot shape: torch.Size([191, 4])\n",
            "phi_angles shape: torch.Size([191, 1])\n",
            "psi_angles shape: torch.Size([191, 1])\n",
            "b_factors shape: torch.Size([191, 1])\n",
            "Shape of labels: torch.Size([191])\n"
          ]
        },
        {
          "output_type": "stream",
          "name": "stderr",
          "text": [
            "\r 94%|█████████▎| 949/1013 [02:42<00:09,  6.49it/s]"
          ]
        },
        {
          "output_type": "stream",
          "name": "stdout",
          "text": [
            "esm2_embeddings shape: torch.Size([108, 1280])\n",
            "ss_onehot shape: torch.Size([108, 4])\n",
            "phi_angles shape: torch.Size([108, 1])\n",
            "psi_angles shape: torch.Size([108, 1])\n",
            "b_factors shape: torch.Size([108, 1])\n",
            "Shape of labels: torch.Size([108])\n",
            "esm2_embeddings shape: torch.Size([232, 1280])\n",
            "ss_onehot shape: torch.Size([232, 4])\n",
            "phi_angles shape: torch.Size([232, 1])\n",
            "psi_angles shape: torch.Size([232, 1])\n",
            "b_factors shape: torch.Size([232, 1])\n",
            "Shape of labels: torch.Size([232])\n"
          ]
        },
        {
          "output_type": "stream",
          "name": "stderr",
          "text": [
            "\r 94%|█████████▍| 951/1013 [02:42<00:08,  7.15it/s]"
          ]
        },
        {
          "output_type": "stream",
          "name": "stdout",
          "text": [
            "esm2_embeddings shape: torch.Size([131, 1280])\n",
            "ss_onehot shape: torch.Size([131, 4])\n",
            "phi_angles shape: torch.Size([131, 1])\n",
            "psi_angles shape: torch.Size([131, 1])\n",
            "b_factors shape: torch.Size([131, 1])\n",
            "Shape of labels: torch.Size([131])\n",
            "esm2_embeddings shape: torch.Size([163, 1280])\n",
            "ss_onehot shape: torch.Size([163, 4])\n",
            "phi_angles shape: torch.Size([163, 1])\n",
            "psi_angles shape: torch.Size([163, 1])\n",
            "b_factors shape: torch.Size([163, 1])\n",
            "Shape of labels: torch.Size([163])\n",
            "esm2_embeddings shape: torch.Size([109, 1280])\n",
            "ss_onehot shape: torch.Size([109, 4])\n",
            "phi_angles shape: torch.Size([109, 1])\n",
            "psi_angles shape: torch.Size([109, 1])\n",
            "b_factors shape: torch.Size([109, 1])\n",
            "Shape of labels: torch.Size([109])\n"
          ]
        },
        {
          "output_type": "stream",
          "name": "stderr",
          "text": [
            "\r 94%|█████████▍| 953/1013 [02:43<00:13,  4.53it/s]"
          ]
        },
        {
          "output_type": "stream",
          "name": "stdout",
          "text": [
            "esm2_embeddings shape: torch.Size([313, 1280])\n",
            "ss_onehot shape: torch.Size([313, 4])\n",
            "phi_angles shape: torch.Size([313, 1])\n",
            "psi_angles shape: torch.Size([313, 1])\n",
            "b_factors shape: torch.Size([313, 1])\n",
            "Shape of labels: torch.Size([313])\n"
          ]
        },
        {
          "output_type": "stream",
          "name": "stderr",
          "text": [
            " 94%|█████████▍| 955/1013 [02:43<00:12,  4.78it/s]"
          ]
        },
        {
          "output_type": "stream",
          "name": "stdout",
          "text": [
            "esm2_embeddings shape: torch.Size([313, 1280])\n",
            "ss_onehot shape: torch.Size([313, 4])\n",
            "phi_angles shape: torch.Size([313, 1])\n",
            "psi_angles shape: torch.Size([313, 1])\n",
            "b_factors shape: torch.Size([313, 1])\n",
            "Shape of labels: torch.Size([313])\n",
            "esm2_embeddings shape: torch.Size([138, 1280])\n",
            "ss_onehot shape: torch.Size([138, 4])\n",
            "phi_angles shape: torch.Size([138, 1])\n",
            "psi_angles shape: torch.Size([138, 1])\n",
            "b_factors shape: torch.Size([138, 1])\n",
            "Shape of labels: torch.Size([138])\n",
            "esm2_embeddings shape: torch.Size([128, 1280])\n",
            "ss_onehot shape: torch.Size([128, 4])\n",
            "phi_angles shape: torch.Size([128, 1])\n",
            "psi_angles shape: torch.Size([128, 1])\n",
            "b_factors shape: torch.Size([128, 1])\n",
            "Shape of labels: torch.Size([128])\n"
          ]
        },
        {
          "output_type": "stream",
          "name": "stderr",
          "text": [
            "\r 94%|█████████▍| 957/1013 [02:44<00:10,  5.13it/s]"
          ]
        },
        {
          "output_type": "stream",
          "name": "stdout",
          "text": [
            "esm2_embeddings shape: torch.Size([282, 1280])\n",
            "ss_onehot shape: torch.Size([282, 4])\n",
            "phi_angles shape: torch.Size([282, 1])\n",
            "psi_angles shape: torch.Size([282, 1])\n",
            "b_factors shape: torch.Size([282, 1])\n",
            "Shape of labels: torch.Size([282])\n",
            "esm2_embeddings shape: torch.Size([140, 1280])\n",
            "ss_onehot shape: torch.Size([140, 4])\n",
            "phi_angles shape: torch.Size([140, 1])\n",
            "psi_angles shape: torch.Size([140, 1])\n",
            "b_factors shape: torch.Size([140, 1])\n",
            "Shape of labels: torch.Size([140])\n"
          ]
        },
        {
          "output_type": "stream",
          "name": "stderr",
          "text": [
            " 95%|█████████▍| 960/1013 [02:44<00:08,  6.11it/s]"
          ]
        },
        {
          "output_type": "stream",
          "name": "stdout",
          "text": [
            "esm2_embeddings shape: torch.Size([209, 1280])\n",
            "ss_onehot shape: torch.Size([209, 4])\n",
            "phi_angles shape: torch.Size([209, 1])\n",
            "psi_angles shape: torch.Size([209, 1])\n",
            "b_factors shape: torch.Size([209, 1])\n",
            "Shape of labels: torch.Size([209])\n",
            "esm2_embeddings shape: torch.Size([164, 1280])\n",
            "ss_onehot shape: torch.Size([164, 4])\n",
            "phi_angles shape: torch.Size([164, 1])\n",
            "psi_angles shape: torch.Size([164, 1])\n",
            "b_factors shape: torch.Size([164, 1])\n",
            "Shape of labels: torch.Size([164])\n"
          ]
        },
        {
          "output_type": "stream",
          "name": "stderr",
          "text": [
            "\r 95%|█████████▍| 961/1013 [02:44<00:07,  6.50it/s]"
          ]
        },
        {
          "output_type": "stream",
          "name": "stdout",
          "text": [
            "esm2_embeddings shape: torch.Size([160, 1280])\n",
            "ss_onehot shape: torch.Size([160, 4])\n",
            "phi_angles shape: torch.Size([160, 1])\n",
            "psi_angles shape: torch.Size([160, 1])\n",
            "b_factors shape: torch.Size([160, 1])\n",
            "Shape of labels: torch.Size([160])\n",
            "esm2_embeddings shape: torch.Size([84, 1280])\n",
            "ss_onehot shape: torch.Size([84, 4])\n",
            "phi_angles shape: torch.Size([84, 1])\n",
            "psi_angles shape: torch.Size([84, 1])\n",
            "b_factors shape: torch.Size([84, 1])\n",
            "Shape of labels: torch.Size([84])\n"
          ]
        },
        {
          "output_type": "stream",
          "name": "stderr",
          "text": [
            " 95%|█████████▌| 964/1013 [02:45<00:09,  4.91it/s]"
          ]
        },
        {
          "output_type": "stream",
          "name": "stdout",
          "text": [
            "esm2_embeddings shape: torch.Size([229, 1280])\n",
            "ss_onehot shape: torch.Size([229, 4])\n",
            "phi_angles shape: torch.Size([229, 1])\n",
            "psi_angles shape: torch.Size([229, 1])\n",
            "b_factors shape: torch.Size([229, 1])\n",
            "Shape of labels: torch.Size([229])\n",
            "esm2_embeddings shape: torch.Size([182, 1280])\n",
            "ss_onehot shape: torch.Size([182, 4])\n",
            "phi_angles shape: torch.Size([182, 1])\n",
            "psi_angles shape: torch.Size([182, 1])\n",
            "b_factors shape: torch.Size([182, 1])\n",
            "Shape of labels: torch.Size([182])\n"
          ]
        },
        {
          "output_type": "stream",
          "name": "stderr",
          "text": [
            " 95%|█████████▌| 966/1013 [02:45<00:09,  4.82it/s]"
          ]
        },
        {
          "output_type": "stream",
          "name": "stdout",
          "text": [
            "esm2_embeddings shape: torch.Size([310, 1280])\n",
            "ss_onehot shape: torch.Size([310, 4])\n",
            "phi_angles shape: torch.Size([310, 1])\n",
            "psi_angles shape: torch.Size([310, 1])\n",
            "b_factors shape: torch.Size([310, 1])\n",
            "Shape of labels: torch.Size([310])\n",
            "esm2_embeddings shape: torch.Size([176, 1280])\n",
            "ss_onehot shape: torch.Size([176, 4])\n",
            "phi_angles shape: torch.Size([176, 1])\n",
            "psi_angles shape: torch.Size([176, 1])\n",
            "b_factors shape: torch.Size([176, 1])\n",
            "Shape of labels: torch.Size([176])\n"
          ]
        },
        {
          "output_type": "stream",
          "name": "stderr",
          "text": [
            " 96%|█████████▌| 969/1013 [02:46<00:06,  7.19it/s]"
          ]
        },
        {
          "output_type": "stream",
          "name": "stdout",
          "text": [
            "esm2_embeddings shape: torch.Size([158, 1280])\n",
            "ss_onehot shape: torch.Size([158, 4])\n",
            "phi_angles shape: torch.Size([158, 1])\n",
            "psi_angles shape: torch.Size([158, 1])\n",
            "b_factors shape: torch.Size([158, 1])\n",
            "Shape of labels: torch.Size([158])\n",
            "esm2_embeddings shape: torch.Size([114, 1280])\n",
            "ss_onehot shape: torch.Size([114, 4])\n",
            "phi_angles shape: torch.Size([114, 1])\n",
            "psi_angles shape: torch.Size([114, 1])\n",
            "b_factors shape: torch.Size([114, 1])\n",
            "Shape of labels: torch.Size([114])\n",
            "esm2_embeddings shape: torch.Size([97, 1280])\n",
            "ss_onehot shape: torch.Size([97, 4])\n",
            "phi_angles shape: torch.Size([97, 1])\n",
            "psi_angles shape: torch.Size([97, 1])\n",
            "b_factors shape: torch.Size([97, 1])\n",
            "Shape of labels: torch.Size([97])\n"
          ]
        },
        {
          "output_type": "stream",
          "name": "stderr",
          "text": [
            " 96%|█████████▌| 971/1013 [02:46<00:06,  6.47it/s]"
          ]
        },
        {
          "output_type": "stream",
          "name": "stdout",
          "text": [
            "esm2_embeddings shape: torch.Size([188, 1280])\n",
            "ss_onehot shape: torch.Size([188, 4])\n",
            "phi_angles shape: torch.Size([188, 1])\n",
            "psi_angles shape: torch.Size([188, 1])\n",
            "b_factors shape: torch.Size([188, 1])\n",
            "Shape of labels: torch.Size([188])\n",
            "esm2_embeddings shape: torch.Size([228, 1280])\n",
            "ss_onehot shape: torch.Size([228, 4])\n",
            "phi_angles shape: torch.Size([228, 1])\n",
            "psi_angles shape: torch.Size([228, 1])\n",
            "b_factors shape: torch.Size([228, 1])\n",
            "Shape of labels: torch.Size([228])\n"
          ]
        },
        {
          "output_type": "stream",
          "name": "stderr",
          "text": [
            "\r 96%|█████████▌| 972/1013 [02:46<00:06,  5.99it/s]"
          ]
        },
        {
          "output_type": "stream",
          "name": "stdout",
          "text": [
            "esm2_embeddings shape: torch.Size([234, 1280])\n",
            "ss_onehot shape: torch.Size([234, 4])\n",
            "phi_angles shape: torch.Size([234, 1])\n",
            "psi_angles shape: torch.Size([234, 1])\n",
            "b_factors shape: torch.Size([234, 1])\n",
            "Shape of labels: torch.Size([234])\n"
          ]
        },
        {
          "output_type": "stream",
          "name": "stderr",
          "text": [
            " 96%|█████████▌| 974/1013 [02:47<00:09,  4.06it/s]"
          ]
        },
        {
          "output_type": "stream",
          "name": "stdout",
          "text": [
            "esm2_embeddings shape: torch.Size([267, 1280])\n",
            "ss_onehot shape: torch.Size([267, 4])\n",
            "phi_angles shape: torch.Size([267, 1])\n",
            "psi_angles shape: torch.Size([267, 1])\n",
            "b_factors shape: torch.Size([267, 1])\n",
            "Shape of labels: torch.Size([267])\n",
            "esm2_embeddings shape: torch.Size([144, 1280])\n",
            "ss_onehot shape: torch.Size([144, 4])\n",
            "phi_angles shape: torch.Size([144, 1])\n",
            "psi_angles shape: torch.Size([144, 1])\n",
            "b_factors shape: torch.Size([144, 1])\n",
            "Shape of labels: torch.Size([144])\n",
            "esm2_embeddings shape: torch.Size([118, 1280])\n",
            "ss_onehot shape: torch.Size([118, 4])\n",
            "phi_angles shape: torch.Size([118, 1])\n",
            "psi_angles shape: torch.Size([118, 1])\n",
            "b_factors shape: torch.Size([118, 1])\n",
            "Shape of labels: torch.Size([118])\n"
          ]
        },
        {
          "output_type": "stream",
          "name": "stderr",
          "text": [
            " 96%|█████████▋| 977/1013 [02:47<00:06,  5.81it/s]"
          ]
        },
        {
          "output_type": "stream",
          "name": "stdout",
          "text": [
            "esm2_embeddings shape: torch.Size([164, 1280])\n",
            "ss_onehot shape: torch.Size([164, 4])\n",
            "phi_angles shape: torch.Size([164, 1])\n",
            "psi_angles shape: torch.Size([164, 1])\n",
            "b_factors shape: torch.Size([164, 1])\n",
            "Shape of labels: torch.Size([164])\n",
            "esm2_embeddings shape: torch.Size([162, 1280])\n",
            "ss_onehot shape: torch.Size([162, 4])\n",
            "phi_angles shape: torch.Size([162, 1])\n",
            "psi_angles shape: torch.Size([162, 1])\n",
            "b_factors shape: torch.Size([162, 1])\n",
            "Shape of labels: torch.Size([162])\n"
          ]
        },
        {
          "output_type": "stream",
          "name": "stderr",
          "text": [
            "\r 97%|█████████▋| 979/1013 [02:48<00:05,  6.21it/s]"
          ]
        },
        {
          "output_type": "stream",
          "name": "stdout",
          "text": [
            "esm2_embeddings shape: torch.Size([136, 1280])\n",
            "ss_onehot shape: torch.Size([136, 4])\n",
            "phi_angles shape: torch.Size([136, 1])\n",
            "psi_angles shape: torch.Size([136, 1])\n",
            "b_factors shape: torch.Size([136, 1])\n",
            "Shape of labels: torch.Size([136])\n",
            "esm2_embeddings shape: torch.Size([234, 1280])\n",
            "ss_onehot shape: torch.Size([234, 4])\n",
            "phi_angles shape: torch.Size([234, 1])\n",
            "psi_angles shape: torch.Size([234, 1])\n",
            "b_factors shape: torch.Size([234, 1])\n",
            "Shape of labels: torch.Size([234])\n"
          ]
        },
        {
          "output_type": "stream",
          "name": "stderr",
          "text": [
            "\r 97%|█████████▋| 980/1013 [02:48<00:05,  6.33it/s]"
          ]
        },
        {
          "output_type": "stream",
          "name": "stdout",
          "text": [
            "esm2_embeddings shape: torch.Size([187, 1280])\n",
            "ss_onehot shape: torch.Size([187, 4])\n",
            "phi_angles shape: torch.Size([187, 1])\n",
            "psi_angles shape: torch.Size([187, 1])\n",
            "b_factors shape: torch.Size([187, 1])\n",
            "Shape of labels: torch.Size([187])\n"
          ]
        },
        {
          "output_type": "stream",
          "name": "stderr",
          "text": [
            "\r 97%|█████████▋| 981/1013 [02:49<00:09,  3.22it/s]"
          ]
        },
        {
          "output_type": "stream",
          "name": "stdout",
          "text": [
            "esm2_embeddings shape: torch.Size([556, 1280])\n",
            "ss_onehot shape: torch.Size([556, 4])\n",
            "phi_angles shape: torch.Size([556, 1])\n",
            "psi_angles shape: torch.Size([556, 1])\n",
            "b_factors shape: torch.Size([556, 1])\n",
            "Shape of labels: torch.Size([556])\n"
          ]
        },
        {
          "output_type": "stream",
          "name": "stderr",
          "text": [
            " 97%|█████████▋| 983/1013 [02:49<00:10,  2.80it/s]"
          ]
        },
        {
          "output_type": "stream",
          "name": "stdout",
          "text": [
            "esm2_embeddings shape: torch.Size([337, 1280])\n",
            "ss_onehot shape: torch.Size([337, 4])\n",
            "phi_angles shape: torch.Size([337, 1])\n",
            "psi_angles shape: torch.Size([337, 1])\n",
            "b_factors shape: torch.Size([337, 1])\n",
            "Shape of labels: torch.Size([337])\n",
            "esm2_embeddings shape: torch.Size([210, 1280])\n",
            "ss_onehot shape: torch.Size([210, 4])\n",
            "phi_angles shape: torch.Size([210, 1])\n",
            "psi_angles shape: torch.Size([210, 1])\n",
            "b_factors shape: torch.Size([210, 1])\n",
            "Shape of labels: torch.Size([210])\n"
          ]
        },
        {
          "output_type": "stream",
          "name": "stderr",
          "text": [
            "\r 97%|█████████▋| 984/1013 [02:50<00:08,  3.30it/s]"
          ]
        },
        {
          "output_type": "stream",
          "name": "stdout",
          "text": [
            "esm2_embeddings shape: torch.Size([191, 1280])\n",
            "ss_onehot shape: torch.Size([191, 4])\n",
            "phi_angles shape: torch.Size([191, 1])\n",
            "psi_angles shape: torch.Size([191, 1])\n",
            "b_factors shape: torch.Size([191, 1])\n",
            "Shape of labels: torch.Size([191])\n"
          ]
        },
        {
          "output_type": "stream",
          "name": "stderr",
          "text": [
            "\r 97%|█████████▋| 985/1013 [02:50<00:09,  2.81it/s]"
          ]
        },
        {
          "output_type": "stream",
          "name": "stdout",
          "text": [
            "esm2_embeddings shape: torch.Size([422, 1280])\n",
            "ss_onehot shape: torch.Size([422, 4])\n",
            "phi_angles shape: torch.Size([422, 1])\n",
            "psi_angles shape: torch.Size([422, 1])\n",
            "b_factors shape: torch.Size([422, 1])\n",
            "Shape of labels: torch.Size([422])\n"
          ]
        },
        {
          "output_type": "stream",
          "name": "stderr",
          "text": [
            " 98%|█████████▊| 988/1013 [02:50<00:05,  4.70it/s]"
          ]
        },
        {
          "output_type": "stream",
          "name": "stdout",
          "text": [
            "esm2_embeddings shape: torch.Size([225, 1280])\n",
            "ss_onehot shape: torch.Size([225, 4])\n",
            "phi_angles shape: torch.Size([225, 1])\n",
            "psi_angles shape: torch.Size([225, 1])\n",
            "b_factors shape: torch.Size([225, 1])\n",
            "Shape of labels: torch.Size([225])\n",
            "esm2_embeddings shape: torch.Size([75, 1280])\n",
            "ss_onehot shape: torch.Size([75, 4])\n",
            "phi_angles shape: torch.Size([75, 1])\n",
            "psi_angles shape: torch.Size([75, 1])\n",
            "b_factors shape: torch.Size([75, 1])\n",
            "Shape of labels: torch.Size([75])\n",
            "esm2_embeddings shape: torch.Size([165, 1280])\n",
            "ss_onehot shape: torch.Size([165, 4])\n",
            "phi_angles shape: torch.Size([165, 1])\n",
            "psi_angles shape: torch.Size([165, 1])\n",
            "b_factors shape: torch.Size([165, 1])\n",
            "Shape of labels: torch.Size([165])\n"
          ]
        },
        {
          "output_type": "stream",
          "name": "stderr",
          "text": [
            "\r 98%|█████████▊| 990/1013 [02:51<00:03,  6.18it/s]"
          ]
        },
        {
          "output_type": "stream",
          "name": "stdout",
          "text": [
            "esm2_embeddings shape: torch.Size([115, 1280])\n",
            "ss_onehot shape: torch.Size([115, 4])\n",
            "phi_angles shape: torch.Size([115, 1])\n",
            "psi_angles shape: torch.Size([115, 1])\n",
            "b_factors shape: torch.Size([115, 1])\n",
            "Shape of labels: torch.Size([115])\n",
            "esm2_embeddings shape: torch.Size([116, 1280])\n",
            "ss_onehot shape: torch.Size([116, 4])\n",
            "phi_angles shape: torch.Size([116, 1])\n",
            "psi_angles shape: torch.Size([116, 1])\n",
            "b_factors shape: torch.Size([116, 1])\n",
            "Shape of labels: torch.Size([116])\n"
          ]
        },
        {
          "output_type": "stream",
          "name": "stderr",
          "text": [
            " 98%|█████████▊| 993/1013 [02:51<00:03,  5.63it/s]"
          ]
        },
        {
          "output_type": "stream",
          "name": "stdout",
          "text": [
            "esm2_embeddings shape: torch.Size([141, 1280])\n",
            "ss_onehot shape: torch.Size([141, 4])\n",
            "phi_angles shape: torch.Size([141, 1])\n",
            "psi_angles shape: torch.Size([141, 1])\n",
            "b_factors shape: torch.Size([141, 1])\n",
            "Shape of labels: torch.Size([141])\n",
            "esm2_embeddings shape: torch.Size([90, 1280])\n",
            "ss_onehot shape: torch.Size([90, 4])\n",
            "phi_angles shape: torch.Size([90, 1])\n",
            "psi_angles shape: torch.Size([90, 1])\n",
            "b_factors shape: torch.Size([90, 1])\n",
            "Shape of labels: torch.Size([90])\n",
            "esm2_embeddings shape: torch.Size([124, 1280])\n",
            "ss_onehot shape: torch.Size([124, 4])\n",
            "phi_angles shape: torch.Size([124, 1])\n",
            "psi_angles shape: torch.Size([124, 1])\n",
            "b_factors shape: torch.Size([124, 1])\n",
            "Shape of labels: torch.Size([124])\n"
          ]
        },
        {
          "output_type": "stream",
          "name": "stderr",
          "text": [
            "\r 98%|█████████▊| 995/1013 [02:51<00:02,  6.90it/s]"
          ]
        },
        {
          "output_type": "stream",
          "name": "stdout",
          "text": [
            "esm2_embeddings shape: torch.Size([121, 1280])\n",
            "ss_onehot shape: torch.Size([121, 4])\n",
            "phi_angles shape: torch.Size([121, 1])\n",
            "psi_angles shape: torch.Size([121, 1])\n",
            "b_factors shape: torch.Size([121, 1])\n",
            "Shape of labels: torch.Size([121])\n",
            "esm2_embeddings shape: torch.Size([117, 1280])\n",
            "ss_onehot shape: torch.Size([117, 4])\n",
            "phi_angles shape: torch.Size([117, 1])\n",
            "psi_angles shape: torch.Size([117, 1])\n",
            "b_factors shape: torch.Size([117, 1])\n",
            "Shape of labels: torch.Size([117])\n"
          ]
        },
        {
          "output_type": "stream",
          "name": "stderr",
          "text": [
            " 99%|█████████▊| 998/1013 [02:52<00:01,  8.39it/s]"
          ]
        },
        {
          "output_type": "stream",
          "name": "stdout",
          "text": [
            "esm2_embeddings shape: torch.Size([161, 1280])\n",
            "ss_onehot shape: torch.Size([161, 4])\n",
            "phi_angles shape: torch.Size([161, 1])\n",
            "psi_angles shape: torch.Size([161, 1])\n",
            "b_factors shape: torch.Size([161, 1])\n",
            "Shape of labels: torch.Size([161])\n",
            "esm2_embeddings shape: torch.Size([80, 1280])\n",
            "ss_onehot shape: torch.Size([80, 4])\n",
            "phi_angles shape: torch.Size([80, 1])\n",
            "psi_angles shape: torch.Size([80, 1])\n",
            "b_factors shape: torch.Size([80, 1])\n",
            "Shape of labels: torch.Size([80])\n",
            "esm2_embeddings shape: torch.Size([153, 1280])\n",
            "ss_onehot shape: torch.Size([153, 4])\n",
            "phi_angles shape: torch.Size([153, 1])\n",
            "psi_angles shape: torch.Size([153, 1])\n",
            "b_factors shape: torch.Size([153, 1])\n",
            "Shape of labels: torch.Size([153])\n"
          ]
        },
        {
          "output_type": "stream",
          "name": "stderr",
          "text": [
            "\r 99%|█████████▊| 1000/1013 [02:52<00:01,  8.87it/s]"
          ]
        },
        {
          "output_type": "stream",
          "name": "stdout",
          "text": [
            "esm2_embeddings shape: torch.Size([125, 1280])\n",
            "ss_onehot shape: torch.Size([125, 4])\n",
            "phi_angles shape: torch.Size([125, 1])\n",
            "psi_angles shape: torch.Size([125, 1])\n",
            "b_factors shape: torch.Size([125, 1])\n",
            "Shape of labels: torch.Size([125])\n",
            "esm2_embeddings shape: torch.Size([144, 1280])\n",
            "ss_onehot shape: torch.Size([144, 4])\n",
            "phi_angles shape: torch.Size([144, 1])\n",
            "psi_angles shape: torch.Size([144, 1])\n",
            "b_factors shape: torch.Size([144, 1])\n",
            "Shape of labels: torch.Size([144])\n"
          ]
        },
        {
          "output_type": "stream",
          "name": "stderr",
          "text": [
            " 99%|█████████▉| 1002/1013 [02:52<00:01,  7.28it/s]"
          ]
        },
        {
          "output_type": "stream",
          "name": "stdout",
          "text": [
            "esm2_embeddings shape: torch.Size([262, 1280])\n",
            "ss_onehot shape: torch.Size([262, 4])\n",
            "phi_angles shape: torch.Size([262, 1])\n",
            "psi_angles shape: torch.Size([262, 1])\n",
            "b_factors shape: torch.Size([262, 1])\n",
            "Shape of labels: torch.Size([262])\n",
            "esm2_embeddings shape: torch.Size([178, 1280])\n",
            "ss_onehot shape: torch.Size([178, 4])\n",
            "phi_angles shape: torch.Size([178, 1])\n",
            "psi_angles shape: torch.Size([178, 1])\n",
            "b_factors shape: torch.Size([178, 1])\n",
            "Shape of labels: torch.Size([178])\n"
          ]
        },
        {
          "output_type": "stream",
          "name": "stderr",
          "text": [
            " 99%|█████████▉| 1004/1013 [02:53<00:01,  7.58it/s]"
          ]
        },
        {
          "output_type": "stream",
          "name": "stdout",
          "text": [
            "esm2_embeddings shape: torch.Size([190, 1280])\n",
            "ss_onehot shape: torch.Size([190, 4])\n",
            "phi_angles shape: torch.Size([190, 1])\n",
            "psi_angles shape: torch.Size([190, 1])\n",
            "b_factors shape: torch.Size([190, 1])\n",
            "Shape of labels: torch.Size([190])\n",
            "esm2_embeddings shape: torch.Size([149, 1280])\n",
            "ss_onehot shape: torch.Size([149, 4])\n",
            "phi_angles shape: torch.Size([149, 1])\n",
            "psi_angles shape: torch.Size([149, 1])\n",
            "b_factors shape: torch.Size([149, 1])\n",
            "Shape of labels: torch.Size([149])\n"
          ]
        },
        {
          "output_type": "stream",
          "name": "stderr",
          "text": [
            " 99%|█████████▉| 1006/1013 [02:53<00:01,  4.00it/s]"
          ]
        },
        {
          "output_type": "stream",
          "name": "stdout",
          "text": [
            "esm2_embeddings shape: torch.Size([325, 1280])\n",
            "ss_onehot shape: torch.Size([325, 4])\n",
            "phi_angles shape: torch.Size([325, 1])\n",
            "psi_angles shape: torch.Size([325, 1])\n",
            "b_factors shape: torch.Size([325, 1])\n",
            "Shape of labels: torch.Size([325])\n",
            "esm2_embeddings shape: torch.Size([167, 1280])\n",
            "ss_onehot shape: torch.Size([167, 4])\n",
            "phi_angles shape: torch.Size([167, 1])\n",
            "psi_angles shape: torch.Size([167, 1])\n",
            "b_factors shape: torch.Size([167, 1])\n",
            "Shape of labels: torch.Size([167])\n",
            "esm2_embeddings shape: torch.Size([54, 1280])\n",
            "ss_onehot shape: torch.Size([54, 4])\n",
            "phi_angles shape: torch.Size([54, 1])\n",
            "psi_angles shape: torch.Size([54, 1])\n",
            "b_factors shape: torch.Size([54, 1])\n",
            "Shape of labels: torch.Size([54])\n"
          ]
        },
        {
          "output_type": "stream",
          "name": "stderr",
          "text": [
            "100%|█████████▉| 1009/1013 [02:54<00:00,  5.81it/s]"
          ]
        },
        {
          "output_type": "stream",
          "name": "stdout",
          "text": [
            "esm2_embeddings shape: torch.Size([214, 1280])\n",
            "ss_onehot shape: torch.Size([214, 4])\n",
            "phi_angles shape: torch.Size([214, 1])\n",
            "psi_angles shape: torch.Size([214, 1])\n",
            "b_factors shape: torch.Size([214, 1])\n",
            "Shape of labels: torch.Size([214])\n",
            "esm2_embeddings shape: torch.Size([168, 1280])\n",
            "ss_onehot shape: torch.Size([168, 4])\n",
            "phi_angles shape: torch.Size([168, 1])\n",
            "psi_angles shape: torch.Size([168, 1])\n",
            "b_factors shape: torch.Size([168, 1])\n",
            "Shape of labels: torch.Size([168])\n"
          ]
        },
        {
          "output_type": "stream",
          "name": "stderr",
          "text": [
            "\r100%|█████████▉| 1010/1013 [02:54<00:00,  4.69it/s]"
          ]
        },
        {
          "output_type": "stream",
          "name": "stdout",
          "text": [
            "esm2_embeddings shape: torch.Size([327, 1280])\n",
            "ss_onehot shape: torch.Size([327, 4])\n",
            "phi_angles shape: torch.Size([327, 1])\n",
            "psi_angles shape: torch.Size([327, 1])\n",
            "b_factors shape: torch.Size([327, 1])\n",
            "Shape of labels: torch.Size([327])\n"
          ]
        },
        {
          "output_type": "stream",
          "name": "stderr",
          "text": [
            "\r100%|█████████▉| 1011/1013 [02:54<00:00,  4.13it/s]"
          ]
        },
        {
          "output_type": "stream",
          "name": "stdout",
          "text": [
            "esm2_embeddings shape: torch.Size([318, 1280])\n",
            "ss_onehot shape: torch.Size([318, 4])\n",
            "phi_angles shape: torch.Size([318, 1])\n",
            "psi_angles shape: torch.Size([318, 1])\n",
            "b_factors shape: torch.Size([318, 1])\n",
            "Shape of labels: torch.Size([318])\n"
          ]
        },
        {
          "output_type": "stream",
          "name": "stderr",
          "text": [
            "\r100%|█████████▉| 1012/1013 [02:55<00:00,  2.78it/s]"
          ]
        },
        {
          "output_type": "stream",
          "name": "stdout",
          "text": [
            "esm2_embeddings shape: torch.Size([283, 1280])\n",
            "ss_onehot shape: torch.Size([283, 4])\n",
            "phi_angles shape: torch.Size([283, 1])\n",
            "psi_angles shape: torch.Size([283, 1])\n",
            "b_factors shape: torch.Size([283, 1])\n",
            "Shape of labels: torch.Size([283])\n"
          ]
        },
        {
          "output_type": "stream",
          "name": "stderr",
          "text": [
            "100%|██████████| 1013/1013 [02:55<00:00,  5.76it/s]\n"
          ]
        },
        {
          "output_type": "stream",
          "name": "stdout",
          "text": [
            "esm2_embeddings shape: torch.Size([272, 1280])\n",
            "ss_onehot shape: torch.Size([272, 4])\n",
            "phi_angles shape: torch.Size([272, 1])\n",
            "psi_angles shape: torch.Size([272, 1])\n",
            "b_factors shape: torch.Size([272, 1])\n",
            "Shape of labels: torch.Size([272])\n"
          ]
        },
        {
          "output_type": "stream",
          "name": "stderr",
          "text": [
            "  0%|          | 1/300 [00:00<01:14,  3.99it/s]"
          ]
        },
        {
          "output_type": "stream",
          "name": "stdout",
          "text": [
            "esm2_embeddings shape: torch.Size([274, 1280])\n",
            "ss_onehot shape: torch.Size([274, 4])\n",
            "phi_angles shape: torch.Size([274, 1])\n",
            "psi_angles shape: torch.Size([274, 1])\n",
            "b_factors shape: torch.Size([274, 1])\n",
            "Shape of labels: torch.Size([274])\n"
          ]
        },
        {
          "output_type": "stream",
          "name": "stderr",
          "text": [
            "\r  1%|          | 2/300 [00:00<01:22,  3.61it/s]"
          ]
        },
        {
          "output_type": "stream",
          "name": "stdout",
          "text": [
            "esm2_embeddings shape: torch.Size([304, 1280])\n",
            "ss_onehot shape: torch.Size([304, 4])\n",
            "phi_angles shape: torch.Size([304, 1])\n",
            "psi_angles shape: torch.Size([304, 1])\n",
            "b_factors shape: torch.Size([304, 1])\n",
            "Shape of labels: torch.Size([304])\n",
            "esm2_embeddings shape: torch.Size([125, 1280])\n",
            "ss_onehot shape: torch.Size([125, 4])\n",
            "phi_angles shape: torch.Size([125, 1])\n",
            "psi_angles shape: torch.Size([125, 1])\n",
            "b_factors shape: torch.Size([125, 1])\n",
            "Shape of labels: torch.Size([125])\n"
          ]
        },
        {
          "output_type": "stream",
          "name": "stderr",
          "text": [
            "  2%|▏         | 5/300 [00:00<00:53,  5.56it/s]"
          ]
        },
        {
          "output_type": "stream",
          "name": "stdout",
          "text": [
            "esm2_embeddings shape: torch.Size([174, 1280])\n",
            "ss_onehot shape: torch.Size([174, 4])\n",
            "phi_angles shape: torch.Size([174, 1])\n",
            "psi_angles shape: torch.Size([174, 1])\n",
            "b_factors shape: torch.Size([174, 1])\n",
            "Shape of labels: torch.Size([174])\n",
            "esm2_embeddings shape: torch.Size([216, 1280])\n",
            "ss_onehot shape: torch.Size([216, 4])\n",
            "phi_angles shape: torch.Size([216, 1])\n",
            "psi_angles shape: torch.Size([216, 1])\n",
            "b_factors shape: torch.Size([216, 1])\n",
            "Shape of labels: torch.Size([216])\n"
          ]
        },
        {
          "output_type": "stream",
          "name": "stderr",
          "text": [
            "\r  2%|▏         | 7/300 [00:01<00:37,  7.78it/s]"
          ]
        },
        {
          "output_type": "stream",
          "name": "stdout",
          "text": [
            "esm2_embeddings shape: torch.Size([91, 1280])\n",
            "ss_onehot shape: torch.Size([91, 4])\n",
            "phi_angles shape: torch.Size([91, 1])\n",
            "psi_angles shape: torch.Size([91, 1])\n",
            "b_factors shape: torch.Size([91, 1])\n",
            "Shape of labels: torch.Size([91])\n",
            "esm2_embeddings shape: torch.Size([108, 1280])\n",
            "ss_onehot shape: torch.Size([108, 4])\n",
            "phi_angles shape: torch.Size([108, 1])\n",
            "psi_angles shape: torch.Size([108, 1])\n",
            "b_factors shape: torch.Size([108, 1])\n",
            "Shape of labels: torch.Size([108])\n"
          ]
        },
        {
          "output_type": "stream",
          "name": "stderr",
          "text": [
            "\r  3%|▎         | 8/300 [00:01<00:46,  6.30it/s]"
          ]
        },
        {
          "output_type": "stream",
          "name": "stdout",
          "text": [
            "esm2_embeddings shape: torch.Size([276, 1280])\n",
            "ss_onehot shape: torch.Size([276, 4])\n",
            "phi_angles shape: torch.Size([276, 1])\n",
            "psi_angles shape: torch.Size([276, 1])\n",
            "b_factors shape: torch.Size([276, 1])\n",
            "Shape of labels: torch.Size([276])\n"
          ]
        },
        {
          "output_type": "stream",
          "name": "stderr",
          "text": [
            "\r  3%|▎         | 9/300 [00:02<01:29,  3.25it/s]"
          ]
        },
        {
          "output_type": "stream",
          "name": "stdout",
          "text": [
            "esm2_embeddings shape: torch.Size([316, 1280])\n",
            "ss_onehot shape: torch.Size([316, 4])\n",
            "phi_angles shape: torch.Size([316, 1])\n",
            "psi_angles shape: torch.Size([316, 1])\n",
            "b_factors shape: torch.Size([316, 1])\n",
            "Shape of labels: torch.Size([316])\n"
          ]
        },
        {
          "output_type": "stream",
          "name": "stderr",
          "text": [
            "\r  3%|▎         | 10/300 [00:02<01:54,  2.53it/s]"
          ]
        },
        {
          "output_type": "stream",
          "name": "stdout",
          "text": [
            "esm2_embeddings shape: torch.Size([475, 1280])\n",
            "ss_onehot shape: torch.Size([475, 4])\n",
            "phi_angles shape: torch.Size([475, 1])\n",
            "psi_angles shape: torch.Size([475, 1])\n",
            "b_factors shape: torch.Size([475, 1])\n",
            "Shape of labels: torch.Size([475])\n",
            "esm2_embeddings shape: torch.Size([100, 1280])\n",
            "ss_onehot shape: torch.Size([100, 4])\n",
            "phi_angles shape: torch.Size([100, 1])\n",
            "psi_angles shape: torch.Size([100, 1])\n",
            "b_factors shape: torch.Size([100, 1])\n",
            "Shape of labels: torch.Size([100])\n"
          ]
        },
        {
          "output_type": "stream",
          "name": "stderr",
          "text": [
            "  4%|▍         | 13/300 [00:03<01:11,  4.00it/s]"
          ]
        },
        {
          "output_type": "stream",
          "name": "stdout",
          "text": [
            "esm2_embeddings shape: torch.Size([176, 1280])\n",
            "ss_onehot shape: torch.Size([176, 4])\n",
            "phi_angles shape: torch.Size([176, 1])\n",
            "psi_angles shape: torch.Size([176, 1])\n",
            "b_factors shape: torch.Size([176, 1])\n",
            "Shape of labels: torch.Size([176])\n",
            "esm2_embeddings shape: torch.Size([232, 1280])\n",
            "ss_onehot shape: torch.Size([232, 4])\n",
            "phi_angles shape: torch.Size([232, 1])\n",
            "psi_angles shape: torch.Size([232, 1])\n",
            "b_factors shape: torch.Size([232, 1])\n",
            "Shape of labels: torch.Size([232])\n"
          ]
        },
        {
          "output_type": "stream",
          "name": "stderr",
          "text": [
            "  5%|▌         | 15/300 [00:03<00:57,  4.97it/s]"
          ]
        },
        {
          "output_type": "stream",
          "name": "stdout",
          "text": [
            "esm2_embeddings shape: torch.Size([155, 1280])\n",
            "ss_onehot shape: torch.Size([155, 4])\n",
            "phi_angles shape: torch.Size([155, 1])\n",
            "psi_angles shape: torch.Size([155, 1])\n",
            "b_factors shape: torch.Size([155, 1])\n",
            "Shape of labels: torch.Size([155])\n",
            "esm2_embeddings shape: torch.Size([207, 1280])\n",
            "ss_onehot shape: torch.Size([207, 4])\n",
            "phi_angles shape: torch.Size([207, 1])\n",
            "psi_angles shape: torch.Size([207, 1])\n",
            "b_factors shape: torch.Size([207, 1])\n",
            "Shape of labels: torch.Size([207])\n"
          ]
        },
        {
          "output_type": "stream",
          "name": "stderr",
          "text": [
            "  6%|▌         | 17/300 [00:04<01:22,  3.43it/s]"
          ]
        },
        {
          "output_type": "stream",
          "name": "stdout",
          "text": [
            "esm2_embeddings shape: torch.Size([351, 1280])\n",
            "ss_onehot shape: torch.Size([351, 4])\n",
            "phi_angles shape: torch.Size([351, 1])\n",
            "psi_angles shape: torch.Size([351, 1])\n",
            "b_factors shape: torch.Size([351, 1])\n",
            "Shape of labels: torch.Size([351])\n",
            "esm2_embeddings shape: torch.Size([149, 1280])\n",
            "ss_onehot shape: torch.Size([149, 4])\n",
            "phi_angles shape: torch.Size([149, 1])\n",
            "psi_angles shape: torch.Size([149, 1])\n",
            "b_factors shape: torch.Size([149, 1])\n",
            "Shape of labels: torch.Size([149])\n",
            "esm2_embeddings shape: torch.Size([61, 1280])\n",
            "ss_onehot shape: torch.Size([61, 4])\n",
            "phi_angles shape: torch.Size([61, 1])\n",
            "psi_angles shape: torch.Size([61, 1])\n",
            "b_factors shape: torch.Size([61, 1])\n",
            "Shape of labels: torch.Size([61])\n"
          ]
        },
        {
          "output_type": "stream",
          "name": "stderr",
          "text": [
            "  7%|▋         | 20/300 [00:04<00:53,  5.26it/s]"
          ]
        },
        {
          "output_type": "stream",
          "name": "stdout",
          "text": [
            "esm2_embeddings shape: torch.Size([159, 1280])\n",
            "ss_onehot shape: torch.Size([159, 4])\n",
            "phi_angles shape: torch.Size([159, 1])\n",
            "psi_angles shape: torch.Size([159, 1])\n",
            "b_factors shape: torch.Size([159, 1])\n",
            "Shape of labels: torch.Size([159])\n",
            "esm2_embeddings shape: torch.Size([207, 1280])\n",
            "ss_onehot shape: torch.Size([207, 4])\n",
            "phi_angles shape: torch.Size([207, 1])\n",
            "psi_angles shape: torch.Size([207, 1])\n",
            "b_factors shape: torch.Size([207, 1])\n",
            "Shape of labels: torch.Size([207])\n"
          ]
        },
        {
          "output_type": "stream",
          "name": "stderr",
          "text": [
            "\r  7%|▋         | 21/300 [00:04<00:47,  5.94it/s]"
          ]
        },
        {
          "output_type": "stream",
          "name": "stdout",
          "text": [
            "esm2_embeddings shape: torch.Size([145, 1280])\n",
            "ss_onehot shape: torch.Size([145, 4])\n",
            "phi_angles shape: torch.Size([145, 1])\n",
            "psi_angles shape: torch.Size([145, 1])\n",
            "b_factors shape: torch.Size([145, 1])\n",
            "Shape of labels: torch.Size([145])\n",
            "esm2_embeddings shape: torch.Size([101, 1280])\n",
            "ss_onehot shape: torch.Size([101, 4])\n",
            "phi_angles shape: torch.Size([101, 1])\n",
            "psi_angles shape: torch.Size([101, 1])\n",
            "b_factors shape: torch.Size([101, 1])\n",
            "Shape of labels: torch.Size([101])\n"
          ]
        },
        {
          "output_type": "stream",
          "name": "stderr",
          "text": [
            "  8%|▊         | 24/300 [00:05<00:43,  6.40it/s]"
          ]
        },
        {
          "output_type": "stream",
          "name": "stdout",
          "text": [
            "esm2_embeddings shape: torch.Size([299, 1280])\n",
            "ss_onehot shape: torch.Size([299, 4])\n",
            "phi_angles shape: torch.Size([299, 1])\n",
            "psi_angles shape: torch.Size([299, 1])\n",
            "b_factors shape: torch.Size([299, 1])\n",
            "Shape of labels: torch.Size([299])\n",
            "esm2_embeddings shape: torch.Size([147, 1280])\n",
            "ss_onehot shape: torch.Size([147, 4])\n",
            "phi_angles shape: torch.Size([147, 1])\n",
            "psi_angles shape: torch.Size([147, 1])\n",
            "b_factors shape: torch.Size([147, 1])\n",
            "Shape of labels: torch.Size([147])\n",
            "esm2_embeddings shape: torch.Size([132, 1280])\n",
            "ss_onehot shape: torch.Size([132, 4])\n",
            "phi_angles shape: torch.Size([132, 1])\n",
            "psi_angles shape: torch.Size([132, 1])\n",
            "b_factors shape: torch.Size([132, 1])\n",
            "Shape of labels: torch.Size([132])\n"
          ]
        },
        {
          "output_type": "stream",
          "name": "stderr",
          "text": [
            "  9%|▉         | 27/300 [00:06<01:03,  4.28it/s]"
          ]
        },
        {
          "output_type": "stream",
          "name": "stdout",
          "text": [
            "esm2_embeddings shape: torch.Size([338, 1280])\n",
            "ss_onehot shape: torch.Size([338, 4])\n",
            "phi_angles shape: torch.Size([338, 1])\n",
            "psi_angles shape: torch.Size([338, 1])\n",
            "b_factors shape: torch.Size([338, 1])\n",
            "Shape of labels: torch.Size([338])\n",
            "esm2_embeddings shape: torch.Size([165, 1280])\n",
            "ss_onehot shape: torch.Size([165, 4])\n",
            "phi_angles shape: torch.Size([165, 1])\n",
            "psi_angles shape: torch.Size([165, 1])\n",
            "b_factors shape: torch.Size([165, 1])\n",
            "Shape of labels: torch.Size([165])\n"
          ]
        },
        {
          "output_type": "stream",
          "name": "stderr",
          "text": [
            " 10%|▉         | 29/300 [00:06<01:04,  4.21it/s]"
          ]
        },
        {
          "output_type": "stream",
          "name": "stdout",
          "text": [
            "esm2_embeddings shape: torch.Size([345, 1280])\n",
            "ss_onehot shape: torch.Size([345, 4])\n",
            "phi_angles shape: torch.Size([345, 1])\n",
            "psi_angles shape: torch.Size([345, 1])\n",
            "b_factors shape: torch.Size([345, 1])\n",
            "Shape of labels: torch.Size([345])\n",
            "esm2_embeddings shape: torch.Size([180, 1280])\n",
            "ss_onehot shape: torch.Size([180, 4])\n",
            "phi_angles shape: torch.Size([180, 1])\n",
            "psi_angles shape: torch.Size([180, 1])\n",
            "b_factors shape: torch.Size([180, 1])\n",
            "Shape of labels: torch.Size([180])\n"
          ]
        },
        {
          "output_type": "stream",
          "name": "stderr",
          "text": [
            "\r 10%|█         | 30/300 [00:06<00:55,  4.84it/s]"
          ]
        },
        {
          "output_type": "stream",
          "name": "stdout",
          "text": [
            "esm2_embeddings shape: torch.Size([159, 1280])\n",
            "ss_onehot shape: torch.Size([159, 4])\n",
            "phi_angles shape: torch.Size([159, 1])\n",
            "psi_angles shape: torch.Size([159, 1])\n",
            "b_factors shape: torch.Size([159, 1])\n",
            "Shape of labels: torch.Size([159])\n"
          ]
        },
        {
          "output_type": "stream",
          "name": "stderr",
          "text": [
            " 11%|█         | 32/300 [00:07<00:54,  4.91it/s]"
          ]
        },
        {
          "output_type": "stream",
          "name": "stdout",
          "text": [
            "esm2_embeddings shape: torch.Size([245, 1280])\n",
            "ss_onehot shape: torch.Size([245, 4])\n",
            "phi_angles shape: torch.Size([245, 1])\n",
            "psi_angles shape: torch.Size([245, 1])\n",
            "b_factors shape: torch.Size([245, 1])\n",
            "Shape of labels: torch.Size([245])\n",
            "esm2_embeddings shape: torch.Size([195, 1280])\n",
            "ss_onehot shape: torch.Size([195, 4])\n",
            "phi_angles shape: torch.Size([195, 1])\n",
            "psi_angles shape: torch.Size([195, 1])\n",
            "b_factors shape: torch.Size([195, 1])\n",
            "Shape of labels: torch.Size([195])\n"
          ]
        },
        {
          "output_type": "stream",
          "name": "stderr",
          "text": [
            "\r 11%|█         | 33/300 [00:07<00:48,  5.51it/s]"
          ]
        },
        {
          "output_type": "stream",
          "name": "stdout",
          "text": [
            "esm2_embeddings shape: torch.Size([169, 1280])\n",
            "ss_onehot shape: torch.Size([169, 4])\n",
            "phi_angles shape: torch.Size([169, 1])\n",
            "psi_angles shape: torch.Size([169, 1])\n",
            "b_factors shape: torch.Size([169, 1])\n",
            "Shape of labels: torch.Size([169])\n",
            "esm2_embeddings shape: torch.Size([132, 1280])\n",
            "ss_onehot shape: torch.Size([132, 4])\n",
            "phi_angles shape: torch.Size([132, 1])\n",
            "psi_angles shape: torch.Size([132, 1])\n",
            "b_factors shape: torch.Size([132, 1])\n",
            "Shape of labels: torch.Size([132])\n"
          ]
        },
        {
          "output_type": "stream",
          "name": "stderr",
          "text": [
            "\r 12%|█▏        | 35/300 [00:08<01:16,  3.45it/s]"
          ]
        },
        {
          "output_type": "stream",
          "name": "stdout",
          "text": [
            "esm2_embeddings shape: torch.Size([336, 1280])\n",
            "ss_onehot shape: torch.Size([336, 4])\n",
            "phi_angles shape: torch.Size([336, 1])\n",
            "psi_angles shape: torch.Size([336, 1])\n",
            "b_factors shape: torch.Size([336, 1])\n",
            "Shape of labels: torch.Size([336])\n"
          ]
        },
        {
          "output_type": "stream",
          "name": "stderr",
          "text": [
            " 12%|█▏        | 37/300 [00:08<01:06,  3.97it/s]"
          ]
        },
        {
          "output_type": "stream",
          "name": "stdout",
          "text": [
            "esm2_embeddings shape: torch.Size([327, 1280])\n",
            "ss_onehot shape: torch.Size([327, 4])\n",
            "phi_angles shape: torch.Size([327, 1])\n",
            "psi_angles shape: torch.Size([327, 1])\n",
            "b_factors shape: torch.Size([327, 1])\n",
            "Shape of labels: torch.Size([327])\n",
            "esm2_embeddings shape: torch.Size([144, 1280])\n",
            "ss_onehot shape: torch.Size([144, 4])\n",
            "phi_angles shape: torch.Size([144, 1])\n",
            "psi_angles shape: torch.Size([144, 1])\n",
            "b_factors shape: torch.Size([144, 1])\n",
            "Shape of labels: torch.Size([144])\n"
          ]
        },
        {
          "output_type": "stream",
          "name": "stderr",
          "text": [
            " 13%|█▎        | 39/300 [00:08<00:48,  5.39it/s]"
          ]
        },
        {
          "output_type": "stream",
          "name": "stdout",
          "text": [
            "esm2_embeddings shape: torch.Size([161, 1280])\n",
            "ss_onehot shape: torch.Size([161, 4])\n",
            "phi_angles shape: torch.Size([161, 1])\n",
            "psi_angles shape: torch.Size([161, 1])\n",
            "b_factors shape: torch.Size([161, 1])\n",
            "Shape of labels: torch.Size([161])\n",
            "esm2_embeddings shape: torch.Size([147, 1280])\n",
            "ss_onehot shape: torch.Size([147, 4])\n",
            "phi_angles shape: torch.Size([147, 1])\n",
            "psi_angles shape: torch.Size([147, 1])\n",
            "b_factors shape: torch.Size([147, 1])\n",
            "Shape of labels: torch.Size([147])\n"
          ]
        },
        {
          "output_type": "stream",
          "name": "stderr",
          "text": [
            " 14%|█▎        | 41/300 [00:09<01:04,  3.99it/s]"
          ]
        },
        {
          "output_type": "stream",
          "name": "stdout",
          "text": [
            "esm2_embeddings shape: torch.Size([432, 1280])\n",
            "ss_onehot shape: torch.Size([432, 4])\n",
            "phi_angles shape: torch.Size([432, 1])\n",
            "psi_angles shape: torch.Size([432, 1])\n",
            "b_factors shape: torch.Size([432, 1])\n",
            "Shape of labels: torch.Size([432])\n",
            "esm2_embeddings shape: torch.Size([213, 1280])\n",
            "ss_onehot shape: torch.Size([213, 4])\n",
            "phi_angles shape: torch.Size([213, 1])\n",
            "psi_angles shape: torch.Size([213, 1])\n",
            "b_factors shape: torch.Size([213, 1])\n",
            "Shape of labels: torch.Size([213])\n"
          ]
        },
        {
          "output_type": "stream",
          "name": "stderr",
          "text": [
            " 14%|█▍        | 43/300 [00:10<01:08,  3.73it/s]"
          ]
        },
        {
          "output_type": "stream",
          "name": "stdout",
          "text": [
            "esm2_embeddings shape: torch.Size([156, 1280])\n",
            "ss_onehot shape: torch.Size([156, 4])\n",
            "phi_angles shape: torch.Size([156, 1])\n",
            "psi_angles shape: torch.Size([156, 1])\n",
            "b_factors shape: torch.Size([156, 1])\n",
            "Shape of labels: torch.Size([156])\n",
            "esm2_embeddings shape: torch.Size([158, 1280])\n",
            "ss_onehot shape: torch.Size([158, 4])\n",
            "phi_angles shape: torch.Size([158, 1])\n",
            "psi_angles shape: torch.Size([158, 1])\n",
            "b_factors shape: torch.Size([158, 1])\n",
            "Shape of labels: torch.Size([158])\n"
          ]
        },
        {
          "output_type": "stream",
          "name": "stderr",
          "text": [
            "\r 15%|█▍        | 44/300 [00:10<01:02,  4.11it/s]"
          ]
        },
        {
          "output_type": "stream",
          "name": "stdout",
          "text": [
            "esm2_embeddings shape: torch.Size([216, 1280])\n",
            "ss_onehot shape: torch.Size([216, 4])\n",
            "phi_angles shape: torch.Size([216, 1])\n",
            "psi_angles shape: torch.Size([216, 1])\n",
            "b_factors shape: torch.Size([216, 1])\n",
            "Shape of labels: torch.Size([216])\n"
          ]
        },
        {
          "output_type": "stream",
          "name": "stderr",
          "text": [
            " 15%|█▌        | 46/300 [00:10<00:53,  4.72it/s]"
          ]
        },
        {
          "output_type": "stream",
          "name": "stdout",
          "text": [
            "esm2_embeddings shape: torch.Size([290, 1280])\n",
            "ss_onehot shape: torch.Size([290, 4])\n",
            "phi_angles shape: torch.Size([290, 1])\n",
            "psi_angles shape: torch.Size([290, 1])\n",
            "b_factors shape: torch.Size([290, 1])\n",
            "Shape of labels: torch.Size([290])\n",
            "esm2_embeddings shape: torch.Size([144, 1280])\n",
            "ss_onehot shape: torch.Size([144, 4])\n",
            "phi_angles shape: torch.Size([144, 1])\n",
            "psi_angles shape: torch.Size([144, 1])\n",
            "b_factors shape: torch.Size([144, 1])\n",
            "Shape of labels: torch.Size([144])\n"
          ]
        },
        {
          "output_type": "stream",
          "name": "stderr",
          "text": [
            "\r 16%|█▌        | 47/300 [00:10<00:46,  5.50it/s]"
          ]
        },
        {
          "output_type": "stream",
          "name": "stdout",
          "text": [
            "esm2_embeddings shape: torch.Size([151, 1280])\n",
            "ss_onehot shape: torch.Size([151, 4])\n",
            "phi_angles shape: torch.Size([151, 1])\n",
            "psi_angles shape: torch.Size([151, 1])\n",
            "b_factors shape: torch.Size([151, 1])\n",
            "Shape of labels: torch.Size([151])\n",
            "esm2_embeddings shape: torch.Size([120, 1280])\n",
            "ss_onehot shape: torch.Size([120, 4])\n",
            "phi_angles shape: torch.Size([120, 1])\n",
            "psi_angles shape: torch.Size([120, 1])\n",
            "b_factors shape: torch.Size([120, 1])\n",
            "Shape of labels: torch.Size([120])\n"
          ]
        },
        {
          "output_type": "stream",
          "name": "stderr",
          "text": [
            "\r 16%|█▋        | 49/300 [00:11<00:36,  6.83it/s]"
          ]
        },
        {
          "output_type": "stream",
          "name": "stdout",
          "text": [
            "esm2_embeddings shape: torch.Size([166, 1280])\n",
            "ss_onehot shape: torch.Size([166, 4])\n",
            "phi_angles shape: torch.Size([166, 1])\n",
            "psi_angles shape: torch.Size([166, 1])\n",
            "b_factors shape: torch.Size([166, 1])\n",
            "Shape of labels: torch.Size([166])\n"
          ]
        },
        {
          "output_type": "stream",
          "name": "stderr",
          "text": [
            "\r 17%|█▋        | 50/300 [00:11<00:40,  6.19it/s]"
          ]
        },
        {
          "output_type": "stream",
          "name": "stdout",
          "text": [
            "esm2_embeddings shape: torch.Size([243, 1280])\n",
            "ss_onehot shape: torch.Size([243, 4])\n",
            "phi_angles shape: torch.Size([243, 1])\n",
            "psi_angles shape: torch.Size([243, 1])\n",
            "b_factors shape: torch.Size([243, 1])\n",
            "Shape of labels: torch.Size([243])\n",
            "esm2_embeddings shape: torch.Size([135, 1280])\n",
            "ss_onehot shape: torch.Size([135, 4])\n",
            "phi_angles shape: torch.Size([135, 1])\n",
            "psi_angles shape: torch.Size([135, 1])\n",
            "b_factors shape: torch.Size([135, 1])\n",
            "Shape of labels: torch.Size([135])\n"
          ]
        },
        {
          "output_type": "stream",
          "name": "stderr",
          "text": [
            " 18%|█▊        | 53/300 [00:12<01:16,  3.23it/s]"
          ]
        },
        {
          "output_type": "stream",
          "name": "stdout",
          "text": [
            "esm2_embeddings shape: torch.Size([512, 1280])\n",
            "ss_onehot shape: torch.Size([512, 4])\n",
            "phi_angles shape: torch.Size([512, 1])\n",
            "psi_angles shape: torch.Size([512, 1])\n",
            "b_factors shape: torch.Size([512, 1])\n",
            "Shape of labels: torch.Size([512])\n",
            "esm2_embeddings shape: torch.Size([232, 1280])\n",
            "ss_onehot shape: torch.Size([232, 4])\n",
            "phi_angles shape: torch.Size([232, 1])\n",
            "psi_angles shape: torch.Size([232, 1])\n",
            "b_factors shape: torch.Size([232, 1])\n",
            "Shape of labels: torch.Size([232])\n"
          ]
        },
        {
          "output_type": "stream",
          "name": "stderr",
          "text": [
            " 18%|█▊        | 55/300 [00:13<01:11,  3.42it/s]"
          ]
        },
        {
          "output_type": "stream",
          "name": "stdout",
          "text": [
            "esm2_embeddings shape: torch.Size([387, 1280])\n",
            "ss_onehot shape: torch.Size([387, 4])\n",
            "phi_angles shape: torch.Size([387, 1])\n",
            "psi_angles shape: torch.Size([387, 1])\n",
            "b_factors shape: torch.Size([387, 1])\n",
            "Shape of labels: torch.Size([387])\n",
            "esm2_embeddings shape: torch.Size([179, 1280])\n",
            "ss_onehot shape: torch.Size([179, 4])\n",
            "phi_angles shape: torch.Size([179, 1])\n",
            "psi_angles shape: torch.Size([179, 1])\n",
            "b_factors shape: torch.Size([179, 1])\n",
            "Shape of labels: torch.Size([179])\n"
          ]
        },
        {
          "output_type": "stream",
          "name": "stderr",
          "text": [
            " 19%|█▉        | 57/300 [00:13<00:52,  4.61it/s]"
          ]
        },
        {
          "output_type": "stream",
          "name": "stdout",
          "text": [
            "esm2_embeddings shape: torch.Size([175, 1280])\n",
            "ss_onehot shape: torch.Size([175, 4])\n",
            "phi_angles shape: torch.Size([175, 1])\n",
            "psi_angles shape: torch.Size([175, 1])\n",
            "b_factors shape: torch.Size([175, 1])\n",
            "Shape of labels: torch.Size([175])\n",
            "esm2_embeddings shape: torch.Size([172, 1280])\n",
            "ss_onehot shape: torch.Size([172, 4])\n",
            "phi_angles shape: torch.Size([172, 1])\n",
            "psi_angles shape: torch.Size([172, 1])\n",
            "b_factors shape: torch.Size([172, 1])\n",
            "Shape of labels: torch.Size([172])\n"
          ]
        },
        {
          "output_type": "stream",
          "name": "stderr",
          "text": [
            "\r 19%|█▉        | 58/300 [00:14<01:12,  3.35it/s]"
          ]
        },
        {
          "output_type": "stream",
          "name": "stdout",
          "text": [
            "esm2_embeddings shape: torch.Size([152, 1280])\n",
            "ss_onehot shape: torch.Size([152, 4])\n",
            "phi_angles shape: torch.Size([152, 1])\n",
            "psi_angles shape: torch.Size([152, 1])\n",
            "b_factors shape: torch.Size([152, 1])\n",
            "Shape of labels: torch.Size([152])\n"
          ]
        },
        {
          "output_type": "stream",
          "name": "stderr",
          "text": [
            " 20%|██        | 60/300 [00:14<00:54,  4.39it/s]"
          ]
        },
        {
          "output_type": "stream",
          "name": "stdout",
          "text": [
            "esm2_embeddings shape: torch.Size([233, 1280])\n",
            "ss_onehot shape: torch.Size([233, 4])\n",
            "phi_angles shape: torch.Size([233, 1])\n",
            "psi_angles shape: torch.Size([233, 1])\n",
            "b_factors shape: torch.Size([233, 1])\n",
            "Shape of labels: torch.Size([233])\n",
            "esm2_embeddings shape: torch.Size([167, 1280])\n",
            "ss_onehot shape: torch.Size([167, 4])\n",
            "phi_angles shape: torch.Size([167, 1])\n",
            "psi_angles shape: torch.Size([167, 1])\n",
            "b_factors shape: torch.Size([167, 1])\n",
            "Shape of labels: torch.Size([167])\n"
          ]
        },
        {
          "output_type": "stream",
          "name": "stderr",
          "text": [
            " 21%|██        | 63/300 [00:14<00:35,  6.59it/s]"
          ]
        },
        {
          "output_type": "stream",
          "name": "stdout",
          "text": [
            "esm2_embeddings shape: torch.Size([157, 1280])\n",
            "ss_onehot shape: torch.Size([157, 4])\n",
            "phi_angles shape: torch.Size([157, 1])\n",
            "psi_angles shape: torch.Size([157, 1])\n",
            "b_factors shape: torch.Size([157, 1])\n",
            "Shape of labels: torch.Size([157])\n",
            "esm2_embeddings shape: torch.Size([130, 1280])\n",
            "ss_onehot shape: torch.Size([130, 4])\n",
            "phi_angles shape: torch.Size([130, 1])\n",
            "psi_angles shape: torch.Size([130, 1])\n",
            "b_factors shape: torch.Size([130, 1])\n",
            "Shape of labels: torch.Size([130])\n",
            "esm2_embeddings shape: torch.Size([147, 1280])\n",
            "ss_onehot shape: torch.Size([147, 4])\n",
            "phi_angles shape: torch.Size([147, 1])\n",
            "psi_angles shape: torch.Size([147, 1])\n",
            "b_factors shape: torch.Size([147, 1])\n",
            "Shape of labels: torch.Size([147])\n"
          ]
        },
        {
          "output_type": "stream",
          "name": "stderr",
          "text": [
            " 22%|██▏       | 65/300 [00:15<00:36,  6.44it/s]"
          ]
        },
        {
          "output_type": "stream",
          "name": "stdout",
          "text": [
            "esm2_embeddings shape: torch.Size([245, 1280])\n",
            "ss_onehot shape: torch.Size([245, 4])\n",
            "phi_angles shape: torch.Size([245, 1])\n",
            "psi_angles shape: torch.Size([245, 1])\n",
            "b_factors shape: torch.Size([245, 1])\n",
            "Shape of labels: torch.Size([245])\n",
            "esm2_embeddings shape: torch.Size([151, 1280])\n",
            "ss_onehot shape: torch.Size([151, 4])\n",
            "phi_angles shape: torch.Size([151, 1])\n",
            "psi_angles shape: torch.Size([151, 1])\n",
            "b_factors shape: torch.Size([151, 1])\n",
            "Shape of labels: torch.Size([151])\n"
          ]
        },
        {
          "output_type": "stream",
          "name": "stderr",
          "text": [
            " 23%|██▎       | 68/300 [00:15<00:28,  8.28it/s]"
          ]
        },
        {
          "output_type": "stream",
          "name": "stdout",
          "text": [
            "esm2_embeddings shape: torch.Size([163, 1280])\n",
            "ss_onehot shape: torch.Size([163, 4])\n",
            "phi_angles shape: torch.Size([163, 1])\n",
            "psi_angles shape: torch.Size([163, 1])\n",
            "b_factors shape: torch.Size([163, 1])\n",
            "Shape of labels: torch.Size([163])\n",
            "esm2_embeddings shape: torch.Size([129, 1280])\n",
            "ss_onehot shape: torch.Size([129, 4])\n",
            "phi_angles shape: torch.Size([129, 1])\n",
            "psi_angles shape: torch.Size([129, 1])\n",
            "b_factors shape: torch.Size([129, 1])\n",
            "Shape of labels: torch.Size([129])\n",
            "esm2_embeddings shape: torch.Size([126, 1280])\n",
            "ss_onehot shape: torch.Size([126, 4])\n",
            "phi_angles shape: torch.Size([126, 1])\n",
            "psi_angles shape: torch.Size([126, 1])\n",
            "b_factors shape: torch.Size([126, 1])\n",
            "Shape of labels: torch.Size([126])\n",
            "esm2_embeddings shape: torch.Size([72, 1280])\n",
            "ss_onehot shape: torch.Size([72, 4])\n",
            "phi_angles shape: torch.Size([72, 1])\n",
            "psi_angles shape: torch.Size([72, 1])\n",
            "b_factors shape: torch.Size([72, 1])\n",
            "Shape of labels: torch.Size([72])\n"
          ]
        },
        {
          "output_type": "stream",
          "name": "stderr",
          "text": [
            " 24%|██▎       | 71/300 [00:16<00:56,  4.04it/s]"
          ]
        },
        {
          "output_type": "stream",
          "name": "stdout",
          "text": [
            "esm2_embeddings shape: torch.Size([467, 1280])\n",
            "ss_onehot shape: torch.Size([467, 4])\n",
            "phi_angles shape: torch.Size([467, 1])\n",
            "psi_angles shape: torch.Size([467, 1])\n",
            "b_factors shape: torch.Size([467, 1])\n",
            "Shape of labels: torch.Size([467])\n",
            "esm2_embeddings shape: torch.Size([190, 1280])\n",
            "ss_onehot shape: torch.Size([190, 4])\n",
            "phi_angles shape: torch.Size([190, 1])\n",
            "psi_angles shape: torch.Size([190, 1])\n",
            "b_factors shape: torch.Size([190, 1])\n",
            "Shape of labels: torch.Size([190])\n"
          ]
        },
        {
          "output_type": "stream",
          "name": "stderr",
          "text": [
            "\r 24%|██▍       | 72/300 [00:17<01:48,  2.10it/s]"
          ]
        },
        {
          "output_type": "stream",
          "name": "stdout",
          "text": [
            "esm2_embeddings shape: torch.Size([720, 1280])\n",
            "ss_onehot shape: torch.Size([720, 4])\n",
            "phi_angles shape: torch.Size([720, 1])\n",
            "psi_angles shape: torch.Size([720, 1])\n",
            "b_factors shape: torch.Size([720, 1])\n",
            "Shape of labels: torch.Size([720])\n"
          ]
        },
        {
          "output_type": "stream",
          "name": "stderr",
          "text": [
            "\r 24%|██▍       | 73/300 [00:17<01:34,  2.41it/s]"
          ]
        },
        {
          "output_type": "stream",
          "name": "stdout",
          "text": [
            "esm2_embeddings shape: torch.Size([237, 1280])\n",
            "ss_onehot shape: torch.Size([237, 4])\n",
            "phi_angles shape: torch.Size([237, 1])\n",
            "psi_angles shape: torch.Size([237, 1])\n",
            "b_factors shape: torch.Size([237, 1])\n",
            "Shape of labels: torch.Size([237])\n",
            "esm2_embeddings shape: torch.Size([71, 1280])\n",
            "ss_onehot shape: torch.Size([71, 4])\n",
            "phi_angles shape: torch.Size([71, 1])\n",
            "psi_angles shape: torch.Size([71, 1])\n",
            "b_factors shape: torch.Size([71, 1])\n",
            "Shape of labels: torch.Size([71])\n",
            "esm2_embeddings shape: torch.Size([53, 1280])\n",
            "ss_onehot shape: torch.Size([53, 4])\n",
            "phi_angles shape: torch.Size([53, 1])\n",
            "psi_angles shape: torch.Size([53, 1])\n",
            "b_factors shape: torch.Size([53, 1])\n",
            "Shape of labels: torch.Size([53])\n"
          ]
        },
        {
          "output_type": "stream",
          "name": "stderr",
          "text": [
            "\r 25%|██▌       | 76/300 [00:18<01:11,  3.15it/s]"
          ]
        },
        {
          "output_type": "stream",
          "name": "stdout",
          "text": [
            "esm2_embeddings shape: torch.Size([226, 1280])\n",
            "ss_onehot shape: torch.Size([226, 4])\n",
            "phi_angles shape: torch.Size([226, 1])\n",
            "psi_angles shape: torch.Size([226, 1])\n",
            "b_factors shape: torch.Size([226, 1])\n",
            "Shape of labels: torch.Size([226])\n",
            "esm2_embeddings shape: torch.Size([72, 1280])\n",
            "ss_onehot shape: torch.Size([72, 4])\n",
            "phi_angles shape: torch.Size([72, 1])\n",
            "psi_angles shape: torch.Size([72, 1])\n",
            "b_factors shape: torch.Size([72, 1])\n",
            "Shape of labels: torch.Size([72])\n"
          ]
        },
        {
          "output_type": "stream",
          "name": "stderr",
          "text": [
            "\r 26%|██▌       | 78/300 [00:18<00:55,  3.97it/s]"
          ]
        },
        {
          "output_type": "stream",
          "name": "stdout",
          "text": [
            "esm2_embeddings shape: torch.Size([221, 1280])\n",
            "ss_onehot shape: torch.Size([221, 4])\n",
            "phi_angles shape: torch.Size([221, 1])\n",
            "psi_angles shape: torch.Size([221, 1])\n",
            "b_factors shape: torch.Size([221, 1])\n",
            "Shape of labels: torch.Size([221])\n"
          ]
        },
        {
          "output_type": "stream",
          "name": "stderr",
          "text": [
            "\r 26%|██▋       | 79/300 [00:19<00:55,  4.01it/s]"
          ]
        },
        {
          "output_type": "stream",
          "name": "stdout",
          "text": [
            "esm2_embeddings shape: torch.Size([259, 1280])\n",
            "ss_onehot shape: torch.Size([259, 4])\n",
            "phi_angles shape: torch.Size([259, 1])\n",
            "psi_angles shape: torch.Size([259, 1])\n",
            "b_factors shape: torch.Size([259, 1])\n",
            "Shape of labels: torch.Size([259])\n"
          ]
        },
        {
          "output_type": "stream",
          "name": "stderr",
          "text": [
            "\r 27%|██▋       | 80/300 [00:19<00:59,  3.68it/s]"
          ]
        },
        {
          "output_type": "stream",
          "name": "stdout",
          "text": [
            "esm2_embeddings shape: torch.Size([342, 1280])\n",
            "ss_onehot shape: torch.Size([342, 4])\n",
            "phi_angles shape: torch.Size([342, 1])\n",
            "psi_angles shape: torch.Size([342, 1])\n",
            "b_factors shape: torch.Size([342, 1])\n",
            "Shape of labels: torch.Size([342])\n",
            "esm2_embeddings shape: torch.Size([96, 1280])\n",
            "ss_onehot shape: torch.Size([96, 4])\n",
            "phi_angles shape: torch.Size([96, 1])\n",
            "psi_angles shape: torch.Size([96, 1])\n",
            "b_factors shape: torch.Size([96, 1])\n",
            "Shape of labels: torch.Size([96])\n"
          ]
        },
        {
          "output_type": "stream",
          "name": "stderr",
          "text": [
            "\r 27%|██▋       | 82/300 [00:19<00:56,  3.85it/s]"
          ]
        },
        {
          "output_type": "stream",
          "name": "stdout",
          "text": [
            "esm2_embeddings shape: torch.Size([354, 1280])\n",
            "ss_onehot shape: torch.Size([354, 4])\n",
            "phi_angles shape: torch.Size([354, 1])\n",
            "psi_angles shape: torch.Size([354, 1])\n",
            "b_factors shape: torch.Size([354, 1])\n",
            "Shape of labels: torch.Size([354])\n"
          ]
        },
        {
          "output_type": "stream",
          "name": "stderr",
          "text": [
            "\r 28%|██▊       | 83/300 [00:20<00:55,  3.90it/s]"
          ]
        },
        {
          "output_type": "stream",
          "name": "stdout",
          "text": [
            "esm2_embeddings shape: torch.Size([267, 1280])\n",
            "ss_onehot shape: torch.Size([267, 4])\n",
            "phi_angles shape: torch.Size([267, 1])\n",
            "psi_angles shape: torch.Size([267, 1])\n",
            "b_factors shape: torch.Size([267, 1])\n",
            "Shape of labels: torch.Size([267])\n",
            "esm2_embeddings shape: torch.Size([130, 1280])\n",
            "ss_onehot shape: torch.Size([130, 4])\n",
            "phi_angles shape: torch.Size([130, 1])\n",
            "psi_angles shape: torch.Size([130, 1])\n",
            "b_factors shape: torch.Size([130, 1])\n",
            "Shape of labels: torch.Size([130])\n"
          ]
        },
        {
          "output_type": "stream",
          "name": "stderr",
          "text": [
            " 29%|██▊       | 86/300 [00:21<00:59,  3.62it/s]"
          ]
        },
        {
          "output_type": "stream",
          "name": "stdout",
          "text": [
            "esm2_embeddings shape: torch.Size([343, 1280])\n",
            "ss_onehot shape: torch.Size([343, 4])\n",
            "phi_angles shape: torch.Size([343, 1])\n",
            "psi_angles shape: torch.Size([343, 1])\n",
            "b_factors shape: torch.Size([343, 1])\n",
            "Shape of labels: torch.Size([343])\n",
            "esm2_embeddings shape: torch.Size([136, 1280])\n",
            "ss_onehot shape: torch.Size([136, 4])\n",
            "phi_angles shape: torch.Size([136, 1])\n",
            "psi_angles shape: torch.Size([136, 1])\n",
            "b_factors shape: torch.Size([136, 1])\n",
            "Shape of labels: torch.Size([136])\n",
            "esm2_embeddings shape: torch.Size([131, 1280])\n",
            "ss_onehot shape: torch.Size([131, 4])\n",
            "phi_angles shape: torch.Size([131, 1])\n",
            "psi_angles shape: torch.Size([131, 1])\n",
            "b_factors shape: torch.Size([131, 1])\n",
            "Shape of labels: torch.Size([131])\n"
          ]
        },
        {
          "output_type": "stream",
          "name": "stderr",
          "text": [
            " 30%|██▉       | 89/300 [00:21<00:43,  4.88it/s]"
          ]
        },
        {
          "output_type": "stream",
          "name": "stdout",
          "text": [
            "esm2_embeddings shape: torch.Size([123, 1280])\n",
            "ss_onehot shape: torch.Size([123, 4])\n",
            "phi_angles shape: torch.Size([123, 1])\n",
            "psi_angles shape: torch.Size([123, 1])\n",
            "b_factors shape: torch.Size([123, 1])\n",
            "Shape of labels: torch.Size([123])\n",
            "esm2_embeddings shape: torch.Size([231, 1280])\n",
            "ss_onehot shape: torch.Size([231, 4])\n",
            "phi_angles shape: torch.Size([231, 1])\n",
            "psi_angles shape: torch.Size([231, 1])\n",
            "b_factors shape: torch.Size([231, 1])\n",
            "Shape of labels: torch.Size([231])\n"
          ]
        },
        {
          "output_type": "stream",
          "name": "stderr",
          "text": [
            " 30%|███       | 91/300 [00:21<00:34,  6.01it/s]"
          ]
        },
        {
          "output_type": "stream",
          "name": "stdout",
          "text": [
            "esm2_embeddings shape: torch.Size([141, 1280])\n",
            "ss_onehot shape: torch.Size([141, 4])\n",
            "phi_angles shape: torch.Size([141, 1])\n",
            "psi_angles shape: torch.Size([141, 1])\n",
            "b_factors shape: torch.Size([141, 1])\n",
            "Shape of labels: torch.Size([141])\n",
            "esm2_embeddings shape: torch.Size([156, 1280])\n",
            "ss_onehot shape: torch.Size([156, 4])\n",
            "phi_angles shape: torch.Size([156, 1])\n",
            "psi_angles shape: torch.Size([156, 1])\n",
            "b_factors shape: torch.Size([156, 1])\n",
            "Shape of labels: torch.Size([156])\n"
          ]
        },
        {
          "output_type": "stream",
          "name": "stderr",
          "text": [
            "\r 31%|███       | 92/300 [00:21<00:34,  6.02it/s]"
          ]
        },
        {
          "output_type": "stream",
          "name": "stdout",
          "text": [
            "esm2_embeddings shape: torch.Size([182, 1280])\n",
            "ss_onehot shape: torch.Size([182, 4])\n",
            "phi_angles shape: torch.Size([182, 1])\n",
            "psi_angles shape: torch.Size([182, 1])\n",
            "b_factors shape: torch.Size([182, 1])\n",
            "Shape of labels: torch.Size([182])\n"
          ]
        },
        {
          "output_type": "stream",
          "name": "stderr",
          "text": [
            " 31%|███▏      | 94/300 [00:22<00:50,  4.06it/s]"
          ]
        },
        {
          "output_type": "stream",
          "name": "stdout",
          "text": [
            "esm2_embeddings shape: torch.Size([288, 1280])\n",
            "ss_onehot shape: torch.Size([288, 4])\n",
            "phi_angles shape: torch.Size([288, 1])\n",
            "psi_angles shape: torch.Size([288, 1])\n",
            "b_factors shape: torch.Size([288, 1])\n",
            "Shape of labels: torch.Size([288])\n",
            "esm2_embeddings shape: torch.Size([131, 1280])\n",
            "ss_onehot shape: torch.Size([131, 4])\n",
            "phi_angles shape: torch.Size([131, 1])\n",
            "psi_angles shape: torch.Size([131, 1])\n",
            "b_factors shape: torch.Size([131, 1])\n",
            "Shape of labels: torch.Size([131])\n"
          ]
        },
        {
          "output_type": "stream",
          "name": "stderr",
          "text": [
            " 32%|███▏      | 96/300 [00:23<00:45,  4.49it/s]"
          ]
        },
        {
          "output_type": "stream",
          "name": "stdout",
          "text": [
            "esm2_embeddings shape: torch.Size([238, 1280])\n",
            "ss_onehot shape: torch.Size([238, 4])\n",
            "phi_angles shape: torch.Size([238, 1])\n",
            "psi_angles shape: torch.Size([238, 1])\n",
            "b_factors shape: torch.Size([238, 1])\n",
            "Shape of labels: torch.Size([238])\n",
            "esm2_embeddings shape: torch.Size([228, 1280])\n",
            "ss_onehot shape: torch.Size([228, 4])\n",
            "phi_angles shape: torch.Size([228, 1])\n",
            "psi_angles shape: torch.Size([228, 1])\n",
            "b_factors shape: torch.Size([228, 1])\n",
            "Shape of labels: torch.Size([228])\n"
          ]
        },
        {
          "output_type": "stream",
          "name": "stderr",
          "text": [
            " 33%|███▎      | 98/300 [00:23<00:43,  4.62it/s]"
          ]
        },
        {
          "output_type": "stream",
          "name": "stdout",
          "text": [
            "esm2_embeddings shape: torch.Size([285, 1280])\n",
            "ss_onehot shape: torch.Size([285, 4])\n",
            "phi_angles shape: torch.Size([285, 1])\n",
            "psi_angles shape: torch.Size([285, 1])\n",
            "b_factors shape: torch.Size([285, 1])\n",
            "Shape of labels: torch.Size([285])\n",
            "esm2_embeddings shape: torch.Size([207, 1280])\n",
            "ss_onehot shape: torch.Size([207, 4])\n",
            "phi_angles shape: torch.Size([207, 1])\n",
            "psi_angles shape: torch.Size([207, 1])\n",
            "b_factors shape: torch.Size([207, 1])\n",
            "Shape of labels: torch.Size([207])\n"
          ]
        },
        {
          "output_type": "stream",
          "name": "stderr",
          "text": [
            " 33%|███▎      | 100/300 [00:24<00:42,  4.71it/s]"
          ]
        },
        {
          "output_type": "stream",
          "name": "stdout",
          "text": [
            "esm2_embeddings shape: torch.Size([297, 1280])\n",
            "ss_onehot shape: torch.Size([297, 4])\n",
            "phi_angles shape: torch.Size([297, 1])\n",
            "psi_angles shape: torch.Size([297, 1])\n",
            "b_factors shape: torch.Size([297, 1])\n",
            "Shape of labels: torch.Size([297])\n",
            "esm2_embeddings shape: torch.Size([172, 1280])\n",
            "ss_onehot shape: torch.Size([172, 4])\n",
            "phi_angles shape: torch.Size([172, 1])\n",
            "psi_angles shape: torch.Size([172, 1])\n",
            "b_factors shape: torch.Size([172, 1])\n",
            "Shape of labels: torch.Size([172])\n"
          ]
        },
        {
          "output_type": "stream",
          "name": "stderr",
          "text": [
            "\r 34%|███▎      | 101/300 [00:24<00:37,  5.25it/s]"
          ]
        },
        {
          "output_type": "stream",
          "name": "stdout",
          "text": [
            "esm2_embeddings shape: torch.Size([176, 1280])\n",
            "ss_onehot shape: torch.Size([176, 4])\n",
            "phi_angles shape: torch.Size([176, 1])\n",
            "psi_angles shape: torch.Size([176, 1])\n",
            "b_factors shape: torch.Size([176, 1])\n",
            "Shape of labels: torch.Size([176])\n"
          ]
        },
        {
          "output_type": "stream",
          "name": "stderr",
          "text": [
            " 34%|███▍      | 103/300 [00:24<00:49,  3.95it/s]"
          ]
        },
        {
          "output_type": "stream",
          "name": "stdout",
          "text": [
            "esm2_embeddings shape: torch.Size([176, 1280])\n",
            "ss_onehot shape: torch.Size([176, 4])\n",
            "phi_angles shape: torch.Size([176, 1])\n",
            "psi_angles shape: torch.Size([176, 1])\n",
            "b_factors shape: torch.Size([176, 1])\n",
            "Shape of labels: torch.Size([176])\n",
            "esm2_embeddings shape: torch.Size([196, 1280])\n",
            "ss_onehot shape: torch.Size([196, 4])\n",
            "phi_angles shape: torch.Size([196, 1])\n",
            "psi_angles shape: torch.Size([196, 1])\n",
            "b_factors shape: torch.Size([196, 1])\n",
            "Shape of labels: torch.Size([196])\n",
            "esm2_embeddings shape: torch.Size([108, 1280])\n",
            "ss_onehot shape: torch.Size([108, 4])\n",
            "phi_angles shape: torch.Size([108, 1])\n",
            "psi_angles shape: torch.Size([108, 1])\n",
            "b_factors shape: torch.Size([108, 1])\n",
            "Shape of labels: torch.Size([108])\n",
            "esm2_embeddings shape: torch.Size([234, 1280])\n",
            "ss_onehot shape: torch.Size([234, 4])\n",
            "phi_angles shape: torch.Size([234, 1])\n",
            "psi_angles shape: torch.Size([234, 1])\n",
            "b_factors shape: torch.Size([234, 1])\n",
            "Shape of labels: torch.Size([234])\n"
          ]
        },
        {
          "output_type": "stream",
          "name": "stderr",
          "text": [
            " 35%|███▌      | 106/300 [00:25<00:36,  5.32it/s]"
          ]
        },
        {
          "output_type": "stream",
          "name": "stdout",
          "text": [
            "esm2_embeddings shape: torch.Size([186, 1280])\n",
            "ss_onehot shape: torch.Size([186, 4])\n",
            "phi_angles shape: torch.Size([186, 1])\n",
            "psi_angles shape: torch.Size([186, 1])\n",
            "b_factors shape: torch.Size([186, 1])\n",
            "Shape of labels: torch.Size([186])\n"
          ]
        },
        {
          "output_type": "stream",
          "name": "stderr",
          "text": [
            " 36%|███▌      | 108/300 [00:25<00:40,  4.79it/s]"
          ]
        },
        {
          "output_type": "stream",
          "name": "stdout",
          "text": [
            "esm2_embeddings shape: torch.Size([366, 1280])\n",
            "ss_onehot shape: torch.Size([366, 4])\n",
            "phi_angles shape: torch.Size([366, 1])\n",
            "psi_angles shape: torch.Size([366, 1])\n",
            "b_factors shape: torch.Size([366, 1])\n",
            "Shape of labels: torch.Size([366])\n",
            "esm2_embeddings shape: torch.Size([165, 1280])\n",
            "ss_onehot shape: torch.Size([165, 4])\n",
            "phi_angles shape: torch.Size([165, 1])\n",
            "psi_angles shape: torch.Size([165, 1])\n",
            "b_factors shape: torch.Size([165, 1])\n",
            "Shape of labels: torch.Size([165])\n"
          ]
        },
        {
          "output_type": "stream",
          "name": "stderr",
          "text": [
            "\r 37%|███▋      | 110/300 [00:25<00:29,  6.49it/s]"
          ]
        },
        {
          "output_type": "stream",
          "name": "stdout",
          "text": [
            "esm2_embeddings shape: torch.Size([122, 1280])\n",
            "ss_onehot shape: torch.Size([122, 4])\n",
            "phi_angles shape: torch.Size([122, 1])\n",
            "psi_angles shape: torch.Size([122, 1])\n",
            "b_factors shape: torch.Size([122, 1])\n",
            "Shape of labels: torch.Size([122])\n",
            "esm2_embeddings shape: torch.Size([119, 1280])\n",
            "ss_onehot shape: torch.Size([119, 4])\n",
            "phi_angles shape: torch.Size([119, 1])\n",
            "psi_angles shape: torch.Size([119, 1])\n",
            "b_factors shape: torch.Size([119, 1])\n",
            "Shape of labels: torch.Size([119])\n",
            "esm2_embeddings shape: torch.Size([127, 1280])\n",
            "ss_onehot shape: torch.Size([127, 4])\n",
            "phi_angles shape: torch.Size([127, 1])\n",
            "psi_angles shape: torch.Size([127, 1])\n",
            "b_factors shape: torch.Size([127, 1])\n",
            "Shape of labels: torch.Size([127])\n"
          ]
        },
        {
          "output_type": "stream",
          "name": "stderr",
          "text": [
            "\r 37%|███▋      | 112/300 [00:26<00:48,  3.91it/s]"
          ]
        },
        {
          "output_type": "stream",
          "name": "stdout",
          "text": [
            "esm2_embeddings shape: torch.Size([341, 1280])\n",
            "ss_onehot shape: torch.Size([341, 4])\n",
            "phi_angles shape: torch.Size([341, 1])\n",
            "psi_angles shape: torch.Size([341, 1])\n",
            "b_factors shape: torch.Size([341, 1])\n",
            "Shape of labels: torch.Size([341])\n"
          ]
        },
        {
          "output_type": "stream",
          "name": "stderr",
          "text": [
            " 38%|███▊      | 114/300 [00:27<00:41,  4.52it/s]"
          ]
        },
        {
          "output_type": "stream",
          "name": "stdout",
          "text": [
            "esm2_embeddings shape: torch.Size([218, 1280])\n",
            "ss_onehot shape: torch.Size([218, 4])\n",
            "phi_angles shape: torch.Size([218, 1])\n",
            "psi_angles shape: torch.Size([218, 1])\n",
            "b_factors shape: torch.Size([218, 1])\n",
            "Shape of labels: torch.Size([218])\n",
            "esm2_embeddings shape: torch.Size([183, 1280])\n",
            "ss_onehot shape: torch.Size([183, 4])\n",
            "phi_angles shape: torch.Size([183, 1])\n",
            "psi_angles shape: torch.Size([183, 1])\n",
            "b_factors shape: torch.Size([183, 1])\n",
            "Shape of labels: torch.Size([183])\n"
          ]
        },
        {
          "output_type": "stream",
          "name": "stderr",
          "text": [
            "\r 38%|███▊      | 115/300 [00:27<00:38,  4.78it/s]"
          ]
        },
        {
          "output_type": "stream",
          "name": "stdout",
          "text": [
            "esm2_embeddings shape: torch.Size([208, 1280])\n",
            "ss_onehot shape: torch.Size([208, 4])\n",
            "phi_angles shape: torch.Size([208, 1])\n",
            "psi_angles shape: torch.Size([208, 1])\n",
            "b_factors shape: torch.Size([208, 1])\n",
            "Shape of labels: torch.Size([208])\n",
            "esm2_embeddings shape: torch.Size([104, 1280])\n",
            "ss_onehot shape: torch.Size([104, 4])\n",
            "phi_angles shape: torch.Size([104, 1])\n",
            "psi_angles shape: torch.Size([104, 1])\n",
            "b_factors shape: torch.Size([104, 1])\n",
            "Shape of labels: torch.Size([104])\n"
          ]
        },
        {
          "output_type": "stream",
          "name": "stderr",
          "text": [
            " 39%|███▉      | 118/300 [00:27<00:32,  5.60it/s]"
          ]
        },
        {
          "output_type": "stream",
          "name": "stdout",
          "text": [
            "esm2_embeddings shape: torch.Size([216, 1280])\n",
            "ss_onehot shape: torch.Size([216, 4])\n",
            "phi_angles shape: torch.Size([216, 1])\n",
            "psi_angles shape: torch.Size([216, 1])\n",
            "b_factors shape: torch.Size([216, 1])\n",
            "Shape of labels: torch.Size([216])\n",
            "esm2_embeddings shape: torch.Size([229, 1280])\n",
            "ss_onehot shape: torch.Size([229, 4])\n",
            "phi_angles shape: torch.Size([229, 1])\n",
            "psi_angles shape: torch.Size([229, 1])\n",
            "b_factors shape: torch.Size([229, 1])\n",
            "Shape of labels: torch.Size([229])\n"
          ]
        },
        {
          "output_type": "stream",
          "name": "stderr",
          "text": [
            " 40%|████      | 120/300 [00:28<00:30,  5.85it/s]"
          ]
        },
        {
          "output_type": "stream",
          "name": "stdout",
          "text": [
            "esm2_embeddings shape: torch.Size([191, 1280])\n",
            "ss_onehot shape: torch.Size([191, 4])\n",
            "phi_angles shape: torch.Size([191, 1])\n",
            "psi_angles shape: torch.Size([191, 1])\n",
            "b_factors shape: torch.Size([191, 1])\n",
            "Shape of labels: torch.Size([191])\n",
            "esm2_embeddings shape: torch.Size([203, 1280])\n",
            "ss_onehot shape: torch.Size([203, 4])\n",
            "phi_angles shape: torch.Size([203, 1])\n",
            "psi_angles shape: torch.Size([203, 1])\n",
            "b_factors shape: torch.Size([203, 1])\n",
            "Shape of labels: torch.Size([203])\n"
          ]
        },
        {
          "output_type": "stream",
          "name": "stderr",
          "text": [
            "\r 41%|████      | 122/300 [00:28<00:25,  7.11it/s]"
          ]
        },
        {
          "output_type": "stream",
          "name": "stdout",
          "text": [
            "esm2_embeddings shape: torch.Size([123, 1280])\n",
            "ss_onehot shape: torch.Size([123, 4])\n",
            "phi_angles shape: torch.Size([123, 1])\n",
            "psi_angles shape: torch.Size([123, 1])\n",
            "b_factors shape: torch.Size([123, 1])\n",
            "Shape of labels: torch.Size([123])\n",
            "esm2_embeddings shape: torch.Size([163, 1280])\n",
            "ss_onehot shape: torch.Size([163, 4])\n",
            "phi_angles shape: torch.Size([163, 1])\n",
            "psi_angles shape: torch.Size([163, 1])\n",
            "b_factors shape: torch.Size([163, 1])\n",
            "Shape of labels: torch.Size([163])\n",
            "esm2_embeddings shape: torch.Size([81, 1280])\n",
            "ss_onehot shape: torch.Size([81, 4])\n",
            "phi_angles shape: torch.Size([81, 1])\n",
            "psi_angles shape: torch.Size([81, 1])\n",
            "b_factors shape: torch.Size([81, 1])\n",
            "Shape of labels: torch.Size([81])\n"
          ]
        },
        {
          "output_type": "stream",
          "name": "stderr",
          "text": [
            "\r 41%|████▏     | 124/300 [00:29<00:49,  3.55it/s]"
          ]
        },
        {
          "output_type": "stream",
          "name": "stdout",
          "text": [
            "esm2_embeddings shape: torch.Size([461, 1280])\n",
            "ss_onehot shape: torch.Size([461, 4])\n",
            "phi_angles shape: torch.Size([461, 1])\n",
            "psi_angles shape: torch.Size([461, 1])\n",
            "b_factors shape: torch.Size([461, 1])\n",
            "Shape of labels: torch.Size([461])\n"
          ]
        },
        {
          "output_type": "stream",
          "name": "stderr",
          "text": [
            " 42%|████▏     | 126/300 [00:29<00:43,  3.98it/s]"
          ]
        },
        {
          "output_type": "stream",
          "name": "stdout",
          "text": [
            "esm2_embeddings shape: torch.Size([236, 1280])\n",
            "ss_onehot shape: torch.Size([236, 4])\n",
            "phi_angles shape: torch.Size([236, 1])\n",
            "psi_angles shape: torch.Size([236, 1])\n",
            "b_factors shape: torch.Size([236, 1])\n",
            "Shape of labels: torch.Size([236])\n",
            "esm2_embeddings shape: torch.Size([225, 1280])\n",
            "ss_onehot shape: torch.Size([225, 4])\n",
            "phi_angles shape: torch.Size([225, 1])\n",
            "psi_angles shape: torch.Size([225, 1])\n",
            "b_factors shape: torch.Size([225, 1])\n",
            "Shape of labels: torch.Size([225])\n",
            "esm2_embeddings shape: torch.Size([96, 1280])\n",
            "ss_onehot shape: torch.Size([96, 4])\n",
            "phi_angles shape: torch.Size([96, 1])\n",
            "psi_angles shape: torch.Size([96, 1])\n",
            "b_factors shape: torch.Size([96, 1])\n",
            "Shape of labels: torch.Size([96])\n"
          ]
        },
        {
          "output_type": "stream",
          "name": "stderr",
          "text": [
            "\r 43%|████▎     | 128/300 [00:29<00:35,  4.82it/s]"
          ]
        },
        {
          "output_type": "stream",
          "name": "stdout",
          "text": [
            "esm2_embeddings shape: torch.Size([240, 1280])\n",
            "ss_onehot shape: torch.Size([240, 4])\n",
            "phi_angles shape: torch.Size([240, 1])\n",
            "psi_angles shape: torch.Size([240, 1])\n",
            "b_factors shape: torch.Size([240, 1])\n",
            "Shape of labels: torch.Size([240])\n"
          ]
        },
        {
          "output_type": "stream",
          "name": "stderr",
          "text": [
            " 43%|████▎     | 130/300 [00:30<00:34,  4.91it/s]"
          ]
        },
        {
          "output_type": "stream",
          "name": "stdout",
          "text": [
            "esm2_embeddings shape: torch.Size([257, 1280])\n",
            "ss_onehot shape: torch.Size([257, 4])\n",
            "phi_angles shape: torch.Size([257, 1])\n",
            "psi_angles shape: torch.Size([257, 1])\n",
            "b_factors shape: torch.Size([257, 1])\n",
            "Shape of labels: torch.Size([257])\n",
            "esm2_embeddings shape: torch.Size([206, 1280])\n",
            "ss_onehot shape: torch.Size([206, 4])\n",
            "phi_angles shape: torch.Size([206, 1])\n",
            "psi_angles shape: torch.Size([206, 1])\n",
            "b_factors shape: torch.Size([206, 1])\n",
            "Shape of labels: torch.Size([206])\n"
          ]
        },
        {
          "output_type": "stream",
          "name": "stderr",
          "text": [
            " 44%|████▍     | 133/300 [00:31<00:40,  4.15it/s]"
          ]
        },
        {
          "output_type": "stream",
          "name": "stdout",
          "text": [
            "esm2_embeddings shape: torch.Size([350, 1280])\n",
            "ss_onehot shape: torch.Size([350, 4])\n",
            "phi_angles shape: torch.Size([350, 1])\n",
            "psi_angles shape: torch.Size([350, 1])\n",
            "b_factors shape: torch.Size([350, 1])\n",
            "Shape of labels: torch.Size([350])\n",
            "esm2_embeddings shape: torch.Size([127, 1280])\n",
            "ss_onehot shape: torch.Size([127, 4])\n",
            "phi_angles shape: torch.Size([127, 1])\n",
            "psi_angles shape: torch.Size([127, 1])\n",
            "b_factors shape: torch.Size([127, 1])\n",
            "Shape of labels: torch.Size([127])\n",
            "esm2_embeddings shape: torch.Size([120, 1280])\n",
            "ss_onehot shape: torch.Size([120, 4])\n",
            "phi_angles shape: torch.Size([120, 1])\n",
            "psi_angles shape: torch.Size([120, 1])\n",
            "b_factors shape: torch.Size([120, 1])\n",
            "Shape of labels: torch.Size([120])\n"
          ]
        },
        {
          "output_type": "stream",
          "name": "stderr",
          "text": [
            " 45%|████▌     | 135/300 [00:32<00:44,  3.68it/s]"
          ]
        },
        {
          "output_type": "stream",
          "name": "stdout",
          "text": [
            "esm2_embeddings shape: torch.Size([462, 1280])\n",
            "ss_onehot shape: torch.Size([462, 4])\n",
            "phi_angles shape: torch.Size([462, 1])\n",
            "psi_angles shape: torch.Size([462, 1])\n",
            "b_factors shape: torch.Size([462, 1])\n",
            "Shape of labels: torch.Size([462])\n",
            "esm2_embeddings shape: torch.Size([166, 1280])\n",
            "ss_onehot shape: torch.Size([166, 4])\n",
            "phi_angles shape: torch.Size([166, 1])\n",
            "psi_angles shape: torch.Size([166, 1])\n",
            "b_factors shape: torch.Size([166, 1])\n",
            "Shape of labels: torch.Size([166])\n"
          ]
        },
        {
          "output_type": "stream",
          "name": "stderr",
          "text": [
            "\r 45%|████▌     | 136/300 [00:32<00:39,  4.15it/s]"
          ]
        },
        {
          "output_type": "stream",
          "name": "stdout",
          "text": [
            "esm2_embeddings shape: torch.Size([171, 1280])\n",
            "ss_onehot shape: torch.Size([171, 4])\n",
            "phi_angles shape: torch.Size([171, 1])\n",
            "psi_angles shape: torch.Size([171, 1])\n",
            "b_factors shape: torch.Size([171, 1])\n",
            "Shape of labels: torch.Size([171])\n"
          ]
        },
        {
          "output_type": "stream",
          "name": "stderr",
          "text": [
            "\r 46%|████▌     | 137/300 [00:32<00:38,  4.28it/s]"
          ]
        },
        {
          "output_type": "stream",
          "name": "stdout",
          "text": [
            "esm2_embeddings shape: torch.Size([227, 1280])\n",
            "ss_onehot shape: torch.Size([227, 4])\n",
            "phi_angles shape: torch.Size([227, 1])\n",
            "psi_angles shape: torch.Size([227, 1])\n",
            "b_factors shape: torch.Size([227, 1])\n",
            "Shape of labels: torch.Size([227])\n",
            "esm2_embeddings shape: torch.Size([104, 1280])\n",
            "ss_onehot shape: torch.Size([104, 4])\n",
            "phi_angles shape: torch.Size([104, 1])\n",
            "psi_angles shape: torch.Size([104, 1])\n",
            "b_factors shape: torch.Size([104, 1])\n",
            "Shape of labels: torch.Size([104])\n"
          ]
        },
        {
          "output_type": "stream",
          "name": "stderr",
          "text": [
            "\r 46%|████▋     | 139/300 [00:33<00:47,  3.38it/s]"
          ]
        },
        {
          "output_type": "stream",
          "name": "stdout",
          "text": [
            "esm2_embeddings shape: torch.Size([302, 1280])\n",
            "ss_onehot shape: torch.Size([302, 4])\n",
            "phi_angles shape: torch.Size([302, 1])\n",
            "psi_angles shape: torch.Size([302, 1])\n",
            "b_factors shape: torch.Size([302, 1])\n",
            "Shape of labels: torch.Size([302])\n"
          ]
        },
        {
          "output_type": "stream",
          "name": "stderr",
          "text": [
            "\r 47%|████▋     | 140/300 [00:33<00:56,  2.82it/s]"
          ]
        },
        {
          "output_type": "stream",
          "name": "stdout",
          "text": [
            "esm2_embeddings shape: torch.Size([427, 1280])\n",
            "ss_onehot shape: torch.Size([427, 4])\n",
            "phi_angles shape: torch.Size([427, 1])\n",
            "psi_angles shape: torch.Size([427, 1])\n",
            "b_factors shape: torch.Size([427, 1])\n",
            "Shape of labels: torch.Size([427])\n"
          ]
        },
        {
          "output_type": "stream",
          "name": "stderr",
          "text": [
            "\r 47%|████▋     | 141/300 [00:34<00:58,  2.72it/s]"
          ]
        },
        {
          "output_type": "stream",
          "name": "stdout",
          "text": [
            "esm2_embeddings shape: torch.Size([373, 1280])\n",
            "ss_onehot shape: torch.Size([373, 4])\n",
            "phi_angles shape: torch.Size([373, 1])\n",
            "psi_angles shape: torch.Size([373, 1])\n",
            "b_factors shape: torch.Size([373, 1])\n",
            "Shape of labels: torch.Size([373])\n"
          ]
        },
        {
          "output_type": "stream",
          "name": "stderr",
          "text": [
            " 48%|████▊     | 143/300 [00:34<00:46,  3.35it/s]"
          ]
        },
        {
          "output_type": "stream",
          "name": "stdout",
          "text": [
            "esm2_embeddings shape: torch.Size([328, 1280])\n",
            "ss_onehot shape: torch.Size([328, 4])\n",
            "phi_angles shape: torch.Size([328, 1])\n",
            "psi_angles shape: torch.Size([328, 1])\n",
            "b_factors shape: torch.Size([328, 1])\n",
            "Shape of labels: torch.Size([328])\n",
            "esm2_embeddings shape: torch.Size([181, 1280])\n",
            "ss_onehot shape: torch.Size([181, 4])\n",
            "phi_angles shape: torch.Size([181, 1])\n",
            "psi_angles shape: torch.Size([181, 1])\n",
            "b_factors shape: torch.Size([181, 1])\n",
            "Shape of labels: torch.Size([181])\n"
          ]
        },
        {
          "output_type": "stream",
          "name": "stderr",
          "text": [
            "\r 48%|████▊     | 144/300 [00:35<00:57,  2.70it/s]"
          ]
        },
        {
          "output_type": "stream",
          "name": "stdout",
          "text": [
            "esm2_embeddings shape: torch.Size([196, 1280])\n",
            "ss_onehot shape: torch.Size([196, 4])\n",
            "phi_angles shape: torch.Size([196, 1])\n",
            "psi_angles shape: torch.Size([196, 1])\n",
            "b_factors shape: torch.Size([196, 1])\n",
            "Shape of labels: torch.Size([196])\n"
          ]
        },
        {
          "output_type": "stream",
          "name": "stderr",
          "text": [
            "\r 48%|████▊     | 145/300 [00:35<00:52,  2.98it/s]"
          ]
        },
        {
          "output_type": "stream",
          "name": "stdout",
          "text": [
            "esm2_embeddings shape: torch.Size([270, 1280])\n",
            "ss_onehot shape: torch.Size([270, 4])\n",
            "phi_angles shape: torch.Size([270, 1])\n",
            "psi_angles shape: torch.Size([270, 1])\n",
            "b_factors shape: torch.Size([270, 1])\n",
            "Shape of labels: torch.Size([270])\n",
            "esm2_embeddings shape: torch.Size([77, 1280])\n",
            "ss_onehot shape: torch.Size([77, 4])\n",
            "phi_angles shape: torch.Size([77, 1])\n",
            "psi_angles shape: torch.Size([77, 1])\n",
            "b_factors shape: torch.Size([77, 1])\n",
            "Shape of labels: torch.Size([77])\n"
          ]
        },
        {
          "output_type": "stream",
          "name": "stderr",
          "text": [
            "\r 49%|████▉     | 147/300 [00:35<00:40,  3.81it/s]"
          ]
        },
        {
          "output_type": "stream",
          "name": "stdout",
          "text": [
            "esm2_embeddings shape: torch.Size([299, 1280])\n",
            "ss_onehot shape: torch.Size([299, 4])\n",
            "phi_angles shape: torch.Size([299, 1])\n",
            "psi_angles shape: torch.Size([299, 1])\n",
            "b_factors shape: torch.Size([299, 1])\n",
            "Shape of labels: torch.Size([299])\n"
          ]
        },
        {
          "output_type": "stream",
          "name": "stderr",
          "text": [
            " 50%|████▉     | 149/300 [00:36<00:39,  3.81it/s]"
          ]
        },
        {
          "output_type": "stream",
          "name": "stdout",
          "text": [
            "esm2_embeddings shape: torch.Size([326, 1280])\n",
            "ss_onehot shape: torch.Size([326, 4])\n",
            "phi_angles shape: torch.Size([326, 1])\n",
            "psi_angles shape: torch.Size([326, 1])\n",
            "b_factors shape: torch.Size([326, 1])\n",
            "Shape of labels: torch.Size([326])\n",
            "esm2_embeddings shape: torch.Size([234, 1280])\n",
            "ss_onehot shape: torch.Size([234, 4])\n",
            "phi_angles shape: torch.Size([234, 1])\n",
            "psi_angles shape: torch.Size([234, 1])\n",
            "b_factors shape: torch.Size([234, 1])\n",
            "Shape of labels: torch.Size([234])\n"
          ]
        },
        {
          "output_type": "stream",
          "name": "stderr",
          "text": [
            "\r 50%|█████     | 150/300 [00:36<00:42,  3.56it/s]"
          ]
        },
        {
          "output_type": "stream",
          "name": "stdout",
          "text": [
            "esm2_embeddings shape: torch.Size([329, 1280])\n",
            "ss_onehot shape: torch.Size([329, 4])\n",
            "phi_angles shape: torch.Size([329, 1])\n",
            "psi_angles shape: torch.Size([329, 1])\n",
            "b_factors shape: torch.Size([329, 1])\n",
            "Shape of labels: torch.Size([329])\n"
          ]
        },
        {
          "output_type": "stream",
          "name": "stderr",
          "text": [
            "\r 50%|█████     | 151/300 [00:37<00:53,  2.80it/s]"
          ]
        },
        {
          "output_type": "stream",
          "name": "stdout",
          "text": [
            "esm2_embeddings shape: torch.Size([197, 1280])\n",
            "ss_onehot shape: torch.Size([197, 4])\n",
            "phi_angles shape: torch.Size([197, 1])\n",
            "psi_angles shape: torch.Size([197, 1])\n",
            "b_factors shape: torch.Size([197, 1])\n",
            "Shape of labels: torch.Size([197])\n"
          ]
        },
        {
          "output_type": "stream",
          "name": "stderr",
          "text": [
            "\r 51%|█████     | 152/300 [00:37<00:51,  2.90it/s]"
          ]
        },
        {
          "output_type": "stream",
          "name": "stdout",
          "text": [
            "esm2_embeddings shape: torch.Size([319, 1280])\n",
            "ss_onehot shape: torch.Size([319, 4])\n",
            "phi_angles shape: torch.Size([319, 1])\n",
            "psi_angles shape: torch.Size([319, 1])\n",
            "b_factors shape: torch.Size([319, 1])\n",
            "Shape of labels: torch.Size([319])\n"
          ]
        },
        {
          "output_type": "stream",
          "name": "stderr",
          "text": [
            "\r 51%|█████     | 153/300 [00:38<01:00,  2.44it/s]"
          ]
        },
        {
          "output_type": "stream",
          "name": "stdout",
          "text": [
            "esm2_embeddings shape: torch.Size([444, 1280])\n",
            "ss_onehot shape: torch.Size([444, 4])\n",
            "phi_angles shape: torch.Size([444, 1])\n",
            "psi_angles shape: torch.Size([444, 1])\n",
            "b_factors shape: torch.Size([444, 1])\n",
            "Shape of labels: torch.Size([444])\n"
          ]
        },
        {
          "output_type": "stream",
          "name": "stderr",
          "text": [
            "\r 51%|█████▏    | 154/300 [00:38<00:54,  2.70it/s]"
          ]
        },
        {
          "output_type": "stream",
          "name": "stdout",
          "text": [
            "esm2_embeddings shape: torch.Size([278, 1280])\n",
            "ss_onehot shape: torch.Size([278, 4])\n",
            "phi_angles shape: torch.Size([278, 1])\n",
            "psi_angles shape: torch.Size([278, 1])\n",
            "b_factors shape: torch.Size([278, 1])\n",
            "Shape of labels: torch.Size([278])\n"
          ]
        },
        {
          "output_type": "stream",
          "name": "stderr",
          "text": [
            "\r 52%|█████▏    | 155/300 [00:38<00:47,  3.02it/s]"
          ]
        },
        {
          "output_type": "stream",
          "name": "stdout",
          "text": [
            "esm2_embeddings shape: torch.Size([256, 1280])\n",
            "ss_onehot shape: torch.Size([256, 4])\n",
            "phi_angles shape: torch.Size([256, 1])\n",
            "psi_angles shape: torch.Size([256, 1])\n",
            "b_factors shape: torch.Size([256, 1])\n",
            "Shape of labels: torch.Size([256])\n"
          ]
        },
        {
          "output_type": "stream",
          "name": "stderr",
          "text": [
            "\r 52%|█████▏    | 156/300 [00:39<01:05,  2.20it/s]"
          ]
        },
        {
          "output_type": "stream",
          "name": "stdout",
          "text": [
            "esm2_embeddings shape: torch.Size([325, 1280])\n",
            "ss_onehot shape: torch.Size([325, 4])\n",
            "phi_angles shape: torch.Size([325, 1])\n",
            "psi_angles shape: torch.Size([325, 1])\n",
            "b_factors shape: torch.Size([325, 1])\n",
            "Shape of labels: torch.Size([325])\n"
          ]
        },
        {
          "output_type": "stream",
          "name": "stderr",
          "text": [
            " 53%|█████▎    | 158/300 [00:39<00:45,  3.09it/s]"
          ]
        },
        {
          "output_type": "stream",
          "name": "stdout",
          "text": [
            "esm2_embeddings shape: torch.Size([302, 1280])\n",
            "ss_onehot shape: torch.Size([302, 4])\n",
            "phi_angles shape: torch.Size([302, 1])\n",
            "psi_angles shape: torch.Size([302, 1])\n",
            "b_factors shape: torch.Size([302, 1])\n",
            "Shape of labels: torch.Size([302])\n",
            "esm2_embeddings shape: torch.Size([161, 1280])\n",
            "ss_onehot shape: torch.Size([161, 4])\n",
            "phi_angles shape: torch.Size([161, 1])\n",
            "psi_angles shape: torch.Size([161, 1])\n",
            "b_factors shape: torch.Size([161, 1])\n",
            "Shape of labels: torch.Size([161])\n"
          ]
        },
        {
          "output_type": "stream",
          "name": "stderr",
          "text": [
            "\r 53%|█████▎    | 159/300 [00:40<00:44,  3.19it/s]"
          ]
        },
        {
          "output_type": "stream",
          "name": "stdout",
          "text": [
            "esm2_embeddings shape: torch.Size([299, 1280])\n",
            "ss_onehot shape: torch.Size([299, 4])\n",
            "phi_angles shape: torch.Size([299, 1])\n",
            "psi_angles shape: torch.Size([299, 1])\n",
            "b_factors shape: torch.Size([299, 1])\n",
            "Shape of labels: torch.Size([299])\n"
          ]
        },
        {
          "output_type": "stream",
          "name": "stderr",
          "text": [
            " 54%|█████▎    | 161/300 [00:40<00:34,  3.99it/s]"
          ]
        },
        {
          "output_type": "stream",
          "name": "stdout",
          "text": [
            "esm2_embeddings shape: torch.Size([290, 1280])\n",
            "ss_onehot shape: torch.Size([290, 4])\n",
            "phi_angles shape: torch.Size([290, 1])\n",
            "psi_angles shape: torch.Size([290, 1])\n",
            "b_factors shape: torch.Size([290, 1])\n",
            "Shape of labels: torch.Size([290])\n",
            "esm2_embeddings shape: torch.Size([167, 1280])\n",
            "ss_onehot shape: torch.Size([167, 4])\n",
            "phi_angles shape: torch.Size([167, 1])\n",
            "psi_angles shape: torch.Size([167, 1])\n",
            "b_factors shape: torch.Size([167, 1])\n",
            "Shape of labels: torch.Size([167])\n"
          ]
        },
        {
          "output_type": "stream",
          "name": "stderr",
          "text": [
            " 54%|█████▍    | 163/300 [00:40<00:26,  5.14it/s]"
          ]
        },
        {
          "output_type": "stream",
          "name": "stdout",
          "text": [
            "esm2_embeddings shape: torch.Size([223, 1280])\n",
            "ss_onehot shape: torch.Size([223, 4])\n",
            "phi_angles shape: torch.Size([223, 1])\n",
            "psi_angles shape: torch.Size([223, 1])\n",
            "b_factors shape: torch.Size([223, 1])\n",
            "Shape of labels: torch.Size([223])\n",
            "esm2_embeddings shape: torch.Size([154, 1280])\n",
            "ss_onehot shape: torch.Size([154, 4])\n",
            "phi_angles shape: torch.Size([154, 1])\n",
            "psi_angles shape: torch.Size([154, 1])\n",
            "b_factors shape: torch.Size([154, 1])\n",
            "Shape of labels: torch.Size([154])\n",
            "esm2_embeddings shape: torch.Size([59, 1280])\n",
            "ss_onehot shape: torch.Size([59, 4])\n",
            "phi_angles shape: torch.Size([59, 1])\n",
            "psi_angles shape: torch.Size([59, 1])\n",
            "b_factors shape: torch.Size([59, 1])\n",
            "Shape of labels: torch.Size([59])\n"
          ]
        },
        {
          "output_type": "stream",
          "name": "stderr",
          "text": [
            " 55%|█████▌    | 166/300 [00:41<00:30,  4.36it/s]"
          ]
        },
        {
          "output_type": "stream",
          "name": "stdout",
          "text": [
            "esm2_embeddings shape: torch.Size([201, 1280])\n",
            "ss_onehot shape: torch.Size([201, 4])\n",
            "phi_angles shape: torch.Size([201, 1])\n",
            "psi_angles shape: torch.Size([201, 1])\n",
            "b_factors shape: torch.Size([201, 1])\n",
            "Shape of labels: torch.Size([201])\n",
            "esm2_embeddings shape: torch.Size([218, 1280])\n",
            "ss_onehot shape: torch.Size([218, 4])\n",
            "phi_angles shape: torch.Size([218, 1])\n",
            "psi_angles shape: torch.Size([218, 1])\n",
            "b_factors shape: torch.Size([218, 1])\n",
            "Shape of labels: torch.Size([218])\n"
          ]
        },
        {
          "output_type": "stream",
          "name": "stderr",
          "text": [
            " 56%|█████▌    | 168/300 [00:41<00:25,  5.11it/s]"
          ]
        },
        {
          "output_type": "stream",
          "name": "stdout",
          "text": [
            "esm2_embeddings shape: torch.Size([175, 1280])\n",
            "ss_onehot shape: torch.Size([175, 4])\n",
            "phi_angles shape: torch.Size([175, 1])\n",
            "psi_angles shape: torch.Size([175, 1])\n",
            "b_factors shape: torch.Size([175, 1])\n",
            "Shape of labels: torch.Size([175])\n",
            "esm2_embeddings shape: torch.Size([203, 1280])\n",
            "ss_onehot shape: torch.Size([203, 4])\n",
            "phi_angles shape: torch.Size([203, 1])\n",
            "psi_angles shape: torch.Size([203, 1])\n",
            "b_factors shape: torch.Size([203, 1])\n",
            "Shape of labels: torch.Size([203])\n"
          ]
        },
        {
          "output_type": "stream",
          "name": "stderr",
          "text": [
            " 57%|█████▋    | 170/300 [00:42<00:24,  5.38it/s]"
          ]
        },
        {
          "output_type": "stream",
          "name": "stdout",
          "text": [
            "esm2_embeddings shape: torch.Size([263, 1280])\n",
            "ss_onehot shape: torch.Size([263, 4])\n",
            "phi_angles shape: torch.Size([263, 1])\n",
            "psi_angles shape: torch.Size([263, 1])\n",
            "b_factors shape: torch.Size([263, 1])\n",
            "Shape of labels: torch.Size([263])\n",
            "esm2_embeddings shape: torch.Size([169, 1280])\n",
            "ss_onehot shape: torch.Size([169, 4])\n",
            "phi_angles shape: torch.Size([169, 1])\n",
            "psi_angles shape: torch.Size([169, 1])\n",
            "b_factors shape: torch.Size([169, 1])\n",
            "Shape of labels: torch.Size([169])\n"
          ]
        },
        {
          "output_type": "stream",
          "name": "stderr",
          "text": [
            " 57%|█████▋    | 172/300 [00:42<00:21,  5.92it/s]"
          ]
        },
        {
          "output_type": "stream",
          "name": "stdout",
          "text": [
            "esm2_embeddings shape: torch.Size([221, 1280])\n",
            "ss_onehot shape: torch.Size([221, 4])\n",
            "phi_angles shape: torch.Size([221, 1])\n",
            "psi_angles shape: torch.Size([221, 1])\n",
            "b_factors shape: torch.Size([221, 1])\n",
            "Shape of labels: torch.Size([221])\n",
            "esm2_embeddings shape: torch.Size([162, 1280])\n",
            "ss_onehot shape: torch.Size([162, 4])\n",
            "phi_angles shape: torch.Size([162, 1])\n",
            "psi_angles shape: torch.Size([162, 1])\n",
            "b_factors shape: torch.Size([162, 1])\n",
            "Shape of labels: torch.Size([162])\n"
          ]
        },
        {
          "output_type": "stream",
          "name": "stderr",
          "text": [
            " 58%|█████▊    | 174/300 [00:42<00:17,  7.36it/s]"
          ]
        },
        {
          "output_type": "stream",
          "name": "stdout",
          "text": [
            "esm2_embeddings shape: torch.Size([132, 1280])\n",
            "ss_onehot shape: torch.Size([132, 4])\n",
            "phi_angles shape: torch.Size([132, 1])\n",
            "psi_angles shape: torch.Size([132, 1])\n",
            "b_factors shape: torch.Size([132, 1])\n",
            "Shape of labels: torch.Size([132])\n",
            "esm2_embeddings shape: torch.Size([141, 1280])\n",
            "ss_onehot shape: torch.Size([141, 4])\n",
            "phi_angles shape: torch.Size([141, 1])\n",
            "psi_angles shape: torch.Size([141, 1])\n",
            "b_factors shape: torch.Size([141, 1])\n",
            "Shape of labels: torch.Size([141])\n"
          ]
        },
        {
          "output_type": "stream",
          "name": "stderr",
          "text": [
            " 59%|█████▊    | 176/300 [00:43<00:32,  3.78it/s]"
          ]
        },
        {
          "output_type": "stream",
          "name": "stdout",
          "text": [
            "esm2_embeddings shape: torch.Size([295, 1280])\n",
            "ss_onehot shape: torch.Size([295, 4])\n",
            "phi_angles shape: torch.Size([295, 1])\n",
            "psi_angles shape: torch.Size([295, 1])\n",
            "b_factors shape: torch.Size([295, 1])\n",
            "Shape of labels: torch.Size([295])\n",
            "esm2_embeddings shape: torch.Size([206, 1280])\n",
            "ss_onehot shape: torch.Size([206, 4])\n",
            "phi_angles shape: torch.Size([206, 1])\n",
            "psi_angles shape: torch.Size([206, 1])\n",
            "b_factors shape: torch.Size([206, 1])\n",
            "Shape of labels: torch.Size([206])\n",
            "esm2_embeddings shape: torch.Size([97, 1280])\n",
            "ss_onehot shape: torch.Size([97, 4])\n",
            "phi_angles shape: torch.Size([97, 1])\n",
            "psi_angles shape: torch.Size([97, 1])\n",
            "b_factors shape: torch.Size([97, 1])\n",
            "Shape of labels: torch.Size([97])\n"
          ]
        },
        {
          "output_type": "stream",
          "name": "stderr",
          "text": [
            " 60%|██████    | 180/300 [00:44<00:19,  6.06it/s]"
          ]
        },
        {
          "output_type": "stream",
          "name": "stdout",
          "text": [
            "esm2_embeddings shape: torch.Size([291, 1280])\n",
            "ss_onehot shape: torch.Size([291, 4])\n",
            "phi_angles shape: torch.Size([291, 1])\n",
            "psi_angles shape: torch.Size([291, 1])\n",
            "b_factors shape: torch.Size([291, 1])\n",
            "Shape of labels: torch.Size([291])\n",
            "esm2_embeddings shape: torch.Size([103, 1280])\n",
            "ss_onehot shape: torch.Size([103, 4])\n",
            "phi_angles shape: torch.Size([103, 1])\n",
            "psi_angles shape: torch.Size([103, 1])\n",
            "b_factors shape: torch.Size([103, 1])\n",
            "Shape of labels: torch.Size([103])\n",
            "esm2_embeddings shape: torch.Size([103, 1280])\n",
            "ss_onehot shape: torch.Size([103, 4])\n",
            "phi_angles shape: torch.Size([103, 1])\n",
            "psi_angles shape: torch.Size([103, 1])\n",
            "b_factors shape: torch.Size([103, 1])\n",
            "Shape of labels: torch.Size([103])\n"
          ]
        },
        {
          "output_type": "stream",
          "name": "stderr",
          "text": [
            " 61%|██████    | 183/300 [00:44<00:15,  7.75it/s]"
          ]
        },
        {
          "output_type": "stream",
          "name": "stdout",
          "text": [
            "esm2_embeddings shape: torch.Size([215, 1280])\n",
            "ss_onehot shape: torch.Size([215, 4])\n",
            "phi_angles shape: torch.Size([215, 1])\n",
            "psi_angles shape: torch.Size([215, 1])\n",
            "b_factors shape: torch.Size([215, 1])\n",
            "Shape of labels: torch.Size([215])\n",
            "esm2_embeddings shape: torch.Size([101, 1280])\n",
            "ss_onehot shape: torch.Size([101, 4])\n",
            "phi_angles shape: torch.Size([101, 1])\n",
            "psi_angles shape: torch.Size([101, 1])\n",
            "b_factors shape: torch.Size([101, 1])\n",
            "Shape of labels: torch.Size([101])\n",
            "esm2_embeddings shape: torch.Size([96, 1280])\n",
            "ss_onehot shape: torch.Size([96, 4])\n",
            "phi_angles shape: torch.Size([96, 1])\n",
            "psi_angles shape: torch.Size([96, 1])\n",
            "b_factors shape: torch.Size([96, 1])\n",
            "Shape of labels: torch.Size([96])\n"
          ]
        },
        {
          "output_type": "stream",
          "name": "stderr",
          "text": [
            "\r 61%|██████▏   | 184/300 [00:44<00:14,  7.91it/s]"
          ]
        },
        {
          "output_type": "stream",
          "name": "stdout",
          "text": [
            "esm2_embeddings shape: torch.Size([159, 1280])\n",
            "ss_onehot shape: torch.Size([159, 4])\n",
            "phi_angles shape: torch.Size([159, 1])\n",
            "psi_angles shape: torch.Size([159, 1])\n",
            "b_factors shape: torch.Size([159, 1])\n",
            "Shape of labels: torch.Size([159])\n"
          ]
        },
        {
          "output_type": "stream",
          "name": "stderr",
          "text": [
            "\r 62%|██████▏   | 185/300 [00:44<00:17,  6.54it/s]"
          ]
        },
        {
          "output_type": "stream",
          "name": "stdout",
          "text": [
            "esm2_embeddings shape: torch.Size([245, 1280])\n",
            "ss_onehot shape: torch.Size([245, 4])\n",
            "phi_angles shape: torch.Size([245, 1])\n",
            "psi_angles shape: torch.Size([245, 1])\n",
            "b_factors shape: torch.Size([245, 1])\n",
            "Shape of labels: torch.Size([245])\n"
          ]
        },
        {
          "output_type": "stream",
          "name": "stderr",
          "text": [
            " 62%|██████▏   | 187/300 [00:45<00:28,  3.98it/s]"
          ]
        },
        {
          "output_type": "stream",
          "name": "stdout",
          "text": [
            "esm2_embeddings shape: torch.Size([291, 1280])\n",
            "ss_onehot shape: torch.Size([291, 4])\n",
            "phi_angles shape: torch.Size([291, 1])\n",
            "psi_angles shape: torch.Size([291, 1])\n",
            "b_factors shape: torch.Size([291, 1])\n",
            "Shape of labels: torch.Size([291])\n",
            "esm2_embeddings shape: torch.Size([199, 1280])\n",
            "ss_onehot shape: torch.Size([199, 4])\n",
            "phi_angles shape: torch.Size([199, 1])\n",
            "psi_angles shape: torch.Size([199, 1])\n",
            "b_factors shape: torch.Size([199, 1])\n",
            "Shape of labels: torch.Size([199])\n"
          ]
        },
        {
          "output_type": "stream",
          "name": "stderr",
          "text": [
            " 63%|██████▎   | 189/300 [00:45<00:22,  4.86it/s]"
          ]
        },
        {
          "output_type": "stream",
          "name": "stdout",
          "text": [
            "esm2_embeddings shape: torch.Size([161, 1280])\n",
            "ss_onehot shape: torch.Size([161, 4])\n",
            "phi_angles shape: torch.Size([161, 1])\n",
            "psi_angles shape: torch.Size([161, 1])\n",
            "b_factors shape: torch.Size([161, 1])\n",
            "Shape of labels: torch.Size([161])\n",
            "esm2_embeddings shape: torch.Size([214, 1280])\n",
            "ss_onehot shape: torch.Size([214, 4])\n",
            "phi_angles shape: torch.Size([214, 1])\n",
            "psi_angles shape: torch.Size([214, 1])\n",
            "b_factors shape: torch.Size([214, 1])\n",
            "Shape of labels: torch.Size([214])\n"
          ]
        },
        {
          "output_type": "stream",
          "name": "stderr",
          "text": [
            "\r 63%|██████▎   | 190/300 [00:46<00:19,  5.63it/s]"
          ]
        },
        {
          "output_type": "stream",
          "name": "stdout",
          "text": [
            "esm2_embeddings shape: torch.Size([129, 1280])\n",
            "ss_onehot shape: torch.Size([129, 4])\n",
            "phi_angles shape: torch.Size([129, 1])\n",
            "psi_angles shape: torch.Size([129, 1])\n",
            "b_factors shape: torch.Size([129, 1])\n",
            "Shape of labels: torch.Size([129])\n",
            "esm2_embeddings shape: torch.Size([75, 1280])\n",
            "ss_onehot shape: torch.Size([75, 4])\n",
            "phi_angles shape: torch.Size([75, 1])\n",
            "psi_angles shape: torch.Size([75, 1])\n",
            "b_factors shape: torch.Size([75, 1])\n",
            "Shape of labels: torch.Size([75])\n",
            "esm2_embeddings shape: torch.Size([34, 1280])\n",
            "ss_onehot shape: torch.Size([34, 4])\n",
            "phi_angles shape: torch.Size([34, 1])\n",
            "psi_angles shape: torch.Size([34, 1])\n",
            "b_factors shape: torch.Size([34, 1])\n",
            "Shape of labels: torch.Size([34])\n"
          ]
        },
        {
          "output_type": "stream",
          "name": "stderr",
          "text": [
            " 65%|██████▍   | 194/300 [00:46<00:14,  7.33it/s]"
          ]
        },
        {
          "output_type": "stream",
          "name": "stdout",
          "text": [
            "esm2_embeddings shape: torch.Size([274, 1280])\n",
            "ss_onehot shape: torch.Size([274, 4])\n",
            "phi_angles shape: torch.Size([274, 1])\n",
            "psi_angles shape: torch.Size([274, 1])\n",
            "b_factors shape: torch.Size([274, 1])\n",
            "Shape of labels: torch.Size([274])\n",
            "esm2_embeddings shape: torch.Size([136, 1280])\n",
            "ss_onehot shape: torch.Size([136, 4])\n",
            "phi_angles shape: torch.Size([136, 1])\n",
            "psi_angles shape: torch.Size([136, 1])\n",
            "b_factors shape: torch.Size([136, 1])\n",
            "Shape of labels: torch.Size([136])\n"
          ]
        },
        {
          "output_type": "stream",
          "name": "stderr",
          "text": [
            " 65%|██████▌   | 196/300 [00:46<00:14,  7.13it/s]"
          ]
        },
        {
          "output_type": "stream",
          "name": "stdout",
          "text": [
            "esm2_embeddings shape: torch.Size([136, 1280])\n",
            "ss_onehot shape: torch.Size([136, 4])\n",
            "phi_angles shape: torch.Size([136, 1])\n",
            "psi_angles shape: torch.Size([136, 1])\n",
            "b_factors shape: torch.Size([136, 1])\n",
            "Shape of labels: torch.Size([136])\n",
            "esm2_embeddings shape: torch.Size([202, 1280])\n",
            "ss_onehot shape: torch.Size([202, 4])\n",
            "phi_angles shape: torch.Size([202, 1])\n",
            "psi_angles shape: torch.Size([202, 1])\n",
            "b_factors shape: torch.Size([202, 1])\n",
            "Shape of labels: torch.Size([202])\n"
          ]
        },
        {
          "output_type": "stream",
          "name": "stderr",
          "text": [
            "\r 66%|██████▌   | 198/300 [00:47<00:13,  7.71it/s]"
          ]
        },
        {
          "output_type": "stream",
          "name": "stdout",
          "text": [
            "esm2_embeddings shape: torch.Size([122, 1280])\n",
            "ss_onehot shape: torch.Size([122, 4])\n",
            "phi_angles shape: torch.Size([122, 1])\n",
            "psi_angles shape: torch.Size([122, 1])\n",
            "b_factors shape: torch.Size([122, 1])\n",
            "Shape of labels: torch.Size([122])\n",
            "esm2_embeddings shape: torch.Size([188, 1280])\n",
            "ss_onehot shape: torch.Size([188, 4])\n",
            "phi_angles shape: torch.Size([188, 1])\n",
            "psi_angles shape: torch.Size([188, 1])\n",
            "b_factors shape: torch.Size([188, 1])\n",
            "Shape of labels: torch.Size([188])\n"
          ]
        },
        {
          "output_type": "stream",
          "name": "stderr",
          "text": [
            "\r 66%|██████▋   | 199/300 [00:47<00:23,  4.35it/s]"
          ]
        },
        {
          "output_type": "stream",
          "name": "stdout",
          "text": [
            "esm2_embeddings shape: torch.Size([206, 1280])\n",
            "ss_onehot shape: torch.Size([206, 4])\n",
            "phi_angles shape: torch.Size([206, 1])\n",
            "psi_angles shape: torch.Size([206, 1])\n",
            "b_factors shape: torch.Size([206, 1])\n",
            "Shape of labels: torch.Size([206])\n"
          ]
        },
        {
          "output_type": "stream",
          "name": "stderr",
          "text": [
            "\r 67%|██████▋   | 200/300 [00:47<00:24,  4.02it/s]"
          ]
        },
        {
          "output_type": "stream",
          "name": "stdout",
          "text": [
            "esm2_embeddings shape: torch.Size([312, 1280])\n",
            "ss_onehot shape: torch.Size([312, 4])\n",
            "phi_angles shape: torch.Size([312, 1])\n",
            "psi_angles shape: torch.Size([312, 1])\n",
            "b_factors shape: torch.Size([312, 1])\n",
            "Shape of labels: torch.Size([312])\n"
          ]
        },
        {
          "output_type": "stream",
          "name": "stderr",
          "text": [
            " 68%|██████▊   | 203/300 [00:48<00:17,  5.62it/s]"
          ]
        },
        {
          "output_type": "stream",
          "name": "stdout",
          "text": [
            "esm2_embeddings shape: torch.Size([296, 1280])\n",
            "ss_onehot shape: torch.Size([296, 4])\n",
            "phi_angles shape: torch.Size([296, 1])\n",
            "psi_angles shape: torch.Size([296, 1])\n",
            "b_factors shape: torch.Size([296, 1])\n",
            "Shape of labels: torch.Size([296])\n",
            "esm2_embeddings shape: torch.Size([105, 1280])\n",
            "ss_onehot shape: torch.Size([105, 4])\n",
            "phi_angles shape: torch.Size([105, 1])\n",
            "psi_angles shape: torch.Size([105, 1])\n",
            "b_factors shape: torch.Size([105, 1])\n",
            "Shape of labels: torch.Size([105])\n",
            "esm2_embeddings shape: torch.Size([103, 1280])\n",
            "ss_onehot shape: torch.Size([103, 4])\n",
            "phi_angles shape: torch.Size([103, 1])\n",
            "psi_angles shape: torch.Size([103, 1])\n",
            "b_factors shape: torch.Size([103, 1])\n",
            "Shape of labels: torch.Size([103])\n"
          ]
        },
        {
          "output_type": "stream",
          "name": "stderr",
          "text": [
            "\r 68%|██████▊   | 204/300 [00:48<00:15,  6.16it/s]"
          ]
        },
        {
          "output_type": "stream",
          "name": "stdout",
          "text": [
            "esm2_embeddings shape: torch.Size([147, 1280])\n",
            "ss_onehot shape: torch.Size([147, 4])\n",
            "phi_angles shape: torch.Size([147, 1])\n",
            "psi_angles shape: torch.Size([147, 1])\n",
            "b_factors shape: torch.Size([147, 1])\n",
            "Shape of labels: torch.Size([147])\n"
          ]
        },
        {
          "output_type": "stream",
          "name": "stderr",
          "text": [
            " 69%|██████▊   | 206/300 [00:48<00:17,  5.33it/s]"
          ]
        },
        {
          "output_type": "stream",
          "name": "stdout",
          "text": [
            "esm2_embeddings shape: torch.Size([317, 1280])\n",
            "ss_onehot shape: torch.Size([317, 4])\n",
            "phi_angles shape: torch.Size([317, 1])\n",
            "psi_angles shape: torch.Size([317, 1])\n",
            "b_factors shape: torch.Size([317, 1])\n",
            "Shape of labels: torch.Size([317])\n",
            "esm2_embeddings shape: torch.Size([181, 1280])\n",
            "ss_onehot shape: torch.Size([181, 4])\n",
            "phi_angles shape: torch.Size([181, 1])\n",
            "psi_angles shape: torch.Size([181, 1])\n",
            "b_factors shape: torch.Size([181, 1])\n",
            "Shape of labels: torch.Size([181])\n",
            "esm2_embeddings shape: torch.Size([112, 1280])\n",
            "ss_onehot shape: torch.Size([112, 4])\n",
            "phi_angles shape: torch.Size([112, 1])\n",
            "psi_angles shape: torch.Size([112, 1])\n",
            "b_factors shape: torch.Size([112, 1])\n",
            "Shape of labels: torch.Size([112])\n"
          ]
        },
        {
          "output_type": "stream",
          "name": "stderr",
          "text": [
            " 70%|██████▉   | 209/300 [00:49<00:23,  3.80it/s]"
          ]
        },
        {
          "output_type": "stream",
          "name": "stdout",
          "text": [
            "esm2_embeddings shape: torch.Size([350, 1280])\n",
            "ss_onehot shape: torch.Size([350, 4])\n",
            "phi_angles shape: torch.Size([350, 1])\n",
            "psi_angles shape: torch.Size([350, 1])\n",
            "b_factors shape: torch.Size([350, 1])\n",
            "Shape of labels: torch.Size([350])\n",
            "esm2_embeddings shape: torch.Size([202, 1280])\n",
            "ss_onehot shape: torch.Size([202, 4])\n",
            "phi_angles shape: torch.Size([202, 1])\n",
            "psi_angles shape: torch.Size([202, 1])\n",
            "b_factors shape: torch.Size([202, 1])\n",
            "Shape of labels: torch.Size([202])\n"
          ]
        },
        {
          "output_type": "stream",
          "name": "stderr",
          "text": [
            "\r 70%|███████   | 210/300 [00:50<00:20,  4.40it/s]"
          ]
        },
        {
          "output_type": "stream",
          "name": "stdout",
          "text": [
            "esm2_embeddings shape: torch.Size([156, 1280])\n",
            "ss_onehot shape: torch.Size([156, 4])\n",
            "phi_angles shape: torch.Size([156, 1])\n",
            "psi_angles shape: torch.Size([156, 1])\n",
            "b_factors shape: torch.Size([156, 1])\n",
            "Shape of labels: torch.Size([156])\n",
            "esm2_embeddings shape: torch.Size([138, 1280])\n",
            "ss_onehot shape: torch.Size([138, 4])\n",
            "phi_angles shape: torch.Size([138, 1])\n",
            "psi_angles shape: torch.Size([138, 1])\n",
            "b_factors shape: torch.Size([138, 1])\n",
            "Shape of labels: torch.Size([138])\n"
          ]
        },
        {
          "output_type": "stream",
          "name": "stderr",
          "text": [
            " 71%|███████   | 213/300 [00:50<00:14,  5.81it/s]"
          ]
        },
        {
          "output_type": "stream",
          "name": "stdout",
          "text": [
            "esm2_embeddings shape: torch.Size([227, 1280])\n",
            "ss_onehot shape: torch.Size([227, 4])\n",
            "phi_angles shape: torch.Size([227, 1])\n",
            "psi_angles shape: torch.Size([227, 1])\n",
            "b_factors shape: torch.Size([227, 1])\n",
            "Shape of labels: torch.Size([227])\n",
            "esm2_embeddings shape: torch.Size([131, 1280])\n",
            "ss_onehot shape: torch.Size([131, 4])\n",
            "phi_angles shape: torch.Size([131, 1])\n",
            "psi_angles shape: torch.Size([131, 1])\n",
            "b_factors shape: torch.Size([131, 1])\n",
            "Shape of labels: torch.Size([131])\n",
            "esm2_embeddings shape: torch.Size([112, 1280])\n",
            "ss_onehot shape: torch.Size([112, 4])\n",
            "phi_angles shape: torch.Size([112, 1])\n",
            "psi_angles shape: torch.Size([112, 1])\n",
            "b_factors shape: torch.Size([112, 1])\n",
            "Shape of labels: torch.Size([112])\n"
          ]
        },
        {
          "output_type": "stream",
          "name": "stderr",
          "text": [
            " 72%|███████▏  | 216/300 [00:50<00:10,  8.03it/s]"
          ]
        },
        {
          "output_type": "stream",
          "name": "stdout",
          "text": [
            "esm2_embeddings shape: torch.Size([82, 1280])\n",
            "ss_onehot shape: torch.Size([82, 4])\n",
            "phi_angles shape: torch.Size([82, 1])\n",
            "psi_angles shape: torch.Size([82, 1])\n",
            "b_factors shape: torch.Size([82, 1])\n",
            "Shape of labels: torch.Size([82])\n",
            "esm2_embeddings shape: torch.Size([145, 1280])\n",
            "ss_onehot shape: torch.Size([145, 4])\n",
            "phi_angles shape: torch.Size([145, 1])\n",
            "psi_angles shape: torch.Size([145, 1])\n",
            "b_factors shape: torch.Size([145, 1])\n",
            "Shape of labels: torch.Size([145])\n",
            "esm2_embeddings shape: torch.Size([122, 1280])\n",
            "ss_onehot shape: torch.Size([122, 4])\n",
            "phi_angles shape: torch.Size([122, 1])\n",
            "psi_angles shape: torch.Size([122, 1])\n",
            "b_factors shape: torch.Size([122, 1])\n",
            "Shape of labels: torch.Size([122])\n"
          ]
        },
        {
          "output_type": "stream",
          "name": "stderr",
          "text": [
            "\r 73%|███████▎  | 218/300 [00:50<00:11,  7.04it/s]"
          ]
        },
        {
          "output_type": "stream",
          "name": "stdout",
          "text": [
            "esm2_embeddings shape: torch.Size([262, 1280])\n",
            "ss_onehot shape: torch.Size([262, 4])\n",
            "phi_angles shape: torch.Size([262, 1])\n",
            "psi_angles shape: torch.Size([262, 1])\n",
            "b_factors shape: torch.Size([262, 1])\n",
            "Shape of labels: torch.Size([262])\n"
          ]
        },
        {
          "output_type": "stream",
          "name": "stderr",
          "text": [
            " 73%|███████▎  | 220/300 [00:51<00:17,  4.68it/s]"
          ]
        },
        {
          "output_type": "stream",
          "name": "stdout",
          "text": [
            "esm2_embeddings shape: torch.Size([224, 1280])\n",
            "ss_onehot shape: torch.Size([224, 4])\n",
            "phi_angles shape: torch.Size([224, 1])\n",
            "psi_angles shape: torch.Size([224, 1])\n",
            "b_factors shape: torch.Size([224, 1])\n",
            "Shape of labels: torch.Size([224])\n",
            "esm2_embeddings shape: torch.Size([167, 1280])\n",
            "ss_onehot shape: torch.Size([167, 4])\n",
            "phi_angles shape: torch.Size([167, 1])\n",
            "psi_angles shape: torch.Size([167, 1])\n",
            "b_factors shape: torch.Size([167, 1])\n",
            "Shape of labels: torch.Size([167])\n",
            "esm2_embeddings shape: torch.Size([101, 1280])\n",
            "ss_onehot shape: torch.Size([101, 4])\n",
            "phi_angles shape: torch.Size([101, 1])\n",
            "psi_angles shape: torch.Size([101, 1])\n",
            "b_factors shape: torch.Size([101, 1])\n",
            "Shape of labels: torch.Size([101])\n"
          ]
        },
        {
          "output_type": "stream",
          "name": "stderr",
          "text": [
            "\r 74%|███████▍  | 222/300 [00:51<00:13,  5.69it/s]"
          ]
        },
        {
          "output_type": "stream",
          "name": "stdout",
          "text": [
            "esm2_embeddings shape: torch.Size([203, 1280])\n",
            "ss_onehot shape: torch.Size([203, 4])\n",
            "phi_angles shape: torch.Size([203, 1])\n",
            "psi_angles shape: torch.Size([203, 1])\n",
            "b_factors shape: torch.Size([203, 1])\n",
            "Shape of labels: torch.Size([203])\n",
            "esm2_embeddings shape: torch.Size([118, 1280])\n",
            "ss_onehot shape: torch.Size([118, 4])\n",
            "phi_angles shape: torch.Size([118, 1])\n",
            "psi_angles shape: torch.Size([118, 1])\n",
            "b_factors shape: torch.Size([118, 1])\n",
            "Shape of labels: torch.Size([118])\n"
          ]
        },
        {
          "output_type": "stream",
          "name": "stderr",
          "text": [
            " 75%|███████▌  | 226/300 [00:52<00:09,  8.03it/s]"
          ]
        },
        {
          "output_type": "stream",
          "name": "stdout",
          "text": [
            "esm2_embeddings shape: torch.Size([178, 1280])\n",
            "ss_onehot shape: torch.Size([178, 4])\n",
            "phi_angles shape: torch.Size([178, 1])\n",
            "psi_angles shape: torch.Size([178, 1])\n",
            "b_factors shape: torch.Size([178, 1])\n",
            "Shape of labels: torch.Size([178])\n",
            "esm2_embeddings shape: torch.Size([108, 1280])\n",
            "ss_onehot shape: torch.Size([108, 4])\n",
            "phi_angles shape: torch.Size([108, 1])\n",
            "psi_angles shape: torch.Size([108, 1])\n",
            "b_factors shape: torch.Size([108, 1])\n",
            "Shape of labels: torch.Size([108])\n",
            "esm2_embeddings shape: torch.Size([110, 1280])\n",
            "ss_onehot shape: torch.Size([110, 4])\n",
            "phi_angles shape: torch.Size([110, 1])\n",
            "psi_angles shape: torch.Size([110, 1])\n",
            "b_factors shape: torch.Size([110, 1])\n",
            "Shape of labels: torch.Size([110])\n"
          ]
        },
        {
          "output_type": "stream",
          "name": "stderr",
          "text": [
            "\r 76%|███████▌  | 228/300 [00:52<00:09,  7.84it/s]"
          ]
        },
        {
          "output_type": "stream",
          "name": "stdout",
          "text": [
            "esm2_embeddings shape: torch.Size([97, 1280])\n",
            "ss_onehot shape: torch.Size([97, 4])\n",
            "phi_angles shape: torch.Size([97, 1])\n",
            "psi_angles shape: torch.Size([97, 1])\n",
            "b_factors shape: torch.Size([97, 1])\n",
            "Shape of labels: torch.Size([97])\n",
            "esm2_embeddings shape: torch.Size([219, 1280])\n",
            "ss_onehot shape: torch.Size([219, 4])\n",
            "phi_angles shape: torch.Size([219, 1])\n",
            "psi_angles shape: torch.Size([219, 1])\n",
            "b_factors shape: torch.Size([219, 1])\n",
            "Shape of labels: torch.Size([219])\n"
          ]
        },
        {
          "output_type": "stream",
          "name": "stderr",
          "text": [
            "\r 76%|███████▋  | 229/300 [00:52<00:09,  7.80it/s]"
          ]
        },
        {
          "output_type": "stream",
          "name": "stdout",
          "text": [
            "esm2_embeddings shape: torch.Size([168, 1280])\n",
            "ss_onehot shape: torch.Size([168, 4])\n",
            "phi_angles shape: torch.Size([168, 1])\n",
            "psi_angles shape: torch.Size([168, 1])\n",
            "b_factors shape: torch.Size([168, 1])\n",
            "Shape of labels: torch.Size([168])\n",
            "esm2_embeddings shape: torch.Size([92, 1280])\n",
            "ss_onehot shape: torch.Size([92, 4])\n",
            "phi_angles shape: torch.Size([92, 1])\n",
            "psi_angles shape: torch.Size([92, 1])\n",
            "b_factors shape: torch.Size([92, 1])\n",
            "Shape of labels: torch.Size([92])\n"
          ]
        },
        {
          "output_type": "stream",
          "name": "stderr",
          "text": [
            " 77%|███████▋  | 232/300 [00:53<00:09,  7.51it/s]"
          ]
        },
        {
          "output_type": "stream",
          "name": "stdout",
          "text": [
            "esm2_embeddings shape: torch.Size([237, 1280])\n",
            "ss_onehot shape: torch.Size([237, 4])\n",
            "phi_angles shape: torch.Size([237, 1])\n",
            "psi_angles shape: torch.Size([237, 1])\n",
            "b_factors shape: torch.Size([237, 1])\n",
            "Shape of labels: torch.Size([237])\n",
            "esm2_embeddings shape: torch.Size([193, 1280])\n",
            "ss_onehot shape: torch.Size([193, 4])\n",
            "phi_angles shape: torch.Size([193, 1])\n",
            "psi_angles shape: torch.Size([193, 1])\n",
            "b_factors shape: torch.Size([193, 1])\n",
            "Shape of labels: torch.Size([193])\n"
          ]
        },
        {
          "output_type": "stream",
          "name": "stderr",
          "text": [
            "\r 78%|███████▊  | 233/300 [00:53<00:09,  7.32it/s]"
          ]
        },
        {
          "output_type": "stream",
          "name": "stdout",
          "text": [
            "esm2_embeddings shape: torch.Size([190, 1280])\n",
            "ss_onehot shape: torch.Size([190, 4])\n",
            "phi_angles shape: torch.Size([190, 1])\n",
            "psi_angles shape: torch.Size([190, 1])\n",
            "b_factors shape: torch.Size([190, 1])\n",
            "Shape of labels: torch.Size([190])\n"
          ]
        },
        {
          "output_type": "stream",
          "name": "stderr",
          "text": [
            "\r 78%|███████▊  | 234/300 [00:53<00:16,  3.98it/s]"
          ]
        },
        {
          "output_type": "stream",
          "name": "stdout",
          "text": [
            "esm2_embeddings shape: torch.Size([231, 1280])\n",
            "ss_onehot shape: torch.Size([231, 4])\n",
            "phi_angles shape: torch.Size([231, 1])\n",
            "psi_angles shape: torch.Size([231, 1])\n",
            "b_factors shape: torch.Size([231, 1])\n",
            "Shape of labels: torch.Size([231])\n"
          ]
        },
        {
          "output_type": "stream",
          "name": "stderr",
          "text": [
            "\r 78%|███████▊  | 235/300 [00:54<00:17,  3.79it/s]"
          ]
        },
        {
          "output_type": "stream",
          "name": "stdout",
          "text": [
            "esm2_embeddings shape: torch.Size([302, 1280])\n",
            "ss_onehot shape: torch.Size([302, 4])\n",
            "phi_angles shape: torch.Size([302, 1])\n",
            "psi_angles shape: torch.Size([302, 1])\n",
            "b_factors shape: torch.Size([302, 1])\n",
            "Shape of labels: torch.Size([302])\n"
          ]
        },
        {
          "output_type": "stream",
          "name": "stderr",
          "text": [
            "\r 79%|███████▊  | 236/300 [00:54<00:16,  3.90it/s]"
          ]
        },
        {
          "output_type": "stream",
          "name": "stdout",
          "text": [
            "esm2_embeddings shape: torch.Size([261, 1280])\n",
            "ss_onehot shape: torch.Size([261, 4])\n",
            "phi_angles shape: torch.Size([261, 1])\n",
            "psi_angles shape: torch.Size([261, 1])\n",
            "b_factors shape: torch.Size([261, 1])\n",
            "Shape of labels: torch.Size([261])\n"
          ]
        },
        {
          "output_type": "stream",
          "name": "stderr",
          "text": [
            " 79%|███████▉  | 238/300 [00:54<00:13,  4.60it/s]"
          ]
        },
        {
          "output_type": "stream",
          "name": "stdout",
          "text": [
            "esm2_embeddings shape: torch.Size([289, 1280])\n",
            "ss_onehot shape: torch.Size([289, 4])\n",
            "phi_angles shape: torch.Size([289, 1])\n",
            "psi_angles shape: torch.Size([289, 1])\n",
            "b_factors shape: torch.Size([289, 1])\n",
            "Shape of labels: torch.Size([289])\n",
            "esm2_embeddings shape: torch.Size([139, 1280])\n",
            "ss_onehot shape: torch.Size([139, 4])\n",
            "phi_angles shape: torch.Size([139, 1])\n",
            "psi_angles shape: torch.Size([139, 1])\n",
            "b_factors shape: torch.Size([139, 1])\n",
            "Shape of labels: torch.Size([139])\n"
          ]
        },
        {
          "output_type": "stream",
          "name": "stderr",
          "text": [
            " 80%|████████  | 240/300 [00:55<00:10,  5.77it/s]"
          ]
        },
        {
          "output_type": "stream",
          "name": "stdout",
          "text": [
            "esm2_embeddings shape: torch.Size([159, 1280])\n",
            "ss_onehot shape: torch.Size([159, 4])\n",
            "phi_angles shape: torch.Size([159, 1])\n",
            "psi_angles shape: torch.Size([159, 1])\n",
            "b_factors shape: torch.Size([159, 1])\n",
            "Shape of labels: torch.Size([159])\n",
            "esm2_embeddings shape: torch.Size([150, 1280])\n",
            "ss_onehot shape: torch.Size([150, 4])\n",
            "phi_angles shape: torch.Size([150, 1])\n",
            "psi_angles shape: torch.Size([150, 1])\n",
            "b_factors shape: torch.Size([150, 1])\n",
            "Shape of labels: torch.Size([150])\n"
          ]
        },
        {
          "output_type": "stream",
          "name": "stderr",
          "text": [
            "\r 80%|████████  | 241/300 [00:55<00:09,  6.28it/s]"
          ]
        },
        {
          "output_type": "stream",
          "name": "stdout",
          "text": [
            "esm2_embeddings shape: torch.Size([162, 1280])\n",
            "ss_onehot shape: torch.Size([162, 4])\n",
            "phi_angles shape: torch.Size([162, 1])\n",
            "psi_angles shape: torch.Size([162, 1])\n",
            "b_factors shape: torch.Size([162, 1])\n",
            "Shape of labels: torch.Size([162])\n"
          ]
        },
        {
          "output_type": "stream",
          "name": "stderr",
          "text": [
            " 81%|████████▏ | 244/300 [00:55<00:09,  5.76it/s]"
          ]
        },
        {
          "output_type": "stream",
          "name": "stdout",
          "text": [
            "esm2_embeddings shape: torch.Size([124, 1280])\n",
            "ss_onehot shape: torch.Size([124, 4])\n",
            "phi_angles shape: torch.Size([124, 1])\n",
            "psi_angles shape: torch.Size([124, 1])\n",
            "b_factors shape: torch.Size([124, 1])\n",
            "Shape of labels: torch.Size([124])\n",
            "esm2_embeddings shape: torch.Size([108, 1280])\n",
            "ss_onehot shape: torch.Size([108, 4])\n",
            "phi_angles shape: torch.Size([108, 1])\n",
            "psi_angles shape: torch.Size([108, 1])\n",
            "b_factors shape: torch.Size([108, 1])\n",
            "Shape of labels: torch.Size([108])\n",
            "esm2_embeddings shape: torch.Size([106, 1280])\n",
            "ss_onehot shape: torch.Size([106, 4])\n",
            "phi_angles shape: torch.Size([106, 1])\n",
            "psi_angles shape: torch.Size([106, 1])\n",
            "b_factors shape: torch.Size([106, 1])\n",
            "Shape of labels: torch.Size([106])\n"
          ]
        },
        {
          "output_type": "stream",
          "name": "stderr",
          "text": [
            " 82%|████████▏ | 246/300 [00:56<00:10,  5.14it/s]"
          ]
        },
        {
          "output_type": "stream",
          "name": "stdout",
          "text": [
            "esm2_embeddings shape: torch.Size([265, 1280])\n",
            "ss_onehot shape: torch.Size([265, 4])\n",
            "phi_angles shape: torch.Size([265, 1])\n",
            "psi_angles shape: torch.Size([265, 1])\n",
            "b_factors shape: torch.Size([265, 1])\n",
            "Shape of labels: torch.Size([265])\n",
            "esm2_embeddings shape: torch.Size([231, 1280])\n",
            "ss_onehot shape: torch.Size([231, 4])\n",
            "phi_angles shape: torch.Size([231, 1])\n",
            "psi_angles shape: torch.Size([231, 1])\n",
            "b_factors shape: torch.Size([231, 1])\n",
            "Shape of labels: torch.Size([231])\n"
          ]
        },
        {
          "output_type": "stream",
          "name": "stderr",
          "text": [
            "\r 83%|████████▎ | 248/300 [00:56<00:07,  6.59it/s]"
          ]
        },
        {
          "output_type": "stream",
          "name": "stdout",
          "text": [
            "esm2_embeddings shape: torch.Size([96, 1280])\n",
            "ss_onehot shape: torch.Size([96, 4])\n",
            "phi_angles shape: torch.Size([96, 1])\n",
            "psi_angles shape: torch.Size([96, 1])\n",
            "b_factors shape: torch.Size([96, 1])\n",
            "Shape of labels: torch.Size([96])\n",
            "esm2_embeddings shape: torch.Size([153, 1280])\n",
            "ss_onehot shape: torch.Size([153, 4])\n",
            "phi_angles shape: torch.Size([153, 1])\n",
            "psi_angles shape: torch.Size([153, 1])\n",
            "b_factors shape: torch.Size([153, 1])\n",
            "Shape of labels: torch.Size([153])\n"
          ]
        },
        {
          "output_type": "stream",
          "name": "stderr",
          "text": [
            "\r 83%|████████▎ | 249/300 [00:56<00:08,  6.26it/s]"
          ]
        },
        {
          "output_type": "stream",
          "name": "stdout",
          "text": [
            "esm2_embeddings shape: torch.Size([220, 1280])\n",
            "ss_onehot shape: torch.Size([220, 4])\n",
            "phi_angles shape: torch.Size([220, 1])\n",
            "psi_angles shape: torch.Size([220, 1])\n",
            "b_factors shape: torch.Size([220, 1])\n",
            "Shape of labels: torch.Size([220])\n"
          ]
        },
        {
          "output_type": "stream",
          "name": "stderr",
          "text": [
            "\r 83%|████████▎ | 250/300 [00:56<00:08,  5.87it/s]"
          ]
        },
        {
          "output_type": "stream",
          "name": "stdout",
          "text": [
            "esm2_embeddings shape: torch.Size([237, 1280])\n",
            "ss_onehot shape: torch.Size([237, 4])\n",
            "phi_angles shape: torch.Size([237, 1])\n",
            "psi_angles shape: torch.Size([237, 1])\n",
            "b_factors shape: torch.Size([237, 1])\n",
            "Shape of labels: torch.Size([237])\n"
          ]
        },
        {
          "output_type": "stream",
          "name": "stderr",
          "text": [
            "\r 84%|████████▎ | 251/300 [00:57<00:10,  4.80it/s]"
          ]
        },
        {
          "output_type": "stream",
          "name": "stdout",
          "text": [
            "esm2_embeddings shape: torch.Size([318, 1280])\n",
            "ss_onehot shape: torch.Size([318, 4])\n",
            "phi_angles shape: torch.Size([318, 1])\n",
            "psi_angles shape: torch.Size([318, 1])\n",
            "b_factors shape: torch.Size([318, 1])\n",
            "Shape of labels: torch.Size([318])\n"
          ]
        },
        {
          "output_type": "stream",
          "name": "stderr",
          "text": [
            " 85%|████████▍ | 254/300 [00:57<00:09,  4.85it/s]"
          ]
        },
        {
          "output_type": "stream",
          "name": "stdout",
          "text": [
            "esm2_embeddings shape: torch.Size([185, 1280])\n",
            "ss_onehot shape: torch.Size([185, 4])\n",
            "phi_angles shape: torch.Size([185, 1])\n",
            "psi_angles shape: torch.Size([185, 1])\n",
            "b_factors shape: torch.Size([185, 1])\n",
            "Shape of labels: torch.Size([185])\n",
            "esm2_embeddings shape: torch.Size([66, 1280])\n",
            "ss_onehot shape: torch.Size([66, 4])\n",
            "phi_angles shape: torch.Size([66, 1])\n",
            "psi_angles shape: torch.Size([66, 1])\n",
            "b_factors shape: torch.Size([66, 1])\n",
            "Shape of labels: torch.Size([66])\n",
            "esm2_embeddings shape: torch.Size([163, 1280])\n",
            "ss_onehot shape: torch.Size([163, 4])\n",
            "phi_angles shape: torch.Size([163, 1])\n",
            "psi_angles shape: torch.Size([163, 1])\n",
            "b_factors shape: torch.Size([163, 1])\n",
            "Shape of labels: torch.Size([163])\n"
          ]
        },
        {
          "output_type": "stream",
          "name": "stderr",
          "text": [
            "\r 85%|████████▌ | 255/300 [00:58<00:09,  4.75it/s]"
          ]
        },
        {
          "output_type": "stream",
          "name": "stdout",
          "text": [
            "esm2_embeddings shape: torch.Size([250, 1280])\n",
            "ss_onehot shape: torch.Size([250, 4])\n",
            "phi_angles shape: torch.Size([250, 1])\n",
            "psi_angles shape: torch.Size([250, 1])\n",
            "b_factors shape: torch.Size([250, 1])\n",
            "Shape of labels: torch.Size([250])\n"
          ]
        },
        {
          "output_type": "stream",
          "name": "stderr",
          "text": [
            "\r 85%|████████▌ | 256/300 [00:58<00:11,  3.70it/s]"
          ]
        },
        {
          "output_type": "stream",
          "name": "stdout",
          "text": [
            "esm2_embeddings shape: torch.Size([398, 1280])\n",
            "ss_onehot shape: torch.Size([398, 4])\n",
            "phi_angles shape: torch.Size([398, 1])\n",
            "psi_angles shape: torch.Size([398, 1])\n",
            "b_factors shape: torch.Size([398, 1])\n",
            "Shape of labels: torch.Size([398])\n",
            "esm2_embeddings shape: torch.Size([124, 1280])\n",
            "ss_onehot shape: torch.Size([124, 4])\n",
            "phi_angles shape: torch.Size([124, 1])\n",
            "psi_angles shape: torch.Size([124, 1])\n",
            "b_factors shape: torch.Size([124, 1])\n",
            "Shape of labels: torch.Size([124])\n"
          ]
        },
        {
          "output_type": "stream",
          "name": "stderr",
          "text": [
            " 87%|████████▋ | 260/300 [01:00<00:15,  2.51it/s]"
          ]
        },
        {
          "output_type": "stream",
          "name": "stdout",
          "text": [
            "esm2_embeddings shape: torch.Size([813, 1280])\n",
            "ss_onehot shape: torch.Size([813, 4])\n",
            "phi_angles shape: torch.Size([813, 1])\n",
            "psi_angles shape: torch.Size([813, 1])\n",
            "b_factors shape: torch.Size([813, 1])\n",
            "Shape of labels: torch.Size([813])\n",
            "esm2_embeddings shape: torch.Size([89, 1280])\n",
            "ss_onehot shape: torch.Size([89, 4])\n",
            "phi_angles shape: torch.Size([89, 1])\n",
            "psi_angles shape: torch.Size([89, 1])\n",
            "b_factors shape: torch.Size([89, 1])\n",
            "Shape of labels: torch.Size([89])\n",
            "esm2_embeddings shape: torch.Size([175, 1280])\n",
            "ss_onehot shape: torch.Size([175, 4])\n",
            "phi_angles shape: torch.Size([175, 1])\n",
            "psi_angles shape: torch.Size([175, 1])\n",
            "b_factors shape: torch.Size([175, 1])\n",
            "Shape of labels: torch.Size([175])\n"
          ]
        },
        {
          "output_type": "stream",
          "name": "stderr",
          "text": [
            " 87%|████████▋ | 262/300 [01:01<00:11,  3.37it/s]"
          ]
        },
        {
          "output_type": "stream",
          "name": "stdout",
          "text": [
            "esm2_embeddings shape: torch.Size([177, 1280])\n",
            "ss_onehot shape: torch.Size([177, 4])\n",
            "phi_angles shape: torch.Size([177, 1])\n",
            "psi_angles shape: torch.Size([177, 1])\n",
            "b_factors shape: torch.Size([177, 1])\n",
            "Shape of labels: torch.Size([177])\n",
            "esm2_embeddings shape: torch.Size([154, 1280])\n",
            "ss_onehot shape: torch.Size([154, 4])\n",
            "phi_angles shape: torch.Size([154, 1])\n",
            "psi_angles shape: torch.Size([154, 1])\n",
            "b_factors shape: torch.Size([154, 1])\n",
            "Shape of labels: torch.Size([154])\n"
          ]
        },
        {
          "output_type": "stream",
          "name": "stderr",
          "text": [
            " 88%|████████▊ | 264/300 [01:01<00:12,  2.84it/s]"
          ]
        },
        {
          "output_type": "stream",
          "name": "stdout",
          "text": [
            "esm2_embeddings shape: torch.Size([540, 1280])\n",
            "ss_onehot shape: torch.Size([540, 4])\n",
            "phi_angles shape: torch.Size([540, 1])\n",
            "psi_angles shape: torch.Size([540, 1])\n",
            "b_factors shape: torch.Size([540, 1])\n",
            "Shape of labels: torch.Size([540])\n",
            "esm2_embeddings shape: torch.Size([225, 1280])\n",
            "ss_onehot shape: torch.Size([225, 4])\n",
            "phi_angles shape: torch.Size([225, 1])\n",
            "psi_angles shape: torch.Size([225, 1])\n",
            "b_factors shape: torch.Size([225, 1])\n",
            "Shape of labels: torch.Size([225])\n"
          ]
        },
        {
          "output_type": "stream",
          "name": "stderr",
          "text": [
            " 89%|████████▊ | 266/300 [01:02<00:12,  2.66it/s]"
          ]
        },
        {
          "output_type": "stream",
          "name": "stdout",
          "text": [
            "esm2_embeddings shape: torch.Size([336, 1280])\n",
            "ss_onehot shape: torch.Size([336, 4])\n",
            "phi_angles shape: torch.Size([336, 1])\n",
            "psi_angles shape: torch.Size([336, 1])\n",
            "b_factors shape: torch.Size([336, 1])\n",
            "Shape of labels: torch.Size([336])\n",
            "esm2_embeddings shape: torch.Size([193, 1280])\n",
            "ss_onehot shape: torch.Size([193, 4])\n",
            "phi_angles shape: torch.Size([193, 1])\n",
            "psi_angles shape: torch.Size([193, 1])\n",
            "b_factors shape: torch.Size([193, 1])\n",
            "Shape of labels: torch.Size([193])\n"
          ]
        },
        {
          "output_type": "stream",
          "name": "stderr",
          "text": [
            " 89%|████████▉ | 268/300 [01:03<00:08,  3.81it/s]"
          ]
        },
        {
          "output_type": "stream",
          "name": "stdout",
          "text": [
            "esm2_embeddings shape: torch.Size([148, 1280])\n",
            "ss_onehot shape: torch.Size([148, 4])\n",
            "phi_angles shape: torch.Size([148, 1])\n",
            "psi_angles shape: torch.Size([148, 1])\n",
            "b_factors shape: torch.Size([148, 1])\n",
            "Shape of labels: torch.Size([148])\n",
            "esm2_embeddings shape: torch.Size([208, 1280])\n",
            "ss_onehot shape: torch.Size([208, 4])\n",
            "phi_angles shape: torch.Size([208, 1])\n",
            "psi_angles shape: torch.Size([208, 1])\n",
            "b_factors shape: torch.Size([208, 1])\n",
            "Shape of labels: torch.Size([208])\n"
          ]
        },
        {
          "output_type": "stream",
          "name": "stderr",
          "text": [
            " 90%|█████████ | 270/300 [01:03<00:06,  4.97it/s]"
          ]
        },
        {
          "output_type": "stream",
          "name": "stdout",
          "text": [
            "esm2_embeddings shape: torch.Size([179, 1280])\n",
            "ss_onehot shape: torch.Size([179, 4])\n",
            "phi_angles shape: torch.Size([179, 1])\n",
            "psi_angles shape: torch.Size([179, 1])\n",
            "b_factors shape: torch.Size([179, 1])\n",
            "Shape of labels: torch.Size([179])\n",
            "esm2_embeddings shape: torch.Size([184, 1280])\n",
            "ss_onehot shape: torch.Size([184, 4])\n",
            "phi_angles shape: torch.Size([184, 1])\n",
            "psi_angles shape: torch.Size([184, 1])\n",
            "b_factors shape: torch.Size([184, 1])\n",
            "Shape of labels: torch.Size([184])\n"
          ]
        },
        {
          "output_type": "stream",
          "name": "stderr",
          "text": [
            "\r 90%|█████████ | 271/300 [01:03<00:06,  4.83it/s]"
          ]
        },
        {
          "output_type": "stream",
          "name": "stdout",
          "text": [
            "esm2_embeddings shape: torch.Size([250, 1280])\n",
            "ss_onehot shape: torch.Size([250, 4])\n",
            "phi_angles shape: torch.Size([250, 1])\n",
            "psi_angles shape: torch.Size([250, 1])\n",
            "b_factors shape: torch.Size([250, 1])\n",
            "Shape of labels: torch.Size([250])\n"
          ]
        },
        {
          "output_type": "stream",
          "name": "stderr",
          "text": [
            "\r 91%|█████████ | 272/300 [01:04<00:09,  2.85it/s]"
          ]
        },
        {
          "output_type": "stream",
          "name": "stdout",
          "text": [
            "esm2_embeddings shape: torch.Size([289, 1280])\n",
            "ss_onehot shape: torch.Size([289, 4])\n",
            "phi_angles shape: torch.Size([289, 1])\n",
            "psi_angles shape: torch.Size([289, 1])\n",
            "b_factors shape: torch.Size([289, 1])\n",
            "Shape of labels: torch.Size([289])\n"
          ]
        },
        {
          "output_type": "stream",
          "name": "stderr",
          "text": [
            "\r 91%|█████████ | 273/300 [01:04<00:08,  3.15it/s]"
          ]
        },
        {
          "output_type": "stream",
          "name": "stdout",
          "text": [
            "esm2_embeddings shape: torch.Size([259, 1280])\n",
            "ss_onehot shape: torch.Size([259, 4])\n",
            "phi_angles shape: torch.Size([259, 1])\n",
            "psi_angles shape: torch.Size([259, 1])\n",
            "b_factors shape: torch.Size([259, 1])\n",
            "Shape of labels: torch.Size([259])\n"
          ]
        },
        {
          "output_type": "stream",
          "name": "stderr",
          "text": [
            " 92%|█████████▏| 275/300 [01:05<00:06,  3.92it/s]"
          ]
        },
        {
          "output_type": "stream",
          "name": "stdout",
          "text": [
            "esm2_embeddings shape: torch.Size([242, 1280])\n",
            "ss_onehot shape: torch.Size([242, 4])\n",
            "phi_angles shape: torch.Size([242, 1])\n",
            "psi_angles shape: torch.Size([242, 1])\n",
            "b_factors shape: torch.Size([242, 1])\n",
            "Shape of labels: torch.Size([242])\n",
            "esm2_embeddings shape: torch.Size([220, 1280])\n",
            "ss_onehot shape: torch.Size([220, 4])\n",
            "phi_angles shape: torch.Size([220, 1])\n",
            "psi_angles shape: torch.Size([220, 1])\n",
            "b_factors shape: torch.Size([220, 1])\n",
            "Shape of labels: torch.Size([220])\n"
          ]
        },
        {
          "output_type": "stream",
          "name": "stderr",
          "text": [
            " 92%|█████████▏| 277/300 [01:05<00:04,  5.33it/s]"
          ]
        },
        {
          "output_type": "stream",
          "name": "stdout",
          "text": [
            "esm2_embeddings shape: torch.Size([142, 1280])\n",
            "ss_onehot shape: torch.Size([142, 4])\n",
            "phi_angles shape: torch.Size([142, 1])\n",
            "psi_angles shape: torch.Size([142, 1])\n",
            "b_factors shape: torch.Size([142, 1])\n",
            "Shape of labels: torch.Size([142])\n",
            "esm2_embeddings shape: torch.Size([174, 1280])\n",
            "ss_onehot shape: torch.Size([174, 4])\n",
            "phi_angles shape: torch.Size([174, 1])\n",
            "psi_angles shape: torch.Size([174, 1])\n",
            "b_factors shape: torch.Size([174, 1])\n",
            "Shape of labels: torch.Size([174])\n"
          ]
        },
        {
          "output_type": "stream",
          "name": "stderr",
          "text": [
            "\r 93%|█████████▎| 278/300 [01:05<00:03,  6.01it/s]"
          ]
        },
        {
          "output_type": "stream",
          "name": "stdout",
          "text": [
            "esm2_embeddings shape: torch.Size([153, 1280])\n",
            "ss_onehot shape: torch.Size([153, 4])\n",
            "phi_angles shape: torch.Size([153, 1])\n",
            "psi_angles shape: torch.Size([153, 1])\n",
            "b_factors shape: torch.Size([153, 1])\n",
            "Shape of labels: torch.Size([153])\n"
          ]
        },
        {
          "output_type": "stream",
          "name": "stderr",
          "text": [
            " 94%|█████████▎| 281/300 [01:05<00:02,  7.13it/s]"
          ]
        },
        {
          "output_type": "stream",
          "name": "stdout",
          "text": [
            "esm2_embeddings shape: torch.Size([290, 1280])\n",
            "ss_onehot shape: torch.Size([290, 4])\n",
            "phi_angles shape: torch.Size([290, 1])\n",
            "psi_angles shape: torch.Size([290, 1])\n",
            "b_factors shape: torch.Size([290, 1])\n",
            "Shape of labels: torch.Size([290])\n",
            "esm2_embeddings shape: torch.Size([114, 1280])\n",
            "ss_onehot shape: torch.Size([114, 4])\n",
            "phi_angles shape: torch.Size([114, 1])\n",
            "psi_angles shape: torch.Size([114, 1])\n",
            "b_factors shape: torch.Size([114, 1])\n",
            "Shape of labels: torch.Size([114])\n",
            "esm2_embeddings shape: torch.Size([76, 1280])\n",
            "ss_onehot shape: torch.Size([76, 4])\n",
            "phi_angles shape: torch.Size([76, 1])\n",
            "psi_angles shape: torch.Size([76, 1])\n",
            "b_factors shape: torch.Size([76, 1])\n",
            "Shape of labels: torch.Size([76])\n"
          ]
        },
        {
          "output_type": "stream",
          "name": "stderr",
          "text": [
            "\r 94%|█████████▍| 282/300 [01:06<00:04,  4.02it/s]"
          ]
        },
        {
          "output_type": "stream",
          "name": "stdout",
          "text": [
            "esm2_embeddings shape: torch.Size([169, 1280])\n",
            "ss_onehot shape: torch.Size([169, 4])\n",
            "phi_angles shape: torch.Size([169, 1])\n",
            "psi_angles shape: torch.Size([169, 1])\n",
            "b_factors shape: torch.Size([169, 1])\n",
            "Shape of labels: torch.Size([169])\n"
          ]
        },
        {
          "output_type": "stream",
          "name": "stderr",
          "text": [
            "\r 94%|█████████▍| 283/300 [01:06<00:04,  3.96it/s]"
          ]
        },
        {
          "output_type": "stream",
          "name": "stdout",
          "text": [
            "esm2_embeddings shape: torch.Size([279, 1280])\n",
            "ss_onehot shape: torch.Size([279, 4])\n",
            "phi_angles shape: torch.Size([279, 1])\n",
            "psi_angles shape: torch.Size([279, 1])\n",
            "b_factors shape: torch.Size([279, 1])\n",
            "Shape of labels: torch.Size([279])\n"
          ]
        },
        {
          "output_type": "stream",
          "name": "stderr",
          "text": [
            " 95%|█████████▌| 285/300 [01:07<00:04,  3.67it/s]"
          ]
        },
        {
          "output_type": "stream",
          "name": "stdout",
          "text": [
            "esm2_embeddings shape: torch.Size([384, 1280])\n",
            "ss_onehot shape: torch.Size([384, 4])\n",
            "phi_angles shape: torch.Size([384, 1])\n",
            "psi_angles shape: torch.Size([384, 1])\n",
            "b_factors shape: torch.Size([384, 1])\n",
            "Shape of labels: torch.Size([384])\n",
            "esm2_embeddings shape: torch.Size([224, 1280])\n",
            "ss_onehot shape: torch.Size([224, 4])\n",
            "phi_angles shape: torch.Size([224, 1])\n",
            "psi_angles shape: torch.Size([224, 1])\n",
            "b_factors shape: torch.Size([224, 1])\n",
            "Shape of labels: torch.Size([224])\n"
          ]
        },
        {
          "output_type": "stream",
          "name": "stderr",
          "text": [
            " 96%|█████████▌| 287/300 [01:07<00:02,  4.81it/s]"
          ]
        },
        {
          "output_type": "stream",
          "name": "stdout",
          "text": [
            "esm2_embeddings shape: torch.Size([125, 1280])\n",
            "ss_onehot shape: torch.Size([125, 4])\n",
            "phi_angles shape: torch.Size([125, 1])\n",
            "psi_angles shape: torch.Size([125, 1])\n",
            "b_factors shape: torch.Size([125, 1])\n",
            "Shape of labels: torch.Size([125])\n",
            "esm2_embeddings shape: torch.Size([209, 1280])\n",
            "ss_onehot shape: torch.Size([209, 4])\n",
            "phi_angles shape: torch.Size([209, 1])\n",
            "psi_angles shape: torch.Size([209, 1])\n",
            "b_factors shape: torch.Size([209, 1])\n",
            "Shape of labels: torch.Size([209])\n"
          ]
        },
        {
          "output_type": "stream",
          "name": "stderr",
          "text": [
            " 96%|█████████▋| 289/300 [01:09<00:05,  1.88it/s]"
          ]
        },
        {
          "output_type": "stream",
          "name": "stdout",
          "text": [
            "esm2_embeddings shape: torch.Size([811, 1280])\n",
            "ss_onehot shape: torch.Size([811, 4])\n",
            "phi_angles shape: torch.Size([811, 1])\n",
            "psi_angles shape: torch.Size([811, 1])\n",
            "b_factors shape: torch.Size([811, 1])\n",
            "Shape of labels: torch.Size([811])\n",
            "esm2_embeddings shape: torch.Size([186, 1280])\n",
            "ss_onehot shape: torch.Size([186, 4])\n",
            "phi_angles shape: torch.Size([186, 1])\n",
            "psi_angles shape: torch.Size([186, 1])\n",
            "b_factors shape: torch.Size([186, 1])\n",
            "Shape of labels: torch.Size([186])\n"
          ]
        },
        {
          "output_type": "stream",
          "name": "stderr",
          "text": [
            " 97%|█████████▋| 291/300 [01:09<00:02,  3.06it/s]"
          ]
        },
        {
          "output_type": "stream",
          "name": "stdout",
          "text": [
            "esm2_embeddings shape: torch.Size([145, 1280])\n",
            "ss_onehot shape: torch.Size([145, 4])\n",
            "phi_angles shape: torch.Size([145, 1])\n",
            "psi_angles shape: torch.Size([145, 1])\n",
            "b_factors shape: torch.Size([145, 1])\n",
            "Shape of labels: torch.Size([145])\n",
            "esm2_embeddings shape: torch.Size([177, 1280])\n",
            "ss_onehot shape: torch.Size([177, 4])\n",
            "phi_angles shape: torch.Size([177, 1])\n",
            "psi_angles shape: torch.Size([177, 1])\n",
            "b_factors shape: torch.Size([177, 1])\n",
            "Shape of labels: torch.Size([177])\n"
          ]
        },
        {
          "output_type": "stream",
          "name": "stderr",
          "text": [
            "\r 97%|█████████▋| 292/300 [01:10<00:02,  3.29it/s]"
          ]
        },
        {
          "output_type": "stream",
          "name": "stdout",
          "text": [
            "esm2_embeddings shape: torch.Size([266, 1280])\n",
            "ss_onehot shape: torch.Size([266, 4])\n",
            "phi_angles shape: torch.Size([266, 1])\n",
            "psi_angles shape: torch.Size([266, 1])\n",
            "b_factors shape: torch.Size([266, 1])\n",
            "Shape of labels: torch.Size([266])\n"
          ]
        },
        {
          "output_type": "stream",
          "name": "stderr",
          "text": [
            "\r 98%|█████████▊| 293/300 [01:10<00:01,  3.53it/s]"
          ]
        },
        {
          "output_type": "stream",
          "name": "stdout",
          "text": [
            "esm2_embeddings shape: torch.Size([261, 1280])\n",
            "ss_onehot shape: torch.Size([261, 4])\n",
            "phi_angles shape: torch.Size([261, 1])\n",
            "psi_angles shape: torch.Size([261, 1])\n",
            "b_factors shape: torch.Size([261, 1])\n",
            "Shape of labels: torch.Size([261])\n"
          ]
        },
        {
          "output_type": "stream",
          "name": "stderr",
          "text": [
            " 98%|█████████▊| 295/300 [01:11<00:02,  2.45it/s]"
          ]
        },
        {
          "output_type": "stream",
          "name": "stdout",
          "text": [
            "esm2_embeddings shape: torch.Size([473, 1280])\n",
            "ss_onehot shape: torch.Size([473, 4])\n",
            "phi_angles shape: torch.Size([473, 1])\n",
            "psi_angles shape: torch.Size([473, 1])\n",
            "b_factors shape: torch.Size([473, 1])\n",
            "Shape of labels: torch.Size([473])\n",
            "esm2_embeddings shape: torch.Size([226, 1280])\n",
            "ss_onehot shape: torch.Size([226, 4])\n",
            "phi_angles shape: torch.Size([226, 1])\n",
            "psi_angles shape: torch.Size([226, 1])\n",
            "b_factors shape: torch.Size([226, 1])\n",
            "Shape of labels: torch.Size([226])\n"
          ]
        },
        {
          "output_type": "stream",
          "name": "stderr",
          "text": [
            " 99%|█████████▉| 297/300 [01:11<00:00,  3.74it/s]"
          ]
        },
        {
          "output_type": "stream",
          "name": "stdout",
          "text": [
            "esm2_embeddings shape: torch.Size([146, 1280])\n",
            "ss_onehot shape: torch.Size([146, 4])\n",
            "phi_angles shape: torch.Size([146, 1])\n",
            "psi_angles shape: torch.Size([146, 1])\n",
            "b_factors shape: torch.Size([146, 1])\n",
            "Shape of labels: torch.Size([146])\n",
            "esm2_embeddings shape: torch.Size([180, 1280])\n",
            "ss_onehot shape: torch.Size([180, 4])\n",
            "phi_angles shape: torch.Size([180, 1])\n",
            "psi_angles shape: torch.Size([180, 1])\n",
            "b_factors shape: torch.Size([180, 1])\n",
            "Shape of labels: torch.Size([180])\n",
            "esm2_embeddings shape: torch.Size([131, 1280])\n",
            "ss_onehot shape: torch.Size([131, 4])\n",
            "phi_angles shape: torch.Size([131, 1])\n",
            "psi_angles shape: torch.Size([131, 1])\n",
            "b_factors shape: torch.Size([131, 1])\n",
            "Shape of labels: torch.Size([131])\n"
          ]
        },
        {
          "output_type": "stream",
          "name": "stderr",
          "text": [
            "100%|██████████| 300/300 [01:12<00:00,  4.16it/s]"
          ]
        },
        {
          "output_type": "stream",
          "name": "stdout",
          "text": [
            "esm2_embeddings shape: torch.Size([241, 1280])\n",
            "ss_onehot shape: torch.Size([241, 4])\n",
            "phi_angles shape: torch.Size([241, 1])\n",
            "psi_angles shape: torch.Size([241, 1])\n",
            "b_factors shape: torch.Size([241, 1])\n",
            "Shape of labels: torch.Size([241])\n",
            "esm2_embeddings shape: torch.Size([152, 1280])\n",
            "ss_onehot shape: torch.Size([152, 4])\n",
            "phi_angles shape: torch.Size([152, 1])\n",
            "psi_angles shape: torch.Size([152, 1])\n",
            "b_factors shape: torch.Size([152, 1])\n",
            "Shape of labels: torch.Size([152])\n"
          ]
        },
        {
          "output_type": "stream",
          "name": "stderr",
          "text": [
            "\n"
          ]
        }
      ]
    },
    {
      "cell_type": "markdown",
      "source": [
        "### Create baseline GNN"
      ],
      "metadata": {
        "id": "VE7D3CthzLJP"
      }
    },
    {
      "cell_type": "code",
      "source": [
        "class BindingSiteGCN(nn.Module):\n",
        "    def __init__(self, node_dim=1287, edge_dim=2, hidden_dim=512):\n",
        "        \"\"\"\n",
        "        A baseline GCN for binding site prediction.\n",
        "\n",
        "        Args:\n",
        "            node_dim (int): Dimension of node features (1288 in your case).\n",
        "            edge_dim (int): Dimension of edge features (2 in your case).\n",
        "            hidden_dim (int): Hidden dimension for GCN layers.\n",
        "        \"\"\"\n",
        "        super(BindingSiteGCN, self).__init__()\n",
        "        # GCN layers with edge features\n",
        "        self.conv1 = GCNConv(node_dim, hidden_dim)  # Remove edge_dim\n",
        "        self.conv2 = GCNConv(hidden_dim, 256)  # Remove edge_dim\n",
        "        self.conv3 = GCNConv(256, 128)  # Remove edge_dim\n",
        "\n",
        "        # Linear layer to process edge features\n",
        "        self.edge_lin = nn.Linear(edge_dim, hidden_dim)\n",
        "\n",
        "        # Final classifier\n",
        "        self.fc = nn.Linear(128, 2)  # 2 classes: 0 (non-binding), 1 (binding)\n",
        "\n",
        "        # Activation and dropout\n",
        "        self.activation_func = nn.ReLU()\n",
        "        self.dropout = nn.Dropout(0.1)\n",
        "\n",
        "    def forward(self, data):\n",
        "        x, edge_index, edge_attr = data.x, data.edge_index, data.edge_attr\n",
        "\n",
        "        # Process edge features separately\n",
        "        edge_attr = self.edge_lin(edge_attr)\n",
        "\n",
        "        # GCN layers\n",
        "        x = self.conv1(x, edge_index)  # Removed edge_attr here\n",
        "        x = self.activation_func(x)\n",
        "        x = self.dropout(x)\n",
        "\n",
        "        x = self.conv2(x, edge_index) # Removed edge_attr here\n",
        "        x = self.activation_func(x)\n",
        "        x = self.dropout(x)\n",
        "\n",
        "        x = self.conv3(x, edge_index) # Removed edge_attr here\n",
        "        x = self.activation_func(x)\n",
        "\n",
        "        # Final classification\n",
        "        x = self.fc(x)  # Shape: [num_residues, 2]\n",
        "\n",
        "        return x  # Logits for each residue"
      ],
      "metadata": {
        "id": "qJrQZtDyFoxI"
      },
      "execution_count": 29,
      "outputs": []
    },
    {
      "cell_type": "code",
      "source": [
        "train_graphs, val_graphs = train_test_split(\n",
        "    train_graphs_data,\n",
        "    test_size=0.05,\n",
        "    random_state=42,\n",
        "    shuffle=True\n",
        ")\n",
        "\n",
        "print(f\"Number of training graphs: {len(train_graphs)}\")\n",
        "print(f\"Number of validation graphs: {len(val_graphs)}\")\n",
        "print(f\"Number of testing graphs: {len(test_graphs_data)}\")"
      ],
      "metadata": {
        "id": "rHiWoOS126CQ",
        "colab": {
          "base_uri": "https://localhost:8080/"
        },
        "outputId": "2dcef366-2656-41ef-9af5-abfea1a73b18"
      },
      "execution_count": 30,
      "outputs": [
        {
          "output_type": "stream",
          "name": "stdout",
          "text": [
            "Number of training graphs: 962\n",
            "Number of validation graphs: 51\n",
            "Number of testing graphs: 300\n"
          ]
        }
      ]
    },
    {
      "cell_type": "code",
      "source": [
        "for idx, train_graph in enumerate(train_graphs):\n",
        "    if train_graph.x.shape[0] != train_graph.y.shape[0]:\n",
        "        print(f\"Abnormal at index: {idx}\")\n",
        "        print(f\"Train graph's input shape: {train_graph['x'].shape[0]} and labels shape: {train_graph['y'].shape[0]}\")"
      ],
      "metadata": {
        "id": "L8s9CIW3LOPH"
      },
      "execution_count": 31,
      "outputs": []
    },
    {
      "cell_type": "code",
      "source": [
        "for idx, val_graph in enumerate(val_graphs):\n",
        "    if val_graph.x.shape[0] != val_graph.y.shape[0]:\n",
        "        print(f\"Abnormal at index: {idx}\")\n",
        "        print(f\"Train graph's input shape: {val_graph['x'].shape[0]} and labels shape: {val_graph['y'].shape[0]}\")"
      ],
      "metadata": {
        "id": "z_fbEvzd8XqG"
      },
      "execution_count": 32,
      "outputs": []
    },
    {
      "cell_type": "markdown",
      "source": [
        "### Model Training"
      ],
      "metadata": {
        "id": "k2iJGH6dLHmz"
      }
    },
    {
      "cell_type": "code",
      "source": [
        "# Create DataLoaders\n",
        "batch_size = 16\n",
        "train_loader = DataLoader(train_graphs, batch_size=batch_size, shuffle=True)\n",
        "eval_loader = DataLoader(val_graphs, batch_size=batch_size, shuffle=False)\n",
        "test_loader = DataLoader(test_graphs_data, batch_size=batch_size, shuffle=False)"
      ],
      "metadata": {
        "id": "NXjElh_VK8fs"
      },
      "execution_count": 33,
      "outputs": []
    },
    {
      "cell_type": "markdown",
      "source": [
        "### Customized loss function"
      ],
      "metadata": {
        "id": "seUK4wibD_zC"
      }
    },
    {
      "cell_type": "code",
      "source": [
        "class WeightedCrossEntropyLoss(nn.Module):\n",
        "    def __init__(self, pos_weight):\n",
        "        super().__init__()\n",
        "        self.pos_weight = pos_weight\n",
        "\n",
        "    def forward(self, logits, labels):\n",
        "        # Handle class imbalance with weighted loss\n",
        "        weight = torch.tensor([1.0, self.pos_weight]).to(logits.device)  # [weight for class 0, weight for class 1]\n",
        "        loss_fct = nn.CrossEntropyLoss(weight=weight)\n",
        "        return loss_fct(logits, labels)\n",
        "\n",
        "class FocalLoss(nn.Module):\n",
        "    def __init__(self, alpha=0.25, gamma=2.0, reduction='mean'):\n",
        "        super().__init__()\n",
        "        self.alpha = alpha  # Weight for the positive class\n",
        "        self.gamma = gamma  # Focusing parameter\n",
        "        self.reduction = reduction\n",
        "\n",
        "    def forward(self, logits, labels):\n",
        "        # Compute the cross-entropy loss (without reduction)\n",
        "        ce_loss = nn.functional.cross_entropy(logits, labels, reduction='none')\n",
        "\n",
        "        # Compute the probability of the true class\n",
        "        probs = torch.softmax(logits, dim=-1)\n",
        "        true_probs = probs[torch.arange(probs.size(0), device=probs.device), labels]\n",
        "\n",
        "        # Compute the focal loss term: (1 - p_t)^gamma\n",
        "        focal_term = (1 - true_probs) ** self.gamma\n",
        "\n",
        "        # Apply the alpha weighting\n",
        "        alpha_weight = torch.where(labels == 1, self.alpha, 1.0 - self.alpha).to(logits.device)\n",
        "\n",
        "        # Compute the focal loss\n",
        "        loss = alpha_weight * focal_term * ce_loss\n",
        "\n",
        "        # Apply reduction\n",
        "        if self.reduction == 'mean':\n",
        "            return loss.mean()\n",
        "        elif self.reduction == 'sum':\n",
        "            return loss.sum()\n",
        "        else:\n",
        "            return loss\n",
        "\n",
        "class PositionAwareLoss(nn.Module):\n",
        "    def __init__(self, pos_weight, position_weight, alpha=0.25, gamma=2.0):\n",
        "        super().__init__()\n",
        "        self.weighted_ce = WeightedCrossEntropyLoss(pos_weight)\n",
        "        self.focal_loss = FocalLoss(alpha=alpha, gamma=gamma)\n",
        "        self.position_weight = position_weight\n",
        "\n",
        "    def forward(self, logits, labels, batch=None):\n",
        "        # Compute the base loss (weighted cross-entropy + focal loss)\n",
        "        ce_loss = self.weighted_ce(logits, labels)\n",
        "        focal_loss = self.focal_loss(logits, labels)\n",
        "        base_loss = ce_loss + focal_loss\n",
        "\n",
        "        # Position-aware component\n",
        "        probs = torch.softmax(logits, dim=-1)[:, 1]  # Get binding probabilities [total_num_nodes]\n",
        "        position_loss = torch.tensor(0.0).to(logits.device)\n",
        "\n",
        "        # Since we're using a GNN, we need to account for the graph structure\n",
        "        # batch.batch indicates which nodes belong to which graph\n",
        "        if batch is not None and batch.num_graphs == 1:  # Single graph per batch\n",
        "            num_nodes = batch.num_nodes\n",
        "            # Assume nodes are ordered sequentially (based on residue indices)\n",
        "            # Penalize offset predictions by checking neighboring nodes\n",
        "            for i in range(1, num_nodes - 1):\n",
        "                # Encourage predictions to match true binding site positions\n",
        "                if labels[i] == 1 or labels[i-1] == 1 or labels[i+1] == 1:\n",
        "                    position_loss += torch.abs(probs[i] - (labels[i] == 1).float())\n",
        "\n",
        "        return base_loss + self.position_weight * position_loss"
      ],
      "metadata": {
        "id": "tyTufMGUEC-8"
      },
      "execution_count": 34,
      "outputs": []
    },
    {
      "cell_type": "code",
      "source": [
        "model = BindingSiteGCN(node_dim=1287, edge_dim=2, hidden_dim=512).to(device)\n",
        "optimizer = optim.Adam(model.parameters(), lr=0.001, weight_decay=1e-5)\n",
        "\n",
        "# class_weights = torch.tensor([0.2, 0.8]).to(device)\n",
        "pos_weight = 5.0\n",
        "position_weight = 0.75\n",
        "focal_loss = FocalLoss(alpha=0.25, gamma=2.0)\n",
        "# criterion = WeightedCrossEntropyLoss(pos_weight=pos_weight)\n",
        "criterion = PositionAwareLoss(pos_weight=pos_weight, position_weight=position_weight, alpha=0.25, gamma=2.0)"
      ],
      "metadata": {
        "id": "1RFBr67RLR3T"
      },
      "execution_count": 35,
      "outputs": []
    },
    {
      "cell_type": "code",
      "source": [
        "def evaluate(model, data_loader, device):\n",
        "    model.eval()\n",
        "    all_preds = []\n",
        "    all_labels = []\n",
        "    all_probs = []\n",
        "\n",
        "    with torch.no_grad():\n",
        "        for batch in data_loader:\n",
        "            batch = batch.to(device)\n",
        "            out = model(batch)\n",
        "\n",
        "            # Debug: Print shapes\n",
        "            # print(f\"Batch num_graphs: {batch.num_graphs}\")\n",
        "            # print(f\"Batch num_nodes: {batch.num_nodes}\")\n",
        "            # print(f\"Out shape: {out.shape}\")\n",
        "            # print(f\"Labels shape: {batch.y.shape}\")\n",
        "\n",
        "            probs = torch.softmax(out, dim=1)[:, 1]\n",
        "            preds = torch.argmax(out, dim=1)\n",
        "\n",
        "            all_preds.extend(preds.cpu().numpy())\n",
        "            all_labels.extend(batch.y.cpu().numpy())\n",
        "            all_probs.extend(probs.cpu().numpy())\n",
        "\n",
        "    precision, recall, f1, _ = precision_recall_fscore_support(all_labels, all_preds, average='binary')\n",
        "    auc = roc_auc_score(all_labels, all_probs)\n",
        "\n",
        "    return {\n",
        "        \"precision\": precision,\n",
        "        \"recall\": recall,\n",
        "        \"f1\": f1,\n",
        "        \"auc\": auc\n",
        "    }"
      ],
      "metadata": {
        "id": "a2XiIrm4LphW"
      },
      "execution_count": 36,
      "outputs": []
    },
    {
      "cell_type": "code",
      "source": [
        "gc.collect()  # Force garbage collection to potentially free up memory\n",
        "# torch.cuda.empty_cache()  # Empty the CUDA cache\n",
        "# model = model.half()  # Convert model parameters to half-precision\n",
        "# torch.cuda.synchronize()"
      ],
      "metadata": {
        "colab": {
          "base_uri": "https://localhost:8080/"
        },
        "id": "Sv02B07VpFTZ",
        "outputId": "c46eea9f-64e9-42f6-b1c7-f5a42fb914ec"
      },
      "execution_count": 42,
      "outputs": [
        {
          "output_type": "execute_result",
          "data": {
            "text/plain": [
              "25"
            ]
          },
          "metadata": {},
          "execution_count": 42
        }
      ]
    },
    {
      "cell_type": "code",
      "source": [
        "num_epochs = 20\n",
        "best_val_f1 = 0\n",
        "best_model_state = None\n",
        "\n",
        "model.train()\n",
        "for epoch in range(num_epochs):\n",
        "    total_train_loss = 0\n",
        "    model.train()\n",
        "    for batch in train_loader:\n",
        "        batch = batch.to(device)\n",
        "        optimizer.zero_grad()\n",
        "        out = model(batch)\n",
        "        loss = criterion(out, batch.y)\n",
        "        loss.backward()\n",
        "        optimizer.step()\n",
        "        total_train_loss += loss.item()\n",
        "\n",
        "    avg_train_loss = total_train_loss / len(train_loader)\n",
        "\n",
        "    val_metrics = evaluate(model, eval_loader, device)\n",
        "\n",
        "    print(f\"Epoch {epoch+1}/{num_epochs}\")\n",
        "    print(f\"  Training Loss: {avg_train_loss:.4f}\")\n",
        "    print(f\"  Validation Precision: {val_metrics['precision']:.4f}\")\n",
        "    print(f\"  Validation Recall: {val_metrics['recall']:.4f}\")\n",
        "    print(f\"  Validation F1-Score: {val_metrics['f1']:.4f}\")\n",
        "    print(f\"  Validation AUC-ROC: {val_metrics['auc']:.4f}\")\n",
        "\n",
        "    if val_metrics['f1'] > best_val_f1:\n",
        "        best_val_f1 = val_metrics['f1']\n",
        "        best_model_state = model.state_dict()\n",
        "        # patience_counter = 0\n",
        "        print(\"Best validation F1-score improved! Saving model state.\")\n",
        "    # else:\n",
        "    #     patience_counter += 1\n",
        "    #     print(f\"  Patience counter: {patience_counter}/{patience}\")\n",
        "\n",
        "    # if patience_counter >= patience:\n",
        "    #     print(\"Early stopping triggered!\")\n",
        "    #     break"
      ],
      "metadata": {
        "id": "3rMjFPUULibO",
        "colab": {
          "base_uri": "https://localhost:8080/",
          "height": 408
        },
        "outputId": "44ab9264-8d98-4a48-a28f-249e7311a949"
      },
      "execution_count": 43,
      "outputs": [
        {
          "output_type": "error",
          "ename": "RuntimeError",
          "evalue": "CUDA error: device-side assert triggered\nCUDA kernel errors might be asynchronously reported at some other API call, so the stacktrace below might be incorrect.\nFor debugging consider passing CUDA_LAUNCH_BLOCKING=1\nCompile with `TORCH_USE_CUDA_DSA` to enable device-side assertions.\n",
          "traceback": [
            "\u001b[0;31m---------------------------------------------------------------------------\u001b[0m",
            "\u001b[0;31mRuntimeError\u001b[0m                              Traceback (most recent call last)",
            "\u001b[0;32m<ipython-input-43-21dc3da0a075>\u001b[0m in \u001b[0;36m<cell line: 0>\u001b[0;34m()\u001b[0m\n\u001b[1;32m      7\u001b[0m     \u001b[0mtotal_train_loss\u001b[0m \u001b[0;34m=\u001b[0m \u001b[0;36m0\u001b[0m\u001b[0;34m\u001b[0m\u001b[0;34m\u001b[0m\u001b[0m\n\u001b[1;32m      8\u001b[0m     \u001b[0mmodel\u001b[0m\u001b[0;34m.\u001b[0m\u001b[0mtrain\u001b[0m\u001b[0;34m(\u001b[0m\u001b[0;34m)\u001b[0m\u001b[0;34m\u001b[0m\u001b[0;34m\u001b[0m\u001b[0m\n\u001b[0;32m----> 9\u001b[0;31m     \u001b[0;32mfor\u001b[0m \u001b[0mbatch\u001b[0m \u001b[0;32min\u001b[0m \u001b[0mtrain_loader\u001b[0m\u001b[0;34m:\u001b[0m\u001b[0;34m\u001b[0m\u001b[0;34m\u001b[0m\u001b[0m\n\u001b[0m\u001b[1;32m     10\u001b[0m         \u001b[0mbatch\u001b[0m \u001b[0;34m=\u001b[0m \u001b[0mbatch\u001b[0m\u001b[0;34m.\u001b[0m\u001b[0mto\u001b[0m\u001b[0;34m(\u001b[0m\u001b[0mdevice\u001b[0m\u001b[0;34m)\u001b[0m\u001b[0;34m\u001b[0m\u001b[0;34m\u001b[0m\u001b[0m\n\u001b[1;32m     11\u001b[0m         \u001b[0moptimizer\u001b[0m\u001b[0;34m.\u001b[0m\u001b[0mzero_grad\u001b[0m\u001b[0;34m(\u001b[0m\u001b[0;34m)\u001b[0m\u001b[0;34m\u001b[0m\u001b[0;34m\u001b[0m\u001b[0m\n",
            "\u001b[0;32m/usr/local/lib/python3.11/dist-packages/torch/utils/data/dataloader.py\u001b[0m in \u001b[0;36m__next__\u001b[0;34m(self)\u001b[0m\n\u001b[1;32m    706\u001b[0m                 \u001b[0;31m# TODO(https://github.com/pytorch/pytorch/issues/76750)\u001b[0m\u001b[0;34m\u001b[0m\u001b[0;34m\u001b[0m\u001b[0m\n\u001b[1;32m    707\u001b[0m                 \u001b[0mself\u001b[0m\u001b[0;34m.\u001b[0m\u001b[0m_reset\u001b[0m\u001b[0;34m(\u001b[0m\u001b[0;34m)\u001b[0m  \u001b[0;31m# type: ignore[call-arg]\u001b[0m\u001b[0;34m\u001b[0m\u001b[0;34m\u001b[0m\u001b[0m\n\u001b[0;32m--> 708\u001b[0;31m             \u001b[0mdata\u001b[0m \u001b[0;34m=\u001b[0m \u001b[0mself\u001b[0m\u001b[0;34m.\u001b[0m\u001b[0m_next_data\u001b[0m\u001b[0;34m(\u001b[0m\u001b[0;34m)\u001b[0m\u001b[0;34m\u001b[0m\u001b[0;34m\u001b[0m\u001b[0m\n\u001b[0m\u001b[1;32m    709\u001b[0m             \u001b[0mself\u001b[0m\u001b[0;34m.\u001b[0m\u001b[0m_num_yielded\u001b[0m \u001b[0;34m+=\u001b[0m \u001b[0;36m1\u001b[0m\u001b[0;34m\u001b[0m\u001b[0;34m\u001b[0m\u001b[0m\n\u001b[1;32m    710\u001b[0m             if (\n",
            "\u001b[0;32m/usr/local/lib/python3.11/dist-packages/torch/utils/data/dataloader.py\u001b[0m in \u001b[0;36m_next_data\u001b[0;34m(self)\u001b[0m\n\u001b[1;32m    762\u001b[0m     \u001b[0;32mdef\u001b[0m \u001b[0m_next_data\u001b[0m\u001b[0;34m(\u001b[0m\u001b[0mself\u001b[0m\u001b[0;34m)\u001b[0m\u001b[0;34m:\u001b[0m\u001b[0;34m\u001b[0m\u001b[0;34m\u001b[0m\u001b[0m\n\u001b[1;32m    763\u001b[0m         \u001b[0mindex\u001b[0m \u001b[0;34m=\u001b[0m \u001b[0mself\u001b[0m\u001b[0;34m.\u001b[0m\u001b[0m_next_index\u001b[0m\u001b[0;34m(\u001b[0m\u001b[0;34m)\u001b[0m  \u001b[0;31m# may raise StopIteration\u001b[0m\u001b[0;34m\u001b[0m\u001b[0;34m\u001b[0m\u001b[0m\n\u001b[0;32m--> 764\u001b[0;31m         \u001b[0mdata\u001b[0m \u001b[0;34m=\u001b[0m \u001b[0mself\u001b[0m\u001b[0;34m.\u001b[0m\u001b[0m_dataset_fetcher\u001b[0m\u001b[0;34m.\u001b[0m\u001b[0mfetch\u001b[0m\u001b[0;34m(\u001b[0m\u001b[0mindex\u001b[0m\u001b[0;34m)\u001b[0m  \u001b[0;31m# may raise StopIteration\u001b[0m\u001b[0;34m\u001b[0m\u001b[0;34m\u001b[0m\u001b[0m\n\u001b[0m\u001b[1;32m    765\u001b[0m         \u001b[0;32mif\u001b[0m \u001b[0mself\u001b[0m\u001b[0;34m.\u001b[0m\u001b[0m_pin_memory\u001b[0m\u001b[0;34m:\u001b[0m\u001b[0;34m\u001b[0m\u001b[0;34m\u001b[0m\u001b[0m\n\u001b[1;32m    766\u001b[0m             \u001b[0mdata\u001b[0m \u001b[0;34m=\u001b[0m \u001b[0m_utils\u001b[0m\u001b[0;34m.\u001b[0m\u001b[0mpin_memory\u001b[0m\u001b[0;34m.\u001b[0m\u001b[0mpin_memory\u001b[0m\u001b[0;34m(\u001b[0m\u001b[0mdata\u001b[0m\u001b[0;34m,\u001b[0m \u001b[0mself\u001b[0m\u001b[0;34m.\u001b[0m\u001b[0m_pin_memory_device\u001b[0m\u001b[0;34m)\u001b[0m\u001b[0;34m\u001b[0m\u001b[0;34m\u001b[0m\u001b[0m\n",
            "\u001b[0;32m/usr/local/lib/python3.11/dist-packages/torch/utils/data/_utils/fetch.py\u001b[0m in \u001b[0;36mfetch\u001b[0;34m(self, possibly_batched_index)\u001b[0m\n\u001b[1;32m     53\u001b[0m         \u001b[0;32melse\u001b[0m\u001b[0;34m:\u001b[0m\u001b[0;34m\u001b[0m\u001b[0;34m\u001b[0m\u001b[0m\n\u001b[1;32m     54\u001b[0m             \u001b[0mdata\u001b[0m \u001b[0;34m=\u001b[0m \u001b[0mself\u001b[0m\u001b[0;34m.\u001b[0m\u001b[0mdataset\u001b[0m\u001b[0;34m[\u001b[0m\u001b[0mpossibly_batched_index\u001b[0m\u001b[0;34m]\u001b[0m\u001b[0;34m\u001b[0m\u001b[0;34m\u001b[0m\u001b[0m\n\u001b[0;32m---> 55\u001b[0;31m         \u001b[0;32mreturn\u001b[0m \u001b[0mself\u001b[0m\u001b[0;34m.\u001b[0m\u001b[0mcollate_fn\u001b[0m\u001b[0;34m(\u001b[0m\u001b[0mdata\u001b[0m\u001b[0;34m)\u001b[0m\u001b[0;34m\u001b[0m\u001b[0;34m\u001b[0m\u001b[0m\n\u001b[0m",
            "\u001b[0;32m/usr/local/lib/python3.11/dist-packages/torch_geometric/loader/dataloader.py\u001b[0m in \u001b[0;36m__call__\u001b[0;34m(self, batch)\u001b[0m\n\u001b[1;32m     25\u001b[0m         \u001b[0melem\u001b[0m \u001b[0;34m=\u001b[0m \u001b[0mbatch\u001b[0m\u001b[0;34m[\u001b[0m\u001b[0;36m0\u001b[0m\u001b[0;34m]\u001b[0m\u001b[0;34m\u001b[0m\u001b[0;34m\u001b[0m\u001b[0m\n\u001b[1;32m     26\u001b[0m         \u001b[0;32mif\u001b[0m \u001b[0misinstance\u001b[0m\u001b[0;34m(\u001b[0m\u001b[0melem\u001b[0m\u001b[0;34m,\u001b[0m \u001b[0mBaseData\u001b[0m\u001b[0;34m)\u001b[0m\u001b[0;34m:\u001b[0m\u001b[0;34m\u001b[0m\u001b[0;34m\u001b[0m\u001b[0m\n\u001b[0;32m---> 27\u001b[0;31m             return Batch.from_data_list(\n\u001b[0m\u001b[1;32m     28\u001b[0m                 \u001b[0mbatch\u001b[0m\u001b[0;34m,\u001b[0m\u001b[0;34m\u001b[0m\u001b[0;34m\u001b[0m\u001b[0m\n\u001b[1;32m     29\u001b[0m                 \u001b[0mfollow_batch\u001b[0m\u001b[0;34m=\u001b[0m\u001b[0mself\u001b[0m\u001b[0;34m.\u001b[0m\u001b[0mfollow_batch\u001b[0m\u001b[0;34m,\u001b[0m\u001b[0;34m\u001b[0m\u001b[0;34m\u001b[0m\u001b[0m\n",
            "\u001b[0;32m/usr/local/lib/python3.11/dist-packages/torch_geometric/data/batch.py\u001b[0m in \u001b[0;36mfrom_data_list\u001b[0;34m(cls, data_list, follow_batch, exclude_keys)\u001b[0m\n\u001b[1;32m     95\u001b[0m         \u001b[0mWill\u001b[0m \u001b[0mexclude\u001b[0m \u001b[0many\u001b[0m \u001b[0mkeys\u001b[0m \u001b[0mgiven\u001b[0m \u001b[0;32min\u001b[0m \u001b[0;34m:\u001b[0m\u001b[0mobj\u001b[0m\u001b[0;34m:\u001b[0m\u001b[0;31m`\u001b[0m\u001b[0mexclude_keys\u001b[0m\u001b[0;31m`\u001b[0m\u001b[0;34m.\u001b[0m\u001b[0;34m\u001b[0m\u001b[0;34m\u001b[0m\u001b[0m\n\u001b[1;32m     96\u001b[0m         \"\"\"\n\u001b[0;32m---> 97\u001b[0;31m         batch, slice_dict, inc_dict = collate(\n\u001b[0m\u001b[1;32m     98\u001b[0m             \u001b[0mcls\u001b[0m\u001b[0;34m,\u001b[0m\u001b[0;34m\u001b[0m\u001b[0;34m\u001b[0m\u001b[0m\n\u001b[1;32m     99\u001b[0m             \u001b[0mdata_list\u001b[0m\u001b[0;34m=\u001b[0m\u001b[0mdata_list\u001b[0m\u001b[0;34m,\u001b[0m\u001b[0;34m\u001b[0m\u001b[0;34m\u001b[0m\u001b[0m\n",
            "\u001b[0;32m/usr/local/lib/python3.11/dist-packages/torch_geometric/data/collate.py\u001b[0m in \u001b[0;36mcollate\u001b[0;34m(cls, data_list, increment, add_batch, follow_batch, exclude_keys)\u001b[0m\n\u001b[1;32m    107\u001b[0m \u001b[0;34m\u001b[0m\u001b[0m\n\u001b[1;32m    108\u001b[0m             \u001b[0;31m# Collate attributes into a unified representation:\u001b[0m\u001b[0;34m\u001b[0m\u001b[0;34m\u001b[0m\u001b[0m\n\u001b[0;32m--> 109\u001b[0;31m             value, slices, incs = _collate(attr, values, data_list, stores,\n\u001b[0m\u001b[1;32m    110\u001b[0m                                            increment)\n\u001b[1;32m    111\u001b[0m \u001b[0;34m\u001b[0m\u001b[0m\n",
            "\u001b[0;32m/usr/local/lib/python3.11/dist-packages/torch_geometric/data/collate.py\u001b[0m in \u001b[0;36m_collate\u001b[0;34m(key, values, data_list, stores, increment)\u001b[0m\n\u001b[1;32m    203\u001b[0m             \u001b[0mout\u001b[0m \u001b[0;34m=\u001b[0m \u001b[0melem\u001b[0m\u001b[0;34m.\u001b[0m\u001b[0mnew\u001b[0m\u001b[0;34m(\u001b[0m\u001b[0mstorage\u001b[0m\u001b[0;34m)\u001b[0m\u001b[0;34m.\u001b[0m\u001b[0mresize_\u001b[0m\u001b[0;34m(\u001b[0m\u001b[0;34m*\u001b[0m\u001b[0mshape\u001b[0m\u001b[0;34m)\u001b[0m\u001b[0;34m\u001b[0m\u001b[0;34m\u001b[0m\u001b[0m\n\u001b[1;32m    204\u001b[0m \u001b[0;34m\u001b[0m\u001b[0m\n\u001b[0;32m--> 205\u001b[0;31m         \u001b[0mvalue\u001b[0m \u001b[0;34m=\u001b[0m \u001b[0mtorch\u001b[0m\u001b[0;34m.\u001b[0m\u001b[0mcat\u001b[0m\u001b[0;34m(\u001b[0m\u001b[0mvalues\u001b[0m\u001b[0;34m,\u001b[0m \u001b[0mdim\u001b[0m\u001b[0;34m=\u001b[0m\u001b[0mcat_dim\u001b[0m \u001b[0;32mor\u001b[0m \u001b[0;36m0\u001b[0m\u001b[0;34m,\u001b[0m \u001b[0mout\u001b[0m\u001b[0;34m=\u001b[0m\u001b[0mout\u001b[0m\u001b[0;34m)\u001b[0m\u001b[0;34m\u001b[0m\u001b[0;34m\u001b[0m\u001b[0m\n\u001b[0m\u001b[1;32m    206\u001b[0m \u001b[0;34m\u001b[0m\u001b[0m\n\u001b[1;32m    207\u001b[0m         \u001b[0;32mif\u001b[0m \u001b[0mincrement\u001b[0m \u001b[0;32mand\u001b[0m \u001b[0misinstance\u001b[0m\u001b[0;34m(\u001b[0m\u001b[0mvalue\u001b[0m\u001b[0;34m,\u001b[0m \u001b[0mIndex\u001b[0m\u001b[0;34m)\u001b[0m \u001b[0;32mand\u001b[0m \u001b[0mvalues\u001b[0m\u001b[0;34m[\u001b[0m\u001b[0;36m0\u001b[0m\u001b[0;34m]\u001b[0m\u001b[0;34m.\u001b[0m\u001b[0mis_sorted\u001b[0m\u001b[0;34m:\u001b[0m\u001b[0;34m\u001b[0m\u001b[0;34m\u001b[0m\u001b[0m\n",
            "\u001b[0;31mRuntimeError\u001b[0m: CUDA error: device-side assert triggered\nCUDA kernel errors might be asynchronously reported at some other API call, so the stacktrace below might be incorrect.\nFor debugging consider passing CUDA_LAUNCH_BLOCKING=1\nCompile with `TORCH_USE_CUDA_DSA` to enable device-side assertions.\n"
          ]
        }
      ]
    },
    {
      "cell_type": "code",
      "source": [
        "if best_model_state is not None:\n",
        "    model.load_state_dict(best_model_state)\n",
        "model.eval()  # Set the model to evaluation mode\n",
        "test_metrics = evaluate(model, test_loader, device)"
      ],
      "metadata": {
        "id": "wsUq8AXLwKKn"
      },
      "execution_count": null,
      "outputs": []
    },
    {
      "cell_type": "code",
      "source": [
        "print(test_metrics)"
      ],
      "metadata": {
        "id": "28QWHMiIB5dy"
      },
      "execution_count": null,
      "outputs": []
    },
    {
      "cell_type": "code",
      "source": [
        "all_preds, all_labels, all_probs = [], [], []\n",
        "\n",
        "with torch.no_grad():\n",
        "    for test_batch in test_loader:\n",
        "        test_batch = test_batch.to(device)\n",
        "        out = model(test_batch)\n",
        "\n",
        "        # Debug: Print shapes\n",
        "        # print(f\"Batch num_graphs: {batch.num_graphs}\")\n",
        "        # print(f\"Batch num_nodes: {batch.num_nodes}\")\n",
        "        # print(f\"Out shape: {out.shape}\")\n",
        "        # print(f\"Labels shape: {batch.y.shape}\")\n",
        "\n",
        "        probs = torch.softmax(out, dim=1)[:, 1]\n",
        "        preds = torch.argmax(out, dim=1)\n",
        "\n",
        "        all_preds.extend(preds.cpu().numpy())\n",
        "        all_labels.extend(batch.y.cpu().numpy())\n",
        "        all_probs.extend(probs.cpu().numpy())"
      ],
      "metadata": {
        "id": "k4k_hcmbB7Ed"
      },
      "execution_count": null,
      "outputs": []
    },
    {
      "cell_type": "code",
      "source": [
        "all_test_prot_sequences = test_df['sequence'].tolist()\n",
        "all_sequences = []\n",
        "for prot_seq in all_test_prot_sequences:\n",
        "    all_sequences.extend(list(prot_seq))"
      ],
      "metadata": {
        "id": "7miY1ZXSGNft"
      },
      "execution_count": null,
      "outputs": []
    },
    {
      "cell_type": "markdown",
      "source": [
        "### Error analysis"
      ],
      "metadata": {
        "id": "oSi3_qclIqqD"
      }
    },
    {
      "cell_type": "code",
      "source": [
        "from collections import Counter\n",
        "from copy import deepcopy\n",
        "\n",
        "test_aa_counter = Counter(all_sequences)\n",
        "false_negatives_dict = {}\n",
        "\n",
        "for prob, label, pred, acid in zip(all_probs, all_labels, all_preds, all_sequences):\n",
        "    if label == 1 and pred == 0:\n",
        "\n",
        "        if acid not in false_negatives_dict:\n",
        "            false_negatives_dict[acid] = 1\n",
        "        else:\n",
        "            false_negatives_dict[acid] += 1"
      ],
      "metadata": {
        "id": "_NP1i-x1GZgH"
      },
      "execution_count": null,
      "outputs": []
    },
    {
      "cell_type": "code",
      "source": [
        "false_negatives_percentage_dict = deepcopy(false_negatives_dict)\n",
        "\n",
        "for acid in false_negatives_percentage_dict:\n",
        "    false_negatives_percentage_dict[acid] /= test_aa_counter[acid]"
      ],
      "metadata": {
        "id": "93yKA4nPHTw4"
      },
      "execution_count": null,
      "outputs": []
    },
    {
      "cell_type": "code",
      "source": [
        "# print(false_negatives_dict)\n",
        "print(false_negatives_percentage_dict)"
      ],
      "metadata": {
        "id": "zQbxqDenMI6O"
      },
      "execution_count": null,
      "outputs": []
    },
    {
      "cell_type": "code",
      "source": [],
      "metadata": {
        "id": "rZF5EOehNgpS"
      },
      "execution_count": null,
      "outputs": []
    }
  ]
}